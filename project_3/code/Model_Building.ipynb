{
 "cells": [
  {
   "cell_type": "markdown",
   "id": "c6245e95",
   "metadata": {},
   "source": [
    "# Project 3: NLP Text Classification Problem"
   ]
  },
  {
   "cell_type": "markdown",
   "id": "0a6958fc",
   "metadata": {},
   "source": [
    "## Problem Statement\n",
    "**To determine if the beverage company I worked for should focus on the coffee or the tea market in their business expansion, we need to determine if people in the area posts more on social media about coffee or tea.**\n",
    "\n"
   ]
  },
  {
   "cell_type": "markdown",
   "id": "43977624",
   "metadata": {},
   "source": [
    "### Contents:\n",
    "- [Data](#Data)\n",
    "- [Model 1: Naive Bayes](#CountVectorizer-and-Naive-Bayes)\n",
    "- [Model 2: Decision Tree](#(TF-IDF)-Vectorizer-and-Decision-Tree-Classifier)\n",
    "- [Model 3: Random Forest](#(TF-IDF)-Vectorizer-and-Random-Forest-Classifier)\n",
    "- [Model 4: Extra Trees](#(TF-IDF)-Vectorizer-and-Extremely-Randomized-Trees)\n",
    "- [Model 5: Voting Classifier](#CountVectorizer-and-Voting-Classifier)\n",
    "- [Conclusion](#Conclusion)\n"
   ]
  },
  {
   "cell_type": "markdown",
   "id": "2d8ac1e1",
   "metadata": {},
   "source": [
    "## Data\n",
    "\n",
    "**Data used in this notebook:** \n",
    "* drinks.csv: this dataset contains all the data (cleaned, lemmatized and stemmed)\n"
   ]
  },
  {
   "cell_type": "markdown",
   "id": "9b25326d",
   "metadata": {},
   "source": [
    "*Libraries added here*"
   ]
  },
  {
   "cell_type": "code",
   "execution_count": 1,
   "id": "3710aa3c",
   "metadata": {},
   "outputs": [],
   "source": [
    "import requests\n",
    "import pandas as pd\n",
    "import numpy as np\n",
    "import matplotlib.pyplot as plt\n",
    "\n",
    "from nltk.tokenize import sent_tokenize, word_tokenize, RegexpTokenizer\n",
    "from nltk.stem import WordNetLemmatizer\n",
    "from nltk.stem.porter import PorterStemmer\n",
    "from nltk.corpus import stopwords\n",
    "from sklearn.feature_extraction.text import CountVectorizer, TfidfVectorizer\n",
    "import re\n",
    "\n",
    "from sklearn.model_selection import train_test_split, GridSearchCV\n",
    "from sklearn.pipeline import Pipeline\n",
    "from sklearn.naive_bayes import MultinomialNB\n",
    "from sklearn.linear_model import LogisticRegression\n",
    "from sklearn.neighbors import KNeighborsClassifier\n",
    "from sklearn.metrics import confusion_matrix, plot_confusion_matrix, f1_score, accuracy_score\n",
    "from sklearn.tree import DecisionTreeClassifier\n",
    "from sklearn.ensemble import RandomForestClassifier, ExtraTreesClassifier, BaggingClassifier, VotingClassifier\n"
   ]
  },
  {
   "cell_type": "markdown",
   "id": "a6b4aae5",
   "metadata": {},
   "source": [
    "### Data Import "
   ]
  },
  {
   "cell_type": "code",
   "execution_count": 2,
   "id": "ea1b95ad",
   "metadata": {},
   "outputs": [],
   "source": [
    "drinks = pd.read_csv('../datasets/drinks.csv')"
   ]
  },
  {
   "cell_type": "code",
   "execution_count": 3,
   "id": "6457e07f",
   "metadata": {},
   "outputs": [],
   "source": [
    "drinks.drop(columns=['Unnamed: 0'],inplace=True)"
   ]
  },
  {
   "cell_type": "code",
   "execution_count": 4,
   "id": "e2e38d9d",
   "metadata": {},
   "outputs": [
    {
     "data": {
      "text/html": [
       "<div>\n",
       "<style scoped>\n",
       "    .dataframe tbody tr th:only-of-type {\n",
       "        vertical-align: middle;\n",
       "    }\n",
       "\n",
       "    .dataframe tbody tr th {\n",
       "        vertical-align: top;\n",
       "    }\n",
       "\n",
       "    .dataframe thead th {\n",
       "        text-align: right;\n",
       "    }\n",
       "</style>\n",
       "<table border=\"1\" class=\"dataframe\">\n",
       "  <thead>\n",
       "    <tr style=\"text-align: right;\">\n",
       "      <th></th>\n",
       "      <th>subreddit</th>\n",
       "      <th>cleaned_sent</th>\n",
       "      <th>lemmatized_sent</th>\n",
       "      <th>pstemmed_sent</th>\n",
       "      <th>drink</th>\n",
       "    </tr>\n",
       "  </thead>\n",
       "  <tbody>\n",
       "    <tr>\n",
       "      <th>0</th>\n",
       "      <td>Coffee</td>\n",
       "      <td>hello everyone couple years bought v started e...</td>\n",
       "      <td>hello everyone couple year bought v started ex...</td>\n",
       "      <td>hello everyon coupl year bought v start experi...</td>\n",
       "      <td>1</td>\n",
       "    </tr>\n",
       "    <tr>\n",
       "      <th>1</th>\n",
       "      <td>Coffee</td>\n",
       "      <td>welcome daily r question thread stupid questio...</td>\n",
       "      <td>welcome daily r question thread stupid questio...</td>\n",
       "      <td>welcom daili r question thread stupid question...</td>\n",
       "      <td>1</td>\n",
       "    </tr>\n",
       "    <tr>\n",
       "      <th>2</th>\n",
       "      <td>Coffee</td>\n",
       "      <td>recently moved new country exploring scene aro...</td>\n",
       "      <td>recently moved new country exploring scene aro...</td>\n",
       "      <td>recent move new countri explor scene around bo...</td>\n",
       "      <td>1</td>\n",
       "    </tr>\n",
       "    <tr>\n",
       "      <th>3</th>\n",
       "      <td>Coffee</td>\n",
       "      <td>hey im visiting friends london want find shop ...</td>\n",
       "      <td>hey im visiting friend london want find shop s...</td>\n",
       "      <td>hey im visit friend london want find shop serv...</td>\n",
       "      <td>1</td>\n",
       "    </tr>\n",
       "    <tr>\n",
       "      <th>4</th>\n",
       "      <td>Coffee</td>\n",
       "      <td>get fine italian melt little square dark choco...</td>\n",
       "      <td>get fine italian melt little square dark choco...</td>\n",
       "      <td>get fine italian melt littl squar dark chocol ...</td>\n",
       "      <td>1</td>\n",
       "    </tr>\n",
       "  </tbody>\n",
       "</table>\n",
       "</div>"
      ],
      "text/plain": [
       "  subreddit                                       cleaned_sent  \\\n",
       "0    Coffee  hello everyone couple years bought v started e...   \n",
       "1    Coffee  welcome daily r question thread stupid questio...   \n",
       "2    Coffee  recently moved new country exploring scene aro...   \n",
       "3    Coffee  hey im visiting friends london want find shop ...   \n",
       "4    Coffee  get fine italian melt little square dark choco...   \n",
       "\n",
       "                                     lemmatized_sent  \\\n",
       "0  hello everyone couple year bought v started ex...   \n",
       "1  welcome daily r question thread stupid questio...   \n",
       "2  recently moved new country exploring scene aro...   \n",
       "3  hey im visiting friend london want find shop s...   \n",
       "4  get fine italian melt little square dark choco...   \n",
       "\n",
       "                                       pstemmed_sent  drink  \n",
       "0  hello everyon coupl year bought v start experi...      1  \n",
       "1  welcom daili r question thread stupid question...      1  \n",
       "2  recent move new countri explor scene around bo...      1  \n",
       "3  hey im visit friend london want find shop serv...      1  \n",
       "4  get fine italian melt littl squar dark chocol ...      1  "
      ]
     },
     "execution_count": 4,
     "metadata": {},
     "output_type": "execute_result"
    }
   ],
   "source": [
    "# convert coffee and tea to numerical\n",
    "drinks['drink'] = drinks['subreddit'].map({'tea': 0, 'Coffee': 1})\n",
    "drinks.head()"
   ]
  },
  {
   "cell_type": "code",
   "execution_count": 5,
   "id": "86e427b6",
   "metadata": {},
   "outputs": [],
   "source": [
    "drinks.drop(columns=['subreddit'],inplace=True)"
   ]
  },
  {
   "cell_type": "markdown",
   "id": "b0c2a920",
   "metadata": {},
   "source": [
    "**Note that coffee = 1, and tea = 0**"
   ]
  },
  {
   "cell_type": "code",
   "execution_count": 6,
   "id": "0ff53c33",
   "metadata": {},
   "outputs": [
    {
     "data": {
      "text/plain": [
       "1    0.524301\n",
       "0    0.475699\n",
       "Name: drink, dtype: float64"
      ]
     },
     "execution_count": 6,
     "metadata": {},
     "output_type": "execute_result"
    }
   ],
   "source": [
    "# Check the baseline accuracy\n",
    "drinks['drink'].value_counts(normalize=True)"
   ]
  },
  {
   "cell_type": "markdown",
   "id": "7f6f89de",
   "metadata": {},
   "source": [
    "The above would be my approximate baseline score. Both classes are somewhat evenly spread, but stratify=y will still be used, as a precaution. "
   ]
  },
  {
   "cell_type": "markdown",
   "id": "e7769381",
   "metadata": {},
   "source": [
    "## Models"
   ]
  },
  {
   "cell_type": "markdown",
   "id": "bb38f657",
   "metadata": {},
   "source": [
    "### CountVectorizer and Naive Bayes"
   ]
  },
  {
   "cell_type": "markdown",
   "id": "335c23c9",
   "metadata": {},
   "source": [
    "Vectorization involves converting the text data into vectors of real numbers. So vectorization with the CountVectorizer will be done first so that some distinct features can be derived for the models to train on. \n",
    "<br>\n",
    "<br> Naive Bayes method is a supervised learning method based on applying Bayes theorem with the 'naive' assumption that every pair of features are independent with each other. Yet, despite this 'naive' assumption, it has worked quite well in many real-world situations. So this will be the first method explored here."
   ]
  },
  {
   "cell_type": "code",
   "execution_count": 7,
   "id": "96fe1ead",
   "metadata": {},
   "outputs": [],
   "source": [
    "# Set up pipeline and its parameters\n",
    "# 1. CountVectorizer (transformer)\n",
    "# 2. Multinomial Naive Bayes (estimator)\n",
    "def cvec_nb_pipeline(X, y, params):\n",
    "    '''data is X, y with params as parameters for the pipeline'''\n",
    "    # split data\n",
    "    X_train, X_test, y_train, y_test = train_test_split(X,\n",
    "                                                    y,\n",
    "                                                    test_size=0.33,\n",
    "                                                    stratify=y,\n",
    "                                                    random_state=42)\n",
    "    # create pipeline\n",
    "    pipe = Pipeline([\n",
    "        ('cvec', CountVectorizer()),\n",
    "        ('nb', MultinomialNB())\n",
    "    ])\n",
    "\n",
    "    # Instantiate GridSearchCV.\n",
    "    gs = GridSearchCV(pipe,                  \n",
    "                      param_grid=params, \n",
    "                      cv=5,\n",
    "                      n_jobs=-1)  \n",
    "\n",
    "    # Fit GridSearch to training data.\n",
    "    model = gs.fit(X_train, y_train)\n",
    "    \n",
    "    # find difference between coffee[1] and tea[0]\n",
    "    feature_names = model.best_estimator_.named_steps['cvec'].get_feature_names()\n",
    "    nb = model.best_estimator_.named_steps['nb']\n",
    "    \n",
    "    # calculate difference between coffee[1] and tea[0]\n",
    "    log_prob_diff = nb.feature_log_prob_[1] - nb.feature_log_prob_[0]\n",
    "    \n",
    "    # Score model on training set.\n",
    "    train_score = gs.score(X_train, y_train)\n",
    "\n",
    "    # Score model on testing set.\n",
    "    test_score = gs.score(X_test, y_test)\n",
    "\n",
    "    # Get predictions\n",
    "    preds = gs.predict(X_test)\n",
    "\n",
    "    # Save confusion matrix values\n",
    "    tn, fp, fn, tp = confusion_matrix(y_test, preds).ravel()\n",
    "\n",
    "    # View confusion matrix\n",
    "    plot_confusion_matrix(gs, X_test, y_test, cmap='Blues', values_format='d');\n",
    "\n",
    "    # Calculate the sensitivity/ recall\n",
    "    sens = tp / (tp + fn)\n",
    "\n",
    "    # Calculate the precision\n",
    "    prec = tp / (tp + fp)\n",
    "    \n",
    "    # Calculate the f1 score\n",
    "    f1 = 2 * (sens * prec) / (sens + prec)\n",
    "\n",
    "    # print results\n",
    "    print(f'Best params: {gs.best_params_}')\n",
    "    print(f'Training score: {round(train_score, 4)}')\n",
    "    print(f'Test score: {round(test_score, 4)}')\n",
    "    print(f'f1-score: {round(f1, 4)}')\n",
    "    \n",
    "    return list(zip(feature_names, log_prob_diff))"
   ]
  },
  {
   "cell_type": "markdown",
   "id": "4efba072",
   "metadata": {},
   "source": [
    "#### Cleaned data (without lemmatizing and stemming)"
   ]
  },
  {
   "cell_type": "code",
   "execution_count": 8,
   "id": "e16dd855",
   "metadata": {},
   "outputs": [],
   "source": [
    "# original parameters for cvec_nb_pipeline\n",
    "cvec_nb_params = {\n",
    "    'cvec__max_features': [600, 700, 800],\n",
    "    'cvec__ngram_range': [(1,1), (1,2)],\n",
    "    'cvec__min_df': [0.01, 0.02, 0.03],   \n",
    "    'cvec__max_df': [0.8, 0.9],\n",
    "}"
   ]
  },
  {
   "cell_type": "code",
   "execution_count": 9,
   "id": "4bd00ed2",
   "metadata": {},
   "outputs": [
    {
     "name": "stdout",
     "output_type": "stream",
     "text": [
      "Best params: {'cvec__max_df': 0.8, 'cvec__max_features': 800, 'cvec__min_df': 0.01, 'cvec__ngram_range': (1, 1)}\n",
      "Training score: 0.8927\n",
      "Test score: 0.8711\n",
      "f1-score: 0.8785\n"
     ]
    },
    {
     "data": {
      "image/png": "[encoded data removed]",
      "text/plain": [
       "<Figure size 432x288 with 2 Axes>"
      ]
     },
     "metadata": {
      "needs_background": "light"
     },
     "output_type": "display_data"
    }
   ],
   "source": [
    "X_cleaned = drinks['cleaned_sent']\n",
    "y = drinks['drink']\n",
    "\n",
    "# best parameters\n",
    "cleaned_cvec_nb_params = {\n",
    "    'cvec__max_features': [800],\n",
    "    'cvec__ngram_range': [(1,1)],\n",
    "    'cvec__min_df': [0.01],   \n",
    "    'cvec__max_df': [0.8],    \n",
    "}\n",
    "\n",
    "results_cleaned = cvec_nb_pipeline(X_cleaned, y, params = cleaned_cvec_nb_params)"
   ]
  },
  {
   "cell_type": "markdown",
   "id": "f5a2f0da",
   "metadata": {},
   "source": [
    "#### Lemmatized data"
   ]
  },
  {
   "cell_type": "code",
   "execution_count": 10,
   "id": "6ef8f3d3",
   "metadata": {},
   "outputs": [
    {
     "name": "stdout",
     "output_type": "stream",
     "text": [
      "Best params: {'cvec__max_df': 0.8, 'cvec__max_features': 800, 'cvec__min_df': 0.01, 'cvec__ngram_range': (1, 1)}\n",
      "Training score: 0.8953\n",
      "Test score: 0.8724\n",
      "f1-score: 0.8787\n"
     ]
    },
    {
     "data": {
      "image/png": "[encoded data removed]",
      "text/plain": [
       "<Figure size 432x288 with 2 Axes>"
      ]
     },
     "metadata": {
      "needs_background": "light"
     },
     "output_type": "display_data"
    }
   ],
   "source": [
    "X_lemm = drinks['lemmatized_sent']\n",
    "y = drinks['drink']\n",
    "\n",
    "# best parameters\n",
    "lemm_cvec_nb_params = {\n",
    "    'cvec__max_features': [800],\n",
    "    'cvec__ngram_range': [(1,1)],\n",
    "    'cvec__min_df': [0.01],   \n",
    "    'cvec__max_df': [0.8],    \n",
    "}\n",
    "\n",
    "results_lemm = cvec_nb_pipeline(X_lemm, y, params = lemm_cvec_nb_params)"
   ]
  },
  {
   "cell_type": "markdown",
   "id": "2c3ae5d4",
   "metadata": {},
   "source": [
    "#### Porter stemmed data"
   ]
  },
  {
   "cell_type": "code",
   "execution_count": 11,
   "id": "85de2cad",
   "metadata": {},
   "outputs": [
    {
     "name": "stdout",
     "output_type": "stream",
     "text": [
      "Best params: {'cvec__max_df': 0.8, 'cvec__max_features': 800, 'cvec__min_df': 0.01, 'cvec__ngram_range': (1, 1)}\n",
      "Training score: 0.8972\n",
      "Test score: 0.8646\n",
      "f1-score: 0.8703\n"
     ]
    },
    {
     "data": {
      "image/png": "[encoded data removed]",
      "text/plain": [
       "<Figure size 432x288 with 2 Axes>"
      ]
     },
     "metadata": {
      "needs_background": "light"
     },
     "output_type": "display_data"
    }
   ],
   "source": [
    "X_stemmed = drinks['pstemmed_sent']\n",
    "y = drinks['drink']\n",
    "\n",
    "# best parameters\n",
    "stem_cvec_nb_params = {\n",
    "    'cvec__max_features': [800],\n",
    "    'cvec__ngram_range': [(1,1)],\n",
    "    'cvec__min_df': [0.01],  \n",
    "    'cvec__max_df': [0.8],    \n",
    "}\n",
    "\n",
    "results_stemmed = cvec_nb_pipeline(X_stemmed, y, params = stem_cvec_nb_params)"
   ]
  },
  {
   "cell_type": "markdown",
   "id": "827e6c12",
   "metadata": {},
   "source": [
    "#### Results analysis"
   ]
  },
  {
   "cell_type": "markdown",
   "id": "7a92fd17",
   "metadata": {},
   "source": [
    "| Data       |  Train score |  Test score/ Accuracy  | f1-score  |\n",
    "|------------|--------------|---------------|-----------|\n",
    "| Cleaned   |  0.893 | 0.871  | 0.879 | \n",
    "| Lemmatized  | 0.895  | 0.872  | 0.879  |  \n",
    "| Porter-stemmed  | 0.897  | 0.865  |  0.870 | "
   ]
  },
  {
   "cell_type": "markdown",
   "id": "4148e687",
   "metadata": {},
   "source": [
    "There is little to no differences in the scores when using cleaned, lemmatized and porter-stemmed words. GridSearchCV found the same best parameters for all three different set of words, using the same model. \n",
    "<br>\n",
    "<br> **Accuracy**, which is also the test score, is a measure from the confusion matrix, is the ratio of correct positive predictions to the total predicted positives. This is used as a metric since true positives and true negatives (correctly classifying words) are important here. \n",
    "<br>\n",
    "<br> However, since imbalanced class distribution exists during prediction, the **f1-score** may be a better metric to evaluate the model, since it places emphasis on false negatives and false positives, ie., if either false positives or false negatives increase, f1-score will decrease. So, the f1-score is also another measure calculated here. From the above table, there is little/no difference between accuracy and f1-score. \n",
    "<br>\n",
    "<br> On a closer examination, model using the porter-stemmed words, reported more false negatives (Type 2 error). Porter stemming is stricter than lemmatizing. For example, 'grinding' was not lemmatized, but it was stemmed to 'grind' (demonstrated during EDA). So while porter stemming might help to consolidate the data better for the model, however, over-stemming seemed to increase false negatives. This is where the model incorrectly classified a word to be tea. [Note that positive class is coffee].    \n",
    "<br> Specificity and sensitivity is not so important here (unlike in medicine) where a wrong diagnosis might prove dangerous for patients (*personal opinion*) . In NLP, accuracy and the f1-score are important metrics to ensure that the model is classifying the words correctly. Also, a coffee-lover would not be so upset if a popular tea word such as 'oolong' ended up in the 'coffee' classifier (unless one lives in Sydney/ Melbourne surrounded by coffee snobs).\n",
    "<br>\n",
    "<br> **If using Naive Bayes model, in this scenario, there is no difference if the posts are lemmatized or stemmed.** The addition of **'cvec_min_df'** and **'cvec_max_df'** means that the model removes terms that appears too infrequently (<1%), and too often (>80%). These are good parameters to use as they prune words/features, and modify the vocabulary. The crucial point here is that one does not want to lose important words and lower the accuracy/quality of the features/words. However, since the stopwords used during cleaning was minimal, this might be a crucial step in ensuring that overfitting is reduced. Also the addition of these parameters increased the Type 1 and Type 2 errors. So there is a **balance between maximising accuracy while minimising overfitting** (which is the summary of this jupyter notebook).   "
   ]
  },
  {
   "cell_type": "markdown",
   "id": "97502415",
   "metadata": {},
   "source": [
    "For the Naive Bayes model, one can analyse the coef_ (probability of observing an outcome for each class), or the log probabilities. Since probabilities are/often small, multiplying them would result in an even smaller number. For the Naive Bayes model, it is sufficient to know which class has the larger probability rather than what the specific probability is, so the log_difference is used here for analysis. "
   ]
  },
  {
   "cell_type": "code",
   "execution_count": 12,
   "id": "ce9339d3",
   "metadata": {},
   "outputs": [],
   "source": [
    "# Combine top 15 words associated with coffee/tea from the model\n",
    "def make_df(results,col_name):\n",
    "    '''Take results from model with column names and create dataframes for analysis later'''\n",
    "    # convert to df\n",
    "    results_df = pd.DataFrame(results, columns=col_name)\n",
    "    \n",
    "    # positive: contributes positively to the prediction for coffee [1]\n",
    "    # select top 15, sorted by column name in index[1]\n",
    "    coffee_results = results_df.sort_values(col_name[1],ascending=False).head(15)\n",
    "    coffee_results = coffee_results.reset_index().drop(columns='index')\n",
    "    \n",
    "    # negative: contributes negatively to the prediction for tea [0]\n",
    "    # select top 15, sorted by column name in index[1]\n",
    "    tea_results = results_df.sort_values(col_name[1],ascending=False).tail(15)\n",
    "    tea_results = tea_results.reset_index().drop(columns='index')\n",
    "    \n",
    "    return (coffee_results, tea_results)"
   ]
  },
  {
   "cell_type": "markdown",
   "id": "e81f96d2",
   "metadata": {},
   "source": [
    "**coffee**"
   ]
  },
  {
   "cell_type": "code",
   "execution_count": 13,
   "id": "a71bdae6",
   "metadata": {},
   "outputs": [],
   "source": [
    "coffee_clean, tea_clean = make_df(results_cleaned, ['cleaned','cleaned_logp_diff'])"
   ]
  },
  {
   "cell_type": "code",
   "execution_count": 14,
   "id": "f4f8f3f9",
   "metadata": {},
   "outputs": [
    {
     "data": {
      "text/html": [
       "<div>\n",
       "<style scoped>\n",
       "    .dataframe tbody tr th:only-of-type {\n",
       "        vertical-align: middle;\n",
       "    }\n",
       "\n",
       "    .dataframe tbody tr th {\n",
       "        vertical-align: top;\n",
       "    }\n",
       "\n",
       "    .dataframe thead th {\n",
       "        text-align: right;\n",
       "    }\n",
       "</style>\n",
       "<table border=\"1\" class=\"dataframe\">\n",
       "  <thead>\n",
       "    <tr style=\"text-align: right;\">\n",
       "      <th></th>\n",
       "      <th>cleaned</th>\n",
       "      <th>cleaned_logp_diff</th>\n",
       "    </tr>\n",
       "  </thead>\n",
       "  <tbody>\n",
       "    <tr>\n",
       "      <th>0</th>\n",
       "      <td>grinder</td>\n",
       "      <td>5.548901</td>\n",
       "    </tr>\n",
       "    <tr>\n",
       "      <th>1</th>\n",
       "      <td>beans</td>\n",
       "      <td>4.589125</td>\n",
       "    </tr>\n",
       "    <tr>\n",
       "      <th>2</th>\n",
       "      <td>moka</td>\n",
       "      <td>4.263703</td>\n",
       "    </tr>\n",
       "    <tr>\n",
       "      <th>3</th>\n",
       "      <td>grind</td>\n",
       "      <td>4.252653</td>\n",
       "    </tr>\n",
       "    <tr>\n",
       "      <th>4</th>\n",
       "      <td>machine</td>\n",
       "      <td>4.214912</td>\n",
       "    </tr>\n",
       "    <tr>\n",
       "      <th>5</th>\n",
       "      <td>breville</td>\n",
       "      <td>3.795894</td>\n",
       "    </tr>\n",
       "    <tr>\n",
       "      <th>6</th>\n",
       "      <td>barista</td>\n",
       "      <td>3.760176</td>\n",
       "    </tr>\n",
       "    <tr>\n",
       "      <th>7</th>\n",
       "      <td>burr</td>\n",
       "      <td>3.760176</td>\n",
       "    </tr>\n",
       "    <tr>\n",
       "      <th>8</th>\n",
       "      <td>drip</td>\n",
       "      <td>3.694425</td>\n",
       "    </tr>\n",
       "    <tr>\n",
       "      <th>9</th>\n",
       "      <td>machines</td>\n",
       "      <td>3.684669</td>\n",
       "    </tr>\n",
       "    <tr>\n",
       "      <th>10</th>\n",
       "      <td>grinding</td>\n",
       "      <td>3.644663</td>\n",
       "    </tr>\n",
       "    <tr>\n",
       "      <th>11</th>\n",
       "      <td>jx</td>\n",
       "      <td>3.537033</td>\n",
       "    </tr>\n",
       "    <tr>\n",
       "      <th>12</th>\n",
       "      <td>grinders</td>\n",
       "      <td>3.490513</td>\n",
       "    </tr>\n",
       "    <tr>\n",
       "      <th>13</th>\n",
       "      <td>baratza</td>\n",
       "      <td>3.390429</td>\n",
       "    </tr>\n",
       "    <tr>\n",
       "      <th>14</th>\n",
       "      <td>roasters</td>\n",
       "      <td>3.363761</td>\n",
       "    </tr>\n",
       "  </tbody>\n",
       "</table>\n",
       "</div>"
      ],
      "text/plain": [
       "     cleaned  cleaned_logp_diff\n",
       "0    grinder           5.548901\n",
       "1      beans           4.589125\n",
       "2       moka           4.263703\n",
       "3      grind           4.252653\n",
       "4    machine           4.214912\n",
       "5   breville           3.795894\n",
       "6    barista           3.760176\n",
       "7       burr           3.760176\n",
       "8       drip           3.694425\n",
       "9   machines           3.684669\n",
       "10  grinding           3.644663\n",
       "11        jx           3.537033\n",
       "12  grinders           3.490513\n",
       "13   baratza           3.390429\n",
       "14  roasters           3.363761"
      ]
     },
     "execution_count": 14,
     "metadata": {},
     "output_type": "execute_result"
    }
   ],
   "source": [
    "# sample of what one coffee dataframe would look like\n",
    "coffee_clean"
   ]
  },
  {
   "cell_type": "code",
   "execution_count": 15,
   "id": "d1a001cd",
   "metadata": {},
   "outputs": [],
   "source": [
    "# dataframes for lemmatized data\n",
    "coffee_lemm, tea_lemm = make_df(results_lemm, ['lemm_word','lemm_logp_diff'])"
   ]
  },
  {
   "cell_type": "code",
   "execution_count": 16,
   "id": "4db460ee",
   "metadata": {},
   "outputs": [],
   "source": [
    "# dataframes for stemmed data\n",
    "coffee_stem, tea_stem = make_df(results_stemmed, ['stem_word','stem_logp_diff'])"
   ]
  },
  {
   "cell_type": "code",
   "execution_count": 17,
   "id": "9981b49f",
   "metadata": {
    "scrolled": false
   },
   "outputs": [
    {
     "data": {
      "text/html": [
       "<div>\n",
       "<style scoped>\n",
       "    .dataframe tbody tr th:only-of-type {\n",
       "        vertical-align: middle;\n",
       "    }\n",
       "\n",
       "    .dataframe tbody tr th {\n",
       "        vertical-align: top;\n",
       "    }\n",
       "\n",
       "    .dataframe thead th {\n",
       "        text-align: right;\n",
       "    }\n",
       "</style>\n",
       "<table border=\"1\" class=\"dataframe\">\n",
       "  <thead>\n",
       "    <tr style=\"text-align: right;\">\n",
       "      <th></th>\n",
       "      <th>cleaned</th>\n",
       "      <th>cleaned_logp_diff</th>\n",
       "      <th>lemm_word</th>\n",
       "      <th>lemm_logp_diff</th>\n",
       "      <th>stem_word</th>\n",
       "      <th>stem_logp_diff</th>\n",
       "    </tr>\n",
       "  </thead>\n",
       "  <tbody>\n",
       "    <tr>\n",
       "      <th>0</th>\n",
       "      <td>grinder</td>\n",
       "      <td>5.548901</td>\n",
       "      <td>grinder</td>\n",
       "      <td>5.665274</td>\n",
       "      <td>grinder</td>\n",
       "      <td>5.653781</td>\n",
       "    </tr>\n",
       "    <tr>\n",
       "      <th>1</th>\n",
       "      <td>beans</td>\n",
       "      <td>4.589125</td>\n",
       "      <td>machine</td>\n",
       "      <td>4.389731</td>\n",
       "      <td>grind</td>\n",
       "      <td>4.603959</td>\n",
       "    </tr>\n",
       "    <tr>\n",
       "      <th>2</th>\n",
       "      <td>moka</td>\n",
       "      <td>4.263703</td>\n",
       "      <td>grind</td>\n",
       "      <td>4.386500</td>\n",
       "      <td>machin</td>\n",
       "      <td>4.381459</td>\n",
       "    </tr>\n",
       "    <tr>\n",
       "      <th>3</th>\n",
       "      <td>grind</td>\n",
       "      <td>4.252653</td>\n",
       "      <td>moka</td>\n",
       "      <td>4.262630</td>\n",
       "      <td>moka</td>\n",
       "      <td>4.251137</td>\n",
       "    </tr>\n",
       "    <tr>\n",
       "      <th>4</th>\n",
       "      <td>machine</td>\n",
       "      <td>4.214912</td>\n",
       "      <td>burr</td>\n",
       "      <td>4.170611</td>\n",
       "      <td>burr</td>\n",
       "      <td>4.159119</td>\n",
       "    </tr>\n",
       "    <tr>\n",
       "      <th>5</th>\n",
       "      <td>breville</td>\n",
       "      <td>3.795894</td>\n",
       "      <td>bean</td>\n",
       "      <td>4.118049</td>\n",
       "      <td>bean</td>\n",
       "      <td>4.106556</td>\n",
       "    </tr>\n",
       "    <tr>\n",
       "      <th>6</th>\n",
       "      <td>barista</td>\n",
       "      <td>3.760176</td>\n",
       "      <td>roaster</td>\n",
       "      <td>4.014451</td>\n",
       "      <td>roaster</td>\n",
       "      <td>4.002958</td>\n",
       "    </tr>\n",
       "    <tr>\n",
       "      <th>7</th>\n",
       "      <td>burr</td>\n",
       "      <td>3.760176</td>\n",
       "      <td>breville</td>\n",
       "      <td>3.794822</td>\n",
       "      <td>barista</td>\n",
       "      <td>3.783329</td>\n",
       "    </tr>\n",
       "    <tr>\n",
       "      <th>8</th>\n",
       "      <td>drip</td>\n",
       "      <td>3.694425</td>\n",
       "      <td>barista</td>\n",
       "      <td>3.759104</td>\n",
       "      <td>brevil</td>\n",
       "      <td>3.783329</td>\n",
       "    </tr>\n",
       "    <tr>\n",
       "      <th>9</th>\n",
       "      <td>machines</td>\n",
       "      <td>3.684669</td>\n",
       "      <td>drip</td>\n",
       "      <td>3.703014</td>\n",
       "      <td>drip</td>\n",
       "      <td>3.729262</td>\n",
       "    </tr>\n",
       "    <tr>\n",
       "      <th>10</th>\n",
       "      <td>grinding</td>\n",
       "      <td>3.644663</td>\n",
       "      <td>grinding</td>\n",
       "      <td>3.643591</td>\n",
       "      <td>jx</td>\n",
       "      <td>3.524468</td>\n",
       "    </tr>\n",
       "    <tr>\n",
       "      <th>11</th>\n",
       "      <td>jx</td>\n",
       "      <td>3.537033</td>\n",
       "      <td>jx</td>\n",
       "      <td>3.535960</td>\n",
       "      <td>baratza</td>\n",
       "      <td>3.377864</td>\n",
       "    </tr>\n",
       "    <tr>\n",
       "      <th>12</th>\n",
       "      <td>grinders</td>\n",
       "      <td>3.490513</td>\n",
       "      <td>click</td>\n",
       "      <td>3.489440</td>\n",
       "      <td>maker</td>\n",
       "      <td>3.305105</td>\n",
       "    </tr>\n",
       "    <tr>\n",
       "      <th>13</th>\n",
       "      <td>baratza</td>\n",
       "      <td>3.390429</td>\n",
       "      <td>baratza</td>\n",
       "      <td>3.389357</td>\n",
       "      <td>caraf</td>\n",
       "      <td>3.295626</td>\n",
       "    </tr>\n",
       "    <tr>\n",
       "      <th>14</th>\n",
       "      <td>roasters</td>\n",
       "      <td>3.363761</td>\n",
       "      <td>maker</td>\n",
       "      <td>3.316597</td>\n",
       "      <td>zpresso</td>\n",
       "      <td>3.295626</td>\n",
       "    </tr>\n",
       "  </tbody>\n",
       "</table>\n",
       "</div>"
      ],
      "text/plain": [
       "     cleaned  cleaned_logp_diff lemm_word  lemm_logp_diff stem_word  \\\n",
       "0    grinder           5.548901   grinder        5.665274   grinder   \n",
       "1      beans           4.589125   machine        4.389731     grind   \n",
       "2       moka           4.263703     grind        4.386500    machin   \n",
       "3      grind           4.252653      moka        4.262630      moka   \n",
       "4    machine           4.214912      burr        4.170611      burr   \n",
       "5   breville           3.795894      bean        4.118049      bean   \n",
       "6    barista           3.760176   roaster        4.014451   roaster   \n",
       "7       burr           3.760176  breville        3.794822   barista   \n",
       "8       drip           3.694425   barista        3.759104    brevil   \n",
       "9   machines           3.684669      drip        3.703014      drip   \n",
       "10  grinding           3.644663  grinding        3.643591        jx   \n",
       "11        jx           3.537033        jx        3.535960   baratza   \n",
       "12  grinders           3.490513     click        3.489440     maker   \n",
       "13   baratza           3.390429   baratza        3.389357     caraf   \n",
       "14  roasters           3.363761     maker        3.316597   zpresso   \n",
       "\n",
       "    stem_logp_diff  \n",
       "0         5.653781  \n",
       "1         4.603959  \n",
       "2         4.381459  \n",
       "3         4.251137  \n",
       "4         4.159119  \n",
       "5         4.106556  \n",
       "6         4.002958  \n",
       "7         3.783329  \n",
       "8         3.783329  \n",
       "9         3.729262  \n",
       "10        3.524468  \n",
       "11        3.377864  \n",
       "12        3.305105  \n",
       "13        3.295626  \n",
       "14        3.295626  "
      ]
     },
     "execution_count": 17,
     "metadata": {},
     "output_type": "execute_result"
    }
   ],
   "source": [
    "# Combine all results for coffee\n",
    "pd.concat([coffee_clean, coffee_lemm, coffee_stem],axis=1,sort=False)"
   ]
  },
  {
   "cell_type": "markdown",
   "id": "35f0ff06",
   "metadata": {},
   "source": [
    "From the above table, it is obvious that stemmed data consolidates the data better. For example, 'grinding' was not lemmatized, but it was stemmed to 'grind' (demonstrated during EDA). \n",
    "<br>\n",
    "<br> As expected (from EDA), words that are strongly associated with coffee are 'beans' and 'barista'. The only strange word here is 'click' which may have something to do with how a machine clicks (during use) (*which I cannot wholly explain even from the table below*).\n",
    "<br>\n",
    "<br> Most of the words are related to coffee machines. Firstly, 'machine/s' is very common. Secondly, 'breville', 'baratza', 'jx' or 'jx pro' referred to coffee machines. 'zpresso' is the cleaned form of '1zpresso' which is also a coffee machine.   Since coffee requires some brewing and machine-use, there is obvious discussion on the best machine to make/brew coffee. Even 'moka' from moka pot which is a coffee 'maker' was of importance.\n",
    "<br> \n",
    "<br> Another common theme in coffee is the method as to how the beans are being 'grind' or 'roasted', So words like 'burr', which is a method as to how beans are being grind, and 'roaster' which is a method to roast beans, are common. "
   ]
  },
  {
   "cell_type": "code",
   "execution_count": 18,
   "id": "59d3949d",
   "metadata": {},
   "outputs": [
    {
     "data": {
      "text/html": [
       "<div>\n",
       "<style scoped>\n",
       "    .dataframe tbody tr th:only-of-type {\n",
       "        vertical-align: middle;\n",
       "    }\n",
       "\n",
       "    .dataframe tbody tr th {\n",
       "        vertical-align: top;\n",
       "    }\n",
       "\n",
       "    .dataframe thead th {\n",
       "        text-align: right;\n",
       "    }\n",
       "</style>\n",
       "<table border=\"1\" class=\"dataframe\">\n",
       "  <thead>\n",
       "    <tr style=\"text-align: right;\">\n",
       "      <th></th>\n",
       "      <th>cleaned_sent</th>\n",
       "    </tr>\n",
       "  </thead>\n",
       "  <tbody>\n",
       "    <tr>\n",
       "      <th>31</th>\n",
       "      <td>trying decide jx pro k plus like everything k plus better save fact click size larger aeropress pour larger click size microns vs microns jx pro make real world difference parameters matter aeropr...</td>\n",
       "    </tr>\n",
       "    <tr>\n",
       "      <th>75</th>\n",
       "      <td>today switched colombian la virgen beans ethiopian nano challa used grind size clicks jx zpresso beans got extremely different drain times ethiopian beans took minute minute half colombian beans c...</td>\n",
       "    </tr>\n",
       "    <tr>\n",
       "      <th>88</th>\n",
       "      <td>hey r im trying learn appreciate taste bought first real grinder questions spent quite bit figuring calibrate adjustment notch zeroes ended fiddling grinder trying figure noticed grinder clicked a...</td>\n",
       "    </tr>\n",
       "    <tr>\n",
       "      <th>122</th>\n",
       "      <td>used cup moka pot today using g level basket added ml water lower chamber line line medium heat first low heat start coming removed heat spurting started got ml seems like good ratio taste similar...</td>\n",
       "    </tr>\n",
       "    <tr>\n",
       "      <th>129</th>\n",
       "      <td>new world decided time take interest hobby investing quality gear said wondering anyone advice success combination keep pulling rather sour shots using g medium roast clicks tried ratio ratio sour...</td>\n",
       "    </tr>\n",
       "    <tr>\n",
       "      <th>195</th>\n",
       "      <td>hello think improved bit shaking grinds around strainer seconds put v grind encore clicks losing weight see lot fines trash done grinds look really consistent think allowing extract bit without st...</td>\n",
       "    </tr>\n",
       "    <tr>\n",
       "      <th>231</th>\n",
       "      <td>brain beginning ache scouring internet figure breville machine become one true love first contender bambino plus like conservative size amateur friendly option automated frothing rapid speed ready...</td>\n",
       "    </tr>\n",
       "    <tr>\n",
       "      <th>282</th>\n",
       "      <td>got ethiopian blueberry notes brewed iced using james hoffman technique wondering however anything increase blueberry flavour smelled nice blueberries strong taste blueberry timemore c upgraded se...</td>\n",
       "    </tr>\n",
       "    <tr>\n",
       "      <th>291</th>\n",
       "      <td>hi new world proper looking bit advice used nespresso machines thought get world pour style luckily gift vouchers work incentive treated timemore c sage precision brewer local roasters got beans m...</td>\n",
       "    </tr>\n",
       "    <tr>\n",
       "      <th>480</th>\n",
       "      <td>relatively new scene set aeropress timemore c calphalon temp iq without grinder luxhaus calibrated tamper use medium roast beans usually clicks c basically dosing g g getting grams double shot sec...</td>\n",
       "    </tr>\n",
       "  </tbody>\n",
       "</table>\n",
       "</div>"
      ],
      "text/plain": [
       "                                                                                                                                                                                                cleaned_sent\n",
       "31   trying decide jx pro k plus like everything k plus better save fact click size larger aeropress pour larger click size microns vs microns jx pro make real world difference parameters matter aeropr...\n",
       "75   today switched colombian la virgen beans ethiopian nano challa used grind size clicks jx zpresso beans got extremely different drain times ethiopian beans took minute minute half colombian beans c...\n",
       "88   hey r im trying learn appreciate taste bought first real grinder questions spent quite bit figuring calibrate adjustment notch zeroes ended fiddling grinder trying figure noticed grinder clicked a...\n",
       "122  used cup moka pot today using g level basket added ml water lower chamber line line medium heat first low heat start coming removed heat spurting started got ml seems like good ratio taste similar...\n",
       "129  new world decided time take interest hobby investing quality gear said wondering anyone advice success combination keep pulling rather sour shots using g medium roast clicks tried ratio ratio sour...\n",
       "195  hello think improved bit shaking grinds around strainer seconds put v grind encore clicks losing weight see lot fines trash done grinds look really consistent think allowing extract bit without st...\n",
       "231  brain beginning ache scouring internet figure breville machine become one true love first contender bambino plus like conservative size amateur friendly option automated frothing rapid speed ready...\n",
       "282  got ethiopian blueberry notes brewed iced using james hoffman technique wondering however anything increase blueberry flavour smelled nice blueberries strong taste blueberry timemore c upgraded se...\n",
       "291  hi new world proper looking bit advice used nespresso machines thought get world pour style luckily gift vouchers work incentive treated timemore c sage precision brewer local roasters got beans m...\n",
       "480  relatively new scene set aeropress timemore c calphalon temp iq without grinder luxhaus calibrated tamper use medium roast beans usually clicks c basically dosing g g getting grams double shot sec..."
      ]
     },
     "execution_count": 18,
     "metadata": {},
     "output_type": "execute_result"
    }
   ],
   "source": [
    "pd.options.display.max_colwidth = 200\n",
    "drinks[drinks['lemmatized_sent'].str.contains('click')][['cleaned_sent']].head(10)"
   ]
  },
  {
   "cell_type": "markdown",
   "id": "85707bb1",
   "metadata": {},
   "source": [
    "**tea**"
   ]
  },
  {
   "cell_type": "code",
   "execution_count": 19,
   "id": "093c98ec",
   "metadata": {},
   "outputs": [],
   "source": [
    "# Combine all results for tea\n",
    "tea_nb = pd.concat([tea_clean, tea_lemm, tea_stem],axis=1,sort=False)"
   ]
  },
  {
   "cell_type": "code",
   "execution_count": 20,
   "id": "4d528dee",
   "metadata": {},
   "outputs": [
    {
     "data": {
      "text/html": [
       "<div>\n",
       "<style scoped>\n",
       "    .dataframe tbody tr th:only-of-type {\n",
       "        vertical-align: middle;\n",
       "    }\n",
       "\n",
       "    .dataframe tbody tr th {\n",
       "        vertical-align: top;\n",
       "    }\n",
       "\n",
       "    .dataframe thead th {\n",
       "        text-align: right;\n",
       "    }\n",
       "</style>\n",
       "<table border=\"1\" class=\"dataframe\">\n",
       "  <thead>\n",
       "    <tr style=\"text-align: right;\">\n",
       "      <th></th>\n",
       "      <th>cleaned</th>\n",
       "      <th>cleaned_logp_diff</th>\n",
       "      <th>lemm_word</th>\n",
       "      <th>lemm_logp_diff</th>\n",
       "      <th>stem_word</th>\n",
       "      <th>stem_logp_diff</th>\n",
       "    </tr>\n",
       "  </thead>\n",
       "  <tbody>\n",
       "    <tr>\n",
       "      <th>0</th>\n",
       "      <td>worry</td>\n",
       "      <td>-3.631547</td>\n",
       "      <td>chamomile</td>\n",
       "      <td>-3.580434</td>\n",
       "      <td>herbal</td>\n",
       "      <td>-3.591927</td>\n",
       "    </tr>\n",
       "    <tr>\n",
       "      <th>1</th>\n",
       "      <td>fu</td>\n",
       "      <td>-3.648354</td>\n",
       "      <td>august</td>\n",
       "      <td>-3.580434</td>\n",
       "      <td>august</td>\n",
       "      <td>-3.591927</td>\n",
       "    </tr>\n",
       "    <tr>\n",
       "      <th>2</th>\n",
       "      <td>gong</td>\n",
       "      <td>-3.681144</td>\n",
       "      <td>gongfu</td>\n",
       "      <td>-3.615525</td>\n",
       "      <td>gongfu</td>\n",
       "      <td>-3.627018</td>\n",
       "    </tr>\n",
       "    <tr>\n",
       "      <th>3</th>\n",
       "      <td>sencha</td>\n",
       "      <td>-3.681144</td>\n",
       "      <td>gal</td>\n",
       "      <td>-3.632620</td>\n",
       "      <td>gal</td>\n",
       "      <td>-3.644112</td>\n",
       "    </tr>\n",
       "    <tr>\n",
       "      <th>4</th>\n",
       "      <td>sourcing</td>\n",
       "      <td>-3.681144</td>\n",
       "      <td>fu</td>\n",
       "      <td>-3.649427</td>\n",
       "      <td>chamomil</td>\n",
       "      <td>-3.660919</td>\n",
       "    </tr>\n",
       "    <tr>\n",
       "      <th>5</th>\n",
       "      <td>yunnan</td>\n",
       "      <td>-3.743664</td>\n",
       "      <td>sourcing</td>\n",
       "      <td>-3.682217</td>\n",
       "      <td>fu</td>\n",
       "      <td>-3.660919</td>\n",
       "    </tr>\n",
       "    <tr>\n",
       "      <th>6</th>\n",
       "      <td>oolongs</td>\n",
       "      <td>-3.802505</td>\n",
       "      <td>sencha</td>\n",
       "      <td>-3.682217</td>\n",
       "      <td>gong</td>\n",
       "      <td>-3.693709</td>\n",
       "    </tr>\n",
       "    <tr>\n",
       "      <th>7</th>\n",
       "      <td>gaiwan</td>\n",
       "      <td>-4.008357</td>\n",
       "      <td>gong</td>\n",
       "      <td>-3.682217</td>\n",
       "      <td>sencha</td>\n",
       "      <td>-3.756230</td>\n",
       "    </tr>\n",
       "    <tr>\n",
       "      <th>8</th>\n",
       "      <td>erh</td>\n",
       "      <td>-4.097305</td>\n",
       "      <td>yunnan</td>\n",
       "      <td>-3.744737</td>\n",
       "      <td>yunnan</td>\n",
       "      <td>-3.756230</td>\n",
       "    </tr>\n",
       "    <tr>\n",
       "      <th>9</th>\n",
       "      <td>chinese</td>\n",
       "      <td>-4.178983</td>\n",
       "      <td>gaiwan</td>\n",
       "      <td>-4.009429</td>\n",
       "      <td>gaiwan</td>\n",
       "      <td>-4.109870</td>\n",
       "    </tr>\n",
       "    <tr>\n",
       "      <th>10</th>\n",
       "      <td>topics</td>\n",
       "      <td>-4.324694</td>\n",
       "      <td>erh</td>\n",
       "      <td>-4.098377</td>\n",
       "      <td>erh</td>\n",
       "      <td>-4.171745</td>\n",
       "    </tr>\n",
       "    <tr>\n",
       "      <th>11</th>\n",
       "      <td>pu</td>\n",
       "      <td>-4.421544</td>\n",
       "      <td>chinese</td>\n",
       "      <td>-4.180055</td>\n",
       "      <td>chines</td>\n",
       "      <td>-4.191548</td>\n",
       "    </tr>\n",
       "    <tr>\n",
       "      <th>12</th>\n",
       "      <td>stories</td>\n",
       "      <td>-5.009331</td>\n",
       "      <td>leaf</td>\n",
       "      <td>-4.286885</td>\n",
       "      <td>pu</td>\n",
       "      <td>-4.434109</td>\n",
       "    </tr>\n",
       "    <tr>\n",
       "      <th>13</th>\n",
       "      <td>leaf</td>\n",
       "      <td>-5.188799</td>\n",
       "      <td>pu</td>\n",
       "      <td>-4.422617</td>\n",
       "      <td>leaf</td>\n",
       "      <td>-5.215549</td>\n",
       "    </tr>\n",
       "    <tr>\n",
       "      <th>14</th>\n",
       "      <td>oolong</td>\n",
       "      <td>-5.322331</td>\n",
       "      <td>oolong</td>\n",
       "      <td>-5.516087</td>\n",
       "      <td>oolong</td>\n",
       "      <td>-5.527580</td>\n",
       "    </tr>\n",
       "  </tbody>\n",
       "</table>\n",
       "</div>"
      ],
      "text/plain": [
       "     cleaned  cleaned_logp_diff  lemm_word  lemm_logp_diff stem_word  \\\n",
       "0      worry          -3.631547  chamomile       -3.580434    herbal   \n",
       "1         fu          -3.648354     august       -3.580434    august   \n",
       "2       gong          -3.681144     gongfu       -3.615525    gongfu   \n",
       "3     sencha          -3.681144        gal       -3.632620       gal   \n",
       "4   sourcing          -3.681144         fu       -3.649427  chamomil   \n",
       "5     yunnan          -3.743664   sourcing       -3.682217        fu   \n",
       "6    oolongs          -3.802505     sencha       -3.682217      gong   \n",
       "7     gaiwan          -4.008357       gong       -3.682217    sencha   \n",
       "8        erh          -4.097305     yunnan       -3.744737    yunnan   \n",
       "9    chinese          -4.178983     gaiwan       -4.009429    gaiwan   \n",
       "10    topics          -4.324694        erh       -4.098377       erh   \n",
       "11        pu          -4.421544    chinese       -4.180055    chines   \n",
       "12   stories          -5.009331       leaf       -4.286885        pu   \n",
       "13      leaf          -5.188799         pu       -4.422617      leaf   \n",
       "14    oolong          -5.322331     oolong       -5.516087    oolong   \n",
       "\n",
       "    stem_logp_diff  \n",
       "0        -3.591927  \n",
       "1        -3.591927  \n",
       "2        -3.627018  \n",
       "3        -3.644112  \n",
       "4        -3.660919  \n",
       "5        -3.660919  \n",
       "6        -3.693709  \n",
       "7        -3.756230  \n",
       "8        -3.756230  \n",
       "9        -4.109870  \n",
       "10       -4.171745  \n",
       "11       -4.191548  \n",
       "12       -4.434109  \n",
       "13       -5.215549  \n",
       "14       -5.527580  "
      ]
     },
     "execution_count": 20,
     "metadata": {},
     "output_type": "execute_result"
    }
   ],
   "source": [
    "tea_nb"
   ]
  },
  {
   "cell_type": "markdown",
   "id": "69efc388",
   "metadata": {},
   "source": [
    "From the table above (and from EDA), the words most likely associated with 'tea' is 'sencha', 'yunnan', 'gaiwan', 'chinese', 'oolong', 'chamomile', 'sourcing', 'leaf'. 'gaiwan' is a device that allows the re-infusing of tea leaves several times. A number of posts were also about 'sourcing' gifts or specific leaves. \n",
    "<br>\n",
    "<br> 'fu', 'pu' and 'erh' are strange words; However, 'fu' is associated with 'gong' or 'gong fu' tea, or 'gong fu brewing' (from table below). 'pu' and 'erh' are associated with 'pu erh' tea. \n",
    "<br> \n",
    "<br> Unfortunately, 'worry', 'stories', 'topics', 'august', 'gal' are related to spam messages (table below).\n"
   ]
  },
  {
   "cell_type": "code",
   "execution_count": 21,
   "id": "4c0cd594",
   "metadata": {},
   "outputs": [
    {
     "data": {
      "text/html": [
       "<div>\n",
       "<style scoped>\n",
       "    .dataframe tbody tr th:only-of-type {\n",
       "        vertical-align: middle;\n",
       "    }\n",
       "\n",
       "    .dataframe tbody tr th {\n",
       "        vertical-align: top;\n",
       "    }\n",
       "\n",
       "    .dataframe thead th {\n",
       "        text-align: right;\n",
       "    }\n",
       "</style>\n",
       "<table border=\"1\" class=\"dataframe\">\n",
       "  <thead>\n",
       "    <tr style=\"text-align: right;\">\n",
       "      <th></th>\n",
       "      <th>cleaned_sent</th>\n",
       "    </tr>\n",
       "  </thead>\n",
       "  <tbody>\n",
       "    <tr>\n",
       "      <th>1220</th>\n",
       "      <td>moved flat electric kettle really poor decided buy one replace want invest money well looking kettle recommendation recommend models requirements electric temperature control well made long lasting least l capacity brew gong fu style l thermo easy pour without spilling water price limit would like get something good value greatly overspending brand features use optional minimallistic designelectric kettle temperature control least l capacity</td>\n",
       "    </tr>\n",
       "    <tr>\n",
       "      <th>1221</th>\n",
       "      <td>hey guys question enjoy gong fu brewing wondering guidelines brew rooibos style delicious loose leaf rooibos would love try way recommendations would helpful gong fu tisanes</td>\n",
       "    </tr>\n",
       "    <tr>\n",
       "      <th>1240</th>\n",
       "      <td>another little review blog ordered ys recommended reached suggestions amazing really like drinking gong fu simply love round robustness get western think generally feel black anyway let know black feel gong fu true justice flavor hot cold great personality hot first get nice light black flavor flash cocoa like good dark chocolate fades nice mellow sweetness cold first get nice robust mix tannins followed light sweetness like hot notes raw cocoa swallow notes cocoa take give full mouth flavor...</td>\n",
       "    </tr>\n",
       "    <tr>\n",
       "      <th>1271</th>\n",
       "      <td>im looking good quality supplies gong fu cha ive found websites like meileaf whatnot im looking different pets different cups gaiwans tongs etc etc also good sites buying would nice gong fu cha supplies</td>\n",
       "    </tr>\n",
       "    <tr>\n",
       "      <th>1295</th>\n",
       "      <td>gong fu brewing take heated electric kettle pot kitchen desk kitchen table make throughout hour temperature definitely drops make new batches people tend heat pot drink pot table keep warm zojurushi hot water dispenser put thermos typical way heat water gong fu keeping water warm</td>\n",
       "    </tr>\n",
       "  </tbody>\n",
       "</table>\n",
       "</div>"
      ],
      "text/plain": [
       "                                                                                                                                                                                                                                                                                                                                                                                                                                                                                                             cleaned_sent\n",
       "1220                                                        moved flat electric kettle really poor decided buy one replace want invest money well looking kettle recommendation recommend models requirements electric temperature control well made long lasting least l capacity brew gong fu style l thermo easy pour without spilling water price limit would like get something good value greatly overspending brand features use optional minimallistic designelectric kettle temperature control least l capacity\n",
       "1221                                                                                                                                                                                                                                                                                                                                        hey guys question enjoy gong fu brewing wondering guidelines brew rooibos style delicious loose leaf rooibos would love try way recommendations would helpful gong fu tisanes\n",
       "1240  another little review blog ordered ys recommended reached suggestions amazing really like drinking gong fu simply love round robustness get western think generally feel black anyway let know black feel gong fu true justice flavor hot cold great personality hot first get nice light black flavor flash cocoa like good dark chocolate fades nice mellow sweetness cold first get nice robust mix tannins followed light sweetness like hot notes raw cocoa swallow notes cocoa take give full mouth flavor...\n",
       "1271                                                                                                                                                                                                                                                                                                           im looking good quality supplies gong fu cha ive found websites like meileaf whatnot im looking different pets different cups gaiwans tongs etc etc also good sites buying would nice gong fu cha supplies\n",
       "1295                                                                                                                                                                                                                             gong fu brewing take heated electric kettle pot kitchen desk kitchen table make throughout hour temperature definitely drops make new batches people tend heat pot drink pot table keep warm zojurushi hot water dispenser put thermos typical way heat water gong fu keeping water warm"
      ]
     },
     "execution_count": 21,
     "metadata": {},
     "output_type": "execute_result"
    }
   ],
   "source": [
    "pd.options.display.max_colwidth = 500\n",
    "drinks[drinks['cleaned_sent'].str.contains(r'(?:\\s|^)fu(?:\\s|$)')][['cleaned_sent']].head()"
   ]
  },
  {
   "cell_type": "code",
   "execution_count": 22,
   "id": "831c5620",
   "metadata": {},
   "outputs": [
    {
     "data": {
      "text/html": [
       "<div>\n",
       "<style scoped>\n",
       "    .dataframe tbody tr th:only-of-type {\n",
       "        vertical-align: middle;\n",
       "    }\n",
       "\n",
       "    .dataframe tbody tr th {\n",
       "        vertical-align: top;\n",
       "    }\n",
       "\n",
       "    .dataframe thead th {\n",
       "        text-align: right;\n",
       "    }\n",
       "</style>\n",
       "<table border=\"1\" class=\"dataframe\">\n",
       "  <thead>\n",
       "    <tr style=\"text-align: right;\">\n",
       "      <th></th>\n",
       "      <th>cleaned_sent</th>\n",
       "    </tr>\n",
       "  </thead>\n",
       "  <tbody>\n",
       "    <tr>\n",
       "      <th>926</th>\n",
       "      <td>anyone tried make sous vide concentrate want attempt make similar concentrate jot concentrate necessarily sous vide idea know want boil make bitter normally make cold brew oz wt gal water dilute want try make something way concentrated thought maybe sous vide would good choice get similar oz concentrate oz water milk jot sous vide concentrate</td>\n",
       "    </tr>\n",
       "    <tr>\n",
       "      <th>1219</th>\n",
       "      <td>drinking today questions mind stories share worry one make fun drink questions ask also talk anything else mind specific routine making oolong kick lately feel free link pictures well even talk non related topics maybe want advice guy gal talk life general cup daily discussion questions stories september</td>\n",
       "    </tr>\n",
       "    <tr>\n",
       "      <th>1234</th>\n",
       "      <td>drinking today questions mind stories share worry one make fun drink questions ask also talk anything else mind specific routine making oolong kick lately feel free link pictures well even talk non related topics maybe want advice guy gal talk life general cup daily discussion questions stories september</td>\n",
       "    </tr>\n",
       "    <tr>\n",
       "      <th>1249</th>\n",
       "      <td>drinking today questions mind stories share worry one make fun drink questions ask also talk anything else mind specific routine making oolong kick lately feel free link pictures well even talk non related topics maybe want advice guy gal talk life general cup daily discussion questions stories september</td>\n",
       "    </tr>\n",
       "    <tr>\n",
       "      <th>1253</th>\n",
       "      <td>drinking today questions mind stories share worry one make fun drink questions ask also talk anything else mind specific routine making oolong kick lately feel free link pictures well even talk non related topics maybe want advice guy gal talk life general cup daily discussion questions stories september</td>\n",
       "    </tr>\n",
       "    <tr>\n",
       "      <th>...</th>\n",
       "      <td>...</td>\n",
       "    </tr>\n",
       "    <tr>\n",
       "      <th>2263</th>\n",
       "      <td>drinking today questions mind stories share worry one make fun drink questions ask also talk anything else mind specific routine making oolong kick lately feel free link pictures well even talk non related topics maybe want advice guy gal talk life general cup daily discussion questions stories july</td>\n",
       "    </tr>\n",
       "    <tr>\n",
       "      <th>2272</th>\n",
       "      <td>drinking today questions mind stories share worry one make fun drink questions ask also talk anything else mind specific routine making oolong kick lately feel free link pictures well even talk non related topics maybe want advice guy gal talk life general cup daily discussion questions stories july</td>\n",
       "    </tr>\n",
       "    <tr>\n",
       "      <th>2284</th>\n",
       "      <td>drinking today questions mind stories share worry one make fun drink questions ask also talk anything else mind specific routine making oolong kick lately feel free link pictures well even talk non related topics maybe want advice guy gal talk life general cup daily discussion questions stories july</td>\n",
       "    </tr>\n",
       "    <tr>\n",
       "      <th>2299</th>\n",
       "      <td>drinking today questions mind stories share worry one make fun drink questions ask also talk anything else mind specific routine making oolong kick lately feel free link pictures well even talk non related topics maybe want advice guy gal talk life general cup daily discussion questions stories july</td>\n",
       "    </tr>\n",
       "    <tr>\n",
       "      <th>2312</th>\n",
       "      <td>drinking today questions mind stories share worry one make fun drink questions ask also talk anything else mind specific routine making oolong kick lately feel free link pictures well even talk non related topics maybe want advice guy gal talk life general cup daily discussion questions stories july</td>\n",
       "    </tr>\n",
       "  </tbody>\n",
       "</table>\n",
       "<p>86 rows × 1 columns</p>\n",
       "</div>"
      ],
      "text/plain": [
       "                                                                                                                                                                                                                                                                                                                                                  cleaned_sent\n",
       "926   anyone tried make sous vide concentrate want attempt make similar concentrate jot concentrate necessarily sous vide idea know want boil make bitter normally make cold brew oz wt gal water dilute want try make something way concentrated thought maybe sous vide would good choice get similar oz concentrate oz water milk jot sous vide concentrate\n",
       "1219                                         drinking today questions mind stories share worry one make fun drink questions ask also talk anything else mind specific routine making oolong kick lately feel free link pictures well even talk non related topics maybe want advice guy gal talk life general cup daily discussion questions stories september\n",
       "1234                                         drinking today questions mind stories share worry one make fun drink questions ask also talk anything else mind specific routine making oolong kick lately feel free link pictures well even talk non related topics maybe want advice guy gal talk life general cup daily discussion questions stories september\n",
       "1249                                         drinking today questions mind stories share worry one make fun drink questions ask also talk anything else mind specific routine making oolong kick lately feel free link pictures well even talk non related topics maybe want advice guy gal talk life general cup daily discussion questions stories september\n",
       "1253                                         drinking today questions mind stories share worry one make fun drink questions ask also talk anything else mind specific routine making oolong kick lately feel free link pictures well even talk non related topics maybe want advice guy gal talk life general cup daily discussion questions stories september\n",
       "...                                                                                                                                                                                                                                                                                                                                                        ...\n",
       "2263                                              drinking today questions mind stories share worry one make fun drink questions ask also talk anything else mind specific routine making oolong kick lately feel free link pictures well even talk non related topics maybe want advice guy gal talk life general cup daily discussion questions stories july\n",
       "2272                                              drinking today questions mind stories share worry one make fun drink questions ask also talk anything else mind specific routine making oolong kick lately feel free link pictures well even talk non related topics maybe want advice guy gal talk life general cup daily discussion questions stories july\n",
       "2284                                              drinking today questions mind stories share worry one make fun drink questions ask also talk anything else mind specific routine making oolong kick lately feel free link pictures well even talk non related topics maybe want advice guy gal talk life general cup daily discussion questions stories july\n",
       "2299                                              drinking today questions mind stories share worry one make fun drink questions ask also talk anything else mind specific routine making oolong kick lately feel free link pictures well even talk non related topics maybe want advice guy gal talk life general cup daily discussion questions stories july\n",
       "2312                                              drinking today questions mind stories share worry one make fun drink questions ask also talk anything else mind specific routine making oolong kick lately feel free link pictures well even talk non related topics maybe want advice guy gal talk life general cup daily discussion questions stories july\n",
       "\n",
       "[86 rows x 1 columns]"
      ]
     },
     "execution_count": 22,
     "metadata": {},
     "output_type": "execute_result"
    }
   ],
   "source": [
    "# problem found\n",
    "drinks[drinks['cleaned_sent'].str.contains(r'(?:\\s|^)gal(?:\\s|$)')][['cleaned_sent']]"
   ]
  },
  {
   "cell_type": "markdown",
   "id": "4a909d2d",
   "metadata": {},
   "source": [
    "A **problem** was found only at this point. Due to spam, 85 posts looking for a guy/gal to chat over a cup was spotted. This was only for subreddit search on tea, not on coffee. These were not found during drop_duplicates because theses posts were dated and considered different. Since some words in the spam posts are associated with tea, these errors, that are already present, in the data will negatively impact the model during classification. "
   ]
  },
  {
   "cell_type": "markdown",
   "id": "7d5e7a4a",
   "metadata": {},
   "source": [
    "**Summary**\n",
    "<br> The Naive Bayes model could successfully differentiate between 'bean', which are associated with coffee, and 'leaf', which is usually associated with tea. While coffee-related words tend towards the different type of machines and methods of brewing beans, tea-related words are associated with types of tea, usually named after the place the leaves came from."
   ]
  },
  {
   "cell_type": "markdown",
   "id": "b46df5e0",
   "metadata": {},
   "source": [
    "---"
   ]
  },
  {
   "cell_type": "markdown",
   "id": "877611a9",
   "metadata": {},
   "source": [
    "### (TF-IDF) Vectorizer and Decision Tree Classifier"
   ]
  },
  {
   "cell_type": "markdown",
   "id": "587fd7f9",
   "metadata": {},
   "source": [
    "TF-IDF is a score that tells us which words are important to one document, relative to the other documents. Words that occur often in one post but do not occur in many other posts contain more predictive power.\n",
    "<br>\n",
    "<br> Decision trees allow one to develop a classification system that predicts or classify observations based on a set of decision rules. It uses a tree-like model of decisions and their possible consequences to predict an outcome. One decision tree used would result in one outcome."
   ]
  },
  {
   "cell_type": "code",
   "execution_count": 23,
   "id": "5148d393",
   "metadata": {},
   "outputs": [],
   "source": [
    "# Set up pipeline and its parameters\n",
    "# 1. TfidfVectorizer (transformer)\n",
    "# 2. Decision Tree classifier (estimator)\n",
    "def tvec_dt_pipeline(X, y, params):\n",
    "    '''data is X, y with params as parameters for the pipeline'''\n",
    "    # split data\n",
    "    X_train, X_test, y_train, y_test = train_test_split(X,\n",
    "                                                        y,\n",
    "                                                        test_size=0.33,\n",
    "                                                        stratify=y,\n",
    "                                                        random_state=42)\n",
    "\n",
    "    pipe = Pipeline([\n",
    "        ('tvec', TfidfVectorizer()),\n",
    "        ('dt', DecisionTreeClassifier())\n",
    "    ])\n",
    "\n",
    "    gs = GridSearchCV(pipe, \n",
    "                      param_grid=params, \n",
    "                      cv=5, \n",
    "                      n_jobs=-1)\n",
    "\n",
    "    # Fit GridSearch to training data.\n",
    "    model = gs.fit(X_train, y_train)\n",
    "\n",
    "    # extract feature importance for coffee[1] and tea[0]\n",
    "    feature_names = model.best_estimator_.named_steps['tvec'].get_feature_names()\n",
    "    dt = model.best_estimator_.named_steps['dt']\n",
    "    \n",
    "    # Score model on training set.\n",
    "    train_score = gs.score(X_train, y_train)\n",
    "\n",
    "    # Score model on testing set.\n",
    "    test_score = gs.score(X_test, y_test)\n",
    "    \n",
    "    # Get predictions\n",
    "    preds = gs.predict(X_test)\n",
    "\n",
    "    # Save confusion matrix values\n",
    "    tn, fp, fn, tp = confusion_matrix(y_test, preds).ravel()\n",
    "\n",
    "    # View confusion matrix\n",
    "    plot_confusion_matrix(gs, X_test, y_test, cmap='Blues', values_format='d');\n",
    "\n",
    "    # Calculate the sensitivity/ recall\n",
    "    sens = tp / (tp + fn)\n",
    "   \n",
    "    # Calculate the precision\n",
    "    prec = tp / (tp + fp)\n",
    "    \n",
    "    # Calculate the F1 score\n",
    "    f1 = 2 * (sens * prec) / (sens + prec)\n",
    "    \n",
    "    # print results\n",
    "    print(f'Best params: {gs.best_params_}')\n",
    "    print(f'Training score: {round(train_score, 4)}')\n",
    "    print(f'Test score: {round(test_score, 4)}')\n",
    "    print(f'f1-score: {round(f1, 4)}')\n",
    "    \n",
    "    return (list(zip(X_test, y_test, preds)), list(zip(feature_names, dt.feature_importances_)))"
   ]
  },
  {
   "cell_type": "code",
   "execution_count": 24,
   "id": "a8dcac7f",
   "metadata": {},
   "outputs": [],
   "source": [
    "# original parameters for tvec_dt_pipeline\n",
    "tvec_dt_params = {\n",
    "    'tvec__ngram_range': [(1, 1), (1, 2)],\n",
    "    'tvec__max_features': [100, 200, 300],\n",
    "    'tvec__min_df': [0.02, 0.03],   \n",
    "    'tvec__max_df': [0.8, 0.9],\n",
    "    'dt__max_depth': [10, 15, 20, 30],\n",
    "    'dt__min_samples_split': [10, 15, 20],\n",
    "    'dt__min_samples_leaf': [10, 15, 20],\n",
    "}\n"
   ]
  },
  {
   "cell_type": "markdown",
   "id": "b9d61d46",
   "metadata": {},
   "source": [
    "For DecisionTreeClassifier, the **gini impurity** criterion is the default, and measures the frequency at which any element of the dataset will be mislabelled when it is randomly labeled. Entropy selects the optimum split by the feature with less entropy, ie., entropy is minimum[0] when two classes are not the same. The obtained results are usually better, but computation takes longer. Initial tests found that results from both seemed to be similar, so the default gini criterion was used.\n",
    "<br>\n",
    "<br> From EDA, trigrams were not useful, so **nagram_range** was only limited to (1, 2). Similarly, for CountVectorizer, the addition of **'tvec_min_df'** and **'tvec_max_df'** was also included. 'min_df' ignores terms that appear less than 1-3% in the posts, while 'max_df' ignores terms that appear more than 80-90% in the posts. In such a way, the model removes terms that appears too infrequently, and too often. **max_features** was added since it is uncertain if stopwords used during cleaning would help the model concentrate on what is really viable. This has to be restricted here too, as allowing the entire corpus to be considered during the TF-IDF transformation contributed to overfitting.\n",
    "<br>\n",
    "<br> **'max_depth'** or maximum depth of a tree is the maximum depth of the tree. default=None. If None, then nodes are expanded until all the leaves contain less than **min_samples_split** samples. Since GridSearchCV chooses the estimator based on the highest score, 'None' was not provided as an option for max_depth, as the result was train_score=1.0 which is an obvious sign of overfitting. In most parts during parameter selection, there was a balance between providing certain values for GridSearch to tune, such that the higher value of maximum depth does not result in overfitting, and a lower value does not result in underfitting. "
   ]
  },
  {
   "cell_type": "markdown",
   "id": "abd3e065",
   "metadata": {},
   "source": [
    "#### Cleaned data (without lemmatizing and stemming)"
   ]
  },
  {
   "cell_type": "code",
   "execution_count": 25,
   "id": "08f35808",
   "metadata": {},
   "outputs": [
    {
     "name": "stdout",
     "output_type": "stream",
     "text": [
      "Best params: {'dt__ccp_alpha': 0, 'dt__max_depth': 30, 'dt__min_samples_leaf': 10, 'dt__min_samples_split': 20, 'tvec__max_df': 0.8, 'tvec__max_features': 300, 'tvec__min_df': 0.02, 'tvec__ngram_range': (1, 2)}\n",
      "Training score: 0.8581\n",
      "Test score: 0.7773\n",
      "f1-score: 0.7729\n"
     ]
    },
    {
     "data": {
      "image/png": "[encoded data removed]",
      "text/plain": [
       "<Figure size 432x288 with 2 Axes>"
      ]
     },
     "metadata": {
      "needs_background": "light"
     },
     "output_type": "display_data"
    }
   ],
   "source": [
    "X_cleaned = drinks['cleaned_sent']\n",
    "y = drinks['drink']\n",
    "\n",
    "# best parameters\n",
    "cleaned_tvec_dt_params = {\n",
    "    'tvec__ngram_range': [(1, 2)],\n",
    "    'tvec__max_features': [300],\n",
    "    'tvec__min_df': [0.02],   \n",
    "    'tvec__max_df': [0.8],    \n",
    "    'dt__max_depth': [30],\n",
    "    'dt__min_samples_split': [20],\n",
    "    'dt__min_samples_leaf': [10],\n",
    "    'dt__ccp_alpha': [0],     # consistently found to be '0', so not in pipeline, to speed up computation time. also default value.\n",
    "}\n",
    "\n",
    "results_dt_cleaned, dt_cleaned_features = tvec_dt_pipeline(X_cleaned, y, params = cleaned_tvec_dt_params)\n"
   ]
  },
  {
   "cell_type": "markdown",
   "id": "86e125ab",
   "metadata": {},
   "source": [
    "Due to computation time and comparison between cleaned, lemmatized and porter-stemmed data, the same parameters were used for the different (with/without) lemmatized/stemmed data. *[However, from previous model tuning, optimised parameters are slightly different based on whether the data is cleaned, lemmatized or stemmed.]*\n",
    "<br>\n",
    " "
   ]
  },
  {
   "cell_type": "markdown",
   "id": "e18ffc54",
   "metadata": {},
   "source": [
    "#### Lemmatized data"
   ]
  },
  {
   "cell_type": "code",
   "execution_count": 26,
   "id": "68c3b43a",
   "metadata": {
    "scrolled": false
   },
   "outputs": [
    {
     "name": "stdout",
     "output_type": "stream",
     "text": [
      "Best params: {'dt__ccp_alpha': 0, 'dt__max_depth': 30, 'dt__min_samples_leaf': 10, 'dt__min_samples_split': 20, 'tvec__max_df': 0.8, 'tvec__max_features': 300, 'tvec__min_df': 0.02, 'tvec__ngram_range': (1, 2)}\n",
      "Training score: 0.8831\n",
      "Test score: 0.7852\n",
      "f1-score: 0.7914\n"
     ]
    },
    {
     "data": {
      "image/png": "[encoded data removed]",
      "text/plain": [
       "<Figure size 432x288 with 2 Axes>"
      ]
     },
     "metadata": {
      "needs_background": "light"
     },
     "output_type": "display_data"
    }
   ],
   "source": [
    "X_lemm = drinks['lemmatized_sent']\n",
    "y = drinks['drink']\n",
    "\n",
    "# best parameters\n",
    "lemm_tvec_dt_params = {\n",
    "    'tvec__ngram_range': [(1, 2)],\n",
    "    'tvec__max_features': [200],\n",
    "    'tvec__min_df': [0.03],   \n",
    "    'tvec__max_df': [0.8],    \n",
    "    'dt__max_depth': [30],\n",
    "    'dt__min_samples_split': [15],\n",
    "    'dt__min_samples_leaf': [15],\n",
    "    'dt__ccp_alpha': [0],     # consistently found to be '0', so not in pipeline, to speed up computation time. also default value.\n",
    "}\n",
    "\n",
    "results_dt_lemm, dt_lemm_features = tvec_dt_pipeline(X_lemm, y, params = cleaned_tvec_dt_params)\n"
   ]
  },
  {
   "cell_type": "markdown",
   "id": "dadd60ef",
   "metadata": {},
   "source": [
    "#### Porter stemmed data"
   ]
  },
  {
   "cell_type": "code",
   "execution_count": 27,
   "id": "2cac0f2e",
   "metadata": {},
   "outputs": [
    {
     "name": "stdout",
     "output_type": "stream",
     "text": [
      "Best params: {'dt__ccp_alpha': 0, 'dt__max_depth': 30, 'dt__min_samples_leaf': 10, 'dt__min_samples_split': 20, 'tvec__max_df': 0.8, 'tvec__max_features': 300, 'tvec__min_df': 0.02, 'tvec__ngram_range': (1, 2)}\n",
      "Training score: 0.8715\n",
      "Test score: 0.7878\n",
      "f1-score: 0.7886\n"
     ]
    },
    {
     "data": {
      "image/png": "[encoded data removed]",
      "text/plain": [
       "<Figure size 432x288 with 2 Axes>"
      ]
     },
     "metadata": {
      "needs_background": "light"
     },
     "output_type": "display_data"
    }
   ],
   "source": [
    "X_stemmed = drinks['pstemmed_sent']\n",
    "y = drinks['drink']\n",
    "\n",
    "# best parameters\n",
    "lemm_tvec_dt_params = {\n",
    "    'tvec__ngram_range': [(1, 1)],\n",
    "    'tvec__max_features': [200],\n",
    "    'tvec__min_df': [0.03],   \n",
    "    'tvec__max_df': [0.8],    \n",
    "    'dt__max_depth': [20],\n",
    "    'dt__min_samples_split': [10],\n",
    "    'dt__min_samples_leaf': [15],\n",
    "    'dt__ccp_alpha': [0],     # consistently found to be '0', so not in pipeline, to speed up computation time. also default value.\n",
    "}\n",
    "\n",
    "results_dt_stem, dt_lemm_features = tvec_dt_pipeline(X_stemmed, y, params = cleaned_tvec_dt_params)\n"
   ]
  },
  {
   "cell_type": "markdown",
   "id": "25d456b6",
   "metadata": {},
   "source": [
    "#### Results analysis"
   ]
  },
  {
   "cell_type": "markdown",
   "id": "533e3990",
   "metadata": {},
   "source": [
    "| Data       |  Train score |  Test score/ Accuracy  | f1-score  |\n",
    "|------------|--------------|---------------|-----------|\n",
    "| Cleaned   |  0.858 | 0.777  | 0.771 | \n",
    "| Lemmatized  | 0.883  | 0.785  | 0.791  |  \n",
    "| Porter-stemmed  | 0.872  | 0.788  | 0.789  | "
   ]
  },
  {
   "cell_type": "markdown",
   "id": "3809d7fa",
   "metadata": {},
   "source": [
    "Decision trees tend to overfit. This was obvious from the start when train score=1.0. Decision trees also tend to have outcomes that are biased toward the majority class. While coffee is 52% of the dataset, there is a possibility that decision tree classifier will tend to a positive ('coffee') outcome. \n",
    "<br>\n",
    "<br> An important parameter for tuning is **'max_depth'**. This indicates how deep the tree is allowed. The deeper the tree, the more splits it has. A deeper tree will allow the capture of more information about the data. However, if it is too deep, or default=None, the nodes are left to expand until all leaves are pure, and this encourages over-fitting. \n",
    "<br> \n",
    "<br>Another important parameter is **'min_samples_split'**. When this parameter is increased, the tree becomes more constrained as it has to consider more samples at each node, ie., further splits/children at each node. Another important parameter is **'min_samples_leaf'**. This is the minimum number of samples required to be at a leaf node, the base of the tree. These parameters had to be tuned as this model tend to overfit **very** easily. To the best of my knowledge, selected parameters for GridSearchCV was provided to minimise overfitting. **Further changes to the above discussed parameters, will lead to a widening gap between training and test scores**. \n",
    "<br>\n",
    "<br> The relatively lower scores compared to Naive Bayes is due to the parameters tuned in the decision tree classifier, to minimise overfitting. From the table above, models using lemmatized or stemmed words have slightly higher accuracy. The f1-score which takes into account false positives and false negatives, is slightly higher (compared to the normal cleaned data). On closer look, cleaned data has lower false positives, (ie., this is when the model incorrectly classified words as 'coffee'), but higher false negatives. [Note that positive class is coffee].\n",
    "<br>\n",
    "<br> Lemmatizing and stemming generate the root/foundation of words, which allow the model to performed better or faster. However, in this model, lemmatized and stemmed words reported more false positives (Type 1 error). So again, over-lemmatizing or over-stemming seemed to increase false positives (ie.,incorrectly classifying a word to be 'coffee').\n"
   ]
  },
  {
   "cell_type": "code",
   "execution_count": 28,
   "id": "813c0e60",
   "metadata": {},
   "outputs": [],
   "source": [
    "# Find all rows with text where predicted and true results are different\n",
    "def make_diff_df(results,col_name):\n",
    "    '''Take results from model with column names and create dataframes for analysis later'''\n",
    "    results_df = pd.DataFrame(results,columns=col_name)\n",
    "    return results_df[(results_df[col_name[1]] != results_df[col_name[2]])]\n",
    " "
   ]
  },
  {
   "cell_type": "code",
   "execution_count": 29,
   "id": "d2cd671f",
   "metadata": {},
   "outputs": [],
   "source": [
    "# results for model using cleaned data (without lemmatizing and stemming)\n",
    "dt_cleaned = make_diff_df(results_dt_cleaned, ['text','actual','predicted'])"
   ]
  },
  {
   "cell_type": "code",
   "execution_count": 30,
   "id": "b519c4a5",
   "metadata": {},
   "outputs": [],
   "source": [
    "# results for lemmatized data\n",
    "dt_lemm = make_diff_df(results_dt_lemm, ['text','actual','predicted'])\n",
    "\n",
    "# results for stemmed data\n",
    "dt_stem = make_diff_df(results_dt_stem, ['text','actual','predicted'])"
   ]
  },
  {
   "cell_type": "markdown",
   "id": "3c649e72",
   "metadata": {},
   "source": [
    "**False positives**"
   ]
  },
  {
   "cell_type": "markdown",
   "id": "882860fa",
   "metadata": {},
   "source": [
    "The model using cleaned data has lower false positives. So this is when the model incorrectly predicted [1]/coffee, when the actual value was [0]\\tea."
   ]
  },
  {
   "cell_type": "code",
   "execution_count": 31,
   "id": "008d6f22",
   "metadata": {},
   "outputs": [
    {
     "data": {
      "text/html": [
       "<div>\n",
       "<style scoped>\n",
       "    .dataframe tbody tr th:only-of-type {\n",
       "        vertical-align: middle;\n",
       "    }\n",
       "\n",
       "    .dataframe tbody tr th {\n",
       "        vertical-align: top;\n",
       "    }\n",
       "\n",
       "    .dataframe thead th {\n",
       "        text-align: right;\n",
       "    }\n",
       "</style>\n",
       "<table border=\"1\" class=\"dataframe\">\n",
       "  <thead>\n",
       "    <tr style=\"text-align: right;\">\n",
       "      <th></th>\n",
       "      <th>text</th>\n",
       "      <th>actual</th>\n",
       "      <th>predicted</th>\n",
       "    </tr>\n",
       "  </thead>\n",
       "  <tbody>\n",
       "    <tr>\n",
       "      <th>5</th>\n",
       "      <td>hi looking electric kettle exact temperature control checked amazon lot stuff seems garbage willing spend money cause want last anyone good recommendations paid amazon lmao electric kettle</td>\n",
       "      <td>0</td>\n",
       "      <td>1</td>\n",
       "    </tr>\n",
       "    <tr>\n",
       "      <th>6</th>\n",
       "      <td>anyone experience drinking old talking year old sat mylar bag starting turn yellow pink legit puer cakes long jing forgot recently found considered tossing looked really sad brewed cup anyway holy cow cha qi flavor fresh drinkable tad astringent level caffeine charts comparable matcha want know sealed actually expire b cha qi evolution normal drinking expired</td>\n",
       "      <td>0</td>\n",
       "      <td>1</td>\n",
       "    </tr>\n",
       "    <tr>\n",
       "      <th>77</th>\n",
       "      <td>guys enjoy always enjoy something little sweet like snack drinking</td>\n",
       "      <td>0</td>\n",
       "      <td>1</td>\n",
       "    </tr>\n",
       "    <tr>\n",
       "      <th>86</th>\n",
       "      <td>create laminar flow kettle watched videos seems like would need sand around spout make sure smooth possible laminar flow</td>\n",
       "      <td>0</td>\n",
       "      <td>1</td>\n",
       "    </tr>\n",
       "    <tr>\n",
       "      <th>95</th>\n",
       "      <td>hello people looking advice experience knowledge many courses popped offering training amp tasting enjoying culture decade would like improve nose palate identifying watched numerous certification programs cropped since early example refer programs offer knowledge tasting identification programs seek teach ceremony art skeptic sees way cash growing popularity charging lot money provide baseline knowledge hand know people work industry receive training tasting could valuable someone know take...</td>\n",
       "      <td>0</td>\n",
       "      <td>1</td>\n",
       "    </tr>\n",
       "    <tr>\n",
       "      <th>96</th>\n",
       "      <td>got free oz bag david got vanilla bean black smell like strong licorice im pregnant instantly gave nausea taste like licorice vanilla black smell almost made impossibe drink cause strong nothing vanilla im disappointed new disappointment</td>\n",
       "      <td>0</td>\n",
       "      <td>1</td>\n",
       "    </tr>\n",
       "    <tr>\n",
       "      <th>114</th>\n",
       "      <td>always drinker morning since purchased l stanley thinking kind could put want something caffeinated drinking day little bit ok normally drink remember name sleepy whenever troubles sleeping anyway sampling bitter nice case wondering want fill thermos use golf type recommend</td>\n",
       "      <td>0</td>\n",
       "      <td>1</td>\n",
       "    </tr>\n",
       "    <tr>\n",
       "      <th>132</th>\n",
       "      <td>friend wants one birthday know difference normal whistling kettle soft whistling one figured guys would know anybody could point right direction appreciate itwhere buy soft whistling kettle</td>\n",
       "      <td>0</td>\n",
       "      <td>1</td>\n",
       "    </tr>\n",
       "    <tr>\n",
       "      <th>192</th>\n",
       "      <td>hi one things loved summer making thai styles milk boba main issue want usually want demand method usually something like steep two bags manufacturer recommended amount oz oz water dilute oz cold water ice milk sweetener find method always weaker would get restaurant shop problem steeping two bags cup water equivalent double strength usually comes fine steep two bags oz water chill issue always plan ahead want drink adding milk sweetener end cups liquid meaning still end weak anyone method c...</td>\n",
       "      <td>0</td>\n",
       "      <td>1</td>\n",
       "    </tr>\n",
       "    <tr>\n",
       "      <th>193</th>\n",
       "      <td>best way brew sencha gyokuro one toasted rice called brew two quick question</td>\n",
       "      <td>0</td>\n",
       "      <td>1</td>\n",
       "    </tr>\n",
       "    <tr>\n",
       "      <th>200</th>\n",
       "      <td>felt lacking japanese spectrum usually drink raw ripe puerh favor nice little pack nio far tasted two issin en kuki hojucha blew away flavour past low grade houjicha tasted roasted bitter nothing one toasty strong chocolate mineral taste bitterness ever smell reminded camping nights seashore mild smooth yet flavor bomb sweet taste expect stem high hopes ones gyokuro karigane experience gyokuro far tasted fukamushi sencha one flavor bomb smell kyusu strong steamed asparagus butter roasted spi...</td>\n",
       "      <td>0</td>\n",
       "      <td>1</td>\n",
       "    </tr>\n",
       "    <tr>\n",
       "      <th>209</th>\n",
       "      <td>enjoying current love peach black little milk sugar enjoying new noritake temptation cup love cup design beautiful amp x b morning new cup</td>\n",
       "      <td>0</td>\n",
       "      <td>1</td>\n",
       "    </tr>\n",
       "    <tr>\n",
       "      <th>214</th>\n",
       "      <td>drinking moringa also lemon grass one ingredient also phytolacca american berries googled seems actually poisonous concerned drinking poisonous</td>\n",
       "      <td>0</td>\n",
       "      <td>1</td>\n",
       "    </tr>\n",
       "    <tr>\n",
       "      <th>217</th>\n",
       "      <td>seems rust easily durable also expensiveare cast iron teapots worth</td>\n",
       "      <td>0</td>\n",
       "      <td>1</td>\n",
       "    </tr>\n",
       "    <tr>\n",
       "      <th>220</th>\n",
       "      <td>trying start small business brewing bottling homemade iced however times tried make home always last maybe two weeks max understand need use preservative like citric acid ascorbic acid however sure exact ph need get iced make sure preserves long period time sell commerciallyhow make iced last months year</td>\n",
       "      <td>0</td>\n",
       "      <td>1</td>\n",
       "    </tr>\n",
       "    <tr>\n",
       "      <th>234</th>\n",
       "      <td>making cold brew hibiscus girlfriend wonder correctly steep bags packs steep bigelow rainfall pot holds cups mins pour larger jar holds cups fill rest water bit sugar let chill fridge drink within days another way recommend days long cold brew hibiscus technique</td>\n",
       "      <td>0</td>\n",
       "      <td>1</td>\n",
       "    </tr>\n",
       "    <tr>\n",
       "      <th>241</th>\n",
       "      <td>hello last posted newbie drinking honestly lot dislike past weeks started chamomile honey help sleep first meh grew like taste much thought little experimental tried orange iced orange strawberries honey pretty sure made orange kook aid makes happy thank good community hope try recommendations drink</td>\n",
       "      <td>0</td>\n",
       "      <td>1</td>\n",
       "    </tr>\n",
       "    <tr>\n",
       "      <th>252</th>\n",
       "      <td>yixing pots far would extend type ex yixing pot would oolongs work limit like one gonna use milky oolongs exclusively milky oolongs groupings yixing pots</td>\n",
       "      <td>0</td>\n",
       "      <td>1</td>\n",
       "    </tr>\n",
       "    <tr>\n",
       "      <th>256</th>\n",
       "      <td>seems general consensus style clays best wanted put feelers see think anything pot seems like complement shou mei gong mei aged whites would yixing pot pair well aged whites</td>\n",
       "      <td>0</td>\n",
       "      <td>1</td>\n",
       "    </tr>\n",
       "    <tr>\n",
       "      <th>261</th>\n",
       "      <td>always intimidated different varieties styles kind thing used variables simple grind size brew time amount water guys dealing different temps different plants therefore different compounds different rates solubility makes want go brew cup mud perfectly honest today made tetley orange pekoe iced latte thing loved want stretch legs world start made accessible overthinking consider cocktails fine science requires precision seems forgiving rather something truly screw anyone else find intimidating</td>\n",
       "      <td>0</td>\n",
       "      <td>1</td>\n",
       "    </tr>\n",
       "    <tr>\n",
       "      <th>280</th>\n",
       "      <td>latest batch gunpowder much bitterness drink clarify cold brew near ice water redeeming stuff however like slightly ash notes fried greens general long jing dragonwell coming china hopefully arrive point lifetime low bitterness chinese greens relatively accessible look chinese greens minimal bitterness</td>\n",
       "      <td>0</td>\n",
       "      <td>1</td>\n",
       "    </tr>\n",
       "    <tr>\n",
       "      <th>282</th>\n",
       "      <td>picked one pretty darn good price anyone else tried yet naka</td>\n",
       "      <td>0</td>\n",
       "      <td>1</td>\n",
       "    </tr>\n",
       "    <tr>\n",
       "      <th>285</th>\n",
       "      <td>usually drink large meals today light meal drank usual peppermint got huge headache could feel behind eyes like migraine nausea trying ignore ended yakking throwing happened anyone information find online peppermint good upset stomach think caused upset stomach sick drinking</td>\n",
       "      <td>0</td>\n",
       "      <td>1</td>\n",
       "    </tr>\n",
       "    <tr>\n",
       "      <th>295</th>\n",
       "      <td>looking new one show favorite cup breakfast</td>\n",
       "      <td>0</td>\n",
       "      <td>1</td>\n",
       "    </tr>\n",
       "    <tr>\n",
       "      <th>306</th>\n",
       "      <td>henlo beginner like ask recommendations flavors brands actually posted new difft name changed account hahaha gotten really orange tastes like kool aid still hard time drinking earthy taste possible recommendations fruity sweet taste thank much fruit</td>\n",
       "      <td>0</td>\n",
       "      <td>1</td>\n",
       "    </tr>\n",
       "    <tr>\n",
       "      <th>324</th>\n",
       "      <td>daily ritual work includes multiple resteeps takes couple hours get time realized actually performing normal level done drinking aka caffeine tolerance satisfied tricky sometimes steep hot cup takes cool drinkable temperature fortunately work much problem kind bums best work couple hours morning worries eventually might luxury mind getting work would get super early guys need caffeine function camp satisfying daily caffeine tolerance</td>\n",
       "      <td>0</td>\n",
       "      <td>1</td>\n",
       "    </tr>\n",
       "    <tr>\n",
       "      <th>325</th>\n",
       "      <td>recently huge fan iced lattes trying one local shop near girlfriends house decided try make one home today ive also tried starbucks version ok compare local place one thing really liked local place compared starbucks version tasted spicer amp could actually see stuff like clumps spices something drink trying make home kind let strong missing spicy aspect used bags amp put together ground cinnamon allspice amp ginger cheese cloth amp let bag amp spice mixture sit hot water minutes took bag am...</td>\n",
       "      <td>0</td>\n",
       "      <td>1</td>\n",
       "    </tr>\n",
       "    <tr>\n",
       "      <th>326</th>\n",
       "      <td>hello r lately quit soda entirely still sugary drink cravings think go away months since quit unless find something hit spot might start drinking sodas vulnerable like drinking something bad moderation even drink crave upcoming days even hours remember really liked arizona iced taste sugary compared lipton country loaded sugars sweeteners drink without making mix half half water lipton iced also try consume little refined sugars thinking making iced sweetened honey far thinking linden open r...</td>\n",
       "      <td>0</td>\n",
       "      <td>1</td>\n",
       "    </tr>\n",
       "    <tr>\n",
       "      <th>336</th>\n",
       "      <td>hear war horns led sean bean already everyone says strong yorkshire personally think crap makes water dark flavour maybe water idk tried house friends times disappointed cuppa somehow friend managed make damn good brew seem match alchemical skills matter long seem leave bag spa day still tastes like one dipped give cup pg tetley dirty water yorkshire good</td>\n",
       "      <td>0</td>\n",
       "      <td>1</td>\n",
       "    </tr>\n",
       "    <tr>\n",
       "      <th>349</th>\n",
       "      <td>willing pay usd handmade art wondering commission one clay artists make koi pet inches long</td>\n",
       "      <td>0</td>\n",
       "      <td>1</td>\n",
       "    </tr>\n",
       "    <tr>\n",
       "      <th>393</th>\n",
       "      <td>holes reason look like work well might rigid throwing idk anyone tried</td>\n",
       "      <td>0</td>\n",
       "      <td>1</td>\n",
       "    </tr>\n",
       "    <tr>\n",
       "      <th>395</th>\n",
       "      <td>hey bags years expired know lol searched sub already seen people saying expired fine drink context year two past expiration wondering far beyond expired safe drinking since bagged loose also bit hard visually judge degradation certain mold pretty uncertain whether okay drink advice much appreciated thanks far expired</td>\n",
       "      <td>0</td>\n",
       "      <td>1</td>\n",
       "    </tr>\n",
       "    <tr>\n",
       "      <th>414</th>\n",
       "      <td>looking turkish teapot wife christmas cannot life find simple yellow one favorite color mind paying high shipping buy foreign find yellow turkish teapot</td>\n",
       "      <td>0</td>\n",
       "      <td>1</td>\n",
       "    </tr>\n",
       "    <tr>\n",
       "      <th>428</th>\n",
       "      <td>like watching drinking videos youtube attractive would love drink scott wilson owner yunnan taiwan sourcing guys think anyone else think scott wilson attractive</td>\n",
       "      <td>0</td>\n",
       "      <td>1</td>\n",
       "    </tr>\n",
       "    <tr>\n",
       "      <th>436</th>\n",
       "      <td>suffer paranoia anxiety take medication drink chamomile help anxiety make worse due medications already brain receptors heard differing stories people feeling quite anxious drinking chamomile sorry seems like weird question would like insight people know lot many thankschamomile anxiety</td>\n",
       "      <td>0</td>\n",
       "      <td>1</td>\n",
       "    </tr>\n",
       "    <tr>\n",
       "      <th>460</th>\n",
       "      <td>like start drinking know best quality variety specialty shops though want stock good brands widely available american supermarkets best widely available</td>\n",
       "      <td>0</td>\n",
       "      <td>1</td>\n",
       "    </tr>\n",
       "    <tr>\n",
       "      <th>470</th>\n",
       "      <td>question newbie use two sachets make two cups time also cut open sachets pour kettle built infuser add two sachets make two cups</td>\n",
       "      <td>0</td>\n",
       "      <td>1</td>\n",
       "    </tr>\n",
       "    <tr>\n",
       "      <th>493</th>\n",
       "      <td>good peach could buy grocery store best far stash one still wanting far taste goes always great aroma flavor lost best affordable peach</td>\n",
       "      <td>0</td>\n",
       "      <td>1</td>\n",
       "    </tr>\n",
       "    <tr>\n",
       "      <th>495</th>\n",
       "      <td>recently got one tealight candle teapot warmer setups perfect glass teapot thing though good like never smooth figure main guess candle basically stirring convection currents like damn make big difference mind working every kind trying turning better ever good</td>\n",
       "      <td>0</td>\n",
       "      <td>1</td>\n",
       "    </tr>\n",
       "    <tr>\n",
       "      <th>516</th>\n",
       "      <td>may able tell person heart however also poor university student decaffeinated roughly twice price regular reason taken drinking decaf night instead struggled find flavours painfully sweet suggestions flavours brands would much appreciated hunt decaf bitter tasting suggestions</td>\n",
       "      <td>0</td>\n",
       "      <td>1</td>\n",
       "    </tr>\n",
       "    <tr>\n",
       "      <th>525</th>\n",
       "      <td>anyone illinois know good places authentic chinese japanese im looking good shop restaurant etc looking bubble seems like thats popular thing comes look asian illinois</td>\n",
       "      <td>0</td>\n",
       "      <td>1</td>\n",
       "    </tr>\n",
       "    <tr>\n",
       "      <th>542</th>\n",
       "      <td>went many forums find answer somewhere say ml black day unhealthy elsewhere claim ml day fine understand heavily depends brand much caffeine contains since side effects due caffeine overdose weight kg usually drink ml day occasionally liters used drink energy drinks due job switched black years ago since drinking mostly black since built caffeine tolerance drinking mostly taste much much long term case question black</td>\n",
       "      <td>0</td>\n",
       "      <td>1</td>\n",
       "    </tr>\n",
       "    <tr>\n",
       "      <th>544</th>\n",
       "      <td>looking reputable subscription company prefer greens herbals tried free paid total months subscriptions received sampler boxes one bag one month fight get rest money refunded forgot send ran know david launched subscription box mixed reviews researching online issues free hesitant sign subscriptions</td>\n",
       "      <td>0</td>\n",
       "      <td>1</td>\n",
       "    </tr>\n",
       "    <tr>\n",
       "      <th>552</th>\n",
       "      <td>drinking rishi english breakfast year brewing stainless steel ball recently switched using single use bags completely changed flavor normal causing switched ball bags completely changed flavor</td>\n",
       "      <td>0</td>\n",
       "      <td>1</td>\n",
       "    </tr>\n",
       "    <tr>\n",
       "      <th>557</th>\n",
       "      <td>love iced noticed days companies like lipton selling cold brew bags iced box says let brew cold room temp water whats difference hot seems like product different marketing based preferred way consume right actual difference whats difference cold brew regular hot temperature</td>\n",
       "      <td>0</td>\n",
       "      <td>1</td>\n",
       "    </tr>\n",
       "    <tr>\n",
       "      <th>573</th>\n",
       "      <td>hour ago made cup peppermint instructions say steep minutes pretty strong drank almost entire cup within minutes feeling dizzy almost drunk super uncomfortable like motion sickness oversteep get rid yucky feeling drank sleep better feeling anxious help feeling dizzy drinking</td>\n",
       "      <td>0</td>\n",
       "      <td>1</td>\n",
       "    </tr>\n",
       "    <tr>\n",
       "      <th>603</th>\n",
       "      <td>greetings drinkers know possible looking stress relieving muscle relaxing make sleepy lot muscle strain general stress trying relax want get extra sleepy work problem tend anything relaxing relaxing haha thanks relaxes make sleepy</td>\n",
       "      <td>0</td>\n",
       "      <td>1</td>\n",
       "    </tr>\n",
       "    <tr>\n",
       "      <th>622</th>\n",
       "      <td>live lake michigan water hard know filters like brita berkeley remove calcium carbonates want preserve sure region anything thought mention quick questions use brita long last like secondly recommendations spring water brands</td>\n",
       "      <td>0</td>\n",
       "      <td>1</td>\n",
       "    </tr>\n",
       "    <tr>\n",
       "      <th>630</th>\n",
       "      <td>ive trying host traditional party eastern western styles years one area drinks hate town uncultured im kidding kinda crushing dreams im even making victorian gown im historical dresser thing even bake everything scratch nope live party town nobody likes afternoon parties</td>\n",
       "      <td>0</td>\n",
       "      <td>1</td>\n",
       "    </tr>\n",
       "    <tr>\n",
       "      <th>677</th>\n",
       "      <td>another little review blog ordered ys recommended reached suggestions amazing really like drinking gong fu simply love round robustness get western think generally feel black anyway let know black feel gong fu true justice flavor hot cold great personality hot first get nice light black flavor flash cocoa like good dark chocolate fades nice mellow sweetness cold first get nice robust mix tannins followed light sweetness like hot notes raw cocoa swallow notes cocoa take give full mouth flavor...</td>\n",
       "      <td>0</td>\n",
       "      <td>1</td>\n",
       "    </tr>\n",
       "    <tr>\n",
       "      <th>678</th>\n",
       "      <td>moved flat electric kettle really poor decided buy one replace want invest money well looking kettle recommendation recommend models requirements electric temperature control well made long lasting least l capacity brew gong fu style l thermo easy pour without spilling water price limit would like get something good value greatly overspending brand features use optional minimallistic designelectric kettle temperature control least l capacity</td>\n",
       "      <td>0</td>\n",
       "      <td>1</td>\n",
       "    </tr>\n",
       "    <tr>\n",
       "      <th>694</th>\n",
       "      <td>loved long remember looking teapot work candle give best taste time advice appreciated best teapot</td>\n",
       "      <td>0</td>\n",
       "      <td>1</td>\n",
       "    </tr>\n",
       "    <tr>\n",
       "      <th>695</th>\n",
       "      <td>hey thinking cancel subscription reading content started reading last months issue gaiwans got back bit thoughts gth heard describe cultish inaccurate product nicely presented familiar content well enough understand whole opinion global hut</td>\n",
       "      <td>0</td>\n",
       "      <td>1</td>\n",
       "    </tr>\n",
       "    <tr>\n",
       "      <th>711</th>\n",
       "      <td>hey lovers summer got drinking lot tried many different brands kinds figured black milk favourite thing started drink black throughout day l wondering healthy certain dosage follow thank much much</td>\n",
       "      <td>0</td>\n",
       "      <td>1</td>\n",
       "    </tr>\n",
       "    <tr>\n",
       "      <th>717</th>\n",
       "      <td>ever ahmad tried first time ceylon actually first time trying single ceylon good nice add variety daily black selection want try eb one call number ahmad</td>\n",
       "      <td>0</td>\n",
       "      <td>1</td>\n",
       "    </tr>\n",
       "    <tr>\n",
       "      <th>731</th>\n",
       "      <td>hi fellow nerds ordered manutea good seems like nice middle upper range vendor someone nd world salary hah kinda hesitant thanks help advance anyone experience eastern european webshop manutea</td>\n",
       "      <td>0</td>\n",
       "      <td>1</td>\n",
       "    </tr>\n",
       "    <tr>\n",
       "      <th>735</th>\n",
       "      <td>drink one cup daily get really bad headaches miss cup last night bad actually resulted migraine spent half night praying porcelain god nausea considering bad gotten looking transition toward generally stayed away taste watered suggestions stronger heavier would probably preferred thanks looking suggestions transition</td>\n",
       "      <td>0</td>\n",
       "      <td>1</td>\n",
       "    </tr>\n",
       "    <tr>\n",
       "      <th>737</th>\n",
       "      <td>recently moved rotterdam moscow used drink ahmad buy find local grocery stores seems best option lipton places buy black good quality good places buy rotterdam</td>\n",
       "      <td>0</td>\n",
       "      <td>1</td>\n",
       "    </tr>\n",
       "    <tr>\n",
       "      <th>747</th>\n",
       "      <td>something enjoy dreading cleaning electric kettle kind pain least favorite part drinking</td>\n",
       "      <td>0</td>\n",
       "      <td>1</td>\n",
       "    </tr>\n",
       "  </tbody>\n",
       "</table>\n",
       "</div>"
      ],
      "text/plain": [
       "                                                                                                                                                                                                                                                                                                                                                                                                                                                                                                                    text  \\\n",
       "5                                                                                                                                                                                                                                                                                                                           hi looking electric kettle exact temperature control checked amazon lot stuff seems garbage willing spend money cause want last anyone good recommendations paid amazon lmao electric kettle   \n",
       "6                                                                                                                                              anyone experience drinking old talking year old sat mylar bag starting turn yellow pink legit puer cakes long jing forgot recently found considered tossing looked really sad brewed cup anyway holy cow cha qi flavor fresh drinkable tad astringent level caffeine charts comparable matcha want know sealed actually expire b cha qi evolution normal drinking expired   \n",
       "77                                                                                                                                                                                                                                                                                                                                                                                                                                                    guys enjoy always enjoy something little sweet like snack drinking   \n",
       "86                                                                                                                                                                                                                                                                                                                                                                                              create laminar flow kettle watched videos seems like would need sand around spout make sure smooth possible laminar flow   \n",
       "95   hello people looking advice experience knowledge many courses popped offering training amp tasting enjoying culture decade would like improve nose palate identifying watched numerous certification programs cropped since early example refer programs offer knowledge tasting identification programs seek teach ceremony art skeptic sees way cash growing popularity charging lot money provide baseline knowledge hand know people work industry receive training tasting could valuable someone know take...   \n",
       "96                                                                                                                                                                                                                                                                         got free oz bag david got vanilla bean black smell like strong licorice im pregnant instantly gave nausea taste like licorice vanilla black smell almost made impossibe drink cause strong nothing vanilla im disappointed new disappointment   \n",
       "114                                                                                                                                                                                                                                   always drinker morning since purchased l stanley thinking kind could put want something caffeinated drinking day little bit ok normally drink remember name sleepy whenever troubles sleeping anyway sampling bitter nice case wondering want fill thermos use golf type recommend   \n",
       "132                                                                                                                                                                                                                                                                                                                        friend wants one birthday know difference normal whistling kettle soft whistling one figured guys would know anybody could point right direction appreciate itwhere buy soft whistling kettle   \n",
       "192  hi one things loved summer making thai styles milk boba main issue want usually want demand method usually something like steep two bags manufacturer recommended amount oz oz water dilute oz cold water ice milk sweetener find method always weaker would get restaurant shop problem steeping two bags cup water equivalent double strength usually comes fine steep two bags oz water chill issue always plan ahead want drink adding milk sweetener end cups liquid meaning still end weak anyone method c...   \n",
       "193                                                                                                                                                                                                                                                                                                                                                                                                                                         best way brew sencha gyokuro one toasted rice called brew two quick question   \n",
       "200  felt lacking japanese spectrum usually drink raw ripe puerh favor nice little pack nio far tasted two issin en kuki hojucha blew away flavour past low grade houjicha tasted roasted bitter nothing one toasty strong chocolate mineral taste bitterness ever smell reminded camping nights seashore mild smooth yet flavor bomb sweet taste expect stem high hopes ones gyokuro karigane experience gyokuro far tasted fukamushi sencha one flavor bomb smell kyusu strong steamed asparagus butter roasted spi...   \n",
       "209                                                                                                                                                                                                                                                                                                                                                                           enjoying current love peach black little milk sugar enjoying new noritake temptation cup love cup design beautiful amp x b morning new cup   \n",
       "214                                                                                                                                                                                                                                                                                                                                                                      drinking moringa also lemon grass one ingredient also phytolacca american berries googled seems actually poisonous concerned drinking poisonous   \n",
       "217                                                                                                                                                                                                                                                                                                                                                                                                                                                  seems rust easily durable also expensiveare cast iron teapots worth   \n",
       "220                                                                                                                                                                                                    trying start small business brewing bottling homemade iced however times tried make home always last maybe two weeks max understand need use preservative like citric acid ascorbic acid however sure exact ph need get iced make sure preserves long period time sell commerciallyhow make iced last months year   \n",
       "234                                                                                                                                                                                                                                               making cold brew hibiscus girlfriend wonder correctly steep bags packs steep bigelow rainfall pot holds cups mins pour larger jar holds cups fill rest water bit sugar let chill fridge drink within days another way recommend days long cold brew hibiscus technique   \n",
       "241                                                                                                                                                                                                         hello last posted newbie drinking honestly lot dislike past weeks started chamomile honey help sleep first meh grew like taste much thought little experimental tried orange iced orange strawberries honey pretty sure made orange kook aid makes happy thank good community hope try recommendations drink   \n",
       "252                                                                                                                                                                                                                                                                                                                                                            yixing pots far would extend type ex yixing pot would oolongs work limit like one gonna use milky oolongs exclusively milky oolongs groupings yixing pots   \n",
       "256                                                                                                                                                                                                                                                                                                                                        seems general consensus style clays best wanted put feelers see think anything pot seems like complement shou mei gong mei aged whites would yixing pot pair well aged whites   \n",
       "261   always intimidated different varieties styles kind thing used variables simple grind size brew time amount water guys dealing different temps different plants therefore different compounds different rates solubility makes want go brew cup mud perfectly honest today made tetley orange pekoe iced latte thing loved want stretch legs world start made accessible overthinking consider cocktails fine science requires precision seems forgiving rather something truly screw anyone else find intimidating   \n",
       "280                                                                                                                                                                                                      latest batch gunpowder much bitterness drink clarify cold brew near ice water redeeming stuff however like slightly ash notes fried greens general long jing dragonwell coming china hopefully arrive point lifetime low bitterness chinese greens relatively accessible look chinese greens minimal bitterness   \n",
       "282                                                                                                                                                                                                                                                                                                                                                                                                                                                         picked one pretty darn good price anyone else tried yet naka   \n",
       "285                                                                                                                                                                                                                                  usually drink large meals today light meal drank usual peppermint got huge headache could feel behind eyes like migraine nausea trying ignore ended yakking throwing happened anyone information find online peppermint good upset stomach think caused upset stomach sick drinking   \n",
       "295                                                                                                                                                                                                                                                                                                                                                                                                                                                                          looking new one show favorite cup breakfast   \n",
       "306                                                                                                                                                                                                                                                            henlo beginner like ask recommendations flavors brands actually posted new difft name changed account hahaha gotten really orange tastes like kool aid still hard time drinking earthy taste possible recommendations fruity sweet taste thank much fruit   \n",
       "324                                                                daily ritual work includes multiple resteeps takes couple hours get time realized actually performing normal level done drinking aka caffeine tolerance satisfied tricky sometimes steep hot cup takes cool drinkable temperature fortunately work much problem kind bums best work couple hours morning worries eventually might luxury mind getting work would get super early guys need caffeine function camp satisfying daily caffeine tolerance   \n",
       "325  recently huge fan iced lattes trying one local shop near girlfriends house decided try make one home today ive also tried starbucks version ok compare local place one thing really liked local place compared starbucks version tasted spicer amp could actually see stuff like clumps spices something drink trying make home kind let strong missing spicy aspect used bags amp put together ground cinnamon allspice amp ginger cheese cloth amp let bag amp spice mixture sit hot water minutes took bag am...   \n",
       "326  hello r lately quit soda entirely still sugary drink cravings think go away months since quit unless find something hit spot might start drinking sodas vulnerable like drinking something bad moderation even drink crave upcoming days even hours remember really liked arizona iced taste sugary compared lipton country loaded sugars sweeteners drink without making mix half half water lipton iced also try consume little refined sugars thinking making iced sweetened honey far thinking linden open r...   \n",
       "336                                                                                                                                                hear war horns led sean bean already everyone says strong yorkshire personally think crap makes water dark flavour maybe water idk tried house friends times disappointed cuppa somehow friend managed make damn good brew seem match alchemical skills matter long seem leave bag spa day still tastes like one dipped give cup pg tetley dirty water yorkshire good   \n",
       "349                                                                                                                                                                                                                                                                                                                                                                                                                          willing pay usd handmade art wondering commission one clay artists make koi pet inches long   \n",
       "393                                                                                                                                                                                                                                                                                                                                                                                                                                               holes reason look like work well might rigid throwing idk anyone tried   \n",
       "395                                                                                                                                                                                       hey bags years expired know lol searched sub already seen people saying expired fine drink context year two past expiration wondering far beyond expired safe drinking since bagged loose also bit hard visually judge degradation certain mold pretty uncertain whether okay drink advice much appreciated thanks far expired   \n",
       "414                                                                                                                                                                                                                                                                                                                                                             looking turkish teapot wife christmas cannot life find simple yellow one favorite color mind paying high shipping buy foreign find yellow turkish teapot   \n",
       "428                                                                                                                                                                                                                                                                                                                                                     like watching drinking videos youtube attractive would love drink scott wilson owner yunnan taiwan sourcing guys think anyone else think scott wilson attractive   \n",
       "436                                                                                                                                                                                                                      suffer paranoia anxiety take medication drink chamomile help anxiety make worse due medications already brain receptors heard differing stories people feeling quite anxious drinking chamomile sorry seems like weird question would like insight people know lot many thankschamomile anxiety   \n",
       "460                                                                                                                                                                                                                                                                                                                                                             like start drinking know best quality variety specialty shops though want stock good brands widely available american supermarkets best widely available   \n",
       "470                                                                                                                                                                                                                                                                                                                                                                                     question newbie use two sachets make two cups time also cut open sachets pour kettle built infuser add two sachets make two cups   \n",
       "493                                                                                                                                                                                                                                                                                                                                                                              good peach could buy grocery store best far stash one still wanting far taste goes always great aroma flavor lost best affordable peach   \n",
       "495                                                                                                                                                                                                                                                 recently got one tealight candle teapot warmer setups perfect glass teapot thing though good like never smooth figure main guess candle basically stirring convection currents like damn make big difference mind working every kind trying turning better ever good   \n",
       "516                                                                                                                                                                                                                                 may able tell person heart however also poor university student decaffeinated roughly twice price regular reason taken drinking decaf night instead struggled find flavours painfully sweet suggestions flavours brands would much appreciated hunt decaf bitter tasting suggestions   \n",
       "525                                                                                                                                                                                                                                                                                                                                              anyone illinois know good places authentic chinese japanese im looking good shop restaurant etc looking bubble seems like thats popular thing comes look asian illinois   \n",
       "542                                                                                 went many forums find answer somewhere say ml black day unhealthy elsewhere claim ml day fine understand heavily depends brand much caffeine contains since side effects due caffeine overdose weight kg usually drink ml day occasionally liters used drink energy drinks due job switched black years ago since drinking mostly black since built caffeine tolerance drinking mostly taste much much long term case question black   \n",
       "544                                                                                                                                                                                                         looking reputable subscription company prefer greens herbals tried free paid total months subscriptions received sampler boxes one bag one month fight get rest money refunded forgot send ran know david launched subscription box mixed reviews researching online issues free hesitant sign subscriptions   \n",
       "552                                                                                                                                                                                                                                                                                                                     drinking rishi english breakfast year brewing stainless steel ball recently switched using single use bags completely changed flavor normal causing switched ball bags completely changed flavor   \n",
       "557                                                                                                                                                                                                                                   love iced noticed days companies like lipton selling cold brew bags iced box says let brew cold room temp water whats difference hot seems like product different marketing based preferred way consume right actual difference whats difference cold brew regular hot temperature   \n",
       "573                                                                                                                                                                                                                                  hour ago made cup peppermint instructions say steep minutes pretty strong drank almost entire cup within minutes feeling dizzy almost drunk super uncomfortable like motion sickness oversteep get rid yucky feeling drank sleep better feeling anxious help feeling dizzy drinking   \n",
       "603                                                                                                                                                                                                                                                                               greetings drinkers know possible looking stress relieving muscle relaxing make sleepy lot muscle strain general stress trying relax want get extra sleepy work problem tend anything relaxing relaxing haha thanks relaxes make sleepy   \n",
       "622                                                                                                                                                                                                                                                                                    live lake michigan water hard know filters like brita berkeley remove calcium carbonates want preserve sure region anything thought mention quick questions use brita long last like secondly recommendations spring water brands   \n",
       "630                                                                                                                                                                                                                                      ive trying host traditional party eastern western styles years one area drinks hate town uncultured im kidding kinda crushing dreams im even making victorian gown im historical dresser thing even bake everything scratch nope live party town nobody likes afternoon parties   \n",
       "677  another little review blog ordered ys recommended reached suggestions amazing really like drinking gong fu simply love round robustness get western think generally feel black anyway let know black feel gong fu true justice flavor hot cold great personality hot first get nice light black flavor flash cocoa like good dark chocolate fades nice mellow sweetness cold first get nice robust mix tannins followed light sweetness like hot notes raw cocoa swallow notes cocoa take give full mouth flavor...   \n",
       "678                                                        moved flat electric kettle really poor decided buy one replace want invest money well looking kettle recommendation recommend models requirements electric temperature control well made long lasting least l capacity brew gong fu style l thermo easy pour without spilling water price limit would like get something good value greatly overspending brand features use optional minimallistic designelectric kettle temperature control least l capacity   \n",
       "694                                                                                                                                                                                                                                                                                                                                                                                                                   loved long remember looking teapot work candle give best taste time advice appreciated best teapot   \n",
       "695                                                                                                                                                                                                                                                                     hey thinking cancel subscription reading content started reading last months issue gaiwans got back bit thoughts gth heard describe cultish inaccurate product nicely presented familiar content well enough understand whole opinion global hut   \n",
       "711                                                                                                                                                                                                                                                                                                                 hey lovers summer got drinking lot tried many different brands kinds figured black milk favourite thing started drink black throughout day l wondering healthy certain dosage follow thank much much   \n",
       "717                                                                                                                                                                                                                                                                                                                                                            ever ahmad tried first time ceylon actually first time trying single ceylon good nice add variety daily black selection want try eb one call number ahmad   \n",
       "731                                                                                                                                                                                                                                                                                                                     hi fellow nerds ordered manutea good seems like nice middle upper range vendor someone nd world salary hah kinda hesitant thanks help advance anyone experience eastern european webshop manutea   \n",
       "735                                                                                                                                                                                       drink one cup daily get really bad headaches miss cup last night bad actually resulted migraine spent half night praying porcelain god nausea considering bad gotten looking transition toward generally stayed away taste watered suggestions stronger heavier would probably preferred thanks looking suggestions transition   \n",
       "737                                                                                                                                                                                                                                                                                                                                                      recently moved rotterdam moscow used drink ahmad buy find local grocery stores seems best option lipton places buy black good quality good places buy rotterdam   \n",
       "747                                                                                                                                                                                                                                                                                                                                                                                                                             something enjoy dreading cleaning electric kettle kind pain least favorite part drinking   \n",
       "\n",
       "     actual  predicted  \n",
       "5         0          1  \n",
       "6         0          1  \n",
       "77        0          1  \n",
       "86        0          1  \n",
       "95        0          1  \n",
       "96        0          1  \n",
       "114       0          1  \n",
       "132       0          1  \n",
       "192       0          1  \n",
       "193       0          1  \n",
       "200       0          1  \n",
       "209       0          1  \n",
       "214       0          1  \n",
       "217       0          1  \n",
       "220       0          1  \n",
       "234       0          1  \n",
       "241       0          1  \n",
       "252       0          1  \n",
       "256       0          1  \n",
       "261       0          1  \n",
       "280       0          1  \n",
       "282       0          1  \n",
       "285       0          1  \n",
       "295       0          1  \n",
       "306       0          1  \n",
       "324       0          1  \n",
       "325       0          1  \n",
       "326       0          1  \n",
       "336       0          1  \n",
       "349       0          1  \n",
       "393       0          1  \n",
       "395       0          1  \n",
       "414       0          1  \n",
       "428       0          1  \n",
       "436       0          1  \n",
       "460       0          1  \n",
       "470       0          1  \n",
       "493       0          1  \n",
       "495       0          1  \n",
       "516       0          1  \n",
       "525       0          1  \n",
       "542       0          1  \n",
       "544       0          1  \n",
       "552       0          1  \n",
       "557       0          1  \n",
       "573       0          1  \n",
       "603       0          1  \n",
       "622       0          1  \n",
       "630       0          1  \n",
       "677       0          1  \n",
       "678       0          1  \n",
       "694       0          1  \n",
       "695       0          1  \n",
       "711       0          1  \n",
       "717       0          1  \n",
       "731       0          1  \n",
       "735       0          1  \n",
       "737       0          1  \n",
       "747       0          1  "
      ]
     },
     "execution_count": 31,
     "metadata": {},
     "output_type": "execute_result"
    }
   ],
   "source": [
    "# Misclassification in data (without lemmatizing and stemming)\n",
    "dt_cleaned[dt_cleaned['actual']==0]"
   ]
  },
  {
   "cell_type": "code",
   "execution_count": 32,
   "id": "45df27d2",
   "metadata": {},
   "outputs": [
    {
     "data": {
      "text/html": [
       "<div>\n",
       "<style scoped>\n",
       "    .dataframe tbody tr th:only-of-type {\n",
       "        vertical-align: middle;\n",
       "    }\n",
       "\n",
       "    .dataframe tbody tr th {\n",
       "        vertical-align: top;\n",
       "    }\n",
       "\n",
       "    .dataframe thead th {\n",
       "        text-align: right;\n",
       "    }\n",
       "</style>\n",
       "<table border=\"1\" class=\"dataframe\">\n",
       "  <thead>\n",
       "    <tr style=\"text-align: right;\">\n",
       "      <th></th>\n",
       "      <th>text</th>\n",
       "      <th>actual</th>\n",
       "      <th>predicted</th>\n",
       "    </tr>\n",
       "  </thead>\n",
       "  <tbody>\n",
       "    <tr>\n",
       "      <th>6</th>\n",
       "      <td>anyone experience drinking old talking year old sat mylar bag starting turn yellow pink legit puer cakes long jing forgot recently found considered tossing looked really sad brewed cup anyway holy cow cha qi flavor fresh drinkable tad astringent level caffeine charts comparable matcha want know sealed actually expire b cha qi evolution normal drinking expired</td>\n",
       "      <td>0</td>\n",
       "      <td>1</td>\n",
       "    </tr>\n",
       "  </tbody>\n",
       "</table>\n",
       "</div>"
      ],
      "text/plain": [
       "                                                                                                                                                                                                                                                                                                                                                                        text  \\\n",
       "6  anyone experience drinking old talking year old sat mylar bag starting turn yellow pink legit puer cakes long jing forgot recently found considered tossing looked really sad brewed cup anyway holy cow cha qi flavor fresh drinkable tad astringent level caffeine charts comparable matcha want know sealed actually expire b cha qi evolution normal drinking expired   \n",
       "\n",
       "   actual  predicted  \n",
       "6       0          1  "
      ]
     },
     "execution_count": 32,
     "metadata": {},
     "output_type": "execute_result"
    }
   ],
   "source": [
    "# one example of misclassification using data (without lemmatizing and stemming)\n",
    "dt_cleaned[dt_cleaned['text'].str.contains('anyone experience drinking old')]"
   ]
  },
  {
   "cell_type": "markdown",
   "id": "adb757c6",
   "metadata": {},
   "source": [
    "For the above example, 'puer' tea, 'cha' and 'matcha' would make it obviously a post related to 'tea' for someone familiar with tea. However, since 'cup' is common in 'coffee' (explored during EDA), it was not surprising that it was misclassified. Let's check if this misclassification is also in lemmatized or stemmed text."
   ]
  },
  {
   "cell_type": "code",
   "execution_count": 33,
   "id": "6bcc0296",
   "metadata": {},
   "outputs": [
    {
     "data": {
      "text/html": [
       "<div>\n",
       "<style scoped>\n",
       "    .dataframe tbody tr th:only-of-type {\n",
       "        vertical-align: middle;\n",
       "    }\n",
       "\n",
       "    .dataframe tbody tr th {\n",
       "        vertical-align: top;\n",
       "    }\n",
       "\n",
       "    .dataframe thead th {\n",
       "        text-align: right;\n",
       "    }\n",
       "</style>\n",
       "<table border=\"1\" class=\"dataframe\">\n",
       "  <thead>\n",
       "    <tr style=\"text-align: right;\">\n",
       "      <th></th>\n",
       "      <th>text</th>\n",
       "      <th>actual</th>\n",
       "      <th>predicted</th>\n",
       "    </tr>\n",
       "  </thead>\n",
       "  <tbody>\n",
       "  </tbody>\n",
       "</table>\n",
       "</div>"
      ],
      "text/plain": [
       "Empty DataFrame\n",
       "Columns: [text, actual, predicted]\n",
       "Index: []"
      ]
     },
     "execution_count": 33,
     "metadata": {},
     "output_type": "execute_result"
    }
   ],
   "source": [
    "# same example as above using lemmatized \n",
    "dt_lemm[dt_lemm['text'].str.contains('anyone experience drinking old')]"
   ]
  },
  {
   "cell_type": "code",
   "execution_count": 34,
   "id": "bbdaaddb",
   "metadata": {},
   "outputs": [
    {
     "data": {
      "text/html": [
       "<div>\n",
       "<style scoped>\n",
       "    .dataframe tbody tr th:only-of-type {\n",
       "        vertical-align: middle;\n",
       "    }\n",
       "\n",
       "    .dataframe tbody tr th {\n",
       "        vertical-align: top;\n",
       "    }\n",
       "\n",
       "    .dataframe thead th {\n",
       "        text-align: right;\n",
       "    }\n",
       "</style>\n",
       "<table border=\"1\" class=\"dataframe\">\n",
       "  <thead>\n",
       "    <tr style=\"text-align: right;\">\n",
       "      <th></th>\n",
       "      <th>text</th>\n",
       "      <th>actual</th>\n",
       "      <th>predicted</th>\n",
       "    </tr>\n",
       "  </thead>\n",
       "  <tbody>\n",
       "  </tbody>\n",
       "</table>\n",
       "</div>"
      ],
      "text/plain": [
       "Empty DataFrame\n",
       "Columns: [text, actual, predicted]\n",
       "Index: []"
      ]
     },
     "execution_count": 34,
     "metadata": {},
     "output_type": "execute_result"
    }
   ],
   "source": [
    "# same example as above using stemmed data\n",
    "dt_stem[dt_stem['text'].str.contains('anyone experience drinking old')]"
   ]
  },
  {
   "cell_type": "code",
   "execution_count": 35,
   "id": "67fe32e8",
   "metadata": {},
   "outputs": [
    {
     "data": {
      "text/html": [
       "<div>\n",
       "<style scoped>\n",
       "    .dataframe tbody tr th:only-of-type {\n",
       "        vertical-align: middle;\n",
       "    }\n",
       "\n",
       "    .dataframe tbody tr th {\n",
       "        vertical-align: top;\n",
       "    }\n",
       "\n",
       "    .dataframe thead th {\n",
       "        text-align: right;\n",
       "    }\n",
       "</style>\n",
       "<table border=\"1\" class=\"dataframe\">\n",
       "  <thead>\n",
       "    <tr style=\"text-align: right;\">\n",
       "      <th></th>\n",
       "      <th>cleaned_sent</th>\n",
       "      <th>lemmatized_sent</th>\n",
       "      <th>pstemmed_sent</th>\n",
       "      <th>drink</th>\n",
       "    </tr>\n",
       "  </thead>\n",
       "  <tbody>\n",
       "    <tr>\n",
       "      <th>1957</th>\n",
       "      <td>anyone experience drinking old talking year old sat mylar bag starting turn yellow pink legit puer cakes long jing forgot recently found considered tossing looked really sad brewed cup anyway holy cow cha qi flavor fresh drinkable tad astringent level caffeine charts comparable matcha want know sealed actually expire b cha qi evolution normal drinking expired</td>\n",
       "      <td>anyone experience drinking old talking year old sat mylar bag starting turn yellow pink legit puer cake long jing forgot recently found considered tossing looked really sad brewed cup anyway holy cow cha qi flavor fresh drinkable tad astringent level caffeine chart comparable matcha want know sealed actually expire b cha qi evolution normal drinking expired</td>\n",
       "      <td>anyon experi drink old talk year old sat mylar bag start turn yellow pink legit puer cake long jing forgot recent found consid toss look realli sad brew cup anyway holi cow cha qi flavor fresh drinkabl tad astring level caffein chart compar matcha want know seal actual expir b cha qi evolut normal drink expir</td>\n",
       "      <td>0</td>\n",
       "    </tr>\n",
       "  </tbody>\n",
       "</table>\n",
       "</div>"
      ],
      "text/plain": [
       "                                                                                                                                                                                                                                                                                                                                                                   cleaned_sent  \\\n",
       "1957  anyone experience drinking old talking year old sat mylar bag starting turn yellow pink legit puer cakes long jing forgot recently found considered tossing looked really sad brewed cup anyway holy cow cha qi flavor fresh drinkable tad astringent level caffeine charts comparable matcha want know sealed actually expire b cha qi evolution normal drinking expired   \n",
       "\n",
       "                                                                                                                                                                                                                                                                                                                                                              lemmatized_sent  \\\n",
       "1957  anyone experience drinking old talking year old sat mylar bag starting turn yellow pink legit puer cake long jing forgot recently found considered tossing looked really sad brewed cup anyway holy cow cha qi flavor fresh drinkable tad astringent level caffeine chart comparable matcha want know sealed actually expire b cha qi evolution normal drinking expired   \n",
       "\n",
       "                                                                                                                                                                                                                                                                                                               pstemmed_sent  \\\n",
       "1957  anyon experi drink old talk year old sat mylar bag start turn yellow pink legit puer cake long jing forgot recent found consid toss look realli sad brew cup anyway holi cow cha qi flavor fresh drinkabl tad astring level caffein chart compar matcha want know seal actual expir b cha qi evolut normal drink expir   \n",
       "\n",
       "      drink  \n",
       "1957      0  "
      ]
     },
     "execution_count": 35,
     "metadata": {},
     "output_type": "execute_result"
    }
   ],
   "source": [
    "# spot the difference in the example above \n",
    "drinks[drinks['pstemmed_sent'].str.contains('anyon experi drink ol')]"
   ]
  },
  {
   "cell_type": "markdown",
   "id": "e5e31b2b",
   "metadata": {},
   "source": [
    "From the above example, the same post was not misclassified in the lemmatized nor stemmed text. So lemmatizing and stemming allowed better consolidation of the data. However, it is uncertain how lemmatizing or stemming helped better classification."
   ]
  },
  {
   "cell_type": "markdown",
   "id": "508f81ef",
   "metadata": {},
   "source": [
    "Let us examine the **spam** posts (identified earlier): "
   ]
  },
  {
   "cell_type": "code",
   "execution_count": 36,
   "id": "05d0c34b",
   "metadata": {},
   "outputs": [
    {
     "data": {
      "text/html": [
       "<div>\n",
       "<style scoped>\n",
       "    .dataframe tbody tr th:only-of-type {\n",
       "        vertical-align: middle;\n",
       "    }\n",
       "\n",
       "    .dataframe tbody tr th {\n",
       "        vertical-align: top;\n",
       "    }\n",
       "\n",
       "    .dataframe thead th {\n",
       "        text-align: right;\n",
       "    }\n",
       "</style>\n",
       "<table border=\"1\" class=\"dataframe\">\n",
       "  <thead>\n",
       "    <tr style=\"text-align: right;\">\n",
       "      <th></th>\n",
       "      <th>text</th>\n",
       "      <th>actual</th>\n",
       "      <th>predicted</th>\n",
       "    </tr>\n",
       "  </thead>\n",
       "  <tbody>\n",
       "  </tbody>\n",
       "</table>\n",
       "</div>"
      ],
      "text/plain": [
       "Empty DataFrame\n",
       "Columns: [text, actual, predicted]\n",
       "Index: []"
      ]
     },
     "execution_count": 36,
     "metadata": {},
     "output_type": "execute_result"
    }
   ],
   "source": [
    "# second example of misclassification using data (without lemmatizing and stemming)\n",
    "dt_cleaned[dt_cleaned['text'].str.contains('drinking today questions')]"
   ]
  },
  {
   "cell_type": "markdown",
   "id": "c2ed3380",
   "metadata": {},
   "source": [
    "Considering there were a number of spam messages, it seemed all of them were properly classified as 'tea' (but not as spam). *[Considering that spam posts were approximately 3% of the total posts, a 'tvec_min_df' could be increased to ensure that words/features >3% would be used to train the model]*"
   ]
  },
  {
   "cell_type": "markdown",
   "id": "d569ce66",
   "metadata": {},
   "source": [
    "**False negatives**"
   ]
  },
  {
   "cell_type": "code",
   "execution_count": 37,
   "id": "e51b686c",
   "metadata": {},
   "outputs": [
    {
     "data": {
      "text/html": [
       "<div>\n",
       "<style scoped>\n",
       "    .dataframe tbody tr th:only-of-type {\n",
       "        vertical-align: middle;\n",
       "    }\n",
       "\n",
       "    .dataframe tbody tr th {\n",
       "        vertical-align: top;\n",
       "    }\n",
       "\n",
       "    .dataframe thead th {\n",
       "        text-align: right;\n",
       "    }\n",
       "</style>\n",
       "<table border=\"1\" class=\"dataframe\">\n",
       "  <thead>\n",
       "    <tr style=\"text-align: right;\">\n",
       "      <th></th>\n",
       "      <th>text</th>\n",
       "      <th>actual</th>\n",
       "      <th>predicted</th>\n",
       "    </tr>\n",
       "  </thead>\n",
       "  <tbody>\n",
       "    <tr>\n",
       "      <th>8</th>\n",
       "      <td>make freeze dried stuff know mix add hot water put instant less water essentially right ohhh like r less meditated</td>\n",
       "      <td>1</td>\n",
       "      <td>0</td>\n",
       "    </tr>\n",
       "    <tr>\n",
       "      <th>20</th>\n",
       "      <td>ok first let say new brewing thing got honey really like make taste sweet know taste really sweet another fried uses gets really sweet flavor using italian maker really cheap one using fretta v idk need get sweet taste ideas using g water btw already grinded moment grinderwhy make honey taste sweet</td>\n",
       "      <td>1</td>\n",
       "      <td>0</td>\n",
       "    </tr>\n",
       "    <tr>\n",
       "      <th>21</th>\n",
       "      <td>looking travel mug keep head work contigo one right good job keeping hot also impacts taste makes far less enjoyable drank home anyone recommendations travel mug ruin taste looking travel mug impact taste</td>\n",
       "      <td>1</td>\n",
       "      <td>0</td>\n",
       "    </tr>\n",
       "    <tr>\n",
       "      <th>31</th>\n",
       "      <td>every shop every state likes blast eccentric indie tunes every shop every state occupied customers work wearing headphones think two observations may connected way distinct impression one fan sounds like endless half sober droning art school painting major tambourine parroting jibberish thought listening creep radiohead half speed shops please stop blasting stuff anything another barista local independently owned joint likes switch early screamo punk little better still quiet shop better ran...</td>\n",
       "      <td>1</td>\n",
       "      <td>0</td>\n",
       "    </tr>\n",
       "    <tr>\n",
       "      <th>37</th>\n",
       "      <td>looking classic husband figure start maybe find something christmas trying find technivorm jubilee green amp white suggestions</td>\n",
       "      <td>1</td>\n",
       "      <td>0</td>\n",
       "    </tr>\n",
       "  </tbody>\n",
       "</table>\n",
       "</div>"
      ],
      "text/plain": [
       "                                                                                                                                                                                                                                                                                                                                                                                                                                                                                                                   text  \\\n",
       "8                                                                                                                                                                                                                                                                                                                                                                                                    make freeze dried stuff know mix add hot water put instant less water essentially right ohhh like r less meditated   \n",
       "20                                                                                                                                                                                                          ok first let say new brewing thing got honey really like make taste sweet know taste really sweet another fried uses gets really sweet flavor using italian maker really cheap one using fretta v idk need get sweet taste ideas using g water btw already grinded moment grinderwhy make honey taste sweet   \n",
       "21                                                                                                                                                                                                                                                                                                         looking travel mug keep head work contigo one right good job keeping hot also impacts taste makes far less enjoyable drank home anyone recommendations travel mug ruin taste looking travel mug impact taste   \n",
       "31  every shop every state likes blast eccentric indie tunes every shop every state occupied customers work wearing headphones think two observations may connected way distinct impression one fan sounds like endless half sober droning art school painting major tambourine parroting jibberish thought listening creep radiohead half speed shops please stop blasting stuff anything another barista local independently owned joint likes switch early screamo punk little better still quiet shop better ran...   \n",
       "37                                                                                                                                                                                                                                                                                                                                                                                       looking classic husband figure start maybe find something christmas trying find technivorm jubilee green amp white suggestions   \n",
       "\n",
       "    actual  predicted  \n",
       "8        1          0  \n",
       "20       1          0  \n",
       "21       1          0  \n",
       "31       1          0  \n",
       "37       1          0  "
      ]
     },
     "execution_count": 37,
     "metadata": {},
     "output_type": "execute_result"
    }
   ],
   "source": [
    "# Misclassification in data (without lemmatizing and stemming)\n",
    "dt_cleaned[dt_cleaned['actual']==1].head()"
   ]
  },
  {
   "cell_type": "code",
   "execution_count": 38,
   "id": "e058655c",
   "metadata": {},
   "outputs": [
    {
     "data": {
      "text/html": [
       "<div>\n",
       "<style scoped>\n",
       "    .dataframe tbody tr th:only-of-type {\n",
       "        vertical-align: middle;\n",
       "    }\n",
       "\n",
       "    .dataframe tbody tr th {\n",
       "        vertical-align: top;\n",
       "    }\n",
       "\n",
       "    .dataframe thead th {\n",
       "        text-align: right;\n",
       "    }\n",
       "</style>\n",
       "<table border=\"1\" class=\"dataframe\">\n",
       "  <thead>\n",
       "    <tr style=\"text-align: right;\">\n",
       "      <th></th>\n",
       "      <th>text</th>\n",
       "      <th>actual</th>\n",
       "      <th>predicted</th>\n",
       "    </tr>\n",
       "  </thead>\n",
       "  <tbody>\n",
       "    <tr>\n",
       "      <th>20</th>\n",
       "      <td>ok first let say new brewing thing got honey really like make taste sweet know taste really sweet another fried uses gets really sweet flavor using italian maker really cheap one using fretta v idk need get sweet taste ideas using g water btw already grinded moment grinderwhy make honey taste sweet</td>\n",
       "      <td>1</td>\n",
       "      <td>0</td>\n",
       "    </tr>\n",
       "  </tbody>\n",
       "</table>\n",
       "</div>"
      ],
      "text/plain": [
       "                                                                                                                                                                                                                                                                                                           text  \\\n",
       "20  ok first let say new brewing thing got honey really like make taste sweet know taste really sweet another fried uses gets really sweet flavor using italian maker really cheap one using fretta v idk need get sweet taste ideas using g water btw already grinded moment grinderwhy make honey taste sweet   \n",
       "\n",
       "    actual  predicted  \n",
       "20       1          0  "
      ]
     },
     "execution_count": 38,
     "metadata": {},
     "output_type": "execute_result"
    }
   ],
   "source": [
    "# one example of misclassification using data (without lemmatizing and stemming)\n",
    "dt_cleaned[dt_cleaned['text'].str.contains('ok first')]"
   ]
  },
  {
   "cell_type": "markdown",
   "id": "3bb7ef49",
   "metadata": {},
   "source": [
    "From the above, it is obvious that 'grinded' and 'grinderwhy' were not identified as words/features associated with coffee. Let's check this in lemmatized and stemmed data."
   ]
  },
  {
   "cell_type": "code",
   "execution_count": 39,
   "id": "11123687",
   "metadata": {},
   "outputs": [
    {
     "data": {
      "text/html": [
       "<div>\n",
       "<style scoped>\n",
       "    .dataframe tbody tr th:only-of-type {\n",
       "        vertical-align: middle;\n",
       "    }\n",
       "\n",
       "    .dataframe tbody tr th {\n",
       "        vertical-align: top;\n",
       "    }\n",
       "\n",
       "    .dataframe thead th {\n",
       "        text-align: right;\n",
       "    }\n",
       "</style>\n",
       "<table border=\"1\" class=\"dataframe\">\n",
       "  <thead>\n",
       "    <tr style=\"text-align: right;\">\n",
       "      <th></th>\n",
       "      <th>text</th>\n",
       "      <th>actual</th>\n",
       "      <th>predicted</th>\n",
       "    </tr>\n",
       "  </thead>\n",
       "  <tbody>\n",
       "  </tbody>\n",
       "</table>\n",
       "</div>"
      ],
      "text/plain": [
       "Empty DataFrame\n",
       "Columns: [text, actual, predicted]\n",
       "Index: []"
      ]
     },
     "execution_count": 39,
     "metadata": {},
     "output_type": "execute_result"
    }
   ],
   "source": [
    "# one example of misclassification using lemmatized data \n",
    "dt_lemm[dt_lemm['text'].str.contains('ok first')]"
   ]
  },
  {
   "cell_type": "code",
   "execution_count": 40,
   "id": "efc8011b",
   "metadata": {},
   "outputs": [
    {
     "data": {
      "text/html": [
       "<div>\n",
       "<style scoped>\n",
       "    .dataframe tbody tr th:only-of-type {\n",
       "        vertical-align: middle;\n",
       "    }\n",
       "\n",
       "    .dataframe tbody tr th {\n",
       "        vertical-align: top;\n",
       "    }\n",
       "\n",
       "    .dataframe thead th {\n",
       "        text-align: right;\n",
       "    }\n",
       "</style>\n",
       "<table border=\"1\" class=\"dataframe\">\n",
       "  <thead>\n",
       "    <tr style=\"text-align: right;\">\n",
       "      <th></th>\n",
       "      <th>text</th>\n",
       "      <th>actual</th>\n",
       "      <th>predicted</th>\n",
       "    </tr>\n",
       "  </thead>\n",
       "  <tbody>\n",
       "  </tbody>\n",
       "</table>\n",
       "</div>"
      ],
      "text/plain": [
       "Empty DataFrame\n",
       "Columns: [text, actual, predicted]\n",
       "Index: []"
      ]
     },
     "execution_count": 40,
     "metadata": {},
     "output_type": "execute_result"
    }
   ],
   "source": [
    "# one example of misclassification using stemmed data \n",
    "dt_stem[dt_stem['text'].str.contains('ok first')]\n",
    "# example not in misclassification group"
   ]
  },
  {
   "cell_type": "code",
   "execution_count": 41,
   "id": "75dee8c4",
   "metadata": {},
   "outputs": [
    {
     "data": {
      "text/html": [
       "<div>\n",
       "<style scoped>\n",
       "    .dataframe tbody tr th:only-of-type {\n",
       "        vertical-align: middle;\n",
       "    }\n",
       "\n",
       "    .dataframe tbody tr th {\n",
       "        vertical-align: top;\n",
       "    }\n",
       "\n",
       "    .dataframe thead th {\n",
       "        text-align: right;\n",
       "    }\n",
       "</style>\n",
       "<table border=\"1\" class=\"dataframe\">\n",
       "  <thead>\n",
       "    <tr style=\"text-align: right;\">\n",
       "      <th></th>\n",
       "      <th>pstemmed_sent</th>\n",
       "    </tr>\n",
       "  </thead>\n",
       "  <tbody>\n",
       "    <tr>\n",
       "      <th>1040</th>\n",
       "      <td>ok first let say new brew thing got honey realli like make tast sweet know tast realli sweet anoth fri use get realli sweet flavor use italian maker realli cheap one use fretta v idk need get sweet tast idea use g water btw alreadi grind moment grinderwhi make honey tast sweet</td>\n",
       "    </tr>\n",
       "  </tbody>\n",
       "</table>\n",
       "</div>"
      ],
      "text/plain": [
       "                                                                                                                                                                                                                                                                              pstemmed_sent\n",
       "1040  ok first let say new brew thing got honey realli like make tast sweet know tast realli sweet anoth fri use get realli sweet flavor use italian maker realli cheap one use fretta v idk need get sweet tast idea use g water btw alreadi grind moment grinderwhi make honey tast sweet"
      ]
     },
     "execution_count": 41,
     "metadata": {},
     "output_type": "execute_result"
    }
   ],
   "source": [
    "# example of what the stemmed looked like \n",
    "drinks[drinks['pstemmed_sent'].str.contains('ok first let')][['pstemmed_sent']]"
   ]
  },
  {
   "cell_type": "markdown",
   "id": "5a2b2151",
   "metadata": {},
   "source": [
    "While the above example was misclassified in cleaned data, it was correctly classified in lemmatized and stemmed data. This was because 'grinded' was stemmed to 'grind', which is a word/feature in 'coffee'."
   ]
  },
  {
   "cell_type": "markdown",
   "id": "41745289",
   "metadata": {},
   "source": [
    "As mentioned, lemmatized and stemmed data reported a higher false positives, but **lower** false negatives."
   ]
  },
  {
   "cell_type": "markdown",
   "id": "3176e247",
   "metadata": {},
   "source": [
    "**False negatives in stemmed data**"
   ]
  },
  {
   "cell_type": "code",
   "execution_count": 42,
   "id": "27227128",
   "metadata": {},
   "outputs": [
    {
     "data": {
      "text/html": [
       "<div>\n",
       "<style scoped>\n",
       "    .dataframe tbody tr th:only-of-type {\n",
       "        vertical-align: middle;\n",
       "    }\n",
       "\n",
       "    .dataframe tbody tr th {\n",
       "        vertical-align: top;\n",
       "    }\n",
       "\n",
       "    .dataframe thead th {\n",
       "        text-align: right;\n",
       "    }\n",
       "</style>\n",
       "<table border=\"1\" class=\"dataframe\">\n",
       "  <thead>\n",
       "    <tr style=\"text-align: right;\">\n",
       "      <th></th>\n",
       "      <th>text</th>\n",
       "      <th>actual</th>\n",
       "      <th>predicted</th>\n",
       "    </tr>\n",
       "  </thead>\n",
       "  <tbody>\n",
       "    <tr>\n",
       "      <th>12</th>\n",
       "      <td>pick valu villag last week never seen anyth like bialetti mark n anybodi inform love learn moka pot fountain</td>\n",
       "      <td>1</td>\n",
       "      <td>0</td>\n",
       "    </tr>\n",
       "    <tr>\n",
       "      <th>363</th>\n",
       "      <td>hello stupidli put sister new bialetti moka pot dishwash realiz stupid sinc highli oxid bialetti moka pot anyon give advic clean oxid prevent oxid obvious never put dishwash coat reappli oliv oil restor necessari coat like iron cast pan highli appreci advic would realli love rescu pot pleas help rescu bialetti moka pot tht run dishwash</td>\n",
       "      <td>1</td>\n",
       "      <td>0</td>\n",
       "    </tr>\n",
       "    <tr>\n",
       "      <th>387</th>\n",
       "      <td>love moka pot simpl think method brew actual take fewer step use moka pot exampl unscrew pot remov filter fill base water replac filter put ground filter screw pot back put stove turn stove take mug turn stove pour beat step method brew take least amount step</td>\n",
       "      <td>1</td>\n",
       "      <td>0</td>\n",
       "    </tr>\n",
       "    <tr>\n",
       "      <th>412</th>\n",
       "      <td>hi everyon first post subreddit hope get advic new moka pot purchas recent recommend moka pot friend saw one tj maxx went turn make amaz love husband never enjoy home brew also love use pot twice day last month sinc particularli durabl begin gasket stretch thin point leak sinc huge fan readi invest higher qualiti contrapt wonder whether stick classic bialetti aluminum get stainless steel moka pot tri pot bottom stainless top glass admittedli tempt see brew would help multipl amazon cart grea...</td>\n",
       "      <td>1</td>\n",
       "      <td>0</td>\n",
       "    </tr>\n",
       "  </tbody>\n",
       "</table>\n",
       "</div>"
      ],
      "text/plain": [
       "                                                                                                                                                                                                                                                                                                                                                                                                                                                                                                                    text  \\\n",
       "12                                                                                                                                                                                                                                                                                                                                                                                                          pick valu villag last week never seen anyth like bialetti mark n anybodi inform love learn moka pot fountain   \n",
       "363                                                                                                                                                                    hello stupidli put sister new bialetti moka pot dishwash realiz stupid sinc highli oxid bialetti moka pot anyon give advic clean oxid prevent oxid obvious never put dishwash coat reappli oliv oil restor necessari coat like iron cast pan highli appreci advic would realli love rescu pot pleas help rescu bialetti moka pot tht run dishwash   \n",
       "387                                                                                                                                                                                                                                                  love moka pot simpl think method brew actual take fewer step use moka pot exampl unscrew pot remov filter fill base water replac filter put ground filter screw pot back put stove turn stove take mug turn stove pour beat step method brew take least amount step   \n",
       "412  hi everyon first post subreddit hope get advic new moka pot purchas recent recommend moka pot friend saw one tj maxx went turn make amaz love husband never enjoy home brew also love use pot twice day last month sinc particularli durabl begin gasket stretch thin point leak sinc huge fan readi invest higher qualiti contrapt wonder whether stick classic bialetti aluminum get stainless steel moka pot tri pot bottom stainless top glass admittedli tempt see brew would help multipl amazon cart grea...   \n",
       "\n",
       "     actual  predicted  \n",
       "12        1          0  \n",
       "363       1          0  \n",
       "387       1          0  \n",
       "412       1          0  "
      ]
     },
     "execution_count": 42,
     "metadata": {},
     "output_type": "execute_result"
    }
   ],
   "source": [
    "# Misclassification in stemmed data\n",
    "dt_stem[(dt_stem['actual']==1) & (dt_stem['text'].str.contains('moka'))]"
   ]
  },
  {
   "cell_type": "markdown",
   "id": "e0618e9a",
   "metadata": {},
   "source": [
    "Some examples above showed that word/feature 'moka' would have enabled a proper classification. However, the stemming of other words might vary in meaning such that the model cannot identify/ define the classification properly. In addition, other words like 'water', 'pot', 'love' might skew the classification towards 'tea', since from EDA, there are some common words in both. "
   ]
  },
  {
   "cell_type": "markdown",
   "id": "c2616de1",
   "metadata": {},
   "source": [
    "**Summary**\n",
    "<br> More parameters have to be included/tuned to ensure that overfitting was minimised in Decision Tree Classifier. While higher accuracy was reported using lemmatized and stemmed words, they also reported more false positives (Type 1 errors). The model using cleaned data (without lemmatizing and stemming) reported more false negatives (Type 2 errors)(ie., the model incorrectly predicted [0]/tea). In some cases, lemmatizing and stemming do help consolidate the words or mispelling better, such that there was correct identification of the classes.\n"
   ]
  },
  {
   "cell_type": "markdown",
   "id": "b35c8872",
   "metadata": {},
   "source": [
    "---"
   ]
  },
  {
   "cell_type": "markdown",
   "id": "2083f3be",
   "metadata": {},
   "source": [
    "### (TF-IDF) Vectorizer and Random Forest Classifier"
   ]
  },
  {
   "cell_type": "markdown",
   "id": "44ad2ed8",
   "metadata": {},
   "source": [
    "TF-IDF is selected again, as TF-IDF seems to be better. TF-IDF is a score that tells us which words are important to one post, relative to the other posts. So words that occur often in one class but don't occur in the other contains more predictive power. In such a way, TF-IDF is better than CountVectorizer because it also provides the importance of one word, rather than just focusing on the frequency of the word present in the corpus. \n",
    "<br>\n",
    "<br> Sometimes a single tree is insufficient for producing accurate/ effective results. Random Forest Classifier utilises the predictive power of multiple decision trees to generate and determine the final outcome.\n"
   ]
  },
  {
   "cell_type": "code",
   "execution_count": 43,
   "id": "e789123a",
   "metadata": {},
   "outputs": [],
   "source": [
    "# Set up a pipeline up with two stages:\n",
    "# 1. TfidfVectorizer (transformer)\n",
    "# 2. Random Forest Classifier (estimator)\n",
    "def tfid_rfc_pipeline(X, y, params):\n",
    "    '''data is X, y with params as parameters for the pipeline'''\n",
    "    # split data\n",
    "    X_train, X_test, y_train, y_test = train_test_split(X,\n",
    "                                                        y,\n",
    "                                                        test_size=0.33,\n",
    "                                                        stratify=y,\n",
    "                                                        random_state=42)\n",
    "    \n",
    "    pipe = Pipeline([\n",
    "            ('tvec', TfidfVectorizer()),\n",
    "            ('rf', RandomForestClassifier())\n",
    "        ])\n",
    "\n",
    "    gs = GridSearchCV(pipe, \n",
    "                      param_grid=params, \n",
    "                      cv=5,\n",
    "                      n_jobs=-1)\n",
    "\n",
    "    # Fit GridSearch to training data.\n",
    "    model = gs.fit(X_train, y_train)\n",
    "\n",
    "    # extract feature importance for coffee[1] and tea[0]\n",
    "    feature_names = model.best_estimator_.named_steps['tvec'].get_feature_names()\n",
    "    rf = model.best_estimator_.named_steps['rf']\n",
    "    \n",
    "    # Score model on training set.\n",
    "    train_score = gs.score(X_train, y_train)\n",
    "\n",
    "    # Score model on testing set.\n",
    "    test_score = gs.score(X_test, y_test)\n",
    "    \n",
    "    # Get predictions\n",
    "    preds = gs.predict(X_test)\n",
    "    \n",
    "    # Save confusion matrix values\n",
    "    tn, fp, fn, tp = confusion_matrix(y_test, preds).ravel()\n",
    "\n",
    "    # View confusion matrix\n",
    "    plot_confusion_matrix(gs, X_test, y_test, cmap='Blues', values_format='d');\n",
    "\n",
    "    # Calculate the sensitivity/ recall\n",
    "    sens = tp / (tp + fn)\n",
    "  \n",
    "    # Calculate the precision\n",
    "    prec = tp / (tp + fp)\n",
    "    \n",
    "    # Calculate the f1 score\n",
    "    f1 = 2 * (sens * prec) / (sens + prec)\n",
    "    \n",
    "    # print results\n",
    "    print(f'Best params: {gs.best_params_}')\n",
    "    print(f'Training score: {round(train_score, 4)}')\n",
    "    print(f'Test score: {round(test_score, 4)}')\n",
    "    print(f'F1-score: {round(f1, 4)}')\n",
    "    \n",
    "    return list(zip(feature_names, rf.feature_importances_))"
   ]
  },
  {
   "cell_type": "code",
   "execution_count": 44,
   "id": "019a4ab2",
   "metadata": {},
   "outputs": [],
   "source": [
    "# original parameters for tvec_dt_pipeline\n",
    "tfid_rfc_params = {\n",
    "    'tvec__ngram_range': [(1, 1), (1, 2)],\n",
    "    'tvec__max_features': [200, 300, 400],\n",
    "    'tvec__min_df': [0.01, 0.02, 0.03],   \n",
    "    'tvec__max_df': [0.8, 0.9],\n",
    "    'rf__n_estimators': [200, 250, 300],\n",
    "    'rf__max_depth': [5, 8, 10],\n",
    "    'rf__min_samples_split': [10, 20, 30],\n",
    "    'rf__min_samples_leaf': [5, 10, 15],\n",
    "}\n"
   ]
  },
  {
   "cell_type": "markdown",
   "id": "93ea370b",
   "metadata": {},
   "source": [
    "#### Cleaned data (without lemmatizing and stemming)"
   ]
  },
  {
   "cell_type": "code",
   "execution_count": 45,
   "id": "1ecaaf0f",
   "metadata": {},
   "outputs": [
    {
     "name": "stdout",
     "output_type": "stream",
     "text": [
      "Best params: {'rf__max_depth': 15, 'rf__min_samples_leaf': 5, 'rf__min_samples_split': 30, 'rf__n_estimators': 300, 'tvec__max_df': 0.9, 'tvec__max_features': 400, 'tvec__min_df': 0.01, 'tvec__ngram_range': (1, 1)}\n",
      "Training score: 0.9152\n",
      "Test score: 0.832\n",
      "F1-score: 0.847\n"
     ]
    },
    {
     "data": {
      "image/png": "[encoded data removed]",
      "text/plain": [
       "<Figure size 432x288 with 2 Axes>"
      ]
     },
     "metadata": {
      "needs_background": "light"
     },
     "output_type": "display_data"
    }
   ],
   "source": [
    "X_cleaned = drinks['cleaned_sent']\n",
    "y = drinks['drink']\n",
    "\n",
    "# best parameters\n",
    "cleaned_tfid_rfc_params = {\n",
    "    'tvec__ngram_range': [(1, 1)],\n",
    "    'tvec__max_features': [400],\n",
    "    'tvec__min_df': [0.01],   \n",
    "    'tvec__max_df': [0.9],\n",
    "    'rf__n_estimators': [300],\n",
    "    'rf__max_depth': [15],\n",
    "    'rf__min_samples_split': [30],\n",
    "    'rf__min_samples_leaf': [5],\n",
    "}\n",
    "\n",
    "rfc_cleaned_results = tfid_rfc_pipeline(X_cleaned, y, params = cleaned_tfid_rfc_params)\n"
   ]
  },
  {
   "cell_type": "markdown",
   "id": "31c73b62",
   "metadata": {},
   "source": [
    "#### Lemmatized data"
   ]
  },
  {
   "cell_type": "code",
   "execution_count": 46,
   "id": "14719538",
   "metadata": {},
   "outputs": [
    {
     "name": "stdout",
     "output_type": "stream",
     "text": [
      "Best params: {'rf__max_depth': 15, 'rf__min_samples_leaf': 5, 'rf__min_samples_split': 30, 'rf__n_estimators': 300, 'tvec__max_df': 0.9, 'tvec__max_features': 400, 'tvec__min_df': 0.01, 'tvec__ngram_range': (1, 1)}\n",
      "Training score: 0.9223\n",
      "Test score: 0.8503\n",
      "F1-score: 0.8561\n"
     ]
    },
    {
     "data": {
      "image/png": "[encoded data removed]",
      "text/plain": [
       "<Figure size 432x288 with 2 Axes>"
      ]
     },
     "metadata": {
      "needs_background": "light"
     },
     "output_type": "display_data"
    }
   ],
   "source": [
    "X_lemm = drinks['lemmatized_sent']\n",
    "y = drinks['drink']\n",
    "\n",
    "rfc_lemm_results = tfid_rfc_pipeline(X_lemm, y, params = cleaned_tfid_rfc_params)"
   ]
  },
  {
   "cell_type": "markdown",
   "id": "9c62c628",
   "metadata": {},
   "source": [
    "#### Porter stemmed data"
   ]
  },
  {
   "cell_type": "code",
   "execution_count": 47,
   "id": "12badd93",
   "metadata": {},
   "outputs": [
    {
     "name": "stdout",
     "output_type": "stream",
     "text": [
      "Best params: {'rf__max_depth': 15, 'rf__min_samples_leaf': 5, 'rf__min_samples_split': 30, 'rf__n_estimators': 300, 'tvec__max_df': 0.9, 'tvec__max_features': 400, 'tvec__min_df': 0.01, 'tvec__ngram_range': (1, 1)}\n",
      "Training score: 0.9088\n",
      "Test score: 0.862\n",
      "F1-score: 0.8634\n"
     ]
    },
    {
     "data": {
      "image/png": "[encoded data removed]",
      "text/plain": [
       "<Figure size 432x288 with 2 Axes>"
      ]
     },
     "metadata": {
      "needs_background": "light"
     },
     "output_type": "display_data"
    }
   ],
   "source": [
    "X_stemmed = drinks['pstemmed_sent']\n",
    "y = drinks['drink']\n",
    "\n",
    "rfc_stemm_results = tfid_rfc_pipeline(X_stemmed, y, params = cleaned_tfid_rfc_params)"
   ]
  },
  {
   "cell_type": "markdown",
   "id": "6dc3a298",
   "metadata": {},
   "source": [
    "### Results analysis"
   ]
  },
  {
   "cell_type": "markdown",
   "id": "511e844b",
   "metadata": {},
   "source": [
    "| Data       |  Train score |  Test score/ Accuracy  | f1-score  |\n",
    "|------------|--------------|---------------|-----------|\n",
    "| Cleaned   |  0.915 | 0.832  | 0.847 | \n",
    "| Lemmatized  | 0.922  | 0.850  | 0.856  |  \n",
    "| Porter-stemmed  | 0.901  | 0.862  | 0.863  | "
   ]
  },
  {
   "cell_type": "markdown",
   "id": "73d13f62",
   "metadata": {},
   "source": [
    "For the Random Forest classifier, the accuracy score is highest for the poster-stemmed dataset. Similar to earlier models, the cleaned data reported higher false positives (ie., tendency for the model to incorrectly classify a post as 'coffee'\\[1]), and lower false negatives. As expected a higher **max_depth** or a deeper tree would increase the accuracy scores, however, it might also lead to overfitting.\n",
    "<br>\n",
    "<br> A comparison between the ensemble methods (Random Forest and Extra Trees) will be discussed below. "
   ]
  },
  {
   "cell_type": "markdown",
   "id": "f4870480",
   "metadata": {},
   "source": [
    "---"
   ]
  },
  {
   "cell_type": "markdown",
   "id": "a36b3d57",
   "metadata": {},
   "source": [
    "### (TF-IDF) Vectorizer and Extremely Randomized Trees"
   ]
  },
  {
   "cell_type": "markdown",
   "id": "39a6be0f",
   "metadata": {},
   "source": [
    "TF-IDF is selected again, as TF-IDF seems to be better. TF-IDF is a score that tells us which words are important to one post, relative to the other posts. So words that occur often in one class but don't occur in the other contains more predictive power. In such a way, TF-IDF is better than CountVectorizer because it also provides the importance of one word, rather than just focusing on the frequency of the word present in the corpus. \n",
    "<br>\n",
    "<br> Again, the use of **'tvec_min_df'** and **'tvec_max_df'** are included here. 'min_df' ignores terms that appear less than 1%-3% in the posts, while 'max_df' ignores terms that appear more than 80%-90% in the posts. In such a way, the model removes terms that appears too infrequently, and too often. \n",
    "<br>\n",
    "<br> Extra trees classifier is another ensemble method that fits a number of randomised sub-samples of decision trees, and produces an averaged outcome. In this way, it uses the combined predictive power of decision trees and control over-fitting (so common in the Decision Tree classifier).  \n",
    "<br>\n",
    " "
   ]
  },
  {
   "cell_type": "code",
   "execution_count": 48,
   "id": "433f3baa",
   "metadata": {},
   "outputs": [],
   "source": [
    "# Set up a pipeline up with two stages:\n",
    "# 1. TfidfVectorizer (transformer)\n",
    "# 2. Extra Tree Classifier (estimator)\n",
    "def tfid_et_pipeline(X, y, params):\n",
    "    '''data is X, y with params as parameters for the pipeline'''\n",
    "    # split data\n",
    "    X_train, X_test, y_train, y_test = train_test_split(X,\n",
    "                                                        y,\n",
    "                                                        test_size=0.33,\n",
    "                                                        stratify=y,\n",
    "                                                        random_state=42)\n",
    "    pipe = Pipeline([\n",
    "            ('tvec', TfidfVectorizer()),\n",
    "            ('et', ExtraTreesClassifier())\n",
    "        ])\n",
    "\n",
    "    gs = GridSearchCV(pipe, \n",
    "                      param_grid=params, \n",
    "                      cv=5,\n",
    "                      n_jobs=-1)\n",
    "\n",
    "    # Fit GridSearch to training data.\n",
    "    model = gs.fit(X_train, y_train)\n",
    "\n",
    "    # extract feature importance for coffee[1] and tea[0]\n",
    "    feature_names = model.best_estimator_.named_steps['tvec'].get_feature_names()\n",
    "    et = model.best_estimator_.named_steps['et']\n",
    "    \n",
    "    # Score model on training set.\n",
    "    train_score = gs.score(X_train, y_train)\n",
    "\n",
    "    # Score model on testing set.\n",
    "    test_score = gs.score(X_test, y_test)\n",
    "    \n",
    "    # Get predictions\n",
    "    preds = gs.predict(X_test)\n",
    "    \n",
    "    # Save confusion matrix values\n",
    "    tn, fp, fn, tp = confusion_matrix(y_test, preds).ravel()\n",
    "\n",
    "    # View confusion matrix\n",
    "    plot_confusion_matrix(gs, X_test, y_test, cmap='Blues', values_format='d');\n",
    "\n",
    "    # Calculate the sensitivity/ recall\n",
    "    sens = tp / (tp + fn)\n",
    "\n",
    "    # Calculate the precision\n",
    "    prec = tp / (tp + fp)\n",
    "    \n",
    "    # Calculate the f1 score\n",
    "    f1 = 2 * (sens * prec) / (sens + prec)\n",
    "    \n",
    "    # print results\n",
    "    print(f'Best params: {gs.best_params_}')\n",
    "    print(f'Training score: {round(train_score, 4)}')\n",
    "    print(f'Test score: {round(test_score, 4)}')\n",
    "    print(f'f1-score: {round(f1, 4)}')\n",
    "    \n",
    "    return list(zip(feature_names, et.feature_importances_))"
   ]
  },
  {
   "cell_type": "code",
   "execution_count": 49,
   "id": "e6e9cffd",
   "metadata": {},
   "outputs": [],
   "source": [
    "# original parameters for tvec_et_pipeline\n",
    "tfid_et_params = {\n",
    "    'tvec__ngram_range': [(1, 1), (1, 2)],\n",
    "    'tvec__max_features': [200, 300, 400],\n",
    "    'tvec__min_df': [0.01, 0.02, 0.03],   \n",
    "    'tvec__max_df': [0.8, 0.9],\n",
    "    'et__n_estimators': [200, 250, 300],\n",
    "    'et__max_depth': [5, 10, 15],\n",
    "    'et__min_samples_split': [10, 20, 30],\n",
    "    'et__min_samples_leaf': [5, 10, 15],\n",
    "}\n"
   ]
  },
  {
   "cell_type": "markdown",
   "id": "4297907a",
   "metadata": {},
   "source": [
    "#### Cleaned data (without lemmatizing and stemming)"
   ]
  },
  {
   "cell_type": "code",
   "execution_count": 50,
   "id": "54812b19",
   "metadata": {},
   "outputs": [
    {
     "name": "stdout",
     "output_type": "stream",
     "text": [
      "Best params: {'et__max_depth': 15, 'et__min_samples_leaf': 5, 'et__min_samples_split': 10, 'et__n_estimators': 250, 'tvec__max_df': 0.9, 'tvec__max_features': 400, 'tvec__min_df': 0.01, 'tvec__ngram_range': (1, 1)}\n",
      "Training score: 0.8735\n",
      "Test score: 0.8125\n",
      "f1-score: 0.8438\n"
     ]
    },
    {
     "data": {
      "image/png": "[encoded data removed]",
      "text/plain": [
       "<Figure size 432x288 with 2 Axes>"
      ]
     },
     "metadata": {
      "needs_background": "light"
     },
     "output_type": "display_data"
    }
   ],
   "source": [
    "X_cleaned = drinks['cleaned_sent']\n",
    "y = drinks['drink']\n",
    "\n",
    "cleaned_tfid_et_params = {\n",
    "    'tvec__ngram_range': [(1, 1)],\n",
    "    'tvec__max_features': [400],\n",
    "    'tvec__min_df': [0.01],   \n",
    "    'tvec__max_df': [0.9],\n",
    "    'et__n_estimators': [250],\n",
    "    'et__max_depth': [15],\n",
    "    'et__min_samples_split': [10],\n",
    "    'et__min_samples_leaf': [5],\n",
    "}\n",
    "\n",
    "et_cleaned_results = tfid_et_pipeline(X_cleaned, y, params = cleaned_tfid_et_params)"
   ]
  },
  {
   "cell_type": "markdown",
   "id": "42fcbbbb",
   "metadata": {},
   "source": [
    "#### Lemmatized Data"
   ]
  },
  {
   "cell_type": "code",
   "execution_count": 51,
   "id": "6dc60e89",
   "metadata": {},
   "outputs": [
    {
     "name": "stdout",
     "output_type": "stream",
     "text": [
      "Best params: {'et__max_depth': 15, 'et__min_samples_leaf': 5, 'et__min_samples_split': 10, 'et__n_estimators': 250, 'tvec__max_df': 0.9, 'tvec__max_features': 400, 'tvec__min_df': 0.01, 'tvec__ngram_range': (1, 1)}\n",
      "Training score: 0.8979\n",
      "Test score: 0.8333\n",
      "f1-score: 0.8549\n"
     ]
    },
    {
     "data": {
      "image/png": "[encoded data removed]",
      "text/plain": [
       "<Figure size 432x288 with 2 Axes>"
      ]
     },
     "metadata": {
      "needs_background": "light"
     },
     "output_type": "display_data"
    }
   ],
   "source": [
    "X_lemm = drinks['lemmatized_sent']\n",
    "y = drinks['drink']\n",
    "\n",
    "et_lemm_results = tfid_et_pipeline(X_cleaned, y, params = cleaned_tfid_et_params)"
   ]
  },
  {
   "cell_type": "markdown",
   "id": "19f7d5ba",
   "metadata": {},
   "source": [
    "#### Porter stemmed data"
   ]
  },
  {
   "cell_type": "code",
   "execution_count": 52,
   "id": "aa381ad2",
   "metadata": {},
   "outputs": [
    {
     "name": "stdout",
     "output_type": "stream",
     "text": [
      "Best params: {'et__max_depth': 15, 'et__min_samples_leaf': 5, 'et__min_samples_split': 10, 'et__n_estimators': 250, 'tvec__max_df': 0.9, 'tvec__max_features': 400, 'tvec__min_df': 0.01, 'tvec__ngram_range': (1, 1)}\n",
      "Training score: 0.9088\n",
      "Test score: 0.8503\n",
      "f1-score: 0.8649\n"
     ]
    },
    {
     "data": {
      "image/png": "[encoded data removed]",
      "text/plain": [
       "<Figure size 432x288 with 2 Axes>"
      ]
     },
     "metadata": {
      "needs_background": "light"
     },
     "output_type": "display_data"
    }
   ],
   "source": [
    "X_stemmed = drinks['pstemmed_sent']\n",
    "y = drinks['drink']\n",
    "\n",
    "et_stem_results = tfid_et_pipeline(X_stemmed, y, params = cleaned_tfid_et_params)"
   ]
  },
  {
   "cell_type": "markdown",
   "id": "4a1044df",
   "metadata": {},
   "source": [
    "#### Results analysis"
   ]
  },
  {
   "cell_type": "markdown",
   "id": "6bddb0b7",
   "metadata": {},
   "source": [
    "| Data       |  Train score |  Test score/ Accuracy  | f1-score  |\n",
    "|------------|--------------|---------------|-----------|\n",
    "| Cleaned   |  0.873 | 0.812  | 0.844 | \n",
    "| Lemmatized  | 0.898  | 0.833  | 0.855  |  \n",
    "| Porter-stemmed  | 0.909  | 0.850  | 0.865 | "
   ]
  },
  {
   "cell_type": "markdown",
   "id": "3f5b8180",
   "metadata": {},
   "source": [
    "For the Extra Trees classifier, the accuracy and f1-scores were higher for lemmatized and stemmed datasets. Lemmatized and stemmed dataset reported high false negatives, but lower false positives. In this model, increasing **max_depth** increases its accuracy. This is not necessary surprising as deeper trees allowed the capture of more information, however, it also increases the likelihood of overfitting. Increasing the **n_estimators** also increased the accuracy, but up to a certain point (in this case, 250 trees)."
   ]
  },
  {
   "cell_type": "markdown",
   "id": "401035f3",
   "metadata": {},
   "source": [
    "Ensemble methods are better than simple/one decision tree, but is one ensemble better than the other? \n",
    "<br>\n",
    "<br> Random Forest Classifier and Extra Trees Classifier have a lot in common; Both are composed of a large number of decision trees, and the final outcome is obtained by taking into account the prediction of each tree. In addition, both have the same growing tree procedure, and split nodes based on a randomly selected subset of words/features. \n",
    "<br>\n",
    "<br> However, Random Forest replicate the trees using bootstrappping, so it takes samples with replacement. Extra Trees, on the other hand, uses the whole sample. Also, while Random Forest chooses the (locally) optimal split, Extra Trees chooses to split at random nodes. In such a way, Extra Trees adds an additional randomization during optimization. \n",
    "<br>\n",
    "<br> How do both compare here? \n",
    "<br> A simple answer would be the better model would be the one that reported a higher accuracy, but it is uncertain if accuracy is also related to demonstrating accurate feature importance. "
   ]
  },
  {
   "cell_type": "markdown",
   "id": "1c1bc0b6",
   "metadata": {},
   "source": [
    "**Cleaned data (without lemmatizing and stemming)**\n"
   ]
  },
  {
   "cell_type": "markdown",
   "id": "61546f9c",
   "metadata": {},
   "source": [
    "The **feature importance** attribute in both Decision Tree classifier and Extra Tree classifier is based on Gini importance. The higher the value of mean decrease in Gini coefficient (or mean decrease in Gini score), the higher the importance/ relevance of the word/ feature in that model."
   ]
  },
  {
   "cell_type": "code",
   "execution_count": 53,
   "id": "fa32f9b0",
   "metadata": {},
   "outputs": [],
   "source": [
    "# Make and merge dataframes to determine feature importance\n",
    "def feature_df(df1_rfc, df2_et):\n",
    "    '''Take results from 2 models (rfc first, et second) with column names and create merged dataframe for analysis'''\n",
    "    # merge relevant results\n",
    "    df1 = pd.DataFrame(df1_rfc,columns=['word', 'rfc_gini'])    \n",
    "    df2 = pd.DataFrame(df2_et,columns=['word', 'et_gini'])\n",
    "    results_df = pd.merge(df1, df2, on='word')\n",
    "    \n",
    "    # results based on Random Forest or Extra Trees\n",
    "    rfc_df = results_df.sort_values(by=['rfc_gini'],ascending=False).head(15)\n",
    "    et_df = results_df.sort_values(by=['et_gini'],ascending=False).head(15)\n",
    "    \n",
    "    return rfc_df, et_df\n",
    " "
   ]
  },
  {
   "cell_type": "code",
   "execution_count": 54,
   "id": "8323ecb7",
   "metadata": {},
   "outputs": [],
   "source": [
    "# Merged dataframe on cleaned dataset (for both Random Forest and Extra Trees classifiers)\n",
    "rfc_df, et_df = feature_df(rfc_cleaned_results, et_cleaned_results)"
   ]
  },
  {
   "cell_type": "code",
   "execution_count": 55,
   "id": "528ff156",
   "metadata": {},
   "outputs": [
    {
     "data": {
      "text/html": [
       "<div>\n",
       "<style scoped>\n",
       "    .dataframe tbody tr th:only-of-type {\n",
       "        vertical-align: middle;\n",
       "    }\n",
       "\n",
       "    .dataframe tbody tr th {\n",
       "        vertical-align: top;\n",
       "    }\n",
       "\n",
       "    .dataframe thead th {\n",
       "        text-align: right;\n",
       "    }\n",
       "</style>\n",
       "<table border=\"1\" class=\"dataframe\">\n",
       "  <thead>\n",
       "    <tr style=\"text-align: right;\">\n",
       "      <th></th>\n",
       "      <th>word</th>\n",
       "      <th>rfc_gini</th>\n",
       "      <th>et_gini</th>\n",
       "    </tr>\n",
       "  </thead>\n",
       "  <tbody>\n",
       "    <tr>\n",
       "      <th>132</th>\n",
       "      <td>green</td>\n",
       "      <td>0.079718</td>\n",
       "      <td>0.062180</td>\n",
       "    </tr>\n",
       "    <tr>\n",
       "      <th>135</th>\n",
       "      <td>grinder</td>\n",
       "      <td>0.075437</td>\n",
       "      <td>0.055043</td>\n",
       "    </tr>\n",
       "    <tr>\n",
       "      <th>202</th>\n",
       "      <td>machine</td>\n",
       "      <td>0.071767</td>\n",
       "      <td>0.036559</td>\n",
       "    </tr>\n",
       "    <tr>\n",
       "      <th>182</th>\n",
       "      <td>leaf</td>\n",
       "      <td>0.066194</td>\n",
       "      <td>0.052572</td>\n",
       "    </tr>\n",
       "    <tr>\n",
       "      <th>30</th>\n",
       "      <td>beans</td>\n",
       "      <td>0.062509</td>\n",
       "      <td>0.053553</td>\n",
       "    </tr>\n",
       "    <tr>\n",
       "      <th>199</th>\n",
       "      <td>loose</td>\n",
       "      <td>0.041699</td>\n",
       "      <td>0.040515</td>\n",
       "    </tr>\n",
       "    <tr>\n",
       "      <th>134</th>\n",
       "      <td>grind</td>\n",
       "      <td>0.038916</td>\n",
       "      <td>0.032890</td>\n",
       "    </tr>\n",
       "    <tr>\n",
       "      <th>244</th>\n",
       "      <td>oolong</td>\n",
       "      <td>0.031704</td>\n",
       "      <td>0.030673</td>\n",
       "    </tr>\n",
       "    <tr>\n",
       "      <th>184</th>\n",
       "      <td>leaves</td>\n",
       "      <td>0.029137</td>\n",
       "      <td>0.028316</td>\n",
       "    </tr>\n",
       "    <tr>\n",
       "      <th>295</th>\n",
       "      <td>roast</td>\n",
       "      <td>0.021024</td>\n",
       "      <td>0.019067</td>\n",
       "    </tr>\n",
       "    <tr>\n",
       "      <th>84</th>\n",
       "      <td>drip</td>\n",
       "      <td>0.019031</td>\n",
       "      <td>0.016356</td>\n",
       "    </tr>\n",
       "    <tr>\n",
       "      <th>268</th>\n",
       "      <td>press</td>\n",
       "      <td>0.017863</td>\n",
       "      <td>0.019403</td>\n",
       "    </tr>\n",
       "    <tr>\n",
       "      <th>265</th>\n",
       "      <td>pour</td>\n",
       "      <td>0.016983</td>\n",
       "      <td>0.012171</td>\n",
       "    </tr>\n",
       "    <tr>\n",
       "      <th>287</th>\n",
       "      <td>really</td>\n",
       "      <td>0.016123</td>\n",
       "      <td>0.005985</td>\n",
       "    </tr>\n",
       "    <tr>\n",
       "      <th>36</th>\n",
       "      <td>black</td>\n",
       "      <td>0.014822</td>\n",
       "      <td>0.008431</td>\n",
       "    </tr>\n",
       "  </tbody>\n",
       "</table>\n",
       "</div>"
      ],
      "text/plain": [
       "        word  rfc_gini   et_gini\n",
       "132    green  0.079718  0.062180\n",
       "135  grinder  0.075437  0.055043\n",
       "202  machine  0.071767  0.036559\n",
       "182     leaf  0.066194  0.052572\n",
       "30     beans  0.062509  0.053553\n",
       "199    loose  0.041699  0.040515\n",
       "134    grind  0.038916  0.032890\n",
       "244   oolong  0.031704  0.030673\n",
       "184   leaves  0.029137  0.028316\n",
       "295    roast  0.021024  0.019067\n",
       "84      drip  0.019031  0.016356\n",
       "268    press  0.017863  0.019403\n",
       "265     pour  0.016983  0.012171\n",
       "287   really  0.016123  0.005985\n",
       "36     black  0.014822  0.008431"
      ]
     },
     "execution_count": 55,
     "metadata": {},
     "output_type": "execute_result"
    }
   ],
   "source": [
    "# dataframe on cleaned data, based on top 15 scores in Random Forest\n",
    "rfc_df"
   ]
  },
  {
   "cell_type": "code",
   "execution_count": 56,
   "id": "4a33d74a",
   "metadata": {},
   "outputs": [
    {
     "data": {
      "text/html": [
       "<div>\n",
       "<style scoped>\n",
       "    .dataframe tbody tr th:only-of-type {\n",
       "        vertical-align: middle;\n",
       "    }\n",
       "\n",
       "    .dataframe tbody tr th {\n",
       "        vertical-align: top;\n",
       "    }\n",
       "\n",
       "    .dataframe thead th {\n",
       "        text-align: right;\n",
       "    }\n",
       "</style>\n",
       "<table border=\"1\" class=\"dataframe\">\n",
       "  <thead>\n",
       "    <tr style=\"text-align: right;\">\n",
       "      <th></th>\n",
       "      <th>word</th>\n",
       "      <th>rfc_gini</th>\n",
       "      <th>et_gini</th>\n",
       "    </tr>\n",
       "  </thead>\n",
       "  <tbody>\n",
       "    <tr>\n",
       "      <th>132</th>\n",
       "      <td>green</td>\n",
       "      <td>0.079718</td>\n",
       "      <td>0.062180</td>\n",
       "    </tr>\n",
       "    <tr>\n",
       "      <th>135</th>\n",
       "      <td>grinder</td>\n",
       "      <td>0.075437</td>\n",
       "      <td>0.055043</td>\n",
       "    </tr>\n",
       "    <tr>\n",
       "      <th>30</th>\n",
       "      <td>beans</td>\n",
       "      <td>0.062509</td>\n",
       "      <td>0.053553</td>\n",
       "    </tr>\n",
       "    <tr>\n",
       "      <th>182</th>\n",
       "      <td>leaf</td>\n",
       "      <td>0.066194</td>\n",
       "      <td>0.052572</td>\n",
       "    </tr>\n",
       "    <tr>\n",
       "      <th>199</th>\n",
       "      <td>loose</td>\n",
       "      <td>0.041699</td>\n",
       "      <td>0.040515</td>\n",
       "    </tr>\n",
       "    <tr>\n",
       "      <th>202</th>\n",
       "      <td>machine</td>\n",
       "      <td>0.071767</td>\n",
       "      <td>0.036559</td>\n",
       "    </tr>\n",
       "    <tr>\n",
       "      <th>134</th>\n",
       "      <td>grind</td>\n",
       "      <td>0.038916</td>\n",
       "      <td>0.032890</td>\n",
       "    </tr>\n",
       "    <tr>\n",
       "      <th>244</th>\n",
       "      <td>oolong</td>\n",
       "      <td>0.031704</td>\n",
       "      <td>0.030673</td>\n",
       "    </tr>\n",
       "    <tr>\n",
       "      <th>184</th>\n",
       "      <td>leaves</td>\n",
       "      <td>0.029137</td>\n",
       "      <td>0.028316</td>\n",
       "    </tr>\n",
       "    <tr>\n",
       "      <th>362</th>\n",
       "      <td>topics</td>\n",
       "      <td>0.006659</td>\n",
       "      <td>0.022111</td>\n",
       "    </tr>\n",
       "    <tr>\n",
       "      <th>268</th>\n",
       "      <td>press</td>\n",
       "      <td>0.017863</td>\n",
       "      <td>0.019403</td>\n",
       "    </tr>\n",
       "    <tr>\n",
       "      <th>295</th>\n",
       "      <td>roast</td>\n",
       "      <td>0.021024</td>\n",
       "      <td>0.019067</td>\n",
       "    </tr>\n",
       "    <tr>\n",
       "      <th>84</th>\n",
       "      <td>drip</td>\n",
       "      <td>0.019031</td>\n",
       "      <td>0.016356</td>\n",
       "    </tr>\n",
       "    <tr>\n",
       "      <th>56</th>\n",
       "      <td>chinese</td>\n",
       "      <td>0.010569</td>\n",
       "      <td>0.016260</td>\n",
       "    </tr>\n",
       "    <tr>\n",
       "      <th>78</th>\n",
       "      <td>discussion</td>\n",
       "      <td>0.003321</td>\n",
       "      <td>0.015475</td>\n",
       "    </tr>\n",
       "  </tbody>\n",
       "</table>\n",
       "</div>"
      ],
      "text/plain": [
       "           word  rfc_gini   et_gini\n",
       "132       green  0.079718  0.062180\n",
       "135     grinder  0.075437  0.055043\n",
       "30        beans  0.062509  0.053553\n",
       "182        leaf  0.066194  0.052572\n",
       "199       loose  0.041699  0.040515\n",
       "202     machine  0.071767  0.036559\n",
       "134       grind  0.038916  0.032890\n",
       "244      oolong  0.031704  0.030673\n",
       "184      leaves  0.029137  0.028316\n",
       "362      topics  0.006659  0.022111\n",
       "268       press  0.017863  0.019403\n",
       "295       roast  0.021024  0.019067\n",
       "84         drip  0.019031  0.016356\n",
       "56      chinese  0.010569  0.016260\n",
       "78   discussion  0.003321  0.015475"
      ]
     },
     "execution_count": 56,
     "metadata": {},
     "output_type": "execute_result"
    }
   ],
   "source": [
    "# dataframe on cleaned data, based on top 15 scores in Extra Trees\n",
    "et_df"
   ]
  },
  {
   "cell_type": "code",
   "execution_count": 57,
   "id": "b3da703a",
   "metadata": {},
   "outputs": [
    {
     "data": {
      "image/png": "[encoded data removed]",
      "text/plain": [
       "<Figure size 720x720 with 1 Axes>"
      ]
     },
     "metadata": {
      "needs_background": "light"
     },
     "output_type": "display_data"
    }
   ],
   "source": [
    "# plot differences in feature importance\n",
    "rfc_df.plot.barh(x='word',y=['rfc_gini','et_gini'],figsize=(10,10));\n",
    "plt.legend(['Random Forest','Extra Trees']);\n",
    "plt.ylabel('word/ feature');\n",
    "plt.xlabel('gini importance');"
   ]
  },
  {
   "cell_type": "markdown",
   "id": "a459b39c",
   "metadata": {},
   "source": [
    "The above plot is based on top 15 words/features determined by the Random Forest classifier. It is obvious that the Random Forest and Extra Trees classifiers gave higher importance to different set of words. \n",
    "<br>\n",
    "<br> With the exception of 'leaves', the other words were also common words found in earlier models. It was interesting that 'leaves', in addition to 'leaf' (found in previous models), was of importance here. "
   ]
  },
  {
   "cell_type": "code",
   "execution_count": 58,
   "id": "3d834b5c",
   "metadata": {},
   "outputs": [
    {
     "data": {
      "image/png": "[encoded data removed]",
      "text/plain": [
       "<Figure size 720x720 with 1 Axes>"
      ]
     },
     "metadata": {
      "needs_background": "light"
     },
     "output_type": "display_data"
    }
   ],
   "source": [
    "# plot differences in feature importance\n",
    "et_df.plot.barh(x='word',y=['rfc_gini','et_gini'],figsize=(10,10));\n",
    "plt.legend(['Random Forest','Extra Trees']);\n",
    "plt.ylabel('word/ feature');\n",
    "plt.xlabel('gini importance');"
   ]
  },
  {
   "cell_type": "markdown",
   "id": "ace785a7",
   "metadata": {},
   "source": [
    "The above plot is based on top 15 words/features determined by the Extra Trees classifier. It is obvious that the Random Forest and Extra Trees classifiers gave higher importance to different set of words. **Note** that Extra Trees has additional randomization during optimization; Random Forest selects the most optimum split, while Extra Trees selects the split randomly. \n",
    "<br>\n",
    "<br> In several runs, 'stories', 'topics' and 'discussion' were words/features common in the spam posts. Since Extra Trees selects the split randomly, any feature can be chosen randomly for splitting. "
   ]
  },
  {
   "cell_type": "markdown",
   "id": "0dede4e7",
   "metadata": {},
   "source": [
    "**Porter-stemmed data**"
   ]
  },
  {
   "cell_type": "markdown",
   "id": "34ea2c2b",
   "metadata": {},
   "source": [
    "Since porter stemmed is strict, as it not only aims to remove any inflection endings, it also chops off the ends of words, let us examine if the differences found in the cleaned dataset also occurs in stemmed dataset. "
   ]
  },
  {
   "cell_type": "code",
   "execution_count": 59,
   "id": "189d3f8c",
   "metadata": {},
   "outputs": [],
   "source": [
    "# Merged dataframe on stemmed dataset (for both Random Forest and Extra Trees classifiers)\n",
    "rfc_stem, et_stem = feature_df(rfc_stemm_results, et_stem_results)"
   ]
  },
  {
   "cell_type": "code",
   "execution_count": 60,
   "id": "008375a0",
   "metadata": {},
   "outputs": [
    {
     "data": {
      "image/png": "[encoded data removed]",
      "text/plain": [
       "<Figure size 720x720 with 1 Axes>"
      ]
     },
     "metadata": {
      "needs_background": "light"
     },
     "output_type": "display_data"
    }
   ],
   "source": [
    "# plot differences in feature importance\n",
    "rfc_stem.plot.barh(x='word',y=['rfc_gini','et_gini'],figsize=(10,10));\n",
    "plt.legend(['Random Forest','Extra Trees']);\n",
    "plt.ylabel('word/ feature');\n",
    "plt.xlabel('gini importance');"
   ]
  },
  {
   "cell_type": "markdown",
   "id": "0bfb284d",
   "metadata": {},
   "source": [
    "The above plot is based on top 15 words/features determined by the Random Forest classifier, and they are compared to Extra Trees classifier. Again, it is obvious that the Random Forest and Extra Trees classifiers gave higher importance to different set of words. There is not a lot of surprise here, as they are expected common words which were also found during EDA and in previous models. "
   ]
  },
  {
   "cell_type": "code",
   "execution_count": 61,
   "id": "03c923f3",
   "metadata": {},
   "outputs": [
    {
     "data": {
      "image/png": "[encoded data removed]",
      "text/plain": [
       "<Figure size 720x720 with 1 Axes>"
      ]
     },
     "metadata": {
      "needs_background": "light"
     },
     "output_type": "display_data"
    }
   ],
   "source": [
    "# plot differences in feature importance\n",
    "et_stem.plot.barh(x='word',y=['rfc_gini','et_gini'],figsize=(10,10));\n",
    "plt.legend(['Random Forest','Extra Trees']);\n",
    "plt.ylabel('word/ feature');\n",
    "plt.xlabel('gini importance');"
   ]
  },
  {
   "cell_type": "markdown",
   "id": "77943be1",
   "metadata": {},
   "source": [
    "The above plot is based on top 15 words/features determined by the Extra Trees classifier, and compared with Random Forest classifier. Previous runs, will sometimes report 'gal' as an important feature; 'gal' is found in the spam posts. \n",
    "<br> \n",
    "<br> Otherwise, stemming of the words here, might better consolidate the important words/features, raising their importance. Thus, there was higher accuracy in the stemmed dataset for the Extra Tree classifier."
   ]
  },
  {
   "cell_type": "markdown",
   "id": "558fe66d",
   "metadata": {},
   "source": [
    "**Summary**\n",
    "<br> Random Forest has better accuracy and f1-scores, compared to the Extra Trees classifier. While there are similarities between both ensemble methods, Extra Trees has additional randomization during optimization; Random Forest selects the most optimum split, while Extra Trees selects the split randomly. \n",
    "<br>\n",
    "<br> There were less features from spam posts in Random Forest considered 'important', than in Extra Trees classifier. Despite this, Extra trees has similar f1-scores (similar misclassification). Both classifiers performed better on stemmed dataset. Thus, if there were a lot of irrelevant features, stemming might be better in consolidating the features, and raising their importance, which will result in a more accurate prediction."
   ]
  },
  {
   "cell_type": "markdown",
   "id": "379fb299",
   "metadata": {},
   "source": [
    "---"
   ]
  },
  {
   "cell_type": "markdown",
   "id": "805fde3e",
   "metadata": {},
   "source": [
    "### CountVectorizer and Voting Classifier"
   ]
  },
  {
   "cell_type": "markdown",
   "id": "a3d106ae",
   "metadata": {},
   "source": [
    "*[Disclaimer: this is an experiment which could have gone really wrong]*\n",
    "<br> A voting classifier is a classification method that uses multiple classifiers to make predictions. Apparently, it is very applicable in situations when one is confused about which classification method to use (sounds like the aim of this project). It trains an ensemble of several classifiers and predicts the class based on the highest probability. \n",
    "<br> \n",
    "<br> Since feature importance is not defined for the **KNN** Classification algorithm (ie., there is no easy way to compute the features or their coefficients responsible for the classification), this would used as a scape goat here. **Logistic regression** is considered simple to train with interpretable results, and it has not been used previously, so logistic regression would be used as a guinea pig here. **Naive Bayes** has reported good results previously, so it would be used here as the 'standard'. \n",
    "<br>\n",
    "<br> For simplicity, this was tested only on cleaned data (without lemmatizing and stemming). \n"
   ]
  },
  {
   "cell_type": "code",
   "execution_count": 62,
   "id": "613e1603",
   "metadata": {},
   "outputs": [],
   "source": [
    "# Set up pipeline and its parameters\n",
    "# 1. CountVectorizer (transformer)\n",
    "# 2. Estimator\n",
    "#    - Logistic Regression\n",
    "#    - Knn\n",
    "#    - Multinomial Naive Bayes \n",
    "def cvec_vc_pipeline(X, y, params):\n",
    "    '''data is X, y with params as parameters for the pipeline'''\n",
    "    # split data\n",
    "    X_train, X_test, y_train, y_test = train_test_split(X,\n",
    "                                                    y,\n",
    "                                                    test_size=0.33,\n",
    "                                                    stratify=y,\n",
    "                                                    random_state=42)\n",
    "\n",
    "    # create pipeline\n",
    "    pipe = Pipeline([\n",
    "        ('cvec', CountVectorizer()),\n",
    "        ('vc', VotingClassifier(\n",
    "            estimators=[\n",
    "                ('logr',LogisticRegression(max_iter=300)),\n",
    "                ('knn', KNeighborsClassifier()),\n",
    "                ('nb', MultinomialNB()),\n",
    "            ]\n",
    "        ))\n",
    "    ])\n",
    "\n",
    "    # Instantiate GridSearchCV.\n",
    "    gs = GridSearchCV(pipe,                  \n",
    "                      param_grid=params, \n",
    "                      cv=5,\n",
    "                      n_jobs=-1) \n",
    "\n",
    "    # Fit GridSearch to training data.\n",
    "    model = gs.fit(X_train, y_train)\n",
    "\n",
    "    # Score model on training set.\n",
    "    train_score = gs.score(X_train, y_train)\n",
    "\n",
    "    # Score model on testing set.\n",
    "    test_score = gs.score(X_test, y_test)\n",
    "\n",
    "    # predict class probabilities for all classifiers\n",
    "    probas = [model.predict_proba(X_train).round(3) for c in ('logr','knn','nb','vc')]\n",
    "\n",
    "    # Get predictions\n",
    "    preds = gs.predict(X_test)\n",
    "\n",
    "    # Save confusion matrix values\n",
    "    tn, fp, fn, tp = confusion_matrix(y_test, preds).ravel()\n",
    "\n",
    "    # View confusion matrix\n",
    "    plot_confusion_matrix(gs, X_test, y_test, cmap='Blues', values_format='d');\n",
    "\n",
    "    # Calculate the sensitivity/ recall\n",
    "    sens = tp / (tp + fn)\n",
    "\n",
    "    # Calculate the precision\n",
    "    prec = tp / (tp + fp)\n",
    "\n",
    "    # Calculate the f1 score\n",
    "    f1 = 2 * (sens * prec) / (sens + prec)\n",
    "\n",
    "    # print results\n",
    "    print(f'Best params: {gs.best_params_}')\n",
    "    print(f'Training score: {round(train_score, 4)}')\n",
    "    print(f'Test score: {round(test_score, 4)}')\n",
    "    print(f'f1-score: {round(f1, 4)}')\n",
    "\n",
    "    return (gs.cv_results_, probas)"
   ]
  },
  {
   "cell_type": "code",
   "execution_count": 63,
   "id": "48a39590",
   "metadata": {},
   "outputs": [],
   "source": [
    "# original parameters for cvec_vc_pipeline\n",
    "vote_params = {\n",
    "    'cvec__ngram_range': [(1, 1), (1, 2)],\n",
    "    'cvec__max_features': [400, 500], \n",
    "    'cvec__min_df': [0.01, 0.02],\n",
    "    'cvec__max_df': [0.8, 0.9],\n",
    "    'vc__voting': ['hard','soft'],\n",
    "    'vc__knn__n_neighbors': [3, 5, 7],\n",
    "    'vc__logr__penalty': ['none', 'l2'],\n",
    "    'vc__logr__solver': ['sag', 'saga'],\n",
    "}\n"
   ]
  },
  {
   "cell_type": "markdown",
   "id": "1a76b6d9",
   "metadata": {},
   "source": [
    "#### Cleaned data (without lemmatizing and stemming)\n"
   ]
  },
  {
   "cell_type": "code",
   "execution_count": 64,
   "id": "c3d9cc51",
   "metadata": {},
   "outputs": [
    {
     "name": "stderr",
     "output_type": "stream",
     "text": [
      "C:\\Users\\USER\\anaconda3\\envs\\dsi24\\lib\\site-packages\\sklearn\\linear_model\\_sag.py:328: ConvergenceWarning: The max_iter was reached which means the coef_ did not converge\n",
      "  warnings.warn(\"The max_iter was reached which means \"\n"
     ]
    },
    {
     "name": "stdout",
     "output_type": "stream",
     "text": [
      "Best params: {'cvec__max_df': 0.9, 'cvec__max_features': 500, 'cvec__min_df': 0.01, 'cvec__ngram_range': (1, 1), 'vc__knn__n_neighbors': 7, 'vc__logr__penalty': 'none', 'vc__logr__solver': 'sag', 'vc__voting': 'soft'}\n",
      "Training score: 0.9242\n",
      "Test score: 0.8568\n",
      "f1-score: 0.8635\n"
     ]
    },
    {
     "data": {
      "image/png": "[encoded data removed]",
      "text/plain": [
       "<Figure size 432x288 with 2 Axes>"
      ]
     },
     "metadata": {
      "needs_background": "light"
     },
     "output_type": "display_data"
    }
   ],
   "source": [
    "X_cleaned = drinks['cleaned_sent']\n",
    "y = drinks['drink']\n",
    "\n",
    "# best parameter\n",
    "cleaned_vote_params = {\n",
    "    'cvec__ngram_range': [(1, 1)],\n",
    "    'cvec__max_features': [500], \n",
    "    'cvec__min_df': [0.01],\n",
    "    'cvec__max_df': [0.9],\n",
    "    'vc__voting': ['soft'],\n",
    "    'vc__knn__n_neighbors': [7],\n",
    "    'vc__logr__penalty': ['none'],\n",
    "    'vc__logr__solver': ['sag'],\n",
    "}\n",
    "\n",
    "cv_results, probas = cvec_vc_pipeline(X_cleaned, y, params = cleaned_vote_params)\n"
   ]
  },
  {
   "cell_type": "markdown",
   "id": "d9bb8b76",
   "metadata": {},
   "source": [
    "<br> Despite repeated changes to **'max_iter'**, there were constant warnings that the 'coefs did not converge'. It was  suspected that in any case, the results did not converge for the logistic regression model. Logistic regression **solvers** such as ['lbfgs' , 'liblinear'] produced overfitting, where training scores were considerably higher than test scores. So they were not offered during a gridsearch to find optimised parameters. Similarly for knn, higher values in **'n_neighbors'** produce overfitting, so only single digit values were offered for gridsearch. \n",
    "<br>\n",
    "<br>The above best parameters seemed to provide the least difference between training and test scores. **'voting'** had the option of 'hard' or 'soft'. 'hard' uses majority voting, while 'soft' uses the sums of the predicted probabilities. 'soft' is recommended if the classifiers are well-calibrated. ['soft' voting provided a better score than 'hard' voting].\n",
    "<br> \n",
    "\n"
   ]
  },
  {
   "cell_type": "markdown",
   "id": "5a3c0042",
   "metadata": {},
   "source": [
    "**Summary**\n",
    "<br> The accuracy score of 0.92 was best among all the models. However, while voting classifier often achieves higher accuracy than the best classifier in the ensemble, it is uncertain which classifier did the best. Previously, Naive Bayes produced good accuracy scores, but knn also showed that it can easily overfit during parameter tuning. In addition, since there is ensembling of different algorithms with different concepts of 'feature importance', there might not be a well defined way of deciding which features are most important in the ensembled results. So the conclusion of this exercise is to explore each model individually. "
   ]
  },
  {
   "cell_type": "markdown",
   "id": "67a014b0",
   "metadata": {},
   "source": [
    "## Conclusion"
   ]
  },
  {
   "cell_type": "markdown",
   "id": "f39d32ea",
   "metadata": {},
   "source": [
    "| Dataset    |                 | Accuracy scores |               |             |\n",
    "|------------|-----------------|---------------|---------------|-------------|\n",
    "|            | Naive Bayes     | Decision Tree | Random Forest | Extra Trees |\n",
    "| Cleaned    | 0.871           | 0.777         | 0.832         | 0.812       |\n",
    "| Lemmatized | 0.872           | 0.792         | 0.850         | 0.833       |\n",
    "| Stemmed    | 0.865           | 0.788         | 0.862         | 0.850       |"
   ]
  },
  {
   "cell_type": "markdown",
   "id": "553b9391",
   "metadata": {},
   "source": [
    "| Dataset    |  |    f1-scores             |               |             |\n",
    "|------------|-------------|---------------|---------------|-------------|\n",
    "|            | Naive Bayes | Decision Tree | Random Forest | Extra Trees |\n",
    "| Cleaned    | 0.879       | 0.771         | 0.847         | 0.844       |\n",
    "| Lemmatized | 0.879       | 0.796         | 0.856         | 0.855       |\n",
    "| Stemmed    | 0.870       | 0.789         | 0.863         | 0.865       |"
   ]
  },
  {
   "cell_type": "markdown",
   "id": "9b246595",
   "metadata": {},
   "source": [
    "The selected model here is the **Naive Bayes** model. This is due to several reasons:\n",
    "<br> * It provided good accuracy and f1-scores, compared to other models. \n",
    "<br> * It reported good scores, regardless of whether the text was with/without lemmatization/stemming. \n",
    "<br> * Negative impact from spam posts seemed to be at a minimum. In other words, the model performed well *despite* the presence of spam.\n",
    "<br>\n",
    "<br> From the model, it was evident that searches done for coffee leaned towards the different type of machines and methods of brewing beans. Tea-related searches are associated with searching for a specific type of tea, usually named after the place the leaves came from. It is uncertain how the model will fare in the **longer term**. Considering that there is a strong coffee or tea drinking culture in some societies, the current dataset (with spam) might still prove useful. However, getting a larger set of data is still encouraged. \n",
    "<br>\n",
    "<br> **Recommendations**\n",
    "<br> * A more thorough cleaning, or another round of searching might have resulted in the finding and removal of the spam posts. \n",
    "<br> * Perhaps Voting classifier might not be so useful if one wants to look in depth into feature importances (of the best performing estimator). \n",
    "<br> * Model tuning should be done for each different datasets. Initial examination did show small differences in 'max_features'. Since stemming would better consolidate the features, the frequency of certain words would increase. \n",
    "<br> *There are other trained models, such as BERT, which is fun but requires a lot of computational processing (and the models here already took some time). There are also other 'explainable' models which not just provide predictions, but also 'explained' as to why that class was chosen [[ref](https://lrpserver.hhi.fraunhofer.de/text-classification)]. These models are fun to explore, and allow direct explanation of feature importance (but perhaps, an overkill to differentiate between coffee and tea.)\n"
   ]
  }
 ],
 "metadata": {
  "kernelspec": {
   "display_name": "Python 3",
   "language": "python",
   "name": "python3"
  },
  "language_info": {
   "codemirror_mode": {
    "name": "ipython",
    "version": 3
   },
   "file_extension": ".py",
   "mimetype": "text/x-python",
   "name": "python",
   "nbconvert_exporter": "python",
   "pygments_lexer": "ipython3",
   "version": "3.8.8"
  },
  "toc": {
   "base_numbering": 1,
   "nav_menu": {},
   "number_sections": true,
   "sideBar": true,
   "skip_h1_title": false,
   "title_cell": "Table of Contents",
   "title_sidebar": "Contents",
   "toc_cell": false,
   "toc_position": {
    "height": "747px",
    "left": "71px",
    "top": "377.133px",
    "width": "384px"
   },
   "toc_section_display": true,
   "toc_window_display": true
  }
 },
 "nbformat": 4,
 "nbformat_minor": 5
}
