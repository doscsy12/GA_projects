{
 "cells": [
  {
   "cell_type": "markdown",
   "id": "2f8b383a",
   "metadata": {},
   "source": [
    "# Project 3: Web APIs and NLP "
   ]
  },
  {
   "cell_type": "markdown",
   "id": "cb111419",
   "metadata": {},
   "source": [
    "### Contents:\n",
    "- [Data Cleaning](#Data-Import-and-Cleaning)\n",
    "- [Exploratory Data Analysis](#Exploratory-Data-Analysis)\n"
   ]
  },
  {
   "cell_type": "markdown",
   "id": "28027f81",
   "metadata": {},
   "source": [
    "### Data\n",
    "\n",
    "**Data from webscraping:** \n",
    "* coffeesearch.csv: this dataset contains all of the coffee data from webscraping\n",
    "* teasearch.csv: this dataset contains all of the tea data from webscraping"
   ]
  },
  {
   "cell_type": "markdown",
   "id": "f84b44b7",
   "metadata": {},
   "source": [
    "*Libraries added here*"
   ]
  },
  {
   "cell_type": "code",
   "execution_count": 1,
   "id": "eaa8a504",
   "metadata": {},
   "outputs": [],
   "source": [
    "import requests\n",
    "import pandas as pd\n",
    "import seaborn as sns\n",
    "import matplotlib.pyplot as plt\n",
    "\n",
    "from nltk.tokenize import sent_tokenize, word_tokenize, RegexpTokenizer\n",
    "from nltk.stem import WordNetLemmatizer\n",
    "from nltk.stem.porter import PorterStemmer\n",
    "from nltk.corpus import stopwords\n",
    "from sklearn.feature_extraction.text import CountVectorizer, TfidfVectorizer\n",
    "import re"
   ]
  },
  {
   "cell_type": "code",
   "execution_count": 2,
   "id": "57796806",
   "metadata": {},
   "outputs": [
    {
     "name": "stderr",
     "output_type": "stream",
     "text": [
      "[nltk_data] Downloading package wordnet to\n",
      "[nltk_data]     C:\\Users\\USER\\AppData\\Roaming\\nltk_data...\n",
      "[nltk_data]   Package wordnet is already up-to-date!\n",
      "[nltk_data] Downloading package stopwords to\n",
      "[nltk_data]     C:\\Users\\USER\\AppData\\Roaming\\nltk_data...\n",
      "[nltk_data]   Package stopwords is already up-to-date!\n"
     ]
    },
    {
     "data": {
      "text/plain": [
       "True"
      ]
     },
     "execution_count": 2,
     "metadata": {},
     "output_type": "execute_result"
    }
   ],
   "source": [
    "import nltk\n",
    "nltk.download('wordnet')\n",
    "nltk.download('stopwords')"
   ]
  },
  {
   "cell_type": "markdown",
   "id": "d5e27366",
   "metadata": {},
   "source": [
    "## Data Import "
   ]
  },
  {
   "cell_type": "code",
   "execution_count": 3,
   "id": "d662786e",
   "metadata": {},
   "outputs": [],
   "source": [
    "coffee = pd.read_csv('../datasets/coffeesearch.csv')"
   ]
  },
  {
   "cell_type": "code",
   "execution_count": 4,
   "id": "7bfa42bf",
   "metadata": {},
   "outputs": [],
   "source": [
    "tea = pd.read_csv('../datasets/teasearch.csv')"
   ]
  },
  {
   "cell_type": "code",
   "execution_count": 5,
   "id": "1dbf926a",
   "metadata": {},
   "outputs": [
    {
     "data": {
      "text/html": [
       "<div>\n",
       "<style scoped>\n",
       "    .dataframe tbody tr th:only-of-type {\n",
       "        vertical-align: middle;\n",
       "    }\n",
       "\n",
       "    .dataframe tbody tr th {\n",
       "        vertical-align: top;\n",
       "    }\n",
       "\n",
       "    .dataframe thead th {\n",
       "        text-align: right;\n",
       "    }\n",
       "</style>\n",
       "<table border=\"1\" class=\"dataframe\">\n",
       "  <thead>\n",
       "    <tr style=\"text-align: right;\">\n",
       "      <th></th>\n",
       "      <th>Unnamed: 0</th>\n",
       "      <th>subreddit</th>\n",
       "      <th>selftext</th>\n",
       "      <th>title</th>\n",
       "      <th>text</th>\n",
       "    </tr>\n",
       "  </thead>\n",
       "  <tbody>\n",
       "    <tr>\n",
       "      <th>0</th>\n",
       "      <td>0</td>\n",
       "      <td>Coffee</td>\n",
       "      <td>Hello everyone,\\n\\nA couple of years I bought ...</td>\n",
       "      <td>Tetsu Kasuya signature V60</td>\n",
       "      <td>Hello everyone,\\n\\nA couple of years I bought ...</td>\n",
       "    </tr>\n",
       "    <tr>\n",
       "      <th>1</th>\n",
       "      <td>3</td>\n",
       "      <td>Coffee</td>\n",
       "      <td>\\n\\nWelcome to the daily [/r/Coffee](https://...</td>\n",
       "      <td>[MOD] The Daily Question Thread</td>\n",
       "      <td>\\n\\nWelcome to the daily [/r/Coffee](https://...</td>\n",
       "    </tr>\n",
       "    <tr>\n",
       "      <th>2</th>\n",
       "      <td>4</td>\n",
       "      <td>Coffee</td>\n",
       "      <td>I very recently moved into a new country and h...</td>\n",
       "      <td>Are my local roasteries ripping me off?</td>\n",
       "      <td>I very recently moved into a new country and h...</td>\n",
       "    </tr>\n",
       "    <tr>\n",
       "      <th>3</th>\n",
       "      <td>5</td>\n",
       "      <td>Coffee</td>\n",
       "      <td>Hey! im visiting some friends in London and wa...</td>\n",
       "      <td>Where to get a good Geisha coffee in london?</td>\n",
       "      <td>Hey! im visiting some friends in London and wa...</td>\n",
       "    </tr>\n",
       "    <tr>\n",
       "      <th>4</th>\n",
       "      <td>6</td>\n",
       "      <td>Coffee</td>\n",
       "      <td>Get a fine italian expresso, melt a little squ...</td>\n",
       "      <td>Just for real cofee lovers!</td>\n",
       "      <td>Get a fine italian expresso, melt a little squ...</td>\n",
       "    </tr>\n",
       "    <tr>\n",
       "      <th>5</th>\n",
       "      <td>7</td>\n",
       "      <td>Coffee</td>\n",
       "      <td>I stopped drinking coffee a few years ago and ...</td>\n",
       "      <td>I want to start drinking coffee again.</td>\n",
       "      <td>I stopped drinking coffee a few years ago and ...</td>\n",
       "    </tr>\n",
       "    <tr>\n",
       "      <th>6</th>\n",
       "      <td>8</td>\n",
       "      <td>Coffee</td>\n",
       "      <td>Hi all (I hope this is the right place for thi...</td>\n",
       "      <td>Washable Coffee Grinders Similar to Bodum?</td>\n",
       "      <td>Hi all (I hope this is the right place for thi...</td>\n",
       "    </tr>\n",
       "    <tr>\n",
       "      <th>7</th>\n",
       "      <td>11</td>\n",
       "      <td>Coffee</td>\n",
       "      <td>I know the title is a horrible combo for coffe...</td>\n",
       "      <td>Favorite decaf whole beans for drip coffee?</td>\n",
       "      <td>I know the title is a horrible combo for coffe...</td>\n",
       "    </tr>\n",
       "    <tr>\n",
       "      <th>8</th>\n",
       "      <td>13</td>\n",
       "      <td>Coffee</td>\n",
       "      <td>Looking to expand my horizons.</td>\n",
       "      <td>What coffee grinders do you guys use?</td>\n",
       "      <td>Looking to expand my horizons.What coffee grin...</td>\n",
       "    </tr>\n",
       "    <tr>\n",
       "      <th>9</th>\n",
       "      <td>15</td>\n",
       "      <td>Coffee</td>\n",
       "      <td>I'm willing to spend up to $200, but which cof...</td>\n",
       "      <td>which coffee maker makes the best tasting coffee?</td>\n",
       "      <td>I'm willing to spend up to $200, but which cof...</td>\n",
       "    </tr>\n",
       "  </tbody>\n",
       "</table>\n",
       "</div>"
      ],
      "text/plain": [
       "   Unnamed: 0 subreddit                                           selftext  \\\n",
       "0           0    Coffee  Hello everyone,\\n\\nA couple of years I bought ...   \n",
       "1           3    Coffee   \\n\\nWelcome to the daily [/r/Coffee](https://...   \n",
       "2           4    Coffee  I very recently moved into a new country and h...   \n",
       "3           5    Coffee  Hey! im visiting some friends in London and wa...   \n",
       "4           6    Coffee  Get a fine italian expresso, melt a little squ...   \n",
       "5           7    Coffee  I stopped drinking coffee a few years ago and ...   \n",
       "6           8    Coffee  Hi all (I hope this is the right place for thi...   \n",
       "7          11    Coffee  I know the title is a horrible combo for coffe...   \n",
       "8          13    Coffee                     Looking to expand my horizons.   \n",
       "9          15    Coffee  I'm willing to spend up to $200, but which cof...   \n",
       "\n",
       "                                               title  \\\n",
       "0                         Tetsu Kasuya signature V60   \n",
       "1                    [MOD] The Daily Question Thread   \n",
       "2            Are my local roasteries ripping me off?   \n",
       "3       Where to get a good Geisha coffee in london?   \n",
       "4                        Just for real cofee lovers!   \n",
       "5             I want to start drinking coffee again.   \n",
       "6         Washable Coffee Grinders Similar to Bodum?   \n",
       "7        Favorite decaf whole beans for drip coffee?   \n",
       "8              What coffee grinders do you guys use?   \n",
       "9  which coffee maker makes the best tasting coffee?   \n",
       "\n",
       "                                                text  \n",
       "0  Hello everyone,\\n\\nA couple of years I bought ...  \n",
       "1   \\n\\nWelcome to the daily [/r/Coffee](https://...  \n",
       "2  I very recently moved into a new country and h...  \n",
       "3  Hey! im visiting some friends in London and wa...  \n",
       "4  Get a fine italian expresso, melt a little squ...  \n",
       "5  I stopped drinking coffee a few years ago and ...  \n",
       "6  Hi all (I hope this is the right place for thi...  \n",
       "7  I know the title is a horrible combo for coffe...  \n",
       "8  Looking to expand my horizons.What coffee grin...  \n",
       "9  I'm willing to spend up to $200, but which cof...  "
      ]
     },
     "execution_count": 5,
     "metadata": {},
     "output_type": "execute_result"
    }
   ],
   "source": [
    "# brief look at coffee\n",
    "coffee.head(10)"
   ]
  },
  {
   "cell_type": "code",
   "execution_count": 6,
   "id": "4a8a83bc",
   "metadata": {},
   "outputs": [
    {
     "data": {
      "text/plain": [
       "(1219, 5)"
      ]
     },
     "execution_count": 6,
     "metadata": {},
     "output_type": "execute_result"
    }
   ],
   "source": [
    "# brief look at size of coffee\n",
    "coffee.shape"
   ]
  },
  {
   "cell_type": "code",
   "execution_count": 7,
   "id": "09034479",
   "metadata": {},
   "outputs": [
    {
     "data": {
      "text/html": [
       "<div>\n",
       "<style scoped>\n",
       "    .dataframe tbody tr th:only-of-type {\n",
       "        vertical-align: middle;\n",
       "    }\n",
       "\n",
       "    .dataframe tbody tr th {\n",
       "        vertical-align: top;\n",
       "    }\n",
       "\n",
       "    .dataframe thead th {\n",
       "        text-align: right;\n",
       "    }\n",
       "</style>\n",
       "<table border=\"1\" class=\"dataframe\">\n",
       "  <thead>\n",
       "    <tr style=\"text-align: right;\">\n",
       "      <th></th>\n",
       "      <th>Unnamed: 0</th>\n",
       "      <th>subreddit</th>\n",
       "      <th>selftext</th>\n",
       "      <th>title</th>\n",
       "      <th>text</th>\n",
       "    </tr>\n",
       "  </thead>\n",
       "  <tbody>\n",
       "    <tr>\n",
       "      <th>0</th>\n",
       "      <td>0</td>\n",
       "      <td>tea</td>\n",
       "      <td>What are you drinking today?  What questions h...</td>\n",
       "      <td>What's in your cup? Daily discussion, question...</td>\n",
       "      <td>What are you drinking today?  What questions h...</td>\n",
       "    </tr>\n",
       "    <tr>\n",
       "      <th>1</th>\n",
       "      <td>2</td>\n",
       "      <td>tea</td>\n",
       "      <td>I moved into a flat where the electric kettle ...</td>\n",
       "      <td>Electric kettle with temperature control and a...</td>\n",
       "      <td>I moved into a flat where the electric kettle ...</td>\n",
       "    </tr>\n",
       "    <tr>\n",
       "      <th>2</th>\n",
       "      <td>9</td>\n",
       "      <td>tea</td>\n",
       "      <td>Hey guys I have a question, I enjoy Gong fu br...</td>\n",
       "      <td>Gong fu Tisanes?</td>\n",
       "      <td>Hey guys I have a question, I enjoy Gong fu br...</td>\n",
       "    </tr>\n",
       "    <tr>\n",
       "      <th>3</th>\n",
       "      <td>11</td>\n",
       "      <td>tea</td>\n",
       "      <td>\\n\\n[View Poll](https://www.reddit.com/poll/pu...</td>\n",
       "      <td>What do you guys like more?</td>\n",
       "      <td>\\n\\n[View Poll](https://www.reddit.com/poll/pu...</td>\n",
       "    </tr>\n",
       "    <tr>\n",
       "      <th>4</th>\n",
       "      <td>17</td>\n",
       "      <td>tea</td>\n",
       "      <td>Hello, I've recently been wanting to learn abo...</td>\n",
       "      <td>Newbie here: how to start in the fantabulous w...</td>\n",
       "      <td>Hello, I've recently been wanting to learn abo...</td>\n",
       "    </tr>\n",
       "    <tr>\n",
       "      <th>5</th>\n",
       "      <td>18</td>\n",
       "      <td>tea</td>\n",
       "      <td>I am trying to make pumpkin chai with no milk/...</td>\n",
       "      <td>Pumpkin spice chai</td>\n",
       "      <td>I am trying to make pumpkin chai with no milk/...</td>\n",
       "    </tr>\n",
       "    <tr>\n",
       "      <th>6</th>\n",
       "      <td>19</td>\n",
       "      <td>tea</td>\n",
       "      <td>Trying to quit drinking energy drinks for work...</td>\n",
       "      <td>High caffeine teas?</td>\n",
       "      <td>Trying to quit drinking energy drinks for work...</td>\n",
       "    </tr>\n",
       "    <tr>\n",
       "      <th>7</th>\n",
       "      <td>20</td>\n",
       "      <td>tea</td>\n",
       "      <td>I enjoy gunpowder tea with some macaroons.</td>\n",
       "      <td>What's y'all's favorite tea and snack combo?</td>\n",
       "      <td>I enjoy gunpowder tea with some macaroons.What...</td>\n",
       "    </tr>\n",
       "    <tr>\n",
       "      <th>8</th>\n",
       "      <td>21</td>\n",
       "      <td>tea</td>\n",
       "      <td>I got hooked on the Starbucks iced green tea b...</td>\n",
       "      <td>Loose leaf Dupe for Starbucks Green tea (teava...</td>\n",
       "      <td>I got hooked on the Starbucks iced green tea b...</td>\n",
       "    </tr>\n",
       "    <tr>\n",
       "      <th>9</th>\n",
       "      <td>23</td>\n",
       "      <td>tea</td>\n",
       "      <td>I have some other teapots but I find that my K...</td>\n",
       "      <td>Anyone else use a Kyusu for western brewing?</td>\n",
       "      <td>I have some other teapots but I find that my K...</td>\n",
       "    </tr>\n",
       "  </tbody>\n",
       "</table>\n",
       "</div>"
      ],
      "text/plain": [
       "   Unnamed: 0 subreddit                                           selftext  \\\n",
       "0           0       tea  What are you drinking today?  What questions h...   \n",
       "1           2       tea  I moved into a flat where the electric kettle ...   \n",
       "2           9       tea  Hey guys I have a question, I enjoy Gong fu br...   \n",
       "3          11       tea  \\n\\n[View Poll](https://www.reddit.com/poll/pu...   \n",
       "4          17       tea  Hello, I've recently been wanting to learn abo...   \n",
       "5          18       tea  I am trying to make pumpkin chai with no milk/...   \n",
       "6          19       tea  Trying to quit drinking energy drinks for work...   \n",
       "7          20       tea         I enjoy gunpowder tea with some macaroons.   \n",
       "8          21       tea  I got hooked on the Starbucks iced green tea b...   \n",
       "9          23       tea  I have some other teapots but I find that my K...   \n",
       "\n",
       "                                               title  \\\n",
       "0  What's in your cup? Daily discussion, question...   \n",
       "1  Electric kettle with temperature control and a...   \n",
       "2                                   Gong fu Tisanes?   \n",
       "3                        What do you guys like more?   \n",
       "4  Newbie here: how to start in the fantabulous w...   \n",
       "5                                 Pumpkin spice chai   \n",
       "6                                High caffeine teas?   \n",
       "7       What's y'all's favorite tea and snack combo?   \n",
       "8  Loose leaf Dupe for Starbucks Green tea (teava...   \n",
       "9       Anyone else use a Kyusu for western brewing?   \n",
       "\n",
       "                                                text  \n",
       "0  What are you drinking today?  What questions h...  \n",
       "1  I moved into a flat where the electric kettle ...  \n",
       "2  Hey guys I have a question, I enjoy Gong fu br...  \n",
       "3  \\n\\n[View Poll](https://www.reddit.com/poll/pu...  \n",
       "4  Hello, I've recently been wanting to learn abo...  \n",
       "5  I am trying to make pumpkin chai with no milk/...  \n",
       "6  Trying to quit drinking energy drinks for work...  \n",
       "7  I enjoy gunpowder tea with some macaroons.What...  \n",
       "8  I got hooked on the Starbucks iced green tea b...  \n",
       "9  I have some other teapots but I find that my K...  "
      ]
     },
     "execution_count": 7,
     "metadata": {},
     "output_type": "execute_result"
    }
   ],
   "source": [
    "# brief look at tea\n",
    "tea.head(10)"
   ]
  },
  {
   "cell_type": "code",
   "execution_count": 8,
   "id": "ee47b30f",
   "metadata": {},
   "outputs": [
    {
     "data": {
      "text/plain": [
       "(1106, 5)"
      ]
     },
     "execution_count": 8,
     "metadata": {},
     "output_type": "execute_result"
    }
   ],
   "source": [
    "# brief look at size of tea\n",
    "tea.shape"
   ]
  },
  {
   "cell_type": "code",
   "execution_count": 9,
   "id": "fcc96843",
   "metadata": {},
   "outputs": [],
   "source": [
    "drinks = pd.concat([coffee,tea],axis=0,ignore_index=True)"
   ]
  },
  {
   "cell_type": "code",
   "execution_count": 10,
   "id": "a385c7db",
   "metadata": {},
   "outputs": [],
   "source": [
    "drinks = drinks[['subreddit','text']]"
   ]
  },
  {
   "cell_type": "code",
   "execution_count": 11,
   "id": "b29cf645",
   "metadata": {},
   "outputs": [
    {
     "data": {
      "text/html": [
       "<div>\n",
       "<style scoped>\n",
       "    .dataframe tbody tr th:only-of-type {\n",
       "        vertical-align: middle;\n",
       "    }\n",
       "\n",
       "    .dataframe tbody tr th {\n",
       "        vertical-align: top;\n",
       "    }\n",
       "\n",
       "    .dataframe thead th {\n",
       "        text-align: right;\n",
       "    }\n",
       "</style>\n",
       "<table border=\"1\" class=\"dataframe\">\n",
       "  <thead>\n",
       "    <tr style=\"text-align: right;\">\n",
       "      <th></th>\n",
       "      <th>subreddit</th>\n",
       "      <th>text</th>\n",
       "    </tr>\n",
       "  </thead>\n",
       "  <tbody>\n",
       "    <tr>\n",
       "      <th>2315</th>\n",
       "      <td>tea</td>\n",
       "      <td>Rose tea makes my skin look more beautiful tha...</td>\n",
       "    </tr>\n",
       "    <tr>\n",
       "      <th>2316</th>\n",
       "      <td>tea</td>\n",
       "      <td>Hello everyone, Im Gabriel and I made some Non...</td>\n",
       "    </tr>\n",
       "    <tr>\n",
       "      <th>2317</th>\n",
       "      <td>tea</td>\n",
       "      <td>Hey everyone! Not sure if this is the right pl...</td>\n",
       "    </tr>\n",
       "    <tr>\n",
       "      <th>2318</th>\n",
       "      <td>tea</td>\n",
       "      <td>I’m typically a green tea girl and never liked...</td>\n",
       "    </tr>\n",
       "    <tr>\n",
       "      <th>2319</th>\n",
       "      <td>tea</td>\n",
       "      <td>Here's a neat article about going to China to ...</td>\n",
       "    </tr>\n",
       "    <tr>\n",
       "      <th>2320</th>\n",
       "      <td>tea</td>\n",
       "      <td>I'm thinking of getting one that is colored wh...</td>\n",
       "    </tr>\n",
       "    <tr>\n",
       "      <th>2321</th>\n",
       "      <td>tea</td>\n",
       "      <td>&amp;amp;#x200B;\\n\\n[Two guys whom love tea.](http...</td>\n",
       "    </tr>\n",
       "    <tr>\n",
       "      <th>2322</th>\n",
       "      <td>tea</td>\n",
       "      <td>I just moved to an area with very hard water. ...</td>\n",
       "    </tr>\n",
       "    <tr>\n",
       "      <th>2323</th>\n",
       "      <td>tea</td>\n",
       "      <td>The bits in question, they don't feel like mou...</td>\n",
       "    </tr>\n",
       "    <tr>\n",
       "      <th>2324</th>\n",
       "      <td>tea</td>\n",
       "      <td>I didn’t notice it til I was halfway thru my s...</td>\n",
       "    </tr>\n",
       "  </tbody>\n",
       "</table>\n",
       "</div>"
      ],
      "text/plain": [
       "     subreddit                                               text\n",
       "2315       tea  Rose tea makes my skin look more beautiful tha...\n",
       "2316       tea  Hello everyone, Im Gabriel and I made some Non...\n",
       "2317       tea  Hey everyone! Not sure if this is the right pl...\n",
       "2318       tea  I’m typically a green tea girl and never liked...\n",
       "2319       tea  Here's a neat article about going to China to ...\n",
       "2320       tea  I'm thinking of getting one that is colored wh...\n",
       "2321       tea  &amp;#x200B;\\n\\n[Two guys whom love tea.](http...\n",
       "2322       tea  I just moved to an area with very hard water. ...\n",
       "2323       tea  The bits in question, they don't feel like mou...\n",
       "2324       tea  I didn’t notice it til I was halfway thru my s..."
      ]
     },
     "execution_count": 11,
     "metadata": {},
     "output_type": "execute_result"
    }
   ],
   "source": [
    "drinks.tail(10)"
   ]
  },
  {
   "cell_type": "markdown",
   "id": "6eee05fb",
   "metadata": {},
   "source": [
    "## Data Cleaning "
   ]
  },
  {
   "cell_type": "markdown",
   "id": "21245932",
   "metadata": {},
   "source": [
    "### Removing url, special characters & tokenizing\n",
    "\n",
    "We need to remove unnecessary characters when cleaning text data (punctuation, symbols, etc.).\n",
    "\n",
    "When we \"**tokenize**\" data using RegEx, we take it and split it up into distinct chunks based on some pattern.\n"
   ]
  },
  {
   "cell_type": "markdown",
   "id": "7d491301",
   "metadata": {},
   "source": [
    "**Remove url**"
   ]
  },
  {
   "cell_type": "code",
   "execution_count": 12,
   "id": "8f247a33",
   "metadata": {},
   "outputs": [
    {
     "name": "stderr",
     "output_type": "stream",
     "text": [
      "<ipython-input-12-041e20e1aa74>:2: FutureWarning: The default value of regex will change from True to False in a future version.\n",
      "  drinks['text'] = drinks['text'].str.replace('http[s]?://(?:[a-zA-Z]|[0-9]|[$-_@.&+]|[!*\\(\\),]|(?:%[0-9a-fA-F][0-9a-fA-F]))+', '')\n"
     ]
    }
   ],
   "source": [
    "# text = re.sub(r'^https?:\\/\\/.*[\\r\\n]*', '', text, flags=re.MULTILINE)\n",
    "drinks['text'] = drinks['text'].str.replace('http[s]?://(?:[a-zA-Z]|[0-9]|[$-_@.&+]|[!*\\(\\),]|(?:%[0-9a-fA-F][0-9a-fA-F]))+', '')"
   ]
  },
  {
   "cell_type": "markdown",
   "id": "1fff9430",
   "metadata": {},
   "source": [
    "**Tokenize**"
   ]
  },
  {
   "cell_type": "code",
   "execution_count": 13,
   "id": "4ded7f46",
   "metadata": {},
   "outputs": [],
   "source": [
    "# Instantiate RegExp Tokenizer\n",
    "# only kept 2 characters together starting with a character and matches another word character\n",
    "tokenizer = RegexpTokenizer(r'[a-z]+') \n",
    "# (r'\\w+') "
   ]
  },
  {
   "cell_type": "code",
   "execution_count": 14,
   "id": "f4974204",
   "metadata": {},
   "outputs": [],
   "source": [
    "# \"Run\" Tokenizer\n",
    "drinks['sent_tokens'] = drinks.apply(lambda row: tokenizer.tokenize(row['text'].lower()),axis=1)"
   ]
  },
  {
   "cell_type": "code",
   "execution_count": 15,
   "id": "8dd43fce",
   "metadata": {},
   "outputs": [
    {
     "data": {
      "text/plain": [
       "0       [hello, everyone, a, couple, of, years, i, bou...\n",
       "1       [welcome, to, the, daily, r, coffee, question,...\n",
       "2       [i, very, recently, moved, into, a, new, count...\n",
       "3       [hey, im, visiting, some, friends, in, london,...\n",
       "4       [get, a, fine, italian, expresso, melt, a, lit...\n",
       "                              ...                        \n",
       "2320    [i, m, thinking, of, getting, one, that, is, c...\n",
       "2321    [amp, x, b, two, guys, whom, love, tea, all, a...\n",
       "2322    [i, just, moved, to, an, area, with, very, har...\n",
       "2323    [the, bits, in, question, they, don, t, feel, ...\n",
       "2324    [i, didn, t, notice, it, til, i, was, halfway,...\n",
       "Name: sent_tokens, Length: 2325, dtype: object"
      ]
     },
     "execution_count": 15,
     "metadata": {},
     "output_type": "execute_result"
    }
   ],
   "source": [
    "drinks['sent_tokens']"
   ]
  },
  {
   "cell_type": "code",
   "execution_count": 16,
   "id": "74ea500b",
   "metadata": {},
   "outputs": [
    {
     "data": {
      "text/html": [
       "<div>\n",
       "<style scoped>\n",
       "    .dataframe tbody tr th:only-of-type {\n",
       "        vertical-align: middle;\n",
       "    }\n",
       "\n",
       "    .dataframe tbody tr th {\n",
       "        vertical-align: top;\n",
       "    }\n",
       "\n",
       "    .dataframe thead th {\n",
       "        text-align: right;\n",
       "    }\n",
       "</style>\n",
       "<table border=\"1\" class=\"dataframe\">\n",
       "  <thead>\n",
       "    <tr style=\"text-align: right;\">\n",
       "      <th></th>\n",
       "      <th>subreddit</th>\n",
       "      <th>text</th>\n",
       "      <th>sent_tokens</th>\n",
       "    </tr>\n",
       "  </thead>\n",
       "  <tbody>\n",
       "    <tr>\n",
       "      <th>0</th>\n",
       "      <td>Coffee</td>\n",
       "      <td>Hello everyone,\\n\\nA couple of years I bought ...</td>\n",
       "      <td>[hello, everyone, a, couple, of, years, i, bou...</td>\n",
       "    </tr>\n",
       "    <tr>\n",
       "      <th>1</th>\n",
       "      <td>Coffee</td>\n",
       "      <td>\\n\\nWelcome to the daily [/r/Coffee]( questio...</td>\n",
       "      <td>[welcome, to, the, daily, r, coffee, question,...</td>\n",
       "    </tr>\n",
       "    <tr>\n",
       "      <th>2</th>\n",
       "      <td>Coffee</td>\n",
       "      <td>I very recently moved into a new country and h...</td>\n",
       "      <td>[i, very, recently, moved, into, a, new, count...</td>\n",
       "    </tr>\n",
       "    <tr>\n",
       "      <th>3</th>\n",
       "      <td>Coffee</td>\n",
       "      <td>Hey! im visiting some friends in London and wa...</td>\n",
       "      <td>[hey, im, visiting, some, friends, in, london,...</td>\n",
       "    </tr>\n",
       "    <tr>\n",
       "      <th>4</th>\n",
       "      <td>Coffee</td>\n",
       "      <td>Get a fine italian expresso, melt a little squ...</td>\n",
       "      <td>[get, a, fine, italian, expresso, melt, a, lit...</td>\n",
       "    </tr>\n",
       "    <tr>\n",
       "      <th>5</th>\n",
       "      <td>Coffee</td>\n",
       "      <td>I stopped drinking coffee a few years ago and ...</td>\n",
       "      <td>[i, stopped, drinking, coffee, a, few, years, ...</td>\n",
       "    </tr>\n",
       "    <tr>\n",
       "      <th>6</th>\n",
       "      <td>Coffee</td>\n",
       "      <td>Hi all (I hope this is the right place for thi...</td>\n",
       "      <td>[hi, all, i, hope, this, is, the, right, place...</td>\n",
       "    </tr>\n",
       "    <tr>\n",
       "      <th>7</th>\n",
       "      <td>Coffee</td>\n",
       "      <td>I know the title is a horrible combo for coffe...</td>\n",
       "      <td>[i, know, the, title, is, a, horrible, combo, ...</td>\n",
       "    </tr>\n",
       "    <tr>\n",
       "      <th>8</th>\n",
       "      <td>Coffee</td>\n",
       "      <td>Looking to expand my horizons.What coffee grin...</td>\n",
       "      <td>[looking, to, expand, my, horizons, what, coff...</td>\n",
       "    </tr>\n",
       "    <tr>\n",
       "      <th>9</th>\n",
       "      <td>Coffee</td>\n",
       "      <td>I'm willing to spend up to $200, but which cof...</td>\n",
       "      <td>[i, m, willing, to, spend, up, to, but, which,...</td>\n",
       "    </tr>\n",
       "  </tbody>\n",
       "</table>\n",
       "</div>"
      ],
      "text/plain": [
       "  subreddit                                               text  \\\n",
       "0    Coffee  Hello everyone,\\n\\nA couple of years I bought ...   \n",
       "1    Coffee   \\n\\nWelcome to the daily [/r/Coffee]( questio...   \n",
       "2    Coffee  I very recently moved into a new country and h...   \n",
       "3    Coffee  Hey! im visiting some friends in London and wa...   \n",
       "4    Coffee  Get a fine italian expresso, melt a little squ...   \n",
       "5    Coffee  I stopped drinking coffee a few years ago and ...   \n",
       "6    Coffee  Hi all (I hope this is the right place for thi...   \n",
       "7    Coffee  I know the title is a horrible combo for coffe...   \n",
       "8    Coffee  Looking to expand my horizons.What coffee grin...   \n",
       "9    Coffee  I'm willing to spend up to $200, but which cof...   \n",
       "\n",
       "                                         sent_tokens  \n",
       "0  [hello, everyone, a, couple, of, years, i, bou...  \n",
       "1  [welcome, to, the, daily, r, coffee, question,...  \n",
       "2  [i, very, recently, moved, into, a, new, count...  \n",
       "3  [hey, im, visiting, some, friends, in, london,...  \n",
       "4  [get, a, fine, italian, expresso, melt, a, lit...  \n",
       "5  [i, stopped, drinking, coffee, a, few, years, ...  \n",
       "6  [hi, all, i, hope, this, is, the, right, place...  \n",
       "7  [i, know, the, title, is, a, horrible, combo, ...  \n",
       "8  [looking, to, expand, my, horizons, what, coff...  \n",
       "9  [i, m, willing, to, spend, up, to, but, which,...  "
      ]
     },
     "execution_count": 16,
     "metadata": {},
     "output_type": "execute_result"
    }
   ],
   "source": [
    "drinks.head(10)"
   ]
  },
  {
   "cell_type": "markdown",
   "id": "2f96d752",
   "metadata": {},
   "source": [
    "### Stop Word Removal\n",
    "Stop words are common words, such as a and the, are removed to increase the performance of the classifier model. Since stop words occur in abundance, they provide little to no unique information that can be used for classification or clustering.\n"
   ]
  },
  {
   "cell_type": "code",
   "execution_count": 17,
   "id": "76866a94",
   "metadata": {},
   "outputs": [],
   "source": [
    "# Remove general stopwords in the english language \n",
    "# Remove additional 'coffee', 'tea' \n",
    "# Noted a lot of espresso and expresso words in coffee posts, which is synonymous with coffee\n",
    "# Noted a few chai, which is the word for tea in many languages, and synonymous with tea (in English)\n",
    "add_stop = ['coffee', 'coffees', 'tea', 'teas', 'espresso', 'expresso', 'chai']\n",
    "stoplist = stopwords.words('english') + add_stop\n",
    "\n",
    "drinks['cleaned_tokens'] = drinks['sent_tokens'].apply(lambda row: [word for word in row if word not in stoplist])"
   ]
  },
  {
   "cell_type": "code",
   "execution_count": 18,
   "id": "bf921b70",
   "metadata": {},
   "outputs": [
    {
     "data": {
      "text/plain": [
       "0    [hello, everyone, couple, years, bought, v, st...\n",
       "1    [welcome, daily, r, question, thread, stupid, ...\n",
       "2    [recently, moved, new, country, exploring, sce...\n",
       "3    [hey, im, visiting, friends, london, want, fin...\n",
       "4    [get, fine, italian, melt, little, square, dar...\n",
       "Name: cleaned_tokens, dtype: object"
      ]
     },
     "execution_count": 18,
     "metadata": {},
     "output_type": "execute_result"
    }
   ],
   "source": [
    "drinks['cleaned_tokens'].head()"
   ]
  },
  {
   "cell_type": "markdown",
   "id": "b377676e",
   "metadata": {},
   "source": [
    "## Exploratory Data Analysis (EDA) on Posts"
   ]
  },
  {
   "cell_type": "markdown",
   "id": "d53ded7a",
   "metadata": {},
   "source": [
    "### Posts length"
   ]
  },
  {
   "cell_type": "code",
   "execution_count": 19,
   "id": "ecb82511",
   "metadata": {},
   "outputs": [],
   "source": [
    "# Calculate length of original posts\n",
    "drinks['posts_length'] = drinks['text'].str.len()"
   ]
  },
  {
   "cell_type": "code",
   "execution_count": 20,
   "id": "5277c2cc",
   "metadata": {},
   "outputs": [],
   "source": [
    "# Calculate word count\n",
    "drinks['posts_word_count'] = drinks['text'].str.count(' ') + 1"
   ]
  },
  {
   "cell_type": "code",
   "execution_count": 21,
   "id": "fa0fb821",
   "metadata": {},
   "outputs": [
    {
     "data": {
      "text/html": [
       "<div>\n",
       "<style scoped>\n",
       "    .dataframe tbody tr th:only-of-type {\n",
       "        vertical-align: middle;\n",
       "    }\n",
       "\n",
       "    .dataframe tbody tr th {\n",
       "        vertical-align: top;\n",
       "    }\n",
       "\n",
       "    .dataframe thead th {\n",
       "        text-align: right;\n",
       "    }\n",
       "</style>\n",
       "<table border=\"1\" class=\"dataframe\">\n",
       "  <thead>\n",
       "    <tr style=\"text-align: right;\">\n",
       "      <th></th>\n",
       "      <th>subreddit</th>\n",
       "      <th>text</th>\n",
       "      <th>posts_word_count</th>\n",
       "    </tr>\n",
       "  </thead>\n",
       "  <tbody>\n",
       "    <tr>\n",
       "      <th>77</th>\n",
       "      <td>Coffee</td>\n",
       "      <td>#**Preface**\\nI originally started writing thi...</td>\n",
       "      <td>1761</td>\n",
       "    </tr>\n",
       "    <tr>\n",
       "      <th>844</th>\n",
       "      <td>Coffee</td>\n",
       "      <td>Skip to the end for TLDR\\n\\nI was recently in ...</td>\n",
       "      <td>874</td>\n",
       "    </tr>\n",
       "    <tr>\n",
       "      <th>651</th>\n",
       "      <td>Coffee</td>\n",
       "      <td>I received my K2 less than a week ago, didn’t ...</td>\n",
       "      <td>828</td>\n",
       "    </tr>\n",
       "    <tr>\n",
       "      <th>1568</th>\n",
       "      <td>tea</td>\n",
       "      <td>I know people love to be positive, so I just w...</td>\n",
       "      <td>819</td>\n",
       "    </tr>\n",
       "    <tr>\n",
       "      <th>1218</th>\n",
       "      <td>Coffee</td>\n",
       "      <td>Hi all! My last nanopresso post got taken down...</td>\n",
       "      <td>817</td>\n",
       "    </tr>\n",
       "    <tr>\n",
       "      <th>340</th>\n",
       "      <td>Coffee</td>\n",
       "      <td>I am feeling the itch, boredom, or just tired...</td>\n",
       "      <td>785</td>\n",
       "    </tr>\n",
       "    <tr>\n",
       "      <th>156</th>\n",
       "      <td>Coffee</td>\n",
       "      <td>(Warning: this will be a fairly long post; I h...</td>\n",
       "      <td>761</td>\n",
       "    </tr>\n",
       "    <tr>\n",
       "      <th>1935</th>\n",
       "      <td>tea</td>\n",
       "      <td>It doesn’t feel like it’s been five days since...</td>\n",
       "      <td>755</td>\n",
       "    </tr>\n",
       "    <tr>\n",
       "      <th>1012</th>\n",
       "      <td>Coffee</td>\n",
       "      <td>Thumbs down for me.  \\n\\n\\nFirst, I did not fi...</td>\n",
       "      <td>697</td>\n",
       "    </tr>\n",
       "    <tr>\n",
       "      <th>1328</th>\n",
       "      <td>tea</td>\n",
       "      <td>\\nOk so after making my own tea pets I wanted ...</td>\n",
       "      <td>636</td>\n",
       "    </tr>\n",
       "  </tbody>\n",
       "</table>\n",
       "</div>"
      ],
      "text/plain": [
       "     subreddit                                               text  \\\n",
       "77      Coffee  #**Preface**\\nI originally started writing thi...   \n",
       "844     Coffee  Skip to the end for TLDR\\n\\nI was recently in ...   \n",
       "651     Coffee  I received my K2 less than a week ago, didn’t ...   \n",
       "1568       tea  I know people love to be positive, so I just w...   \n",
       "1218    Coffee  Hi all! My last nanopresso post got taken down...   \n",
       "340     Coffee   I am feeling the itch, boredom, or just tired...   \n",
       "156     Coffee  (Warning: this will be a fairly long post; I h...   \n",
       "1935       tea  It doesn’t feel like it’s been five days since...   \n",
       "1012    Coffee  Thumbs down for me.  \\n\\n\\nFirst, I did not fi...   \n",
       "1328       tea  \\nOk so after making my own tea pets I wanted ...   \n",
       "\n",
       "      posts_word_count  \n",
       "77                1761  \n",
       "844                874  \n",
       "651                828  \n",
       "1568               819  \n",
       "1218               817  \n",
       "340                785  \n",
       "156                761  \n",
       "1935               755  \n",
       "1012               697  \n",
       "1328               636  "
      ]
     },
     "execution_count": 21,
     "metadata": {},
     "output_type": "execute_result"
    }
   ],
   "source": [
    "# Show the five longest and five shortest original posts\n",
    "drinks.sort_values(by=['posts_word_count'], ascending=False)[['subreddit','text','posts_word_count']].head(10)"
   ]
  },
  {
   "cell_type": "code",
   "execution_count": 22,
   "id": "736939cb",
   "metadata": {
    "scrolled": true
   },
   "outputs": [
    {
     "data": {
      "text/html": [
       "<div>\n",
       "<style scoped>\n",
       "    .dataframe tbody tr th:only-of-type {\n",
       "        vertical-align: middle;\n",
       "    }\n",
       "\n",
       "    .dataframe tbody tr th {\n",
       "        vertical-align: top;\n",
       "    }\n",
       "\n",
       "    .dataframe thead th {\n",
       "        text-align: right;\n",
       "    }\n",
       "</style>\n",
       "<table border=\"1\" class=\"dataframe\">\n",
       "  <thead>\n",
       "    <tr style=\"text-align: right;\">\n",
       "      <th></th>\n",
       "      <th>subreddit</th>\n",
       "      <th>text</th>\n",
       "      <th>posts_word_count</th>\n",
       "    </tr>\n",
       "  </thead>\n",
       "  <tbody>\n",
       "    <tr>\n",
       "      <th>2114</th>\n",
       "      <td>tea</td>\n",
       "      <td>&amp;amp;#x200B;\\n\\n[black tea]( black tea</td>\n",
       "      <td>4</td>\n",
       "    </tr>\n",
       "    <tr>\n",
       "      <th>2038</th>\n",
       "      <td>tea</td>\n",
       "      <td>Best tea\\n\\n[View Poll]( tea?</td>\n",
       "      <td>4</td>\n",
       "    </tr>\n",
       "    <tr>\n",
       "      <th>1082</th>\n",
       "      <td>Coffee</td>\n",
       "      <td>Has anyone purchased from them?Lightroaster.com</td>\n",
       "      <td>5</td>\n",
       "    </tr>\n",
       "    <tr>\n",
       "      <th>562</th>\n",
       "      <td>Coffee</td>\n",
       "      <td>Yay or nay?Salt in coffee?</td>\n",
       "      <td>5</td>\n",
       "    </tr>\n",
       "    <tr>\n",
       "      <th>1698</th>\n",
       "      <td>tea</td>\n",
       "      <td>\\n\\n[View Poll]( do you prefer?</td>\n",
       "      <td>5</td>\n",
       "    </tr>\n",
       "    <tr>\n",
       "      <th>1348</th>\n",
       "      <td>tea</td>\n",
       "      <td>\\n\\n[View Poll]( or black tea</td>\n",
       "      <td>5</td>\n",
       "    </tr>\n",
       "    <tr>\n",
       "      <th>1869</th>\n",
       "      <td>tea</td>\n",
       "      <td>\\n\\n[View Poll]( on Arizona bottled/canned tea?</td>\n",
       "      <td>6</td>\n",
       "    </tr>\n",
       "    <tr>\n",
       "      <th>1721</th>\n",
       "      <td>tea</td>\n",
       "      <td>\\n\\n[View Poll]( tea with milk good</td>\n",
       "      <td>6</td>\n",
       "    </tr>\n",
       "    <tr>\n",
       "      <th>1323</th>\n",
       "      <td>tea</td>\n",
       "      <td>Tea with milk or without\\n\\n[View Poll]( debate</td>\n",
       "      <td>7</td>\n",
       "    </tr>\n",
       "    <tr>\n",
       "      <th>1222</th>\n",
       "      <td>tea</td>\n",
       "      <td>\\n\\n[View Poll]( do you guys like more?</td>\n",
       "      <td>7</td>\n",
       "    </tr>\n",
       "  </tbody>\n",
       "</table>\n",
       "</div>"
      ],
      "text/plain": [
       "     subreddit                                             text  \\\n",
       "2114       tea           &amp;#x200B;\\n\\n[black tea]( black tea   \n",
       "2038       tea                    Best tea\\n\\n[View Poll]( tea?   \n",
       "1082    Coffee  Has anyone purchased from them?Lightroaster.com   \n",
       "562     Coffee                       Yay or nay?Salt in coffee?   \n",
       "1698       tea                  \\n\\n[View Poll]( do you prefer?   \n",
       "1348       tea                    \\n\\n[View Poll]( or black tea   \n",
       "1869       tea  \\n\\n[View Poll]( on Arizona bottled/canned tea?   \n",
       "1721       tea              \\n\\n[View Poll]( tea with milk good   \n",
       "1323       tea  Tea with milk or without\\n\\n[View Poll]( debate   \n",
       "1222       tea          \\n\\n[View Poll]( do you guys like more?   \n",
       "\n",
       "      posts_word_count  \n",
       "2114                 4  \n",
       "2038                 4  \n",
       "1082                 5  \n",
       "562                  5  \n",
       "1698                 5  \n",
       "1348                 5  \n",
       "1869                 6  \n",
       "1721                 6  \n",
       "1323                 7  \n",
       "1222                 7  "
      ]
     },
     "execution_count": 22,
     "metadata": {},
     "output_type": "execute_result"
    }
   ],
   "source": [
    "drinks.sort_values(by=['posts_word_count'],ascending=True)[['subreddit','text','posts_word_count']].head(10)"
   ]
  },
  {
   "cell_type": "code",
   "execution_count": 23,
   "id": "11c8e092",
   "metadata": {},
   "outputs": [
    {
     "data": {
      "text/html": [
       "<div>\n",
       "<style scoped>\n",
       "    .dataframe tbody tr th:only-of-type {\n",
       "        vertical-align: middle;\n",
       "    }\n",
       "\n",
       "    .dataframe tbody tr th {\n",
       "        vertical-align: top;\n",
       "    }\n",
       "\n",
       "    .dataframe thead th {\n",
       "        text-align: right;\n",
       "    }\n",
       "</style>\n",
       "<table border=\"1\" class=\"dataframe\">\n",
       "  <thead>\n",
       "    <tr style=\"text-align: right;\">\n",
       "      <th></th>\n",
       "      <th>posts_length</th>\n",
       "      <th>posts_word_count</th>\n",
       "    </tr>\n",
       "    <tr>\n",
       "      <th>subreddit</th>\n",
       "      <th></th>\n",
       "      <th></th>\n",
       "    </tr>\n",
       "  </thead>\n",
       "  <tbody>\n",
       "    <tr>\n",
       "      <th>Coffee</th>\n",
       "      <td>584.338802</td>\n",
       "      <td>105.570960</td>\n",
       "    </tr>\n",
       "    <tr>\n",
       "      <th>tea</th>\n",
       "      <td>483.822785</td>\n",
       "      <td>88.951175</td>\n",
       "    </tr>\n",
       "  </tbody>\n",
       "</table>\n",
       "</div>"
      ],
      "text/plain": [
       "           posts_length  posts_word_count\n",
       "subreddit                                \n",
       "Coffee       584.338802        105.570960\n",
       "tea          483.822785         88.951175"
      ]
     },
     "execution_count": 23,
     "metadata": {},
     "output_type": "execute_result"
    }
   ],
   "source": [
    "# Compare length by subreddits\n",
    "drinks.groupby(['subreddit'])[['posts_length','posts_word_count']].mean()"
   ]
  },
  {
   "cell_type": "markdown",
   "id": "dd3aa5ad",
   "metadata": {},
   "source": [
    "**From the tables above, the longer posts are from coffee, while tea posts are relatively shorter.**"
   ]
  },
  {
   "cell_type": "markdown",
   "id": "8a9fcd6e",
   "metadata": {},
   "source": [
    "### Distribution of posts"
   ]
  },
  {
   "cell_type": "code",
   "execution_count": 24,
   "id": "69b224b0",
   "metadata": {},
   "outputs": [
    {
     "data": {
      "text/plain": [
       "count    2325.000000\n",
       "mean       97.664946\n",
       "std        90.231773\n",
       "min         4.000000\n",
       "25%        47.000000\n",
       "50%        78.000000\n",
       "75%       116.000000\n",
       "max      1761.000000\n",
       "Name: posts_word_count, dtype: float64"
      ]
     },
     "execution_count": 24,
     "metadata": {},
     "output_type": "execute_result"
    }
   ],
   "source": [
    "drinks['posts_word_count'].describe()"
   ]
  },
  {
   "cell_type": "markdown",
   "id": "d495814a",
   "metadata": {},
   "source": [
    "From the above plots/table, most of the posts are in the lower magnitudes with the median at 78 word count. However, there were also really long posts, with a maximum at 1761 word count. "
   ]
  },
  {
   "cell_type": "code",
   "execution_count": 25,
   "id": "66bb84f3",
   "metadata": {},
   "outputs": [
    {
     "name": "stderr",
     "output_type": "stream",
     "text": [
      "C:\\Users\\USER\\anaconda3\\envs\\dsi24\\lib\\site-packages\\seaborn\\distributions.py:2557: FutureWarning: `distplot` is a deprecated function and will be removed in a future version. Please adapt your code to use either `displot` (a figure-level function with similar flexibility) or `histplot` (an axes-level function for histograms).\n",
      "  warnings.warn(msg, FutureWarning)\n",
      "C:\\Users\\USER\\anaconda3\\envs\\dsi24\\lib\\site-packages\\seaborn\\distributions.py:2557: FutureWarning: `distplot` is a deprecated function and will be removed in a future version. Please adapt your code to use either `displot` (a figure-level function with similar flexibility) or `histplot` (an axes-level function for histograms).\n",
      "  warnings.warn(msg, FutureWarning)\n"
     ]
    },
    {
     "data": {
      "image/png": "[encoded data removed]",
      "text/plain": [
       "<Figure size 360x360 with 1 Axes>"
      ]
     },
     "metadata": {
      "needs_background": "light"
     },
     "output_type": "display_data"
    }
   ],
   "source": [
    "plot = sns.FacetGrid(drinks, hue='subreddit', height=5)\n",
    "plot = plot.map(sns.distplot, 'posts_word_count')\n",
    "plt.title('Distribution of coffee/tea posts')\n",
    "plt.ylabel('Density')\n",
    "plt.legend();"
   ]
  },
  {
   "cell_type": "markdown",
   "id": "bab9f8b2",
   "metadata": {},
   "source": [
    "From the above plot, distribution of posts in both coffee and tea are similar. "
   ]
  },
  {
   "cell_type": "markdown",
   "id": "06254749",
   "metadata": {},
   "source": [
    "## EDA on Tokenized Words"
   ]
  },
  {
   "cell_type": "markdown",
   "id": "eba32038",
   "metadata": {},
   "source": [
    "### Lemmatizing & Stemming"
   ]
  },
  {
   "cell_type": "markdown",
   "id": "72fdae33",
   "metadata": {},
   "source": [
    "**Lemmatizing** and **stemming** are two forms of shortening words so we can combine similar forms of the same word."
   ]
  },
  {
   "cell_type": "markdown",
   "id": "5d41e17a",
   "metadata": {},
   "source": [
    "#### Using ntlk('wordnet') for lemmatizing"
   ]
  },
  {
   "cell_type": "code",
   "execution_count": 26,
   "id": "5b569cc3",
   "metadata": {},
   "outputs": [],
   "source": [
    "# Instantiate lemmatizer. \n",
    "# download dictionary wordnet\n",
    "lemmatizer = WordNetLemmatizer()"
   ]
  },
  {
   "cell_type": "code",
   "execution_count": 27,
   "id": "a9d11548",
   "metadata": {},
   "outputs": [],
   "source": [
    "# Lemmatize tokens.\n",
    "def lemmatize_text(row):\n",
    "    return [lemmatizer.lemmatize(w) for w in row] \n",
    "\n",
    "drinks['wordnet_lem'] = drinks['cleaned_tokens'].apply(lemmatize_text)\n"
   ]
  },
  {
   "cell_type": "code",
   "execution_count": 28,
   "id": "91931039",
   "metadata": {},
   "outputs": [
    {
     "data": {
      "text/plain": [
       "0       [hello, everyone, couple, year, bought, v, sta...\n",
       "1       [welcome, daily, r, question, thread, stupid, ...\n",
       "2       [recently, moved, new, country, exploring, sce...\n",
       "3       [hey, im, visiting, friend, london, want, find...\n",
       "4       [get, fine, italian, melt, little, square, dar...\n",
       "                              ...                        \n",
       "2320    [thinking, getting, one, colored, white, insid...\n",
       "2321                          [amp, x, b, two, guy, love]\n",
       "2322    [moved, area, hard, water, strong, black, made...\n",
       "2323    [bit, question, feel, like, mould, stay, toget...\n",
       "2324    [notice, til, halfway, thru, second, cup, noti...\n",
       "Name: wordnet_lem, Length: 2325, dtype: object"
      ]
     },
     "execution_count": 28,
     "metadata": {},
     "output_type": "execute_result"
    }
   ],
   "source": [
    "drinks['wordnet_lem']"
   ]
  },
  {
   "cell_type": "markdown",
   "id": "37556c03",
   "metadata": {},
   "source": [
    "**Explore lemmatizing**"
   ]
  },
  {
   "cell_type": "code",
   "execution_count": 29,
   "id": "89e73dbe",
   "metadata": {},
   "outputs": [
    {
     "name": "stdout",
     "output_type": "stream",
     "text": [
      "years year\n",
      "recipes recipe\n",
      "results result\n",
      "shops shop\n",
      "machines machine\n",
      "recipes recipe\n",
      "recipes recipe\n"
     ]
    }
   ],
   "source": [
    "# Example of lemmatized words in one row of drinks\n",
    "for num in range(len(drinks['cleaned_tokens'][0])):\n",
    "    if drinks['cleaned_tokens'][0][num] != drinks['wordnet_lem'][0][num]:\n",
    "        print(drinks['cleaned_tokens'][0][num],drinks['wordnet_lem'][0][num])\n"
   ]
  },
  {
   "cell_type": "markdown",
   "id": "b6ffd9c5",
   "metadata": {},
   "source": [
    "#### Using porter stemming"
   ]
  },
  {
   "cell_type": "code",
   "execution_count": 30,
   "id": "eba439f6",
   "metadata": {},
   "outputs": [
    {
     "data": {
      "text/html": [
       "<div>\n",
       "<style scoped>\n",
       "    .dataframe tbody tr th:only-of-type {\n",
       "        vertical-align: middle;\n",
       "    }\n",
       "\n",
       "    .dataframe tbody tr th {\n",
       "        vertical-align: top;\n",
       "    }\n",
       "\n",
       "    .dataframe thead th {\n",
       "        text-align: right;\n",
       "    }\n",
       "</style>\n",
       "<table border=\"1\" class=\"dataframe\">\n",
       "  <thead>\n",
       "    <tr style=\"text-align: right;\">\n",
       "      <th></th>\n",
       "      <th>subreddit</th>\n",
       "      <th>text</th>\n",
       "      <th>sent_tokens</th>\n",
       "      <th>cleaned_tokens</th>\n",
       "      <th>posts_length</th>\n",
       "      <th>posts_word_count</th>\n",
       "      <th>wordnet_lem</th>\n",
       "    </tr>\n",
       "  </thead>\n",
       "  <tbody>\n",
       "    <tr>\n",
       "      <th>0</th>\n",
       "      <td>Coffee</td>\n",
       "      <td>Hello everyone,\\n\\nA couple of years I bought a V60, and started experimenting with it, mostly following online recipes. \\n\\nI’ve had limited success with it, comparing my results to coffee shops,...</td>\n",
       "      <td>[hello, everyone, a, couple, of, years, i, bought, a, v, and, started, experimenting, with, it, mostly, following, online, recipes, i, ve, had, limited, success, with, it, comparing, my, results, ...</td>\n",
       "      <td>[hello, everyone, couple, years, bought, v, started, experimenting, mostly, following, online, recipes, limited, success, comparing, results, shops, however, still, better, cheap, drip, machines, ...</td>\n",
       "      <td>727</td>\n",
       "      <td>124</td>\n",
       "      <td>[hello, everyone, couple, year, bought, v, started, experimenting, mostly, following, online, recipe, limited, success, comparing, result, shop, however, still, better, cheap, drip, machine, main,...</td>\n",
       "    </tr>\n",
       "    <tr>\n",
       "      <th>1</th>\n",
       "      <td>Coffee</td>\n",
       "      <td>\\n\\nWelcome to the daily [/r/Coffee]( question thread!\\n\\nThere are no stupid questions here, ask a question and get an answer! We all have to start somewhere and sometimes it is hard to figure o...</td>\n",
       "      <td>[welcome, to, the, daily, r, coffee, question, thread, there, are, no, stupid, questions, here, ask, a, question, and, get, an, answer, we, all, have, to, start, somewhere, and, sometimes, it, is,...</td>\n",
       "      <td>[welcome, daily, r, question, thread, stupid, questions, ask, question, get, answer, start, somewhere, sometimes, hard, figure, right, wrong, luckily, r, community, loves, help, question, use, spe...</td>\n",
       "      <td>890</td>\n",
       "      <td>153</td>\n",
       "      <td>[welcome, daily, r, question, thread, stupid, question, ask, question, get, answer, start, somewhere, sometimes, hard, figure, right, wrong, luckily, r, community, love, help, question, use, speci...</td>\n",
       "    </tr>\n",
       "    <tr>\n",
       "      <th>2</th>\n",
       "      <td>Coffee</td>\n",
       "      <td>I very recently moved into a new country and have been exploring the coffee scene around. I bought a few bags of beans from a place and tested them in a few methods, made a few chemex, v60 and esp...</td>\n",
       "      <td>[i, very, recently, moved, into, a, new, country, and, have, been, exploring, the, coffee, scene, around, i, bought, a, few, bags, of, beans, from, a, place, and, tested, them, in, a, few, methods...</td>\n",
       "      <td>[recently, moved, new, country, exploring, scene, around, bought, bags, beans, place, tested, methods, made, chemex, v, espressos, really, gassy, little, crema, blooming, pour, overs, non, existen...</td>\n",
       "      <td>720</td>\n",
       "      <td>136</td>\n",
       "      <td>[recently, moved, new, country, exploring, scene, around, bought, bag, bean, place, tested, method, made, chemex, v, espresso, really, gassy, little, crema, blooming, pour, over, non, existent, ro...</td>\n",
       "    </tr>\n",
       "    <tr>\n",
       "      <th>3</th>\n",
       "      <td>Coffee</td>\n",
       "      <td>Hey! im visiting some friends in London and want to find a shop that serves a premium Geisha. Any help would be great!Where to get a good Geisha coffee in london?</td>\n",
       "      <td>[hey, im, visiting, some, friends, in, london, and, want, to, find, a, shop, that, serves, a, premium, geisha, any, help, would, be, great, where, to, get, a, good, geisha, coffee, in, london]</td>\n",
       "      <td>[hey, im, visiting, friends, london, want, find, shop, serves, premium, geisha, help, would, great, get, good, geisha, london]</td>\n",
       "      <td>162</td>\n",
       "      <td>31</td>\n",
       "      <td>[hey, im, visiting, friend, london, want, find, shop, serf, premium, geisha, help, would, great, get, good, geisha, london]</td>\n",
       "    </tr>\n",
       "    <tr>\n",
       "      <th>4</th>\n",
       "      <td>Coffee</td>\n",
       "      <td>Get a fine italian expresso, melt a little square of dark chocolate in it (at least 70% cocoa) and a dash of cinemon. Nothing more!\\n\\nAnd then, Like Homer said, \"It's like a party in my mouth and...</td>\n",
       "      <td>[get, a, fine, italian, expresso, melt, a, little, square, of, dark, chocolate, in, it, at, least, cocoa, and, a, dash, of, cinemon, nothing, more, and, then, like, homer, said, it, s, like, a, pa...</td>\n",
       "      <td>[get, fine, italian, melt, little, square, dark, chocolate, least, cocoa, dash, cinemon, nothing, like, homer, said, like, party, mouth, everyone, invited, real, cofee, lovers]</td>\n",
       "      <td>242</td>\n",
       "      <td>43</td>\n",
       "      <td>[get, fine, italian, melt, little, square, dark, chocolate, least, cocoa, dash, cinemon, nothing, like, homer, said, like, party, mouth, everyone, invited, real, cofee, lover]</td>\n",
       "    </tr>\n",
       "  </tbody>\n",
       "</table>\n",
       "</div>"
      ],
      "text/plain": [
       "  subreddit  \\\n",
       "0    Coffee   \n",
       "1    Coffee   \n",
       "2    Coffee   \n",
       "3    Coffee   \n",
       "4    Coffee   \n",
       "\n",
       "                                                                                                                                                                                                      text  \\\n",
       "0  Hello everyone,\\n\\nA couple of years I bought a V60, and started experimenting with it, mostly following online recipes. \\n\\nI’ve had limited success with it, comparing my results to coffee shops,...   \n",
       "1   \\n\\nWelcome to the daily [/r/Coffee]( question thread!\\n\\nThere are no stupid questions here, ask a question and get an answer! We all have to start somewhere and sometimes it is hard to figure o...   \n",
       "2  I very recently moved into a new country and have been exploring the coffee scene around. I bought a few bags of beans from a place and tested them in a few methods, made a few chemex, v60 and esp...   \n",
       "3                                       Hey! im visiting some friends in London and want to find a shop that serves a premium Geisha. Any help would be great!Where to get a good Geisha coffee in london?   \n",
       "4  Get a fine italian expresso, melt a little square of dark chocolate in it (at least 70% cocoa) and a dash of cinemon. Nothing more!\\n\\nAnd then, Like Homer said, \"It's like a party in my mouth and...   \n",
       "\n",
       "                                                                                                                                                                                               sent_tokens  \\\n",
       "0  [hello, everyone, a, couple, of, years, i, bought, a, v, and, started, experimenting, with, it, mostly, following, online, recipes, i, ve, had, limited, success, with, it, comparing, my, results, ...   \n",
       "1  [welcome, to, the, daily, r, coffee, question, thread, there, are, no, stupid, questions, here, ask, a, question, and, get, an, answer, we, all, have, to, start, somewhere, and, sometimes, it, is,...   \n",
       "2  [i, very, recently, moved, into, a, new, country, and, have, been, exploring, the, coffee, scene, around, i, bought, a, few, bags, of, beans, from, a, place, and, tested, them, in, a, few, methods...   \n",
       "3         [hey, im, visiting, some, friends, in, london, and, want, to, find, a, shop, that, serves, a, premium, geisha, any, help, would, be, great, where, to, get, a, good, geisha, coffee, in, london]   \n",
       "4  [get, a, fine, italian, expresso, melt, a, little, square, of, dark, chocolate, in, it, at, least, cocoa, and, a, dash, of, cinemon, nothing, more, and, then, like, homer, said, it, s, like, a, pa...   \n",
       "\n",
       "                                                                                                                                                                                            cleaned_tokens  \\\n",
       "0  [hello, everyone, couple, years, bought, v, started, experimenting, mostly, following, online, recipes, limited, success, comparing, results, shops, however, still, better, cheap, drip, machines, ...   \n",
       "1  [welcome, daily, r, question, thread, stupid, questions, ask, question, get, answer, start, somewhere, sometimes, hard, figure, right, wrong, luckily, r, community, loves, help, question, use, spe...   \n",
       "2  [recently, moved, new, country, exploring, scene, around, bought, bags, beans, place, tested, methods, made, chemex, v, espressos, really, gassy, little, crema, blooming, pour, overs, non, existen...   \n",
       "3                                                                           [hey, im, visiting, friends, london, want, find, shop, serves, premium, geisha, help, would, great, get, good, geisha, london]   \n",
       "4                         [get, fine, italian, melt, little, square, dark, chocolate, least, cocoa, dash, cinemon, nothing, like, homer, said, like, party, mouth, everyone, invited, real, cofee, lovers]   \n",
       "\n",
       "   posts_length  posts_word_count  \\\n",
       "0           727               124   \n",
       "1           890               153   \n",
       "2           720               136   \n",
       "3           162                31   \n",
       "4           242                43   \n",
       "\n",
       "                                                                                                                                                                                               wordnet_lem  \n",
       "0  [hello, everyone, couple, year, bought, v, started, experimenting, mostly, following, online, recipe, limited, success, comparing, result, shop, however, still, better, cheap, drip, machine, main,...  \n",
       "1  [welcome, daily, r, question, thread, stupid, question, ask, question, get, answer, start, somewhere, sometimes, hard, figure, right, wrong, luckily, r, community, love, help, question, use, speci...  \n",
       "2  [recently, moved, new, country, exploring, scene, around, bought, bag, bean, place, tested, method, made, chemex, v, espresso, really, gassy, little, crema, blooming, pour, over, non, existent, ro...  \n",
       "3                                                                              [hey, im, visiting, friend, london, want, find, shop, serf, premium, geisha, help, would, great, get, good, geisha, london]  \n",
       "4                          [get, fine, italian, melt, little, square, dark, chocolate, least, cocoa, dash, cinemon, nothing, like, homer, said, like, party, mouth, everyone, invited, real, cofee, lover]  "
      ]
     },
     "execution_count": 30,
     "metadata": {},
     "output_type": "execute_result"
    }
   ],
   "source": [
    "pd.options.display.max_colwidth = 200\n",
    "drinks.head()"
   ]
  },
  {
   "cell_type": "code",
   "execution_count": 31,
   "id": "4d635c68",
   "metadata": {},
   "outputs": [],
   "source": [
    "# Instantiate PorterStemmer.\n",
    "p_stemmer = PorterStemmer()"
   ]
  },
  {
   "cell_type": "code",
   "execution_count": 32,
   "id": "34d2c226",
   "metadata": {},
   "outputs": [],
   "source": [
    "# Stem tokens.\n",
    "def stem_text(row):\n",
    "    return [p_stemmer.stem(w) for w in row] \n",
    "\n",
    "drinks['sent_pstem'] = drinks['cleaned_tokens'].apply(stem_text)"
   ]
  },
  {
   "cell_type": "code",
   "execution_count": 33,
   "id": "bd1b5065",
   "metadata": {},
   "outputs": [
    {
     "data": {
      "text/plain": [
       "0       [hello, everyon, coupl, year, bought, v, start, experi, mostli, follow, onlin, recip, limit, success, compar, result, shop, howev, still, better, cheap, drip, machin, main, issu, brew, time, whate...\n",
       "1       [welcom, daili, r, question, thread, stupid, question, ask, question, get, answer, start, somewher, sometim, hard, figur, right, wrong, luckili, r, commun, love, help, question, use, specif, piec,...\n",
       "2       [recent, move, new, countri, explor, scene, around, bought, bag, bean, place, test, method, made, chemex, v, espresso, realli, gassi, littl, crema, bloom, pour, over, non, exist, roasteri, put, ro...\n",
       "3                                                                                      [hey, im, visit, friend, london, want, find, shop, serv, premium, geisha, help, would, great, get, good, geisha, london]\n",
       "4                                           [get, fine, italian, melt, littl, squar, dark, chocol, least, cocoa, dash, cinemon, noth, like, homer, said, like, parti, mouth, everyon, invit, real, cofe, lover]\n",
       "                                                                                                         ...                                                                                                   \n",
       "2320                                                                      [think, get, one, color, white, insid, better, see, color, sure, materi, vendor, check, recommend, would, appreci, recommend, yunomi]\n",
       "2321                                                                                                                                                                                [amp, x, b, two, guy, love]\n",
       "2322    [move, area, hard, water, strong, black, made, english, style, tast, okay, gongfu, usual, favorit, tast, flat, aw, instal, brita, filter, tap, seem, made, differ, doom, buy, bottl, water, rest, li...\n",
       "2323    [bit, question, feel, like, mould, stay, togeth, well, tear, apart, like, littl, bit, cotton, might, part, plant, thought, best, doubl, check, odd, notic, though, notic, fluffi, bit, dragon, well,...\n",
       "2324    [notic, til, halfway, thru, second, cup, notic, white, mold, ball, among, herb, worri, gonna, get, realli, sick, allerg, symptom, littl, yesterday, troubl, breath, normal, appar, internet, researc...\n",
       "Name: sent_pstem, Length: 2325, dtype: object"
      ]
     },
     "execution_count": 33,
     "metadata": {},
     "output_type": "execute_result"
    }
   ],
   "source": [
    "drinks['sent_pstem']"
   ]
  },
  {
   "cell_type": "markdown",
   "id": "60c0ac38",
   "metadata": {},
   "source": [
    "**Explore stemming**"
   ]
  },
  {
   "cell_type": "code",
   "execution_count": 34,
   "id": "ad44b02d",
   "metadata": {
    "scrolled": false
   },
   "outputs": [
    {
     "name": "stdout",
     "output_type": "stream",
     "text": [
      "everyone everyon\n",
      "couple coupl\n",
      "years year\n",
      "started start\n",
      "experimenting experi\n",
      "mostly mostli\n",
      "following follow\n",
      "online onlin\n",
      "recipes recip\n",
      "limited limit\n",
      "comparing compar\n",
      "results result\n",
      "shops shop\n",
      "however howev\n",
      "machines machin\n",
      "issue issu\n",
      "whatever whatev\n",
      "always alway\n",
      "recipes recip\n",
      "realized realiz\n",
      "edition edit\n",
      "apparently appar\n",
      "anyone anyon\n",
      "experience experi\n",
      "specific specif\n",
      "edition edit\n",
      "maybe mayb\n",
      "advise advis\n",
      "adapting adapt\n",
      "recipes recip\n",
      "anything anyth\n",
      "else els\n",
      "worry worri\n",
      "thanks thank\n",
      "signature signatur\n"
     ]
    }
   ],
   "source": [
    "# Example of stemmed words in one row of drinks\n",
    "for num in range(len(drinks['cleaned_tokens'][0])):\n",
    "    if drinks['cleaned_tokens'][0][num] != drinks['sent_pstem'][0][num]:\n",
    "        print(drinks['cleaned_tokens'][0][num],drinks['sent_pstem'][0][num])"
   ]
  },
  {
   "cell_type": "code",
   "execution_count": 35,
   "id": "7feb708a",
   "metadata": {},
   "outputs": [
    {
     "name": "stdout",
     "output_type": "stream",
     "text": [
      "grinding\n",
      "grind\n"
     ]
    }
   ],
   "source": [
    "# differences in lemmatizing and stemming\n",
    "print(lemmatizer.lemmatize(\"grinding\"))\n",
    "print(p_stemmer.stem(\"grinding\"))"
   ]
  },
  {
   "cell_type": "markdown",
   "id": "53a59ff1",
   "metadata": {},
   "source": [
    "From the above comparison, porter stemming is stricter than lemmatizing. For example, 'thanks' was stemmed to 'thank', but 'thanks' was not lemmatized. 'grinding' was stemmed but kept as the original during lemmatizing. Porter stemming might help to consolidate the data better for the classifier model, but this is uncertain for now. So, both columns 'wordnet_lem' and 'sent_pstem' are kept (for the models later).\n"
   ]
  },
  {
   "cell_type": "markdown",
   "id": "f76f8d17",
   "metadata": {},
   "source": [
    "### Explore n-gram range"
   ]
  },
  {
   "cell_type": "code",
   "execution_count": 36,
   "id": "97af3ea0",
   "metadata": {},
   "outputs": [],
   "source": [
    "# this must be in Series\n",
    "# analysis of cleaned data, not original text\n",
    "data_cleaned = drinks['cleaned_tokens'].apply(lambda row: ' '.join(row))"
   ]
  },
  {
   "cell_type": "code",
   "execution_count": 37,
   "id": "564ea81f",
   "metadata": {},
   "outputs": [],
   "source": [
    "# stop words in list\n",
    "stoplist = stopwords.words('english') + add_stop\n",
    "\n",
    "# instantiate\n",
    "cvec = CountVectorizer(stop_words = stoplist, ngram_range=(2,3))\n",
    "\n",
    "# matrix of ngrams\n",
    "ngrams = cvec.fit_transform(data_cleaned)\n",
    "\n",
    "# count frequency of ngrams\n",
    "count_values = ngrams.toarray().sum(axis=0)\n",
    "\n",
    "# list of ngrams\n",
    "vocab = cvec.vocabulary_\n",
    "\n",
    "df_ngram = pd.DataFrame(sorted([(count_values[i],k) for k,i in vocab.items()], reverse=True)).rename(columns={0: 'frequency', 1:'bigram/trigram'})"
   ]
  },
  {
   "cell_type": "code",
   "execution_count": 38,
   "id": "73c5184d",
   "metadata": {},
   "outputs": [
    {
     "data": {
      "text/html": [
       "<div>\n",
       "<style scoped>\n",
       "    .dataframe tbody tr th:only-of-type {\n",
       "        vertical-align: middle;\n",
       "    }\n",
       "\n",
       "    .dataframe tbody tr th {\n",
       "        vertical-align: top;\n",
       "    }\n",
       "\n",
       "    .dataframe thead th {\n",
       "        text-align: right;\n",
       "    }\n",
       "</style>\n",
       "<table border=\"1\" class=\"dataframe\">\n",
       "  <thead>\n",
       "    <tr style=\"text-align: right;\">\n",
       "      <th></th>\n",
       "      <th>frequency</th>\n",
       "      <th>bigram/trigram</th>\n",
       "    </tr>\n",
       "  </thead>\n",
       "  <tbody>\n",
       "    <tr>\n",
       "      <th>0</th>\n",
       "      <td>190</td>\n",
       "      <td>french press</td>\n",
       "    </tr>\n",
       "    <tr>\n",
       "      <th>1</th>\n",
       "      <td>142</td>\n",
       "      <td>loose leaf</td>\n",
       "    </tr>\n",
       "    <tr>\n",
       "      <th>2</th>\n",
       "      <td>135</td>\n",
       "      <td>cold brew</td>\n",
       "    </tr>\n",
       "    <tr>\n",
       "      <th>3</th>\n",
       "      <td>128</td>\n",
       "      <td>moka pot</td>\n",
       "    </tr>\n",
       "    <tr>\n",
       "      <th>4</th>\n",
       "      <td>111</td>\n",
       "      <td>feel free</td>\n",
       "    </tr>\n",
       "    <tr>\n",
       "      <th>5</th>\n",
       "      <td>105</td>\n",
       "      <td>anything else</td>\n",
       "    </tr>\n",
       "    <tr>\n",
       "      <th>6</th>\n",
       "      <td>95</td>\n",
       "      <td>would like</td>\n",
       "    </tr>\n",
       "    <tr>\n",
       "      <th>7</th>\n",
       "      <td>86</td>\n",
       "      <td>questions ask</td>\n",
       "    </tr>\n",
       "    <tr>\n",
       "      <th>8</th>\n",
       "      <td>86</td>\n",
       "      <td>one make</td>\n",
       "    </tr>\n",
       "    <tr>\n",
       "      <th>9</th>\n",
       "      <td>86</td>\n",
       "      <td>make fun</td>\n",
       "    </tr>\n",
       "    <tr>\n",
       "      <th>10</th>\n",
       "      <td>86</td>\n",
       "      <td>even talk</td>\n",
       "    </tr>\n",
       "    <tr>\n",
       "      <th>11</th>\n",
       "      <td>86</td>\n",
       "      <td>cup daily</td>\n",
       "    </tr>\n",
       "    <tr>\n",
       "      <th>12</th>\n",
       "      <td>85</td>\n",
       "      <td>worry one make</td>\n",
       "    </tr>\n",
       "    <tr>\n",
       "      <th>13</th>\n",
       "      <td>85</td>\n",
       "      <td>worry one</td>\n",
       "    </tr>\n",
       "    <tr>\n",
       "      <th>14</th>\n",
       "      <td>85</td>\n",
       "      <td>well even talk</td>\n",
       "    </tr>\n",
       "    <tr>\n",
       "      <th>15</th>\n",
       "      <td>85</td>\n",
       "      <td>well even</td>\n",
       "    </tr>\n",
       "    <tr>\n",
       "      <th>16</th>\n",
       "      <td>85</td>\n",
       "      <td>want advice guy</td>\n",
       "    </tr>\n",
       "    <tr>\n",
       "      <th>17</th>\n",
       "      <td>85</td>\n",
       "      <td>want advice</td>\n",
       "    </tr>\n",
       "    <tr>\n",
       "      <th>18</th>\n",
       "      <td>85</td>\n",
       "      <td>topics maybe want</td>\n",
       "    </tr>\n",
       "    <tr>\n",
       "      <th>19</th>\n",
       "      <td>85</td>\n",
       "      <td>topics maybe</td>\n",
       "    </tr>\n",
       "  </tbody>\n",
       "</table>\n",
       "</div>"
      ],
      "text/plain": [
       "    frequency     bigram/trigram\n",
       "0         190       french press\n",
       "1         142         loose leaf\n",
       "2         135          cold brew\n",
       "3         128           moka pot\n",
       "4         111          feel free\n",
       "5         105      anything else\n",
       "6          95         would like\n",
       "7          86      questions ask\n",
       "8          86           one make\n",
       "9          86           make fun\n",
       "10         86          even talk\n",
       "11         86          cup daily\n",
       "12         85     worry one make\n",
       "13         85          worry one\n",
       "14         85     well even talk\n",
       "15         85          well even\n",
       "16         85    want advice guy\n",
       "17         85        want advice\n",
       "18         85  topics maybe want\n",
       "19         85       topics maybe"
      ]
     },
     "execution_count": 38,
     "metadata": {},
     "output_type": "execute_result"
    }
   ],
   "source": [
    "df_ngram.head(20)"
   ]
  },
  {
   "cell_type": "code",
   "execution_count": 39,
   "id": "3bfc50b5",
   "metadata": {},
   "outputs": [
    {
     "data": {
      "text/html": [
       "<div>\n",
       "<style scoped>\n",
       "    .dataframe tbody tr th:only-of-type {\n",
       "        vertical-align: middle;\n",
       "    }\n",
       "\n",
       "    .dataframe tbody tr th {\n",
       "        vertical-align: top;\n",
       "    }\n",
       "\n",
       "    .dataframe thead th {\n",
       "        text-align: right;\n",
       "    }\n",
       "</style>\n",
       "<table border=\"1\" class=\"dataframe\">\n",
       "  <thead>\n",
       "    <tr style=\"text-align: right;\">\n",
       "      <th></th>\n",
       "      <th>frequency</th>\n",
       "      <th>bigram/trigram</th>\n",
       "    </tr>\n",
       "  </thead>\n",
       "  <tbody>\n",
       "    <tr>\n",
       "      <th>180213</th>\n",
       "      <td>1</td>\n",
       "      <td>able achieve</td>\n",
       "    </tr>\n",
       "    <tr>\n",
       "      <th>180214</th>\n",
       "      <td>1</td>\n",
       "      <td>ability truly judge</td>\n",
       "    </tr>\n",
       "    <tr>\n",
       "      <th>180215</th>\n",
       "      <td>1</td>\n",
       "      <td>ability truly</td>\n",
       "    </tr>\n",
       "    <tr>\n",
       "      <th>180216</th>\n",
       "      <td>1</td>\n",
       "      <td>ability set temperature</td>\n",
       "    </tr>\n",
       "    <tr>\n",
       "      <th>180217</th>\n",
       "      <td>1</td>\n",
       "      <td>ability set bloom</td>\n",
       "    </tr>\n",
       "    <tr>\n",
       "      <th>180218</th>\n",
       "      <td>1</td>\n",
       "      <td>ability make milk</td>\n",
       "    </tr>\n",
       "    <tr>\n",
       "      <th>180219</th>\n",
       "      <td>1</td>\n",
       "      <td>ability make</td>\n",
       "    </tr>\n",
       "    <tr>\n",
       "      <th>180220</th>\n",
       "      <td>1</td>\n",
       "      <td>ability keep temperature</td>\n",
       "    </tr>\n",
       "    <tr>\n",
       "      <th>180221</th>\n",
       "      <td>1</td>\n",
       "      <td>ability keep</td>\n",
       "    </tr>\n",
       "    <tr>\n",
       "      <th>180222</th>\n",
       "      <td>1</td>\n",
       "      <td>ability ddarjeeling</td>\n",
       "    </tr>\n",
       "    <tr>\n",
       "      <th>180223</th>\n",
       "      <td>1</td>\n",
       "      <td>ability brew large</td>\n",
       "    </tr>\n",
       "    <tr>\n",
       "      <th>180224</th>\n",
       "      <td>1</td>\n",
       "      <td>ability brew</td>\n",
       "    </tr>\n",
       "    <tr>\n",
       "      <th>180225</th>\n",
       "      <td>1</td>\n",
       "      <td>abdominal pain looser</td>\n",
       "    </tr>\n",
       "    <tr>\n",
       "      <th>180226</th>\n",
       "      <td>1</td>\n",
       "      <td>abdominal pain</td>\n",
       "    </tr>\n",
       "    <tr>\n",
       "      <th>180227</th>\n",
       "      <td>1</td>\n",
       "      <td>abate point however</td>\n",
       "    </tr>\n",
       "    <tr>\n",
       "      <th>180228</th>\n",
       "      <td>1</td>\n",
       "      <td>abate point</td>\n",
       "    </tr>\n",
       "    <tr>\n",
       "      <th>180229</th>\n",
       "      <td>1</td>\n",
       "      <td>aa sidamo guatemala</td>\n",
       "    </tr>\n",
       "    <tr>\n",
       "      <th>180230</th>\n",
       "      <td>1</td>\n",
       "      <td>aa sidamo</td>\n",
       "    </tr>\n",
       "    <tr>\n",
       "      <th>180231</th>\n",
       "      <td>1</td>\n",
       "      <td>aa good sumatran</td>\n",
       "    </tr>\n",
       "    <tr>\n",
       "      <th>180232</th>\n",
       "      <td>1</td>\n",
       "      <td>aa good</td>\n",
       "    </tr>\n",
       "  </tbody>\n",
       "</table>\n",
       "</div>"
      ],
      "text/plain": [
       "        frequency            bigram/trigram\n",
       "180213          1              able achieve\n",
       "180214          1       ability truly judge\n",
       "180215          1             ability truly\n",
       "180216          1   ability set temperature\n",
       "180217          1         ability set bloom\n",
       "180218          1         ability make milk\n",
       "180219          1              ability make\n",
       "180220          1  ability keep temperature\n",
       "180221          1              ability keep\n",
       "180222          1       ability ddarjeeling\n",
       "180223          1        ability brew large\n",
       "180224          1              ability brew\n",
       "180225          1     abdominal pain looser\n",
       "180226          1            abdominal pain\n",
       "180227          1       abate point however\n",
       "180228          1               abate point\n",
       "180229          1       aa sidamo guatemala\n",
       "180230          1                 aa sidamo\n",
       "180231          1          aa good sumatran\n",
       "180232          1                   aa good"
      ]
     },
     "execution_count": 39,
     "metadata": {},
     "output_type": "execute_result"
    }
   ],
   "source": [
    "df_ngram.tail(20)"
   ]
  },
  {
   "cell_type": "markdown",
   "id": "a1354b67",
   "metadata": {},
   "source": [
    "From the above, it seems that the most common n-grams are bigrams. 'french press', 'cold brew' are not surprising bigrams since there are associated with coffee. 'loose leaf' is associated with tea. Also, most common trigrams are 'worry one make', 'well even talk', 'want advice guy', which most probably mean that a trigram search is not necessary or helpful? In addition, least frequent n-grams are trigrams associated with abdominal pain or ability to brew coffee/tea. \n",
    "<br> **From this analysis, trigrams might not be useful.** "
   ]
  },
  {
   "cell_type": "markdown",
   "id": "f6d6c7e5",
   "metadata": {},
   "source": [
    "### Most common words"
   ]
  },
  {
   "cell_type": "code",
   "execution_count": 40,
   "id": "57c07988",
   "metadata": {},
   "outputs": [],
   "source": [
    "# instantiate\n",
    "# finding unigrams \n",
    "# analysis on cleaned sentences, not original text\n",
    "cvec_1 = CountVectorizer(stop_words = stoplist)\n",
    "\n",
    "# matrix of ngrams\n",
    "unigrams = cvec_1.fit_transform(data_cleaned)\n"
   ]
  },
  {
   "cell_type": "code",
   "execution_count": 41,
   "id": "8016bd36",
   "metadata": {},
   "outputs": [
    {
     "data": {
      "image/png": "[encoded data removed]",
      "text/plain": [
       "<Figure size 720x720 with 1 Axes>"
      ]
     },
     "metadata": {
      "needs_background": "light"
     },
     "output_type": "display_data"
    }
   ],
   "source": [
    "df_unigrams = pd.DataFrame(unigrams.todense(), columns=cvec_1.get_feature_names())\n",
    "\n",
    "# plot top occuring words\n",
    "df_unigrams.sum().sort_values(ascending=False).head(30).plot(kind='barh',figsize=(10,10));"
   ]
  },
  {
   "cell_type": "code",
   "execution_count": 42,
   "id": "c4220532",
   "metadata": {},
   "outputs": [
    {
     "data": {
      "text/plain": [
       "like         1225\n",
       "would         832\n",
       "water         749\n",
       "one           726\n",
       "good          685\n",
       "make          653\n",
       "get           653\n",
       "know          587\n",
       "anyone        580\n",
       "cup           564\n",
       "brew          534\n",
       "drink         518\n",
       "want          516\n",
       "time          497\n",
       "also          492\n",
       "looking       491\n",
       "grinder       486\n",
       "use           469\n",
       "really        467\n",
       "much          402\n",
       "taste         394\n",
       "something     393\n",
       "machine       390\n",
       "new           358\n",
       "beans         352\n",
       "drinking      335\n",
       "making        327\n",
       "milk          326\n",
       "find          326\n",
       "using         326\n",
       "dtype: int64"
      ]
     },
     "execution_count": 42,
     "metadata": {},
     "output_type": "execute_result"
    }
   ],
   "source": [
    "# 30 most common words (in general)\n",
    "df_unigrams.sum().sort_values(ascending=False).head(30)"
   ]
  },
  {
   "cell_type": "markdown",
   "id": "0b08d1ae",
   "metadata": {},
   "source": [
    "The above list are the most common words found in the posts, associated with both coffee and tea. From the above plot, a number of the common words can occur > 400 times in the dataset. "
   ]
  },
  {
   "cell_type": "markdown",
   "id": "4a524bc8",
   "metadata": {},
   "source": [
    "#### Most common words based on subreddit"
   ]
  },
  {
   "cell_type": "code",
   "execution_count": 43,
   "id": "f16b54f5",
   "metadata": {},
   "outputs": [
    {
     "data": {
      "text/html": [
       "<div>\n",
       "<style scoped>\n",
       "    .dataframe tbody tr th:only-of-type {\n",
       "        vertical-align: middle;\n",
       "    }\n",
       "\n",
       "    .dataframe tbody tr th {\n",
       "        vertical-align: top;\n",
       "    }\n",
       "\n",
       "    .dataframe thead th {\n",
       "        text-align: right;\n",
       "    }\n",
       "</style>\n",
       "<table border=\"1\" class=\"dataframe\">\n",
       "  <thead>\n",
       "    <tr style=\"text-align: right;\">\n",
       "      <th></th>\n",
       "      <th>subreddit</th>\n",
       "      <th>aa</th>\n",
       "      <th>abate</th>\n",
       "      <th>abdominal</th>\n",
       "      <th>ability</th>\n",
       "      <th>able</th>\n",
       "      <th>abnormally</th>\n",
       "      <th>aboard</th>\n",
       "      <th>abou</th>\n",
       "      <th>aboutcop</th>\n",
       "      <th>...</th>\n",
       "      <th>zojurushi</th>\n",
       "      <th>zone</th>\n",
       "      <th>zoned</th>\n",
       "      <th>zones</th>\n",
       "      <th>zoom</th>\n",
       "      <th>zpresso</th>\n",
       "      <th>zsxz</th>\n",
       "      <th>zu</th>\n",
       "      <th>zzxz</th>\n",
       "      <th>zzzz</th>\n",
       "    </tr>\n",
       "  </thead>\n",
       "  <tbody>\n",
       "    <tr>\n",
       "      <th>0</th>\n",
       "      <td>Coffee</td>\n",
       "      <td>0</td>\n",
       "      <td>0</td>\n",
       "      <td>0</td>\n",
       "      <td>0</td>\n",
       "      <td>0</td>\n",
       "      <td>0</td>\n",
       "      <td>0</td>\n",
       "      <td>0</td>\n",
       "      <td>0</td>\n",
       "      <td>...</td>\n",
       "      <td>0</td>\n",
       "      <td>0</td>\n",
       "      <td>0</td>\n",
       "      <td>0</td>\n",
       "      <td>0</td>\n",
       "      <td>0</td>\n",
       "      <td>0</td>\n",
       "      <td>0</td>\n",
       "      <td>0</td>\n",
       "      <td>0</td>\n",
       "    </tr>\n",
       "    <tr>\n",
       "      <th>1</th>\n",
       "      <td>Coffee</td>\n",
       "      <td>0</td>\n",
       "      <td>0</td>\n",
       "      <td>0</td>\n",
       "      <td>0</td>\n",
       "      <td>0</td>\n",
       "      <td>0</td>\n",
       "      <td>0</td>\n",
       "      <td>0</td>\n",
       "      <td>0</td>\n",
       "      <td>...</td>\n",
       "      <td>0</td>\n",
       "      <td>0</td>\n",
       "      <td>0</td>\n",
       "      <td>0</td>\n",
       "      <td>0</td>\n",
       "      <td>0</td>\n",
       "      <td>0</td>\n",
       "      <td>0</td>\n",
       "      <td>0</td>\n",
       "      <td>0</td>\n",
       "    </tr>\n",
       "    <tr>\n",
       "      <th>2</th>\n",
       "      <td>Coffee</td>\n",
       "      <td>0</td>\n",
       "      <td>0</td>\n",
       "      <td>0</td>\n",
       "      <td>0</td>\n",
       "      <td>0</td>\n",
       "      <td>0</td>\n",
       "      <td>0</td>\n",
       "      <td>0</td>\n",
       "      <td>0</td>\n",
       "      <td>...</td>\n",
       "      <td>0</td>\n",
       "      <td>0</td>\n",
       "      <td>0</td>\n",
       "      <td>0</td>\n",
       "      <td>0</td>\n",
       "      <td>0</td>\n",
       "      <td>0</td>\n",
       "      <td>0</td>\n",
       "      <td>0</td>\n",
       "      <td>0</td>\n",
       "    </tr>\n",
       "    <tr>\n",
       "      <th>3</th>\n",
       "      <td>Coffee</td>\n",
       "      <td>0</td>\n",
       "      <td>0</td>\n",
       "      <td>0</td>\n",
       "      <td>0</td>\n",
       "      <td>0</td>\n",
       "      <td>0</td>\n",
       "      <td>0</td>\n",
       "      <td>0</td>\n",
       "      <td>0</td>\n",
       "      <td>...</td>\n",
       "      <td>0</td>\n",
       "      <td>0</td>\n",
       "      <td>0</td>\n",
       "      <td>0</td>\n",
       "      <td>0</td>\n",
       "      <td>0</td>\n",
       "      <td>0</td>\n",
       "      <td>0</td>\n",
       "      <td>0</td>\n",
       "      <td>0</td>\n",
       "    </tr>\n",
       "    <tr>\n",
       "      <th>4</th>\n",
       "      <td>Coffee</td>\n",
       "      <td>0</td>\n",
       "      <td>0</td>\n",
       "      <td>0</td>\n",
       "      <td>0</td>\n",
       "      <td>0</td>\n",
       "      <td>0</td>\n",
       "      <td>0</td>\n",
       "      <td>0</td>\n",
       "      <td>0</td>\n",
       "      <td>...</td>\n",
       "      <td>0</td>\n",
       "      <td>0</td>\n",
       "      <td>0</td>\n",
       "      <td>0</td>\n",
       "      <td>0</td>\n",
       "      <td>0</td>\n",
       "      <td>0</td>\n",
       "      <td>0</td>\n",
       "      <td>0</td>\n",
       "      <td>0</td>\n",
       "    </tr>\n",
       "  </tbody>\n",
       "</table>\n",
       "<p>5 rows × 10497 columns</p>\n",
       "</div>"
      ],
      "text/plain": [
       "  subreddit  aa  abate  abdominal  ability  able  abnormally  aboard  abou  \\\n",
       "0    Coffee   0      0          0        0     0           0       0     0   \n",
       "1    Coffee   0      0          0        0     0           0       0     0   \n",
       "2    Coffee   0      0          0        0     0           0       0     0   \n",
       "3    Coffee   0      0          0        0     0           0       0     0   \n",
       "4    Coffee   0      0          0        0     0           0       0     0   \n",
       "\n",
       "   aboutcop  ...  zojurushi  zone  zoned  zones  zoom  zpresso  zsxz  zu  \\\n",
       "0         0  ...          0     0      0      0     0        0     0   0   \n",
       "1         0  ...          0     0      0      0     0        0     0   0   \n",
       "2         0  ...          0     0      0      0     0        0     0   0   \n",
       "3         0  ...          0     0      0      0     0        0     0   0   \n",
       "4         0  ...          0     0      0      0     0        0     0   0   \n",
       "\n",
       "   zzxz  zzzz  \n",
       "0     0     0  \n",
       "1     0     0  \n",
       "2     0     0  \n",
       "3     0     0  \n",
       "4     0     0  \n",
       "\n",
       "[5 rows x 10497 columns]"
      ]
     },
     "execution_count": 43,
     "metadata": {},
     "output_type": "execute_result"
    }
   ],
   "source": [
    "vector_text = pd.concat([drinks['subreddit'], df_unigrams.drop(columns=['subreddit'])], axis=1)\n",
    "\n",
    "pd.options.display.max_colwidth = 50\n",
    "vector_text.head()"
   ]
  },
  {
   "cell_type": "code",
   "execution_count": 44,
   "id": "b5f4eaeb",
   "metadata": {},
   "outputs": [],
   "source": [
    "# Top 30 words for 'coffee'\n",
    "coffee_words = vector_text[vector_text['subreddit'] == 'Coffee'].drop(columns=['subreddit']).sum().sort_values(ascending=False).head(30)"
   ]
  },
  {
   "cell_type": "code",
   "execution_count": 45,
   "id": "318ea388",
   "metadata": {},
   "outputs": [
    {
     "data": {
      "text/plain": [
       "Index(['like', 'would', 'grinder', 'water', 'get', 'one', 'good', 'machine',\n",
       "       'brew', 'beans', 'make', 'cup', 'use', 'time', 'anyone', 'know',\n",
       "       'looking', 'grind', 'pour', 'much', 'using', 'new', 'want', 'something',\n",
       "       'also', 'really', 'taste', 'press', 'pot', 'drink'],\n",
       "      dtype='object')"
      ]
     },
     "execution_count": 45,
     "metadata": {},
     "output_type": "execute_result"
    }
   ],
   "source": [
    "coffee_words.index"
   ]
  },
  {
   "cell_type": "markdown",
   "id": "2f35bed4",
   "metadata": {},
   "source": [
    "<img src=\"../images/coffee-cup.jpg\" style=\"height:300px\"> "
   ]
  },
  {
   "cell_type": "code",
   "execution_count": 46,
   "id": "d2da82df",
   "metadata": {},
   "outputs": [],
   "source": [
    "# Top 30 words for 'tea'\n",
    "tea_words = vector_text[vector_text['subreddit'] == 'tea'].drop(columns=['subreddit']).sum().sort_values(ascending=False).head(30)"
   ]
  },
  {
   "cell_type": "code",
   "execution_count": 47,
   "id": "a78219bf",
   "metadata": {},
   "outputs": [
    {
     "data": {
      "text/plain": [
       "Index(['like', 'one', 'make', 'would', 'drink', 'green', 'good', 'know',\n",
       "       'want', 'water', 'anyone', 'questions', 'also', 'talk', 'really', 'get',\n",
       "       'drinking', 'oolong', 'black', 'cup', 'looking', 'leaf', 'mind', 'even',\n",
       "       'making', 'time', 'anything', 'love', 'brew', 'taste'],\n",
       "      dtype='object')"
      ]
     },
     "execution_count": 47,
     "metadata": {},
     "output_type": "execute_result"
    }
   ],
   "source": [
    "tea_words.index"
   ]
  },
  {
   "cell_type": "markdown",
   "id": "fe6e26b7",
   "metadata": {},
   "source": [
    "<img src=\"../images/tea-pot.jpg\" style=\"height:300px\"> "
   ]
  },
  {
   "cell_type": "code",
   "execution_count": 48,
   "id": "fea7ed7c",
   "metadata": {},
   "outputs": [],
   "source": [
    "# common words\n",
    "common_words = [word for word in coffee_words.index if word in tea_words.index]"
   ]
  },
  {
   "cell_type": "code",
   "execution_count": 49,
   "id": "083c5641",
   "metadata": {},
   "outputs": [
    {
     "data": {
      "text/plain": [
       "['like',\n",
       " 'would',\n",
       " 'water',\n",
       " 'get',\n",
       " 'one',\n",
       " 'good',\n",
       " 'brew',\n",
       " 'make',\n",
       " 'cup',\n",
       " 'time',\n",
       " 'anyone',\n",
       " 'know',\n",
       " 'looking',\n",
       " 'want',\n",
       " 'also',\n",
       " 'really',\n",
       " 'taste',\n",
       " 'drink']"
      ]
     },
     "execution_count": 49,
     "metadata": {},
     "output_type": "execute_result"
    }
   ],
   "source": [
    "common_words"
   ]
  },
  {
   "cell_type": "markdown",
   "id": "785639bc",
   "metadata": {},
   "source": [
    "The above 'common_words' are the most common words in both subreddits (found separately). They are almost similar to the df_unigrams. However, since 'coffee''s posts are relatively longer, most of the common words found in df_unigrams seemed to be associated with 'coffee', rather than 'tea. \n",
    "<br> \n",
    "<br> Most of the 'common_words' are associated with what they 'like', 'brew' with 'water', having a 'cup', making a 'drink', the 'taste' of each 'drink', or how they 'drink'. Also, most of the posts will consist of people asking 'anyone', when they are 'looking' for a 'good' place to have a 'cup' of beverage. \n"
   ]
  },
  {
   "cell_type": "markdown",
   "id": "d52ab317",
   "metadata": {},
   "source": [
    "#### Words most likely associated with each subreddit"
   ]
  },
  {
   "cell_type": "code",
   "execution_count": 50,
   "id": "faa92c26",
   "metadata": {},
   "outputs": [],
   "source": [
    "# Words only associated with 'coffee'\n",
    "coffee = [word for word in coffee_words.index if word not in tea_words.index]"
   ]
  },
  {
   "cell_type": "code",
   "execution_count": 51,
   "id": "42f82091",
   "metadata": {},
   "outputs": [
    {
     "data": {
      "text/plain": [
       "['grinder',\n",
       " 'machine',\n",
       " 'beans',\n",
       " 'use',\n",
       " 'grind',\n",
       " 'pour',\n",
       " 'much',\n",
       " 'using',\n",
       " 'new',\n",
       " 'something',\n",
       " 'press',\n",
       " 'pot']"
      ]
     },
     "execution_count": 51,
     "metadata": {},
     "output_type": "execute_result"
    }
   ],
   "source": [
    "coffee"
   ]
  },
  {
   "cell_type": "markdown",
   "id": "de95cdd6",
   "metadata": {},
   "source": [
    "From the above list, words like 'grinder', 'grind', 'machine', 'beans', 'press' would most likely be associated with coffee, and not tea. "
   ]
  },
  {
   "cell_type": "code",
   "execution_count": 52,
   "id": "22c98a47",
   "metadata": {},
   "outputs": [],
   "source": [
    "# Words only associated with 'tea'\n",
    "tea = [word for word in tea_words.index if word not in coffee_words.index]"
   ]
  },
  {
   "cell_type": "code",
   "execution_count": 53,
   "id": "d331a10e",
   "metadata": {},
   "outputs": [
    {
     "data": {
      "text/plain": [
       "['green',\n",
       " 'questions',\n",
       " 'talk',\n",
       " 'drinking',\n",
       " 'oolong',\n",
       " 'black',\n",
       " 'leaf',\n",
       " 'mind',\n",
       " 'even',\n",
       " 'making',\n",
       " 'anything',\n",
       " 'love']"
      ]
     },
     "execution_count": 53,
     "metadata": {},
     "output_type": "execute_result"
    }
   ],
   "source": [
    "tea"
   ]
  },
  {
   "cell_type": "markdown",
   "id": "4ec1345c",
   "metadata": {},
   "source": [
    "From the above list, words like 'green', 'oolong', 'black, 'leaf' would most likely be associated with tea and not coffee."
   ]
  },
  {
   "cell_type": "markdown",
   "id": "9c53f137",
   "metadata": {},
   "source": [
    "# Save data to csv file"
   ]
  },
  {
   "cell_type": "code",
   "execution_count": 54,
   "id": "0b593ec3",
   "metadata": {},
   "outputs": [],
   "source": [
    "drinks['cleaned_sent'] = drinks['cleaned_tokens'].apply(lambda row: ' '.join(row))"
   ]
  },
  {
   "cell_type": "code",
   "execution_count": 55,
   "id": "0ffc98ab",
   "metadata": {},
   "outputs": [],
   "source": [
    "drinks['lemmatized_sent'] = drinks['wordnet_lem'].apply(lambda row: ' '.join(row))"
   ]
  },
  {
   "cell_type": "code",
   "execution_count": 56,
   "id": "482069aa",
   "metadata": {},
   "outputs": [],
   "source": [
    "drinks['pstemmed_sent'] = drinks['sent_pstem'].apply(lambda row: ' '.join(row))"
   ]
  },
  {
   "cell_type": "code",
   "execution_count": 57,
   "id": "af5366b7",
   "metadata": {},
   "outputs": [],
   "source": [
    "# save dataframe for csv file\n",
    "drinks = drinks[['subreddit','cleaned_sent','lemmatized_sent','pstemmed_sent']]"
   ]
  },
  {
   "cell_type": "code",
   "execution_count": 58,
   "id": "1f9b4828",
   "metadata": {},
   "outputs": [],
   "source": [
    "drinks.to_csv('../datasets/drinks.csv')\n"
   ]
  }
 ],
 "metadata": {
  "kernelspec": {
   "display_name": "Python 3",
   "language": "python",
   "name": "python3"
  },
  "language_info": {
   "codemirror_mode": {
    "name": "ipython",
    "version": 3
   },
   "file_extension": ".py",
   "mimetype": "text/x-python",
   "name": "python",
   "nbconvert_exporter": "python",
   "pygments_lexer": "ipython3",
   "version": "3.8.8"
  },
  "toc": {
   "base_numbering": 1,
   "nav_menu": {},
   "number_sections": true,
   "sideBar": true,
   "skip_h1_title": false,
   "title_cell": "Table of Contents",
   "title_sidebar": "Contents",
   "toc_cell": false,
   "toc_position": {
    "height": "calc(100% - 180px)",
    "left": "10px",
    "top": "150px",
    "width": "384px"
   },
   "toc_section_display": true,
   "toc_window_display": true
  }
 },
 "nbformat": 4,
 "nbformat_minor": 5
}
