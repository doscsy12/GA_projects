{
 "cells": [
  {
   "cell_type": "markdown",
   "id": "db7cc7c7",
   "metadata": {},
   "source": [
    "# Project 3: Web APIs and NLP "
   ]
  },
  {
   "cell_type": "markdown",
   "id": "eb616632",
   "metadata": {},
   "source": [
    "## Problem Statement\n"
   ]
  },
  {
   "cell_type": "markdown",
   "id": "1946ffdd",
   "metadata": {},
   "source": [
    "**To determine if the beverage company I worked for should focus on the coffee or the tea market in their business expansion, we need to determine if people in the area posts more on social media about coffee or tea.**\n"
   ]
  },
  {
   "cell_type": "markdown",
   "id": "41ea601b",
   "metadata": {},
   "source": [
    "### Contents:\n",
    "- [Background](#Background)\n",
    "- [Webscraping](#Webscraping)\n",
    "\n"
   ]
  },
  {
   "attachments": {},
   "cell_type": "markdown",
   "id": "1afbe7e6",
   "metadata": {},
   "source": [
    "## Background\n",
    "For hot beverage consumption, there are two primary contenders, and both have fiercely loyal fans. There is coffee lovers and espresso enthusiasts on one side, and green tea and chai lovers on the other. So coffee and tea lovers are the main target customers.\n",
    "\n",
    "The beverage company I worked for is seeking to expand. They want to find out if people in the area post more on social media about coffee or tea. They will, then use this information to decide if they are going into the coffee market or the tea market. \n",
    "\n",
    "While I wish this project is a systematic literature review, the aim here is to find the buzz words associated with each beverage. This will help to determine if the person who made the posts online is a coffee drinker or tea drinker. To achieve this, a classification model is needed to classify posts into either coffee or tea. \n"
   ]
  },
  {
   "cell_type": "markdown",
   "id": "f661d3dd",
   "metadata": {},
   "source": [
    "*Libraries added here*"
   ]
  },
  {
   "cell_type": "code",
   "execution_count": 1,
   "id": "aecc1892",
   "metadata": {},
   "outputs": [],
   "source": [
    "import requests\n",
    "import numpy as np\n",
    "import pandas as pd"
   ]
  },
  {
   "cell_type": "markdown",
   "id": "db9d03e6",
   "metadata": {},
   "source": [
    "## Webscraping "
   ]
  },
  {
   "cell_type": "code",
   "execution_count": 2,
   "id": "d527d427",
   "metadata": {},
   "outputs": [],
   "source": [
    "url = 'https://api.pushshift.io/reddit/search/submission'"
   ]
  },
  {
   "cell_type": "code",
   "execution_count": 7,
   "id": "b0459edd",
   "metadata": {},
   "outputs": [],
   "source": [
    "def search_word(searchword):\n",
    "    '''this function does a webscrapping from Reddit posts/submissions using given searchword'''\n",
    "    posts = []\n",
    "    before = None\n",
    "    results = []\n",
    "    nr = 1\n",
    "    loop = 30\n",
    "\n",
    "    for nr in range(0,loop):\n",
    "        if before is None:\n",
    "            params = {'subreddit' : searchword,\n",
    "                     'size' : 100}\n",
    "        else:\n",
    "            params = {\n",
    "                'subreddit' : searchword,\n",
    "                'size' : 100,\n",
    "                'before': before}\n",
    "\n",
    "        res = requests.get(url, params)\n",
    "        data = res.json()\n",
    "        before = data['data'][-1]['created_utc']\n",
    "        print(f'loop: {nr} ')\n",
    "        posts.extend(data['data'])\n",
    "\n",
    "    # create df\n",
    "    results = posts\n",
    "    df = pd.DataFrame(results)\n",
    "    df = df[['subreddit','selftext','title']]\n",
    "\n",
    "    # remove empty cells\n",
    "    df['selftext'].replace('', np.nan, inplace=True)\n",
    "    df.dropna(inplace=True)\n",
    "\n",
    "    # remove ['deleted','removed']\n",
    "    df.drop(df.loc[(df.selftext == '[deleted]') | (df.selftext == '[removed]')].index, inplace=True)\n",
    "\n",
    "    # check for duplicates\n",
    "    df.drop_duplicates(subset=['selftext','title'], inplace=True)\n",
    "\n",
    "    # combine columns 'selftext' and 'title'\n",
    "    df['text'] = df['selftext'] + df['title']\n",
    "\n",
    "    return df"
   ]
  },
  {
   "cell_type": "markdown",
   "id": "ebe79e26",
   "metadata": {},
   "source": [
    "### Searchword 'coffee'"
   ]
  },
  {
   "cell_type": "code",
   "execution_count": 4,
   "id": "8674d6b1",
   "metadata": {},
   "outputs": [
    {
     "name": "stdout",
     "output_type": "stream",
     "text": [
      "loop: 0 \n",
      "loop: 1 \n",
      "loop: 2 \n",
      "loop: 3 \n",
      "loop: 4 \n",
      "loop: 5 \n",
      "loop: 6 \n",
      "loop: 7 \n",
      "loop: 8 \n",
      "loop: 9 \n",
      "loop: 10 \n",
      "loop: 11 \n",
      "loop: 12 \n",
      "loop: 13 \n",
      "loop: 14 \n",
      "loop: 15 \n",
      "loop: 16 \n",
      "loop: 17 \n",
      "loop: 18 \n",
      "loop: 19 \n"
     ]
    }
   ],
   "source": [
    "coffee = search_word('coffee')"
   ]
  },
  {
   "cell_type": "code",
   "execution_count": 5,
   "id": "cac5bd9f",
   "metadata": {},
   "outputs": [
    {
     "data": {
      "text/html": [
       "<div>\n",
       "<style scoped>\n",
       "    .dataframe tbody tr th:only-of-type {\n",
       "        vertical-align: middle;\n",
       "    }\n",
       "\n",
       "    .dataframe tbody tr th {\n",
       "        vertical-align: top;\n",
       "    }\n",
       "\n",
       "    .dataframe thead th {\n",
       "        text-align: right;\n",
       "    }\n",
       "</style>\n",
       "<table border=\"1\" class=\"dataframe\">\n",
       "  <thead>\n",
       "    <tr style=\"text-align: right;\">\n",
       "      <th></th>\n",
       "      <th>subreddit</th>\n",
       "      <th>selftext</th>\n",
       "      <th>title</th>\n",
       "      <th>text</th>\n",
       "    </tr>\n",
       "  </thead>\n",
       "  <tbody>\n",
       "    <tr>\n",
       "      <th>1</th>\n",
       "      <td>Coffee</td>\n",
       "      <td>caffeine wise? i haven’t been able to sleep bu...</td>\n",
       "      <td>this may be a silly question but is black coff...</td>\n",
       "      <td>caffeine wise? i haven’t been able to sleep bu...</td>\n",
       "    </tr>\n",
       "    <tr>\n",
       "      <th>4</th>\n",
       "      <td>Coffee</td>\n",
       "      <td>Thanks to COVID, shops near me put a moratoriu...</td>\n",
       "      <td>Current state of coffee in Seattle?</td>\n",
       "      <td>Thanks to COVID, shops near me put a moratoriu...</td>\n",
       "    </tr>\n",
       "    <tr>\n",
       "      <th>6</th>\n",
       "      <td>Coffee</td>\n",
       "      <td>I started with Kicking Horse &amp;amp; Ethical Bea...</td>\n",
       "      <td>French Press Sour</td>\n",
       "      <td>I started with Kicking Horse &amp;amp; Ethical Bea...</td>\n",
       "    </tr>\n",
       "    <tr>\n",
       "      <th>7</th>\n",
       "      <td>Coffee</td>\n",
       "      <td>I just started making cold brew about a week a...</td>\n",
       "      <td>Faster way of filtering cold brew</td>\n",
       "      <td>I just started making cold brew about a week a...</td>\n",
       "    </tr>\n",
       "    <tr>\n",
       "      <th>8</th>\n",
       "      <td>Coffee</td>\n",
       "      <td>im literally felling some effects of molly but...</td>\n",
       "      <td>coffe after exercises</td>\n",
       "      <td>im literally felling some effects of molly but...</td>\n",
       "    </tr>\n",
       "  </tbody>\n",
       "</table>\n",
       "</div>"
      ],
      "text/plain": [
       "  subreddit                                           selftext  \\\n",
       "1    Coffee  caffeine wise? i haven’t been able to sleep bu...   \n",
       "4    Coffee  Thanks to COVID, shops near me put a moratoriu...   \n",
       "6    Coffee  I started with Kicking Horse &amp; Ethical Bea...   \n",
       "7    Coffee  I just started making cold brew about a week a...   \n",
       "8    Coffee  im literally felling some effects of molly but...   \n",
       "\n",
       "                                               title  \\\n",
       "1  this may be a silly question but is black coff...   \n",
       "4                Current state of coffee in Seattle?   \n",
       "6                                  French Press Sour   \n",
       "7                  Faster way of filtering cold brew   \n",
       "8                              coffe after exercises   \n",
       "\n",
       "                                                text  \n",
       "1  caffeine wise? i haven’t been able to sleep bu...  \n",
       "4  Thanks to COVID, shops near me put a moratoriu...  \n",
       "6  I started with Kicking Horse &amp; Ethical Bea...  \n",
       "7  I just started making cold brew about a week a...  \n",
       "8  im literally felling some effects of molly but...  "
      ]
     },
     "execution_count": 5,
     "metadata": {},
     "output_type": "execute_result"
    }
   ],
   "source": [
    "coffee.head()"
   ]
  },
  {
   "cell_type": "code",
   "execution_count": 6,
   "id": "9fbc38d2",
   "metadata": {},
   "outputs": [
    {
     "data": {
      "text/plain": [
       "(1264, 4)"
      ]
     },
     "execution_count": 6,
     "metadata": {},
     "output_type": "execute_result"
    }
   ],
   "source": [
    "coffee.shape"
   ]
  },
  {
   "cell_type": "markdown",
   "id": "f119446a",
   "metadata": {},
   "source": [
    "### Searchword 'tea'"
   ]
  },
  {
   "cell_type": "code",
   "execution_count": 9,
   "id": "59888c9d",
   "metadata": {},
   "outputs": [
    {
     "name": "stdout",
     "output_type": "stream",
     "text": [
      "loop: 0 \n",
      "loop: 1 \n",
      "loop: 2 \n",
      "loop: 3 \n",
      "loop: 4 \n",
      "loop: 5 \n",
      "loop: 6 \n",
      "loop: 7 \n",
      "loop: 8 \n",
      "loop: 9 \n",
      "loop: 10 \n",
      "loop: 11 \n",
      "loop: 12 \n",
      "loop: 13 \n",
      "loop: 14 \n",
      "loop: 15 \n",
      "loop: 16 \n",
      "loop: 17 \n",
      "loop: 18 \n",
      "loop: 19 \n",
      "loop: 20 \n",
      "loop: 21 \n",
      "loop: 22 \n",
      "loop: 23 \n",
      "loop: 24 \n",
      "loop: 25 \n",
      "loop: 26 \n",
      "loop: 27 \n",
      "loop: 28 \n",
      "loop: 29 \n"
     ]
    }
   ],
   "source": [
    "tea = search_word('tea')"
   ]
  },
  {
   "cell_type": "code",
   "execution_count": 10,
   "id": "85b940a1",
   "metadata": {},
   "outputs": [
    {
     "data": {
      "text/html": [
       "<div>\n",
       "<style scoped>\n",
       "    .dataframe tbody tr th:only-of-type {\n",
       "        vertical-align: middle;\n",
       "    }\n",
       "\n",
       "    .dataframe tbody tr th {\n",
       "        vertical-align: top;\n",
       "    }\n",
       "\n",
       "    .dataframe thead th {\n",
       "        text-align: right;\n",
       "    }\n",
       "</style>\n",
       "<table border=\"1\" class=\"dataframe\">\n",
       "  <thead>\n",
       "    <tr style=\"text-align: right;\">\n",
       "      <th></th>\n",
       "      <th>subreddit</th>\n",
       "      <th>selftext</th>\n",
       "      <th>title</th>\n",
       "      <th>text</th>\n",
       "    </tr>\n",
       "  </thead>\n",
       "  <tbody>\n",
       "    <tr>\n",
       "      <th>3</th>\n",
       "      <td>tea</td>\n",
       "      <td>Me and my mother got into an argument about th...</td>\n",
       "      <td>Should Chamomile tea be only for old men and w...</td>\n",
       "      <td>Me and my mother got into an argument about th...</td>\n",
       "    </tr>\n",
       "    <tr>\n",
       "      <th>4</th>\n",
       "      <td>tea</td>\n",
       "      <td>Could i make green tea the night before, put i...</td>\n",
       "      <td>Question about green tea</td>\n",
       "      <td>Could i make green tea the night before, put i...</td>\n",
       "    </tr>\n",
       "    <tr>\n",
       "      <th>5</th>\n",
       "      <td>tea</td>\n",
       "      <td>A few years ago I bought a cast iron tea pot w...</td>\n",
       "      <td>Need help ID'ing stamp on bottom of cast iron ...</td>\n",
       "      <td>A few years ago I bought a cast iron tea pot w...</td>\n",
       "    </tr>\n",
       "    <tr>\n",
       "      <th>14</th>\n",
       "      <td>tea</td>\n",
       "      <td>I recently tried \"Pukka Relax\", which has no s...</td>\n",
       "      <td>Which of these ingredients is causing sweetness?</td>\n",
       "      <td>I recently tried \"Pukka Relax\", which has no s...</td>\n",
       "    </tr>\n",
       "    <tr>\n",
       "      <th>15</th>\n",
       "      <td>tea</td>\n",
       "      <td>I don’t really like ripe but I’ve enjoyed all ...</td>\n",
       "      <td>What pu’erh would you recommend</td>\n",
       "      <td>I don’t really like ripe but I’ve enjoyed all ...</td>\n",
       "    </tr>\n",
       "  </tbody>\n",
       "</table>\n",
       "</div>"
      ],
      "text/plain": [
       "   subreddit                                           selftext  \\\n",
       "3        tea  Me and my mother got into an argument about th...   \n",
       "4        tea  Could i make green tea the night before, put i...   \n",
       "5        tea  A few years ago I bought a cast iron tea pot w...   \n",
       "14       tea  I recently tried \"Pukka Relax\", which has no s...   \n",
       "15       tea  I don’t really like ripe but I’ve enjoyed all ...   \n",
       "\n",
       "                                                title  \\\n",
       "3   Should Chamomile tea be only for old men and w...   \n",
       "4                            Question about green tea   \n",
       "5   Need help ID'ing stamp on bottom of cast iron ...   \n",
       "14   Which of these ingredients is causing sweetness?   \n",
       "15                    What pu’erh would you recommend   \n",
       "\n",
       "                                                 text  \n",
       "3   Me and my mother got into an argument about th...  \n",
       "4   Could i make green tea the night before, put i...  \n",
       "5   A few years ago I bought a cast iron tea pot w...  \n",
       "14  I recently tried \"Pukka Relax\", which has no s...  \n",
       "15  I don’t really like ripe but I’ve enjoyed all ...  "
      ]
     },
     "execution_count": 10,
     "metadata": {},
     "output_type": "execute_result"
    }
   ],
   "source": [
    "tea.head()"
   ]
  },
  {
   "cell_type": "code",
   "execution_count": 11,
   "id": "eb5c03df",
   "metadata": {},
   "outputs": [
    {
     "data": {
      "text/plain": [
       "(1094, 4)"
      ]
     },
     "execution_count": 11,
     "metadata": {},
     "output_type": "execute_result"
    }
   ],
   "source": [
    "tea.shape"
   ]
  },
  {
   "cell_type": "markdown",
   "id": "e026b200",
   "metadata": {},
   "source": [
    "## Save search to csv file"
   ]
  },
  {
   "cell_type": "code",
   "execution_count": 12,
   "id": "e14f63a1",
   "metadata": {},
   "outputs": [],
   "source": [
    "coffee.to_csv('../datasets/coffeesearch.csv')"
   ]
  },
  {
   "cell_type": "code",
   "execution_count": 13,
   "id": "20901f46",
   "metadata": {},
   "outputs": [],
   "source": [
    "tea.to_csv('../datasets/teasearch.csv')"
   ]
  }
 ],
 "metadata": {
  "kernelspec": {
   "display_name": "Python 3",
   "language": "python",
   "name": "python3"
  },
  "language_info": {
   "codemirror_mode": {
    "name": "ipython",
    "version": 3
   },
   "file_extension": ".py",
   "mimetype": "text/x-python",
   "name": "python",
   "nbconvert_exporter": "python",
   "pygments_lexer": "ipython3",
   "version": "3.8.8"
  },
  "toc": {
   "base_numbering": 1,
   "nav_menu": {},
   "number_sections": true,
   "sideBar": true,
   "skip_h1_title": false,
   "title_cell": "Table of Contents",
   "title_sidebar": "Contents",
   "toc_cell": false,
   "toc_position": {},
   "toc_section_display": true,
   "toc_window_display": true
  }
 },
 "nbformat": 4,
 "nbformat_minor": 5
}
