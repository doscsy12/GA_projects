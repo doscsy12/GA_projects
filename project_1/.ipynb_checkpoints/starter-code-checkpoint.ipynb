{
 "cells": [
  {
   "cell_type": "markdown",
   "metadata": {},
   "source": [
    "<img src=\"http://imgur.com/1ZcRyrc.png\" style=\"float: left; margin: 20px; height: 55px\">\n",
    "\n",
    "# Project 1: Standardized Test Analysis"
   ]
  },
  {
   "cell_type": "markdown",
   "metadata": {},
   "source": [
    "--- \n",
    "# Part 1\n",
    "\n",
    "Part 1 requires knowledge of basic Python.\n",
    "\n",
    "---"
   ]
  },
  {
   "cell_type": "markdown",
   "metadata": {},
   "source": [
    "## Problem Statement"
   ]
  },
  {
   "cell_type": "markdown",
   "metadata": {},
   "source": [
    "**The aim of this study is to determine whether the ACT or the SAT scores have good predictive validity?** \n"
   ]
  },
  {
   "cell_type": "markdown",
   "metadata": {},
   "source": [
    "### Contents:\n",
    "- [Background](#Background)\n",
    "- [Data Import & Cleaning](#Data-Import-and-Cleaning)\n",
    "- [Exploratory Data Analysis](#Exploratory-Data-Analysis)\n",
    "- [Data Visualization](#Visualize-the-Data)\n",
    "- [Conclusions and Recommendations](#Conclusions-and-Recommendations)"
   ]
  },
  {
   "cell_type": "markdown",
   "metadata": {},
   "source": [
    "## Background"
   ]
  },
  {
   "cell_type": "markdown",
   "metadata": {},
   "source": [
    "The SAT and ACT are standardized tests that many colleges and universities in the United States require for their admissions process. This score is used along with other materials such as grade point average (GPA) and essay responses to determine whether or not a potential student will be accepted to the university.\n",
    "\n",
    "The SAT has two sections of the test: Evidence-Based Reading and Writing and Math ([*source*](https://www.princetonreview.com/college/sat-sections)). The ACT has 4 sections: English, Mathematics, Reading, and Science, with an additional optional writing section ([*source*](https://www.act.org/content/act/en/products-and-services/the-act/scores/understanding-your-scores.html)). They have different score ranges, which you can read more about on their websites or additional outside sources (a quick Google search will help you understand the scores for each test):\n",
    "* [SAT](https://collegereadiness.collegeboard.org/sat)\n",
    "* [ACT](https://www.act.org/content/act/en.html)\n",
    "\n",
    "Standardized tests have long been a controversial topic for students, administrators, and legislators. Since the 1940's, an increasing number of colleges have been using scores from sudents' performances on tests like the SAT and the ACT as a measure for college readiness and aptitude ([*source*](https://www.minotdailynews.com/news/local-news/2017/04/a-brief-history-of-the-sat-and-act/)). Supporters of these tests argue that these scores can be used as an objective measure to determine college admittance. Opponents of these tests claim that these tests are not accurate measures of students potential or ability and serve as an inequitable barrier to entry. Lately, more and more schools are opting to drop the SAT/ACT requirement for their Fall 2021 applications ([*read more about this here*](https://www.cnn.com/2020/04/14/us/coronavirus-colleges-sat-act-test-trnd/index.html))."
   ]
  },
  {
   "cell_type": "markdown",
   "metadata": {},
   "source": [
    "Therefore, the aim of this data analysis is to determine if both SAT and ACT scores have good predictive validity. Predictive validity is the measure in which test scores predict an outcome criteria. In this case, do SAT and ACT scores predict academic success in college students? \n",
    "\n",
    "College grade point average(GPA) is calculated by using the number of grade points a student earns in a given period of semester or year in college. "
   ]
  },
  {
   "cell_type": "markdown",
   "metadata": {},
   "source": [
    "### Data"
   ]
  },
  {
   "cell_type": "markdown",
   "metadata": {},
   "source": [
    "**Provided data of SAT and ACT Scores:** \n",
    "* [`sat_2017.csv`](./data/sat_2017.csv): 2017 SAT Scores by State\n",
    "* [`sat_2018.csv`](./data/sat_2018.csv): 2018 SAT Scores by State\n",
    "* [`act_2017.csv`](./data/act_2017.csv): 2017 ACT Scores by State\n",
    "* [`act_2018.csv`](./data/act_2018.csv): 2018 ACT Scores by State\n",
    "<br> These will be used to provide general description of SAT and ACT scores.\n",
    "\n",
    "**Other data used to determine the predictive validity of ACT and SAT Scores** \n",
    "* [`act_sat_by college_older.csv`](./data/act_sat_by_college_older.csv): College Scorecard([source](https://collegescorecard.ed.gov/data/))\n",
    "<br> These are aggregate data by campus for 1996-97 through 2019-20. It includes information on institutional characteristics, admissions, enrollment, etc.\n",
    "* [`college_GPA.csv`](./data/college_GPA.xlsx): gradeinflation ([source](https://www.gradeinflation.com/))\n",
    "<br> These are average undergraduate college GPAs for four-year American universities/colleges from 2002-2015. "
   ]
  },
  {
   "cell_type": "markdown",
   "metadata": {},
   "source": [
    "### Outside Research"
   ]
  },
  {
   "cell_type": "markdown",
   "metadata": {},
   "source": [
    "**To-Do:**\n",
    "\"ACT scores are highly predictive of success in college,\" said Colby. \"They provide colleges with a standardized measure of academic readiness that can be used to compare students from different schools, districts, and states on an level playing field, something that no other admission factor can provide.“\n",
    "Colby and White cited a yearlong review done by the University of California's Standardized Testing Task Force that found standardized tests to be the best predictor of a college student's success.\n",
    "\n",
    "Yet, according to a 2015 analysis by Inside Higher Ed, the lowest average scores for each part of the SAT came from students with less than \\\\$20,000 in family income. The highest scores came from those with more than \\\\$200,000 in family income.  \n",
    "Affected by socioeconomic families - Hispanic and African-American students fair worse than Asian-American and White peers.\n",
    "Test scores do not correlate to success on campus.\n"
   ]
  },
  {
   "cell_type": "markdown",
   "metadata": {},
   "source": [
    "### Coding Challenges\n",
    "\n",
    "1. Manually calculate mean:\n",
    "\n",
    "    Write a function that takes in values and returns the mean of the values. Create a list of numbers that you test on your function to check to make sure your function works!\n",
    "    \n",
    "    *Note*: Do not use any mean methods built-in to any Python libraries to do this! This should be done without importing any additional libraries."
   ]
  },
  {
   "cell_type": "code",
   "execution_count": 1,
   "metadata": {},
   "outputs": [],
   "source": [
    "def calc_mean(num):\n",
    "    '''returns the average of all numbers in list''' \n",
    "    return sum(num) / len(num)"
   ]
  },
  {
   "cell_type": "markdown",
   "metadata": {},
   "source": [
    "2. Manually calculate standard deviation:\n",
    "\n",
    "    The formula for standard deviation is below:\n",
    "\n",
    "    $$\\sigma = \\sqrt{\\frac{1}{n}\\sum_{i=1}^n(x_i - \\mu)^2}$$\n",
    "\n",
    "    Where $x_i$ represents each value in the dataset, $\\mu$ represents the mean of all values in the dataset and $n$ represents the number of values in the dataset.\n",
    "\n",
    "    Write a function that takes in values and returns the standard deviation of the values using the formula above. Hint: use the function you wrote above to calculate the mean! Use the list of numbers you created above to test on your function.\n",
    "    \n",
    "    *Note*: Do not use any standard deviation methods built-in to any Python libraries to do this! This should be done without importing any additional libraries."
   ]
  },
  {
   "cell_type": "code",
   "execution_count": 2,
   "metadata": {},
   "outputs": [],
   "source": [
    "def calc_stdev(num):\n",
    "    '''returns the spread of numbers in a list relative to its mean'''\n",
    "    mean = calc_mean(num)\n",
    "    bracket = 0\n",
    "    \n",
    "    for value in num :\n",
    "        bracket += (value-mean) ** 2\n",
    "\n",
    "    # returns standard deviation = square root of (bracket/n)\n",
    "    return (bracket / (len(num))) ** (0.5)"
   ]
  },
  {
   "cell_type": "markdown",
   "metadata": {},
   "source": [
    "3. Data cleaning function:\n",
    "    \n",
    "    Write a function that takes in a string that is a number and a percent symbol (ex. '50%', '30.5%', etc.) and converts this to a float that is the decimal approximation of the percent. For example, inputting '50%' in your function should return 0.5, '30.5%' should return 0.305, etc. Make sure to test your function to make sure it works!\n",
    "\n",
    "You will use these functions later on in the project!"
   ]
  },
  {
   "cell_type": "code",
   "execution_count": 3,
   "metadata": {},
   "outputs": [],
   "source": [
    "def clean_percent(sym):\n",
    "    '''Returns the decimal number (float) converted from string with percent symbol'''\n",
    "    return [float(s.replace(',','').replace('%',''))/100 for s in sym]"
   ]
  },
  {
   "cell_type": "markdown",
   "metadata": {},
   "source": [
    "--- \n",
    "# Part 2\n",
    "\n",
    "Part 2 requires knowledge of Pandas, EDA, data cleaning, and data visualization.\n",
    "\n",
    "---"
   ]
  },
  {
   "cell_type": "markdown",
   "metadata": {},
   "source": [
    "*All libraries used should be added here*"
   ]
  },
  {
   "cell_type": "code",
   "execution_count": 4,
   "metadata": {},
   "outputs": [],
   "source": [
    "import pandas as pd\n",
    "import numpy as np\n",
    "import scipy.stats as stats\n",
    "import seaborn as sns\n",
    "import matplotlib.pyplot as plt\n",
    "%matplotlib inline"
   ]
  },
  {
   "cell_type": "markdown",
   "metadata": {},
   "source": [
    "## Data Import and Cleaning"
   ]
  },
  {
   "cell_type": "markdown",
   "metadata": {},
   "source": [
    "### Data Import & Cleaning\n",
    "\n",
    "Import the datasets that you selected for this project and go through the following steps at a minimum. You are welcome to do further cleaning as you feel necessary:\n",
    "1. Display the data: print the first 5 rows of each dataframe to your Jupyter notebook.\n",
    "2. Check for missing values.\n",
    "3. Check for any obvious issues with the observations (keep in mind the minimum & maximum possible values for each test/subtest).\n",
    "4. Fix any errors you identified in steps 2-3.\n",
    "5. Display the data types of each feature.\n",
    "6. Fix any incorrect data types found in step 5.\n",
    "    - Fix any individual values preventing other columns from being the appropriate type.\n",
    "    - If your dataset has a column of percents (ex. '50%', '30.5%', etc.), use the function you wrote in Part 1 (coding challenges, number 3) to convert this to floats! *Hint*: use `.map()` or `.apply()`.\n",
    "7. Rename Columns.\n",
    "    - Column names should be all lowercase.\n",
    "    - Column names should not contain spaces (underscores will suffice--this allows for using the `df.column_name` method to access columns in addition to `df['column_name']`).\n",
    "    - Column names should be unique and informative.\n",
    "8. Drop unnecessary rows (if needed).\n",
    "9. Merge dataframes that can be merged.\n",
    "10. Perform any additional cleaning that you feel is necessary.\n",
    "11. Save your cleaned and merged dataframes as csv files."
   ]
  },
  {
   "cell_type": "markdown",
   "metadata": {},
   "source": [
    "Both SAT and ACT scores will be examined as college admissions counselors have openly stated they do not prefer one test over the other. In reality, all colleges and universities which require standardized testing accept both the ACT and SAT scores."
   ]
  },
  {
   "cell_type": "code",
   "execution_count": 5,
   "metadata": {},
   "outputs": [],
   "source": [
    "# provided data\n",
    "sat_2017 = pd.read_csv('../my_project_1/data/sat_2017.csv')\n",
    "sat_2018 = pd.read_csv('../my_project_1/data/sat_2018.csv')\n",
    "act_2017 = pd.read_csv('../my_project_1/data/act_2017.csv')\n",
    "act_2018 = pd.read_csv('../my_project_1/data/act_2018.csv')"
   ]
  },
  {
   "cell_type": "code",
   "execution_count": 6,
   "metadata": {},
   "outputs": [],
   "source": [
    "# other datasets\n",
    "entry_scores = pd.read_csv('../my_project_1/data/act_sat_by college_older.csv')\n",
    "gpa_scores = pd.read_excel('../my_project_1/data/college_GPA.xlsx')"
   ]
  },
  {
   "cell_type": "markdown",
   "metadata": {},
   "source": [
    "The provided data (below) of SAT and ACT scores by college were not used because the scores were too recent (2020-2021).\n",
    "<br> This means that the students are most likely still in college, and the college GPA of graduating students are still unknown."
   ]
  },
  {
   "cell_type": "code",
   "execution_count": 7,
   "metadata": {
    "scrolled": true
   },
   "outputs": [
    {
     "data": {
      "text/html": [
       "<div>\n",
       "<style scoped>\n",
       "    .dataframe tbody tr th:only-of-type {\n",
       "        vertical-align: middle;\n",
       "    }\n",
       "\n",
       "    .dataframe tbody tr th {\n",
       "        vertical-align: top;\n",
       "    }\n",
       "\n",
       "    .dataframe thead th {\n",
       "        text-align: right;\n",
       "    }\n",
       "</style>\n",
       "<table border=\"1\" class=\"dataframe\">\n",
       "  <thead>\n",
       "    <tr style=\"text-align: right;\">\n",
       "      <th></th>\n",
       "      <th>School</th>\n",
       "      <th>Test Optional?</th>\n",
       "      <th>Applies to Class Year(s)</th>\n",
       "      <th>Policy Details</th>\n",
       "      <th>Number of Applicants</th>\n",
       "      <th>Accept Rate</th>\n",
       "      <th>SAT Total 25th-75th Percentile</th>\n",
       "      <th>ACT Total 25th-75th Percentile</th>\n",
       "    </tr>\n",
       "  </thead>\n",
       "  <tbody>\n",
       "    <tr>\n",
       "      <th>0</th>\n",
       "      <td>Stanford University</td>\n",
       "      <td>Yes</td>\n",
       "      <td>2021</td>\n",
       "      <td>Stanford has adopted a one-year test optional ...</td>\n",
       "      <td>47452</td>\n",
       "      <td>4.3%</td>\n",
       "      <td>1440-1570</td>\n",
       "      <td>32-35</td>\n",
       "    </tr>\n",
       "    <tr>\n",
       "      <th>1</th>\n",
       "      <td>Harvard College</td>\n",
       "      <td>Yes</td>\n",
       "      <td>2021</td>\n",
       "      <td>Harvard has adopted a one-year test optional p...</td>\n",
       "      <td>42749</td>\n",
       "      <td>4.7%</td>\n",
       "      <td>1460-1580</td>\n",
       "      <td>33-35</td>\n",
       "    </tr>\n",
       "    <tr>\n",
       "      <th>2</th>\n",
       "      <td>Princeton University</td>\n",
       "      <td>Yes</td>\n",
       "      <td>2021</td>\n",
       "      <td>Princeton has adopted a one-year test optional...</td>\n",
       "      <td>35370</td>\n",
       "      <td>5.5%</td>\n",
       "      <td>1440-1570</td>\n",
       "      <td>32-35</td>\n",
       "    </tr>\n",
       "    <tr>\n",
       "      <th>3</th>\n",
       "      <td>Columbia University</td>\n",
       "      <td>Yes</td>\n",
       "      <td>2021</td>\n",
       "      <td>Columbia has adopted a one-year test optional ...</td>\n",
       "      <td>40203</td>\n",
       "      <td>5.5%</td>\n",
       "      <td>1450-1560</td>\n",
       "      <td>33-35</td>\n",
       "    </tr>\n",
       "    <tr>\n",
       "      <th>4</th>\n",
       "      <td>Yale University</td>\n",
       "      <td>Yes</td>\n",
       "      <td>2021</td>\n",
       "      <td>Yale has adopted a one-year test optional poli...</td>\n",
       "      <td>36844</td>\n",
       "      <td>6.1%</td>\n",
       "      <td>1460-1570</td>\n",
       "      <td>33-35</td>\n",
       "    </tr>\n",
       "  </tbody>\n",
       "</table>\n",
       "</div>"
      ],
      "text/plain": [
       "                 School Test Optional? Applies to Class Year(s)  \\\n",
       "0   Stanford University            Yes                     2021   \n",
       "1       Harvard College            Yes                     2021   \n",
       "2  Princeton University            Yes                     2021   \n",
       "3   Columbia University            Yes                     2021   \n",
       "4       Yale University            Yes                     2021   \n",
       "\n",
       "                                      Policy Details  Number of Applicants  \\\n",
       "0  Stanford has adopted a one-year test optional ...                 47452   \n",
       "1  Harvard has adopted a one-year test optional p...                 42749   \n",
       "2  Princeton has adopted a one-year test optional...                 35370   \n",
       "3  Columbia has adopted a one-year test optional ...                 40203   \n",
       "4  Yale has adopted a one-year test optional poli...                 36844   \n",
       "\n",
       "  Accept Rate SAT Total 25th-75th Percentile ACT Total 25th-75th Percentile  \n",
       "0        4.3%                      1440-1570                          32-35  \n",
       "1        4.7%                      1460-1580                          33-35  \n",
       "2        5.5%                      1440-1570                          32-35  \n",
       "3        5.5%                      1450-1560                          33-35  \n",
       "4        6.1%                      1460-1570                          33-35  "
      ]
     },
     "execution_count": 7,
     "metadata": {},
     "output_type": "execute_result"
    }
   ],
   "source": [
    "# a preview of given sat_act_by_college data\n",
    "sat_act_by_college = pd.read_csv('../my_project_1/data/sat_act_by_college.csv')\n",
    "sat_act_by_college.head()"
   ]
  },
  {
   "cell_type": "markdown",
   "metadata": {},
   "source": [
    "---"
   ]
  },
  {
   "cell_type": "markdown",
   "metadata": {},
   "source": [
    "### 1. Display the first 5 rows of each dataframe "
   ]
  },
  {
   "cell_type": "code",
   "execution_count": 8,
   "metadata": {},
   "outputs": [
    {
     "data": {
      "text/html": [
       "<div>\n",
       "<style scoped>\n",
       "    .dataframe tbody tr th:only-of-type {\n",
       "        vertical-align: middle;\n",
       "    }\n",
       "\n",
       "    .dataframe tbody tr th {\n",
       "        vertical-align: top;\n",
       "    }\n",
       "\n",
       "    .dataframe thead th {\n",
       "        text-align: right;\n",
       "    }\n",
       "</style>\n",
       "<table border=\"1\" class=\"dataframe\">\n",
       "  <thead>\n",
       "    <tr style=\"text-align: right;\">\n",
       "      <th></th>\n",
       "      <th>State</th>\n",
       "      <th>Participation</th>\n",
       "      <th>Evidence-Based Reading and Writing</th>\n",
       "      <th>Math</th>\n",
       "      <th>Total</th>\n",
       "    </tr>\n",
       "  </thead>\n",
       "  <tbody>\n",
       "    <tr>\n",
       "      <th>0</th>\n",
       "      <td>Alabama</td>\n",
       "      <td>5%</td>\n",
       "      <td>593</td>\n",
       "      <td>572</td>\n",
       "      <td>1165</td>\n",
       "    </tr>\n",
       "    <tr>\n",
       "      <th>1</th>\n",
       "      <td>Alaska</td>\n",
       "      <td>38%</td>\n",
       "      <td>547</td>\n",
       "      <td>533</td>\n",
       "      <td>1080</td>\n",
       "    </tr>\n",
       "    <tr>\n",
       "      <th>2</th>\n",
       "      <td>Arizona</td>\n",
       "      <td>30%</td>\n",
       "      <td>563</td>\n",
       "      <td>553</td>\n",
       "      <td>1116</td>\n",
       "    </tr>\n",
       "    <tr>\n",
       "      <th>3</th>\n",
       "      <td>Arkansas</td>\n",
       "      <td>3%</td>\n",
       "      <td>614</td>\n",
       "      <td>594</td>\n",
       "      <td>1208</td>\n",
       "    </tr>\n",
       "    <tr>\n",
       "      <th>4</th>\n",
       "      <td>California</td>\n",
       "      <td>53%</td>\n",
       "      <td>531</td>\n",
       "      <td>524</td>\n",
       "      <td>1055</td>\n",
       "    </tr>\n",
       "  </tbody>\n",
       "</table>\n",
       "</div>"
      ],
      "text/plain": [
       "        State Participation  Evidence-Based Reading and Writing  Math  Total\n",
       "0     Alabama            5%                                 593   572   1165\n",
       "1      Alaska           38%                                 547   533   1080\n",
       "2     Arizona           30%                                 563   553   1116\n",
       "3    Arkansas            3%                                 614   594   1208\n",
       "4  California           53%                                 531   524   1055"
      ]
     },
     "execution_count": 8,
     "metadata": {},
     "output_type": "execute_result"
    }
   ],
   "source": [
    "# 1. A preview of SAT scores in 2017\n",
    "sat_2017.head() "
   ]
  },
  {
   "cell_type": "code",
   "execution_count": 9,
   "metadata": {},
   "outputs": [
    {
     "data": {
      "text/html": [
       "<div>\n",
       "<style scoped>\n",
       "    .dataframe tbody tr th:only-of-type {\n",
       "        vertical-align: middle;\n",
       "    }\n",
       "\n",
       "    .dataframe tbody tr th {\n",
       "        vertical-align: top;\n",
       "    }\n",
       "\n",
       "    .dataframe thead th {\n",
       "        text-align: right;\n",
       "    }\n",
       "</style>\n",
       "<table border=\"1\" class=\"dataframe\">\n",
       "  <thead>\n",
       "    <tr style=\"text-align: right;\">\n",
       "      <th></th>\n",
       "      <th>State</th>\n",
       "      <th>Participation</th>\n",
       "      <th>Evidence-Based Reading and Writing</th>\n",
       "      <th>Math</th>\n",
       "      <th>Total</th>\n",
       "    </tr>\n",
       "  </thead>\n",
       "  <tbody>\n",
       "    <tr>\n",
       "      <th>0</th>\n",
       "      <td>Alabama</td>\n",
       "      <td>6%</td>\n",
       "      <td>595</td>\n",
       "      <td>571</td>\n",
       "      <td>1166</td>\n",
       "    </tr>\n",
       "    <tr>\n",
       "      <th>1</th>\n",
       "      <td>Alaska</td>\n",
       "      <td>43%</td>\n",
       "      <td>562</td>\n",
       "      <td>544</td>\n",
       "      <td>1106</td>\n",
       "    </tr>\n",
       "    <tr>\n",
       "      <th>2</th>\n",
       "      <td>Arizona</td>\n",
       "      <td>29%</td>\n",
       "      <td>577</td>\n",
       "      <td>572</td>\n",
       "      <td>1149</td>\n",
       "    </tr>\n",
       "    <tr>\n",
       "      <th>3</th>\n",
       "      <td>Arkansas</td>\n",
       "      <td>5%</td>\n",
       "      <td>592</td>\n",
       "      <td>576</td>\n",
       "      <td>1169</td>\n",
       "    </tr>\n",
       "    <tr>\n",
       "      <th>4</th>\n",
       "      <td>California</td>\n",
       "      <td>60%</td>\n",
       "      <td>540</td>\n",
       "      <td>536</td>\n",
       "      <td>1076</td>\n",
       "    </tr>\n",
       "  </tbody>\n",
       "</table>\n",
       "</div>"
      ],
      "text/plain": [
       "        State Participation  Evidence-Based Reading and Writing  Math  Total\n",
       "0     Alabama            6%                                 595   571   1166\n",
       "1      Alaska           43%                                 562   544   1106\n",
       "2     Arizona           29%                                 577   572   1149\n",
       "3    Arkansas            5%                                 592   576   1169\n",
       "4  California           60%                                 540   536   1076"
      ]
     },
     "execution_count": 9,
     "metadata": {},
     "output_type": "execute_result"
    }
   ],
   "source": [
    "# A preview of SAT scores in 2018\n",
    "sat_2018.head()"
   ]
  },
  {
   "cell_type": "code",
   "execution_count": 10,
   "metadata": {},
   "outputs": [
    {
     "data": {
      "text/html": [
       "<div>\n",
       "<style scoped>\n",
       "    .dataframe tbody tr th:only-of-type {\n",
       "        vertical-align: middle;\n",
       "    }\n",
       "\n",
       "    .dataframe tbody tr th {\n",
       "        vertical-align: top;\n",
       "    }\n",
       "\n",
       "    .dataframe thead th {\n",
       "        text-align: right;\n",
       "    }\n",
       "</style>\n",
       "<table border=\"1\" class=\"dataframe\">\n",
       "  <thead>\n",
       "    <tr style=\"text-align: right;\">\n",
       "      <th></th>\n",
       "      <th>State</th>\n",
       "      <th>Participation</th>\n",
       "      <th>English</th>\n",
       "      <th>Math</th>\n",
       "      <th>Reading</th>\n",
       "      <th>Science</th>\n",
       "      <th>Composite</th>\n",
       "    </tr>\n",
       "  </thead>\n",
       "  <tbody>\n",
       "    <tr>\n",
       "      <th>0</th>\n",
       "      <td>National</td>\n",
       "      <td>60%</td>\n",
       "      <td>20.3</td>\n",
       "      <td>20.7</td>\n",
       "      <td>21.4</td>\n",
       "      <td>21.0</td>\n",
       "      <td>21.0</td>\n",
       "    </tr>\n",
       "    <tr>\n",
       "      <th>1</th>\n",
       "      <td>Alabama</td>\n",
       "      <td>100%</td>\n",
       "      <td>18.9</td>\n",
       "      <td>18.4</td>\n",
       "      <td>19.7</td>\n",
       "      <td>19.4</td>\n",
       "      <td>19.2</td>\n",
       "    </tr>\n",
       "    <tr>\n",
       "      <th>2</th>\n",
       "      <td>Alaska</td>\n",
       "      <td>65%</td>\n",
       "      <td>18.7</td>\n",
       "      <td>19.8</td>\n",
       "      <td>20.4</td>\n",
       "      <td>19.9</td>\n",
       "      <td>19.8</td>\n",
       "    </tr>\n",
       "    <tr>\n",
       "      <th>3</th>\n",
       "      <td>Arizona</td>\n",
       "      <td>62%</td>\n",
       "      <td>18.6</td>\n",
       "      <td>19.8</td>\n",
       "      <td>20.1</td>\n",
       "      <td>19.8</td>\n",
       "      <td>19.7</td>\n",
       "    </tr>\n",
       "    <tr>\n",
       "      <th>4</th>\n",
       "      <td>Arkansas</td>\n",
       "      <td>100%</td>\n",
       "      <td>18.9</td>\n",
       "      <td>19.0</td>\n",
       "      <td>19.7</td>\n",
       "      <td>19.5</td>\n",
       "      <td>19.4</td>\n",
       "    </tr>\n",
       "  </tbody>\n",
       "</table>\n",
       "</div>"
      ],
      "text/plain": [
       "      State Participation  English  Math  Reading  Science Composite\n",
       "0  National           60%     20.3  20.7     21.4     21.0      21.0\n",
       "1   Alabama          100%     18.9  18.4     19.7     19.4      19.2\n",
       "2    Alaska           65%     18.7  19.8     20.4     19.9      19.8\n",
       "3   Arizona           62%     18.6  19.8     20.1     19.8      19.7\n",
       "4  Arkansas          100%     18.9  19.0     19.7     19.5      19.4"
      ]
     },
     "execution_count": 10,
     "metadata": {},
     "output_type": "execute_result"
    }
   ],
   "source": [
    "# A preview of ACT scores in 2017\n",
    "act_2017.head()"
   ]
  },
  {
   "cell_type": "code",
   "execution_count": 11,
   "metadata": {},
   "outputs": [
    {
     "data": {
      "text/html": [
       "<div>\n",
       "<style scoped>\n",
       "    .dataframe tbody tr th:only-of-type {\n",
       "        vertical-align: middle;\n",
       "    }\n",
       "\n",
       "    .dataframe tbody tr th {\n",
       "        vertical-align: top;\n",
       "    }\n",
       "\n",
       "    .dataframe thead th {\n",
       "        text-align: right;\n",
       "    }\n",
       "</style>\n",
       "<table border=\"1\" class=\"dataframe\">\n",
       "  <thead>\n",
       "    <tr style=\"text-align: right;\">\n",
       "      <th></th>\n",
       "      <th>State</th>\n",
       "      <th>Participation</th>\n",
       "      <th>Composite</th>\n",
       "    </tr>\n",
       "  </thead>\n",
       "  <tbody>\n",
       "    <tr>\n",
       "      <th>0</th>\n",
       "      <td>Alabama</td>\n",
       "      <td>100%</td>\n",
       "      <td>19.1</td>\n",
       "    </tr>\n",
       "    <tr>\n",
       "      <th>1</th>\n",
       "      <td>Alaska</td>\n",
       "      <td>33%</td>\n",
       "      <td>20.8</td>\n",
       "    </tr>\n",
       "    <tr>\n",
       "      <th>2</th>\n",
       "      <td>Arizona</td>\n",
       "      <td>66%</td>\n",
       "      <td>19.2</td>\n",
       "    </tr>\n",
       "    <tr>\n",
       "      <th>3</th>\n",
       "      <td>Arkansas</td>\n",
       "      <td>100%</td>\n",
       "      <td>19.4</td>\n",
       "    </tr>\n",
       "    <tr>\n",
       "      <th>4</th>\n",
       "      <td>California</td>\n",
       "      <td>27%</td>\n",
       "      <td>22.7</td>\n",
       "    </tr>\n",
       "  </tbody>\n",
       "</table>\n",
       "</div>"
      ],
      "text/plain": [
       "        State Participation  Composite\n",
       "0     Alabama          100%       19.1\n",
       "1      Alaska           33%       20.8\n",
       "2     Arizona           66%       19.2\n",
       "3    Arkansas          100%       19.4\n",
       "4  California           27%       22.7"
      ]
     },
     "execution_count": 11,
     "metadata": {},
     "output_type": "execute_result"
    }
   ],
   "source": [
    "# A preview of ACT scores in 2018\n",
    "act_2018.head()"
   ]
  },
  {
   "cell_type": "markdown",
   "metadata": {},
   "source": [
    "\" .head() \" returns first five observations of the dataset\n",
    "<br> The given SAT data (2017, 2018) had 5 columns\n",
    "<br> The given ACT data in both 2017 and 2018 were different. \n",
    "<br> ACT scores of 2017 and 2018 provided the participation rates by each state. However, ACT data from 2017 provided more detailed scores from all 4 sections (English, Math, Reading, Science), together with the composite score. The composite score in ACT is the average of four test scores, rounded to the nearest whole number. \n",
    "<br> ACT data from 2018 only provided the composite scores "
   ]
  },
  {
   "cell_type": "code",
   "execution_count": 12,
   "metadata": {},
   "outputs": [
    {
     "data": {
      "text/html": [
       "<div>\n",
       "<style scoped>\n",
       "    .dataframe tbody tr th:only-of-type {\n",
       "        vertical-align: middle;\n",
       "    }\n",
       "\n",
       "    .dataframe tbody tr th {\n",
       "        vertical-align: top;\n",
       "    }\n",
       "\n",
       "    .dataframe thead th {\n",
       "        text-align: right;\n",
       "    }\n",
       "</style>\n",
       "<table border=\"1\" class=\"dataframe\">\n",
       "  <thead>\n",
       "    <tr style=\"text-align: right;\">\n",
       "      <th></th>\n",
       "      <th>INSTNM</th>\n",
       "      <th>CITY</th>\n",
       "      <th>STABBR</th>\n",
       "      <th>ZIP</th>\n",
       "      <th>ADM_RATE</th>\n",
       "      <th>SATVR25</th>\n",
       "      <th>SATVR75</th>\n",
       "      <th>SATMT25</th>\n",
       "      <th>SATMT75</th>\n",
       "      <th>SATWR25</th>\n",
       "      <th>...</th>\n",
       "      <th>ACTMT25</th>\n",
       "      <th>ACTMT75</th>\n",
       "      <th>ACTWR25</th>\n",
       "      <th>ACTWR75</th>\n",
       "      <th>ACTCMMID</th>\n",
       "      <th>ACTENMID</th>\n",
       "      <th>ACTMTMID</th>\n",
       "      <th>ACTWRMID</th>\n",
       "      <th>SAT_AVG</th>\n",
       "      <th>SAT_AVG_ALL</th>\n",
       "    </tr>\n",
       "  </thead>\n",
       "  <tbody>\n",
       "    <tr>\n",
       "      <th>0</th>\n",
       "      <td>Abilene Christian University</td>\n",
       "      <td>Abilene</td>\n",
       "      <td>TX</td>\n",
       "      <td>79699</td>\n",
       "      <td>0.6148</td>\n",
       "      <td>515.0</td>\n",
       "      <td>630.0</td>\n",
       "      <td>500.0</td>\n",
       "      <td>600.0</td>\n",
       "      <td>450.0</td>\n",
       "      <td>...</td>\n",
       "      <td>18.0</td>\n",
       "      <td>26.0</td>\n",
       "      <td>6.0</td>\n",
       "      <td>8.0</td>\n",
       "      <td>25.0</td>\n",
       "      <td>24.0</td>\n",
       "      <td>22.0</td>\n",
       "      <td>7.0</td>\n",
       "      <td>1164.0</td>\n",
       "      <td>1164.0</td>\n",
       "    </tr>\n",
       "    <tr>\n",
       "      <th>1</th>\n",
       "      <td>Abraham Baldwin Agricultural College</td>\n",
       "      <td>Tifton</td>\n",
       "      <td>GA</td>\n",
       "      <td>31793-2601</td>\n",
       "      <td>0.7342</td>\n",
       "      <td>470.0</td>\n",
       "      <td>580.0</td>\n",
       "      <td>460.0</td>\n",
       "      <td>540.0</td>\n",
       "      <td>NaN</td>\n",
       "      <td>...</td>\n",
       "      <td>16.0</td>\n",
       "      <td>21.0</td>\n",
       "      <td>NaN</td>\n",
       "      <td>NaN</td>\n",
       "      <td>20.0</td>\n",
       "      <td>19.0</td>\n",
       "      <td>19.0</td>\n",
       "      <td>NaN</td>\n",
       "      <td>1029.0</td>\n",
       "      <td>1029.0</td>\n",
       "    </tr>\n",
       "    <tr>\n",
       "      <th>2</th>\n",
       "      <td>Academy of Interactive Entertainment</td>\n",
       "      <td>Seattle</td>\n",
       "      <td>WA</td>\n",
       "      <td>98109-4623</td>\n",
       "      <td>0.9231</td>\n",
       "      <td>NaN</td>\n",
       "      <td>NaN</td>\n",
       "      <td>NaN</td>\n",
       "      <td>NaN</td>\n",
       "      <td>NaN</td>\n",
       "      <td>...</td>\n",
       "      <td>NaN</td>\n",
       "      <td>NaN</td>\n",
       "      <td>NaN</td>\n",
       "      <td>NaN</td>\n",
       "      <td>NaN</td>\n",
       "      <td>NaN</td>\n",
       "      <td>NaN</td>\n",
       "      <td>NaN</td>\n",
       "      <td>NaN</td>\n",
       "      <td>NaN</td>\n",
       "    </tr>\n",
       "    <tr>\n",
       "      <th>3</th>\n",
       "      <td>Academy of Interactive Entertainment</td>\n",
       "      <td>Lafayette</td>\n",
       "      <td>LA</td>\n",
       "      <td>70506-4293</td>\n",
       "      <td>0.8627</td>\n",
       "      <td>NaN</td>\n",
       "      <td>NaN</td>\n",
       "      <td>NaN</td>\n",
       "      <td>NaN</td>\n",
       "      <td>NaN</td>\n",
       "      <td>...</td>\n",
       "      <td>NaN</td>\n",
       "      <td>NaN</td>\n",
       "      <td>NaN</td>\n",
       "      <td>NaN</td>\n",
       "      <td>NaN</td>\n",
       "      <td>NaN</td>\n",
       "      <td>NaN</td>\n",
       "      <td>NaN</td>\n",
       "      <td>NaN</td>\n",
       "      <td>NaN</td>\n",
       "    </tr>\n",
       "    <tr>\n",
       "      <th>4</th>\n",
       "      <td>Adams State University</td>\n",
       "      <td>Alamosa</td>\n",
       "      <td>CO</td>\n",
       "      <td>81101</td>\n",
       "      <td>0.9909</td>\n",
       "      <td>450.0</td>\n",
       "      <td>550.0</td>\n",
       "      <td>440.0</td>\n",
       "      <td>540.0</td>\n",
       "      <td>NaN</td>\n",
       "      <td>...</td>\n",
       "      <td>16.0</td>\n",
       "      <td>22.0</td>\n",
       "      <td>NaN</td>\n",
       "      <td>NaN</td>\n",
       "      <td>20.0</td>\n",
       "      <td>18.0</td>\n",
       "      <td>19.0</td>\n",
       "      <td>NaN</td>\n",
       "      <td>1003.0</td>\n",
       "      <td>1003.0</td>\n",
       "    </tr>\n",
       "    <tr>\n",
       "      <th>5</th>\n",
       "      <td>Adelphi University</td>\n",
       "      <td>Garden City</td>\n",
       "      <td>NY</td>\n",
       "      <td>11530-0701</td>\n",
       "      <td>0.7430</td>\n",
       "      <td>530.0</td>\n",
       "      <td>630.0</td>\n",
       "      <td>530.0</td>\n",
       "      <td>620.0</td>\n",
       "      <td>500.0</td>\n",
       "      <td>...</td>\n",
       "      <td>19.0</td>\n",
       "      <td>26.0</td>\n",
       "      <td>7.0</td>\n",
       "      <td>8.0</td>\n",
       "      <td>24.0</td>\n",
       "      <td>26.0</td>\n",
       "      <td>23.0</td>\n",
       "      <td>8.0</td>\n",
       "      <td>1161.0</td>\n",
       "      <td>1161.0</td>\n",
       "    </tr>\n",
       "    <tr>\n",
       "      <th>6</th>\n",
       "      <td>Adrian College</td>\n",
       "      <td>Adrian</td>\n",
       "      <td>MI</td>\n",
       "      <td>49221-2575</td>\n",
       "      <td>0.5593</td>\n",
       "      <td>480.0</td>\n",
       "      <td>580.0</td>\n",
       "      <td>480.0</td>\n",
       "      <td>520.0</td>\n",
       "      <td>NaN</td>\n",
       "      <td>...</td>\n",
       "      <td>17.0</td>\n",
       "      <td>25.0</td>\n",
       "      <td>NaN</td>\n",
       "      <td>NaN</td>\n",
       "      <td>22.0</td>\n",
       "      <td>20.0</td>\n",
       "      <td>21.0</td>\n",
       "      <td>NaN</td>\n",
       "      <td>1046.0</td>\n",
       "      <td>1046.0</td>\n",
       "    </tr>\n",
       "    <tr>\n",
       "      <th>7</th>\n",
       "      <td>Adult and Community Education-Hudson</td>\n",
       "      <td>Columbus</td>\n",
       "      <td>OH</td>\n",
       "      <td>43211</td>\n",
       "      <td>1.0000</td>\n",
       "      <td>NaN</td>\n",
       "      <td>NaN</td>\n",
       "      <td>NaN</td>\n",
       "      <td>NaN</td>\n",
       "      <td>NaN</td>\n",
       "      <td>...</td>\n",
       "      <td>NaN</td>\n",
       "      <td>NaN</td>\n",
       "      <td>NaN</td>\n",
       "      <td>NaN</td>\n",
       "      <td>NaN</td>\n",
       "      <td>NaN</td>\n",
       "      <td>NaN</td>\n",
       "      <td>NaN</td>\n",
       "      <td>NaN</td>\n",
       "      <td>NaN</td>\n",
       "    </tr>\n",
       "    <tr>\n",
       "      <th>8</th>\n",
       "      <td>Advanced Technology Institute</td>\n",
       "      <td>Virginia Beach</td>\n",
       "      <td>VA</td>\n",
       "      <td>23462</td>\n",
       "      <td>0.4791</td>\n",
       "      <td>NaN</td>\n",
       "      <td>NaN</td>\n",
       "      <td>NaN</td>\n",
       "      <td>NaN</td>\n",
       "      <td>NaN</td>\n",
       "      <td>...</td>\n",
       "      <td>NaN</td>\n",
       "      <td>NaN</td>\n",
       "      <td>NaN</td>\n",
       "      <td>NaN</td>\n",
       "      <td>NaN</td>\n",
       "      <td>NaN</td>\n",
       "      <td>NaN</td>\n",
       "      <td>NaN</td>\n",
       "      <td>NaN</td>\n",
       "      <td>NaN</td>\n",
       "    </tr>\n",
       "    <tr>\n",
       "      <th>9</th>\n",
       "      <td>AdventHealth University</td>\n",
       "      <td>Orlando</td>\n",
       "      <td>FL</td>\n",
       "      <td>32803</td>\n",
       "      <td>0.5053</td>\n",
       "      <td>510.0</td>\n",
       "      <td>600.0</td>\n",
       "      <td>510.0</td>\n",
       "      <td>560.0</td>\n",
       "      <td>NaN</td>\n",
       "      <td>...</td>\n",
       "      <td>18.0</td>\n",
       "      <td>21.0</td>\n",
       "      <td>NaN</td>\n",
       "      <td>NaN</td>\n",
       "      <td>20.0</td>\n",
       "      <td>21.0</td>\n",
       "      <td>20.0</td>\n",
       "      <td>NaN</td>\n",
       "      <td>1072.0</td>\n",
       "      <td>1072.0</td>\n",
       "    </tr>\n",
       "  </tbody>\n",
       "</table>\n",
       "<p>10 rows × 28 columns</p>\n",
       "</div>"
      ],
      "text/plain": [
       "                                 INSTNM            CITY STABBR         ZIP  \\\n",
       "0          Abilene Christian University         Abilene     TX       79699   \n",
       "1  Abraham Baldwin Agricultural College          Tifton     GA  31793-2601   \n",
       "2  Academy of Interactive Entertainment         Seattle     WA  98109-4623   \n",
       "3  Academy of Interactive Entertainment       Lafayette     LA  70506-4293   \n",
       "4                Adams State University         Alamosa     CO       81101   \n",
       "5                    Adelphi University     Garden City     NY  11530-0701   \n",
       "6                        Adrian College          Adrian     MI  49221-2575   \n",
       "7  Adult and Community Education-Hudson        Columbus     OH       43211   \n",
       "8         Advanced Technology Institute  Virginia Beach     VA       23462   \n",
       "9               AdventHealth University         Orlando     FL       32803   \n",
       "\n",
       "   ADM_RATE  SATVR25  SATVR75  SATMT25  SATMT75  SATWR25  ...  ACTMT25  \\\n",
       "0    0.6148    515.0    630.0    500.0    600.0    450.0  ...     18.0   \n",
       "1    0.7342    470.0    580.0    460.0    540.0      NaN  ...     16.0   \n",
       "2    0.9231      NaN      NaN      NaN      NaN      NaN  ...      NaN   \n",
       "3    0.8627      NaN      NaN      NaN      NaN      NaN  ...      NaN   \n",
       "4    0.9909    450.0    550.0    440.0    540.0      NaN  ...     16.0   \n",
       "5    0.7430    530.0    630.0    530.0    620.0    500.0  ...     19.0   \n",
       "6    0.5593    480.0    580.0    480.0    520.0      NaN  ...     17.0   \n",
       "7    1.0000      NaN      NaN      NaN      NaN      NaN  ...      NaN   \n",
       "8    0.4791      NaN      NaN      NaN      NaN      NaN  ...      NaN   \n",
       "9    0.5053    510.0    600.0    510.0    560.0      NaN  ...     18.0   \n",
       "\n",
       "   ACTMT75  ACTWR25  ACTWR75  ACTCMMID  ACTENMID  ACTMTMID  ACTWRMID  SAT_AVG  \\\n",
       "0     26.0      6.0      8.0      25.0      24.0      22.0       7.0   1164.0   \n",
       "1     21.0      NaN      NaN      20.0      19.0      19.0       NaN   1029.0   \n",
       "2      NaN      NaN      NaN       NaN       NaN       NaN       NaN      NaN   \n",
       "3      NaN      NaN      NaN       NaN       NaN       NaN       NaN      NaN   \n",
       "4     22.0      NaN      NaN      20.0      18.0      19.0       NaN   1003.0   \n",
       "5     26.0      7.0      8.0      24.0      26.0      23.0       8.0   1161.0   \n",
       "6     25.0      NaN      NaN      22.0      20.0      21.0       NaN   1046.0   \n",
       "7      NaN      NaN      NaN       NaN       NaN       NaN       NaN      NaN   \n",
       "8      NaN      NaN      NaN       NaN       NaN       NaN       NaN      NaN   \n",
       "9     21.0      NaN      NaN      20.0      21.0      20.0       NaN   1072.0   \n",
       "\n",
       "   SAT_AVG_ALL  \n",
       "0       1164.0  \n",
       "1       1029.0  \n",
       "2          NaN  \n",
       "3          NaN  \n",
       "4       1003.0  \n",
       "5       1161.0  \n",
       "6       1046.0  \n",
       "7          NaN  \n",
       "8          NaN  \n",
       "9       1072.0  \n",
       "\n",
       "[10 rows x 28 columns]"
      ]
     },
     "execution_count": 12,
     "metadata": {},
     "output_type": "execute_result"
    }
   ],
   "source": [
    "# a preview of other datasets\n",
    "# a preview of the SAT and ACT scores for admissions by college\n",
    "entry_scores.head(10)"
   ]
  },
  {
   "cell_type": "markdown",
   "metadata": {},
   "source": [
    "The admissions scores by college has 28 columns, which includes the ADM_RATE (admissions rate) and the 25th, 50th and 75th quartile of SAT and ACT scores of incoming students. \n",
    "<br> There is a lot of missing data in a number of colleges. "
   ]
  },
  {
   "cell_type": "code",
   "execution_count": 13,
   "metadata": {},
   "outputs": [
    {
     "data": {
      "text/html": [
       "<div>\n",
       "<style scoped>\n",
       "    .dataframe tbody tr th:only-of-type {\n",
       "        vertical-align: middle;\n",
       "    }\n",
       "\n",
       "    .dataframe tbody tr th {\n",
       "        vertical-align: top;\n",
       "    }\n",
       "\n",
       "    .dataframe thead th {\n",
       "        text-align: right;\n",
       "    }\n",
       "</style>\n",
       "<table border=\"1\" class=\"dataframe\">\n",
       "  <thead>\n",
       "    <tr style=\"text-align: right;\">\n",
       "      <th></th>\n",
       "      <th>College</th>\n",
       "      <th>Acceptance Rate</th>\n",
       "      <th>Average GPA</th>\n",
       "      <th>year</th>\n",
       "    </tr>\n",
       "  </thead>\n",
       "  <tbody>\n",
       "    <tr>\n",
       "      <th>0</th>\n",
       "      <td>Adelphi University</td>\n",
       "      <td>NaN</td>\n",
       "      <td>3.22</td>\n",
       "      <td>2004</td>\n",
       "    </tr>\n",
       "    <tr>\n",
       "      <th>1</th>\n",
       "      <td>Albion College</td>\n",
       "      <td>NaN</td>\n",
       "      <td>3.29</td>\n",
       "      <td>2008</td>\n",
       "    </tr>\n",
       "    <tr>\n",
       "      <th>2</th>\n",
       "      <td>Allegheny College</td>\n",
       "      <td>NaN</td>\n",
       "      <td>3.04</td>\n",
       "      <td>2014</td>\n",
       "    </tr>\n",
       "    <tr>\n",
       "      <th>3</th>\n",
       "      <td>Amherst College</td>\n",
       "      <td>NaN</td>\n",
       "      <td>3.48</td>\n",
       "      <td>2006</td>\n",
       "    </tr>\n",
       "    <tr>\n",
       "      <th>4</th>\n",
       "      <td>Appalachian State University</td>\n",
       "      <td>NaN</td>\n",
       "      <td>3.10</td>\n",
       "      <td>2013</td>\n",
       "    </tr>\n",
       "  </tbody>\n",
       "</table>\n",
       "</div>"
      ],
      "text/plain": [
       "                        College  Acceptance Rate  Average GPA  year\n",
       "0            Adelphi University              NaN         3.22  2004\n",
       "1                Albion College              NaN         3.29  2008\n",
       "2             Allegheny College              NaN         3.04  2014\n",
       "3               Amherst College              NaN         3.48  2006\n",
       "4  Appalachian State University              NaN         3.10  2013"
      ]
     },
     "execution_count": 13,
     "metadata": {},
     "output_type": "execute_result"
    }
   ],
   "source": [
    "# a review of the college GPA scores by college\n",
    "gpa_scores.head()"
   ]
  },
  {
   "cell_type": "markdown",
   "metadata": {},
   "source": [
    "The gpa_scores reported the average GPA score and the year it was reported or announced (to the public).\n",
    "<br> There is a lot of missing data in the column reporting the acceptance rate of each college.\n",
    "\n"
   ]
  },
  {
   "cell_type": "markdown",
   "metadata": {},
   "source": [
    "---"
   ]
  },
  {
   "cell_type": "markdown",
   "metadata": {},
   "source": [
    "### 2. Check for missing data"
   ]
  },
  {
   "cell_type": "code",
   "execution_count": 14,
   "metadata": {},
   "outputs": [
    {
     "data": {
      "text/plain": [
       "State                                 0\n",
       "Participation                         0\n",
       "Evidence-Based Reading and Writing    0\n",
       "Math                                  0\n",
       "Total                                 0\n",
       "dtype: int64"
      ]
     },
     "execution_count": 14,
     "metadata": {},
     "output_type": "execute_result"
    }
   ],
   "source": [
    "pd.isna(sat_2017).sum()"
   ]
  },
  {
   "cell_type": "code",
   "execution_count": 15,
   "metadata": {},
   "outputs": [
    {
     "data": {
      "text/plain": [
       "State                                 0\n",
       "Participation                         0\n",
       "Evidence-Based Reading and Writing    0\n",
       "Math                                  0\n",
       "Total                                 0\n",
       "dtype: int64"
      ]
     },
     "execution_count": 15,
     "metadata": {},
     "output_type": "execute_result"
    }
   ],
   "source": [
    "pd.isna(sat_2018).sum()"
   ]
  },
  {
   "cell_type": "code",
   "execution_count": 16,
   "metadata": {},
   "outputs": [
    {
     "data": {
      "text/plain": [
       "State            0\n",
       "Participation    0\n",
       "English          0\n",
       "Math             0\n",
       "Reading          0\n",
       "Science          0\n",
       "Composite        0\n",
       "dtype: int64"
      ]
     },
     "execution_count": 16,
     "metadata": {},
     "output_type": "execute_result"
    }
   ],
   "source": [
    "pd.isna(act_2017).sum()"
   ]
  },
  {
   "cell_type": "code",
   "execution_count": 17,
   "metadata": {},
   "outputs": [
    {
     "data": {
      "text/plain": [
       "State            0\n",
       "Participation    0\n",
       "Composite        0\n",
       "dtype: int64"
      ]
     },
     "execution_count": 17,
     "metadata": {},
     "output_type": "execute_result"
    }
   ],
   "source": [
    "pd.isna(act_2018).sum()"
   ]
  },
  {
   "cell_type": "markdown",
   "metadata": {},
   "source": [
    "' .isna' detects missing values in a dataframe, and then ' .sum' is used to count the missing values.\n",
    "<br> There are no missing values in the given data (SAT and ACT scores in 2017 and 2018)."
   ]
  },
  {
   "cell_type": "code",
   "execution_count": 18,
   "metadata": {},
   "outputs": [
    {
     "data": {
      "text/plain": [
       "INSTNM            0\n",
       "CITY              0\n",
       "STABBR            0\n",
       "ZIP               0\n",
       "ADM_RATE       4483\n",
       "SATVR25        5244\n",
       "SATVR75        5244\n",
       "SATMT25        5244\n",
       "SATMT75        5244\n",
       "SATWR25        5735\n",
       "SATWR75        5735\n",
       "SATVRMID       5244\n",
       "SATMTMID       5244\n",
       "SATWRMID       5735\n",
       "ACTCM25        5210\n",
       "ACTCM75        5210\n",
       "ACTEN25        5292\n",
       "ACTEN75        5292\n",
       "ACTMT25        5292\n",
       "ACTMT75        5292\n",
       "ACTWR25        6138\n",
       "ACTWR75        6138\n",
       "ACTCMMID       5210\n",
       "ACTENMID       5292\n",
       "ACTMTMID       5292\n",
       "ACTWRMID       6138\n",
       "SAT_AVG        5184\n",
       "SAT_AVG_ALL    5034\n",
       "dtype: int64"
      ]
     },
     "execution_count": 18,
     "metadata": {},
     "output_type": "execute_result"
    }
   ],
   "source": [
    "# check for missing data in other datasets\n",
    "entry_scores.isna().sum(axis = 0)"
   ]
  },
  {
   "cell_type": "markdown",
   "metadata": {},
   "source": [
    "As expected, there are many missing values in the entry_scores (SAT and ACT scores by college)."
   ]
  },
  {
   "cell_type": "code",
   "execution_count": 19,
   "metadata": {},
   "outputs": [
    {
     "data": {
      "text/plain": [
       "College             0\n",
       "Acceptance Rate    85\n",
       "Average GPA         0\n",
       "year                0\n",
       "dtype: int64"
      ]
     },
     "execution_count": 19,
     "metadata": {},
     "output_type": "execute_result"
    }
   ],
   "source": [
    "gpa_scores.isna().sum(axis = 0)"
   ]
  },
  {
   "cell_type": "markdown",
   "metadata": {},
   "source": [
    "As expected, there are many missing values in the gpa_scores (college GPA scores by college)."
   ]
  },
  {
   "cell_type": "markdown",
   "metadata": {},
   "source": [
    "---"
   ]
  },
  {
   "cell_type": "markdown",
   "metadata": {},
   "source": [
    "### 3. and 4. Check for any obvious issues with the observations and fix those errors "
   ]
  },
  {
   "cell_type": "markdown",
   "metadata": {},
   "source": [
    "There are missing data in the entry_scores and gpa_scores datasets. This will be fixed first (as shown below).\n",
    "<br> Let's fix the entry_scores dataframe first."
   ]
  },
  {
   "cell_type": "code",
   "execution_count": 20,
   "metadata": {},
   "outputs": [
    {
     "data": {
      "text/plain": [
       "(6462, 28)"
      ]
     },
     "execution_count": 20,
     "metadata": {},
     "output_type": "execute_result"
    }
   ],
   "source": [
    "entry_scores.shape"
   ]
  },
  {
   "cell_type": "markdown",
   "metadata": {},
   "source": [
    "' .shape' returns the dimensions of the dataframe. So it has 6462 rows and 28 columns. "
   ]
  },
  {
   "cell_type": "code",
   "execution_count": 21,
   "metadata": {},
   "outputs": [
    {
     "data": {
      "text/plain": [
       "Index(['INSTNM', 'CITY', 'STABBR', 'ZIP', 'ADM_RATE', 'SATVR25', 'SATVR75',\n",
       "       'SATMT25', 'SATMT75', 'SATWR25', 'SATWR75', 'SATVRMID', 'SATMTMID',\n",
       "       'SATWRMID', 'ACTCM25', 'ACTCM75', 'ACTEN25', 'ACTEN75', 'ACTMT25',\n",
       "       'ACTMT75', 'ACTWR25', 'ACTWR75', 'ACTCMMID', 'ACTENMID', 'ACTMTMID',\n",
       "       'ACTWRMID', 'SAT_AVG', 'SAT_AVG_ALL'],\n",
       "      dtype='object')"
      ]
     },
     "execution_count": 21,
     "metadata": {},
     "output_type": "execute_result"
    }
   ],
   "source": [
    "entry_scores.columns"
   ]
  },
  {
   "cell_type": "markdown",
   "metadata": {},
   "source": [
    "' .columns' returns the column labels of the dataframe. In the above, these are the 28 column labels of entry_scores. \n",
    "<br> Since there are so many unnecessary columns, they will be removed first. Then the missing data will be removed. \n",
    "<br>\n",
    "<br> To answer the research question, the college name (INSTNM), the average SAT scores (SAT_AVG) and median ACT scores (ACTCMMID) will be retained. \n",
    "<br> The admissions rate (ADM_RATE) will also be retained, as it may later provide a measure of selectivity of each college, which can provide a trend as to how college select to admit students based on their SAT or ACT scores. \n",
    "<br>\n",
    "<br> The average SAT scores was selected as the parameter of interest, since the SAT was deliberately designed so that the mean score hovers around 1000 on the 1600 point scale (or about 500 per section).  \n",
    "<br> Similarly, the reason the median ACT score was selected is because the ACT scores were set up to follow a normal distribution [ref]. This means that student performance tends to cluster around the middle of the scale, i.e. most students score somewhere between a little below and a little above the average score. The median and mean scores will be the same if it is a normal distribution. \n",
    "\n"
   ]
  },
  {
   "cell_type": "code",
   "execution_count": 22,
   "metadata": {},
   "outputs": [],
   "source": [
    "entry_scores = entry_scores.drop(columns = ['CITY', 'STABBR', 'ZIP', 'SATVR25', 'SATVR75', 'SATMT25', 'SATMT75', 'SATWR25', 'SATWR75', 'SATVRMID', 'SATMTMID','SATWRMID', 'ACTCM25', 'ACTCM75', 'ACTEN25', 'ACTEN75', 'ACTMT25','ACTMT75', 'ACTWR25', 'ACTWR75', 'ACTENMID', 'ACTMTMID','ACTWRMID', 'SAT_AVG_ALL'])"
   ]
  },
  {
   "cell_type": "markdown",
   "metadata": {},
   "source": [
    "' .drop' drops specified labels from columns. "
   ]
  },
  {
   "cell_type": "code",
   "execution_count": 23,
   "metadata": {},
   "outputs": [],
   "source": [
    "entry_scores.rename(columns={\n",
    "                    'INSTNM': 'college',\n",
    "                    'ADM_RATE': 'admissions',\n",
    "                    'ACTCMMID' : 'act_mid',\n",
    "                    'SAT_AVG' : 'sat_ave',\n",
    "}, inplace = True)"
   ]
  },
  {
   "cell_type": "markdown",
   "metadata": {},
   "source": [
    "To further clarify column labels, ' .rename' will alter the specific labels.\n",
    "<br> Therefore, the resulting dataframe will look like this (as shown below)."
   ]
  },
  {
   "cell_type": "code",
   "execution_count": 24,
   "metadata": {},
   "outputs": [
    {
     "data": {
      "text/html": [
       "<div>\n",
       "<style scoped>\n",
       "    .dataframe tbody tr th:only-of-type {\n",
       "        vertical-align: middle;\n",
       "    }\n",
       "\n",
       "    .dataframe tbody tr th {\n",
       "        vertical-align: top;\n",
       "    }\n",
       "\n",
       "    .dataframe thead th {\n",
       "        text-align: right;\n",
       "    }\n",
       "</style>\n",
       "<table border=\"1\" class=\"dataframe\">\n",
       "  <thead>\n",
       "    <tr style=\"text-align: right;\">\n",
       "      <th></th>\n",
       "      <th>college</th>\n",
       "      <th>admissions</th>\n",
       "      <th>act_mid</th>\n",
       "      <th>sat_ave</th>\n",
       "    </tr>\n",
       "  </thead>\n",
       "  <tbody>\n",
       "    <tr>\n",
       "      <th>0</th>\n",
       "      <td>Abilene Christian University</td>\n",
       "      <td>0.6148</td>\n",
       "      <td>25.0</td>\n",
       "      <td>1164.0</td>\n",
       "    </tr>\n",
       "    <tr>\n",
       "      <th>1</th>\n",
       "      <td>Abraham Baldwin Agricultural College</td>\n",
       "      <td>0.7342</td>\n",
       "      <td>20.0</td>\n",
       "      <td>1029.0</td>\n",
       "    </tr>\n",
       "    <tr>\n",
       "      <th>2</th>\n",
       "      <td>Academy of Interactive Entertainment</td>\n",
       "      <td>0.9231</td>\n",
       "      <td>NaN</td>\n",
       "      <td>NaN</td>\n",
       "    </tr>\n",
       "    <tr>\n",
       "      <th>3</th>\n",
       "      <td>Academy of Interactive Entertainment</td>\n",
       "      <td>0.8627</td>\n",
       "      <td>NaN</td>\n",
       "      <td>NaN</td>\n",
       "    </tr>\n",
       "    <tr>\n",
       "      <th>4</th>\n",
       "      <td>Adams State University</td>\n",
       "      <td>0.9909</td>\n",
       "      <td>20.0</td>\n",
       "      <td>1003.0</td>\n",
       "    </tr>\n",
       "  </tbody>\n",
       "</table>\n",
       "</div>"
      ],
      "text/plain": [
       "                                college  admissions  act_mid  sat_ave\n",
       "0          Abilene Christian University      0.6148     25.0   1164.0\n",
       "1  Abraham Baldwin Agricultural College      0.7342     20.0   1029.0\n",
       "2  Academy of Interactive Entertainment      0.9231      NaN      NaN\n",
       "3  Academy of Interactive Entertainment      0.8627      NaN      NaN\n",
       "4                Adams State University      0.9909     20.0   1003.0"
      ]
     },
     "execution_count": 24,
     "metadata": {},
     "output_type": "execute_result"
    }
   ],
   "source": [
    "entry_scores.head()"
   ]
  },
  {
   "cell_type": "markdown",
   "metadata": {},
   "source": [
    "There are still missing values in the dataframe. "
   ]
  },
  {
   "cell_type": "code",
   "execution_count": 25,
   "metadata": {},
   "outputs": [],
   "source": [
    "entry_scores = entry_scores[entry_scores['act_mid'].notna()]\n",
    "entry_scores = entry_scores[entry_scores['sat_ave'].notna()]\n",
    "entry_scores = entry_scores[entry_scores['admissions'].notna()]"
   ]
  },
  {
   "cell_type": "code",
   "execution_count": 26,
   "metadata": {},
   "outputs": [
    {
     "data": {
      "text/plain": [
       "college       0\n",
       "admissions    0\n",
       "act_mid       0\n",
       "sat_ave       0\n",
       "dtype: int64"
      ]
     },
     "execution_count": 26,
     "metadata": {},
     "output_type": "execute_result"
    }
   ],
   "source": [
    "# check for missing values again\n",
    "pd.isnull(entry_scores).sum()"
   ]
  },
  {
   "cell_type": "code",
   "execution_count": 27,
   "metadata": {},
   "outputs": [
    {
     "data": {
      "text/plain": [
       "(1251, 4)"
      ]
     },
     "execution_count": 27,
     "metadata": {},
     "output_type": "execute_result"
    }
   ],
   "source": [
    "entry_scores.shape"
   ]
  },
  {
   "cell_type": "markdown",
   "metadata": {},
   "source": [
    "' .notna' detects existing (non-missing) values. So the resulting entry_scores dataframes has now no missing data.\n",
    "<br> Therefore, the final dataframe was reduced from 6462 to 1251 rows, and it looks like this (as shown below). "
   ]
  },
  {
   "cell_type": "code",
   "execution_count": 28,
   "metadata": {},
   "outputs": [
    {
     "data": {
      "text/html": [
       "<div>\n",
       "<style scoped>\n",
       "    .dataframe tbody tr th:only-of-type {\n",
       "        vertical-align: middle;\n",
       "    }\n",
       "\n",
       "    .dataframe tbody tr th {\n",
       "        vertical-align: top;\n",
       "    }\n",
       "\n",
       "    .dataframe thead th {\n",
       "        text-align: right;\n",
       "    }\n",
       "</style>\n",
       "<table border=\"1\" class=\"dataframe\">\n",
       "  <thead>\n",
       "    <tr style=\"text-align: right;\">\n",
       "      <th></th>\n",
       "      <th>college</th>\n",
       "      <th>admissions</th>\n",
       "      <th>act_mid</th>\n",
       "      <th>sat_ave</th>\n",
       "    </tr>\n",
       "  </thead>\n",
       "  <tbody>\n",
       "    <tr>\n",
       "      <th>0</th>\n",
       "      <td>Abilene Christian University</td>\n",
       "      <td>0.6148</td>\n",
       "      <td>25.0</td>\n",
       "      <td>1164.0</td>\n",
       "    </tr>\n",
       "    <tr>\n",
       "      <th>1</th>\n",
       "      <td>Abraham Baldwin Agricultural College</td>\n",
       "      <td>0.7342</td>\n",
       "      <td>20.0</td>\n",
       "      <td>1029.0</td>\n",
       "    </tr>\n",
       "    <tr>\n",
       "      <th>4</th>\n",
       "      <td>Adams State University</td>\n",
       "      <td>0.9909</td>\n",
       "      <td>20.0</td>\n",
       "      <td>1003.0</td>\n",
       "    </tr>\n",
       "    <tr>\n",
       "      <th>5</th>\n",
       "      <td>Adelphi University</td>\n",
       "      <td>0.7430</td>\n",
       "      <td>24.0</td>\n",
       "      <td>1161.0</td>\n",
       "    </tr>\n",
       "    <tr>\n",
       "      <th>6</th>\n",
       "      <td>Adrian College</td>\n",
       "      <td>0.5593</td>\n",
       "      <td>22.0</td>\n",
       "      <td>1046.0</td>\n",
       "    </tr>\n",
       "  </tbody>\n",
       "</table>\n",
       "</div>"
      ],
      "text/plain": [
       "                                college  admissions  act_mid  sat_ave\n",
       "0          Abilene Christian University      0.6148     25.0   1164.0\n",
       "1  Abraham Baldwin Agricultural College      0.7342     20.0   1029.0\n",
       "4                Adams State University      0.9909     20.0   1003.0\n",
       "5                    Adelphi University      0.7430     24.0   1161.0\n",
       "6                        Adrian College      0.5593     22.0   1046.0"
      ]
     },
     "execution_count": 28,
     "metadata": {},
     "output_type": "execute_result"
    }
   ],
   "source": [
    "entry_scores.head()"
   ]
  },
  {
   "cell_type": "markdown",
   "metadata": {},
   "source": [
    "---"
   ]
  },
  {
   "cell_type": "markdown",
   "metadata": {},
   "source": [
    "Now the gpa_scores dataframe will be fixed."
   ]
  },
  {
   "cell_type": "code",
   "execution_count": 29,
   "metadata": {},
   "outputs": [
    {
     "data": {
      "text/plain": [
       "Index(['College', 'Acceptance Rate', 'Average GPA', 'year'], dtype='object')"
      ]
     },
     "execution_count": 29,
     "metadata": {},
     "output_type": "execute_result"
    }
   ],
   "source": [
    "gpa_scores.columns"
   ]
  },
  {
   "cell_type": "markdown",
   "metadata": {},
   "source": [
    "Since acceptance rate and year is not needed, both columns will be dropped."
   ]
  },
  {
   "cell_type": "code",
   "execution_count": 30,
   "metadata": {},
   "outputs": [],
   "source": [
    "gpa_scores = gpa_scores.drop(columns=['Acceptance Rate', 'year'])"
   ]
  },
  {
   "cell_type": "markdown",
   "metadata": {},
   "source": [
    "The remaining columns will be renamed."
   ]
  },
  {
   "cell_type": "code",
   "execution_count": 31,
   "metadata": {},
   "outputs": [],
   "source": [
    "gpa_scores.rename(columns={\n",
    "                    'College': 'college',\n",
    "                    'Average GPA' : 'ave_gpa'}, inplace = True)\n"
   ]
  },
  {
   "cell_type": "markdown",
   "metadata": {},
   "source": [
    "Therefore, the resulting gpa_scores dataframe will look like this (as shown below)"
   ]
  },
  {
   "cell_type": "code",
   "execution_count": 32,
   "metadata": {},
   "outputs": [
    {
     "data": {
      "text/html": [
       "<div>\n",
       "<style scoped>\n",
       "    .dataframe tbody tr th:only-of-type {\n",
       "        vertical-align: middle;\n",
       "    }\n",
       "\n",
       "    .dataframe tbody tr th {\n",
       "        vertical-align: top;\n",
       "    }\n",
       "\n",
       "    .dataframe thead th {\n",
       "        text-align: right;\n",
       "    }\n",
       "</style>\n",
       "<table border=\"1\" class=\"dataframe\">\n",
       "  <thead>\n",
       "    <tr style=\"text-align: right;\">\n",
       "      <th></th>\n",
       "      <th>college</th>\n",
       "      <th>ave_gpa</th>\n",
       "    </tr>\n",
       "  </thead>\n",
       "  <tbody>\n",
       "    <tr>\n",
       "      <th>0</th>\n",
       "      <td>Adelphi University</td>\n",
       "      <td>3.22</td>\n",
       "    </tr>\n",
       "    <tr>\n",
       "      <th>1</th>\n",
       "      <td>Albion College</td>\n",
       "      <td>3.29</td>\n",
       "    </tr>\n",
       "    <tr>\n",
       "      <th>2</th>\n",
       "      <td>Allegheny College</td>\n",
       "      <td>3.04</td>\n",
       "    </tr>\n",
       "    <tr>\n",
       "      <th>3</th>\n",
       "      <td>Amherst College</td>\n",
       "      <td>3.48</td>\n",
       "    </tr>\n",
       "    <tr>\n",
       "      <th>4</th>\n",
       "      <td>Appalachian State University</td>\n",
       "      <td>3.10</td>\n",
       "    </tr>\n",
       "  </tbody>\n",
       "</table>\n",
       "</div>"
      ],
      "text/plain": [
       "                        college  ave_gpa\n",
       "0            Adelphi University     3.22\n",
       "1                Albion College     3.29\n",
       "2             Allegheny College     3.04\n",
       "3               Amherst College     3.48\n",
       "4  Appalachian State University     3.10"
      ]
     },
     "execution_count": 32,
     "metadata": {},
     "output_type": "execute_result"
    }
   ],
   "source": [
    "gpa_scores.head()"
   ]
  },
  {
   "cell_type": "markdown",
   "metadata": {},
   "source": [
    "---"
   ]
  },
  {
   "cell_type": "markdown",
   "metadata": {},
   "source": [
    "Errors in the given dataset (sat_2017, sat_2018, act_2017, act_2018) will be checked and fixed. "
   ]
  },
  {
   "cell_type": "markdown",
   "metadata": {},
   "source": [
    "The total range for the SAT score is 400-1600. The total range is the sum of each of the two section scores, Math and Evidence-Based Reading and Writing (EBRW). The total range of score for each section is 200-800. \n",
    "<br> Let's check if this is true in the given datasets (sat_2017, sat_2018)."
   ]
  },
  {
   "cell_type": "code",
   "execution_count": 33,
   "metadata": {},
   "outputs": [],
   "source": [
    "sat_2017['diff'] = abs((sat_2017['Evidence-Based Reading and Writing'] + sat_2017['Math']) - sat_2017['Total'])\n",
    "sat_2017['percent_diff'] = sat_2017['diff'] /  sat_2017['Total']"
   ]
  },
  {
   "cell_type": "code",
   "execution_count": 34,
   "metadata": {},
   "outputs": [
    {
     "data": {
      "text/html": [
       "<div>\n",
       "<style scoped>\n",
       "    .dataframe tbody tr th:only-of-type {\n",
       "        vertical-align: middle;\n",
       "    }\n",
       "\n",
       "    .dataframe tbody tr th {\n",
       "        vertical-align: top;\n",
       "    }\n",
       "\n",
       "    .dataframe thead th {\n",
       "        text-align: right;\n",
       "    }\n",
       "</style>\n",
       "<table border=\"1\" class=\"dataframe\">\n",
       "  <thead>\n",
       "    <tr style=\"text-align: right;\">\n",
       "      <th></th>\n",
       "      <th>State</th>\n",
       "      <th>Participation</th>\n",
       "      <th>Evidence-Based Reading and Writing</th>\n",
       "      <th>Math</th>\n",
       "      <th>Total</th>\n",
       "      <th>diff</th>\n",
       "      <th>percent_diff</th>\n",
       "    </tr>\n",
       "  </thead>\n",
       "  <tbody>\n",
       "    <tr>\n",
       "      <th>6</th>\n",
       "      <td>Connecticut</td>\n",
       "      <td>100%</td>\n",
       "      <td>530</td>\n",
       "      <td>512</td>\n",
       "      <td>1041</td>\n",
       "      <td>1</td>\n",
       "      <td>0.000961</td>\n",
       "    </tr>\n",
       "    <tr>\n",
       "      <th>7</th>\n",
       "      <td>Delaware</td>\n",
       "      <td>100%</td>\n",
       "      <td>503</td>\n",
       "      <td>492</td>\n",
       "      <td>996</td>\n",
       "      <td>1</td>\n",
       "      <td>0.001004</td>\n",
       "    </tr>\n",
       "    <tr>\n",
       "      <th>12</th>\n",
       "      <td>Idaho</td>\n",
       "      <td>93%</td>\n",
       "      <td>513</td>\n",
       "      <td>493</td>\n",
       "      <td>1005</td>\n",
       "      <td>1</td>\n",
       "      <td>0.000995</td>\n",
       "    </tr>\n",
       "    <tr>\n",
       "      <th>15</th>\n",
       "      <td>Iowa</td>\n",
       "      <td>2%</td>\n",
       "      <td>641</td>\n",
       "      <td>635</td>\n",
       "      <td>1275</td>\n",
       "      <td>1</td>\n",
       "      <td>0.000784</td>\n",
       "    </tr>\n",
       "    <tr>\n",
       "      <th>18</th>\n",
       "      <td>Louisiana</td>\n",
       "      <td>4%</td>\n",
       "      <td>611</td>\n",
       "      <td>586</td>\n",
       "      <td>1198</td>\n",
       "      <td>1</td>\n",
       "      <td>0.000835</td>\n",
       "    </tr>\n",
       "    <tr>\n",
       "      <th>20</th>\n",
       "      <td>Maryland</td>\n",
       "      <td>69%</td>\n",
       "      <td>536</td>\n",
       "      <td>52</td>\n",
       "      <td>1060</td>\n",
       "      <td>472</td>\n",
       "      <td>0.445283</td>\n",
       "    </tr>\n",
       "    <tr>\n",
       "      <th>21</th>\n",
       "      <td>Massachusetts</td>\n",
       "      <td>76%</td>\n",
       "      <td>555</td>\n",
       "      <td>551</td>\n",
       "      <td>1107</td>\n",
       "      <td>1</td>\n",
       "      <td>0.000903</td>\n",
       "    </tr>\n",
       "    <tr>\n",
       "      <th>22</th>\n",
       "      <td>Michigan</td>\n",
       "      <td>100%</td>\n",
       "      <td>509</td>\n",
       "      <td>495</td>\n",
       "      <td>1005</td>\n",
       "      <td>1</td>\n",
       "      <td>0.000995</td>\n",
       "    </tr>\n",
       "    <tr>\n",
       "      <th>24</th>\n",
       "      <td>Mississippi</td>\n",
       "      <td>2%</td>\n",
       "      <td>634</td>\n",
       "      <td>607</td>\n",
       "      <td>1242</td>\n",
       "      <td>1</td>\n",
       "      <td>0.000805</td>\n",
       "    </tr>\n",
       "    <tr>\n",
       "      <th>27</th>\n",
       "      <td>Nebraska</td>\n",
       "      <td>3%</td>\n",
       "      <td>629</td>\n",
       "      <td>625</td>\n",
       "      <td>1253</td>\n",
       "      <td>1</td>\n",
       "      <td>0.000798</td>\n",
       "    </tr>\n",
       "    <tr>\n",
       "      <th>32</th>\n",
       "      <td>New York</td>\n",
       "      <td>67%</td>\n",
       "      <td>528</td>\n",
       "      <td>523</td>\n",
       "      <td>1052</td>\n",
       "      <td>1</td>\n",
       "      <td>0.000951</td>\n",
       "    </tr>\n",
       "    <tr>\n",
       "      <th>35</th>\n",
       "      <td>Ohio</td>\n",
       "      <td>12%</td>\n",
       "      <td>578</td>\n",
       "      <td>570</td>\n",
       "      <td>1149</td>\n",
       "      <td>1</td>\n",
       "      <td>0.000870</td>\n",
       "    </tr>\n",
       "    <tr>\n",
       "      <th>39</th>\n",
       "      <td>Rhode Island</td>\n",
       "      <td>71%</td>\n",
       "      <td>539</td>\n",
       "      <td>524</td>\n",
       "      <td>1062</td>\n",
       "      <td>1</td>\n",
       "      <td>0.000942</td>\n",
       "    </tr>\n",
       "    <tr>\n",
       "      <th>41</th>\n",
       "      <td>South Dakota</td>\n",
       "      <td>3%</td>\n",
       "      <td>612</td>\n",
       "      <td>603</td>\n",
       "      <td>1216</td>\n",
       "      <td>1</td>\n",
       "      <td>0.000822</td>\n",
       "    </tr>\n",
       "    <tr>\n",
       "      <th>42</th>\n",
       "      <td>Tennessee</td>\n",
       "      <td>5%</td>\n",
       "      <td>623</td>\n",
       "      <td>604</td>\n",
       "      <td>1228</td>\n",
       "      <td>1</td>\n",
       "      <td>0.000814</td>\n",
       "    </tr>\n",
       "    <tr>\n",
       "      <th>45</th>\n",
       "      <td>Vermont</td>\n",
       "      <td>60%</td>\n",
       "      <td>562</td>\n",
       "      <td>551</td>\n",
       "      <td>1114</td>\n",
       "      <td>1</td>\n",
       "      <td>0.000898</td>\n",
       "    </tr>\n",
       "  </tbody>\n",
       "</table>\n",
       "</div>"
      ],
      "text/plain": [
       "            State Participation  Evidence-Based Reading and Writing  Math  \\\n",
       "6     Connecticut          100%                                 530   512   \n",
       "7        Delaware          100%                                 503   492   \n",
       "12          Idaho           93%                                 513   493   \n",
       "15           Iowa            2%                                 641   635   \n",
       "18      Louisiana            4%                                 611   586   \n",
       "20       Maryland           69%                                 536    52   \n",
       "21  Massachusetts           76%                                 555   551   \n",
       "22       Michigan          100%                                 509   495   \n",
       "24    Mississippi            2%                                 634   607   \n",
       "27       Nebraska            3%                                 629   625   \n",
       "32       New York           67%                                 528   523   \n",
       "35           Ohio           12%                                 578   570   \n",
       "39   Rhode Island           71%                                 539   524   \n",
       "41   South Dakota            3%                                 612   603   \n",
       "42      Tennessee            5%                                 623   604   \n",
       "45        Vermont           60%                                 562   551   \n",
       "\n",
       "    Total  diff  percent_diff  \n",
       "6    1041     1      0.000961  \n",
       "7     996     1      0.001004  \n",
       "12   1005     1      0.000995  \n",
       "15   1275     1      0.000784  \n",
       "18   1198     1      0.000835  \n",
       "20   1060   472      0.445283  \n",
       "21   1107     1      0.000903  \n",
       "22   1005     1      0.000995  \n",
       "24   1242     1      0.000805  \n",
       "27   1253     1      0.000798  \n",
       "32   1052     1      0.000951  \n",
       "35   1149     1      0.000870  \n",
       "39   1062     1      0.000942  \n",
       "41   1216     1      0.000822  \n",
       "42   1228     1      0.000814  \n",
       "45   1114     1      0.000898  "
      ]
     },
     "execution_count": 34,
     "metadata": {},
     "output_type": "execute_result"
    }
   ],
   "source": [
    "sat_2017.loc[sat_2017['diff'] >= 1]"
   ]
  },
  {
   "cell_type": "markdown",
   "metadata": {},
   "source": [
    "The absolute difference between the calculated total from EBRW and Math were compared with the Total given. From the above sat_2017, a difference of 1 is acceptable, since percentage difference is approximately 0.001. "
   ]
  },
  {
   "cell_type": "code",
   "execution_count": 35,
   "metadata": {},
   "outputs": [
    {
     "data": {
      "text/html": [
       "<div>\n",
       "<style scoped>\n",
       "    .dataframe tbody tr th:only-of-type {\n",
       "        vertical-align: middle;\n",
       "    }\n",
       "\n",
       "    .dataframe tbody tr th {\n",
       "        vertical-align: top;\n",
       "    }\n",
       "\n",
       "    .dataframe thead th {\n",
       "        text-align: right;\n",
       "    }\n",
       "</style>\n",
       "<table border=\"1\" class=\"dataframe\">\n",
       "  <thead>\n",
       "    <tr style=\"text-align: right;\">\n",
       "      <th></th>\n",
       "      <th>State</th>\n",
       "      <th>Participation</th>\n",
       "      <th>Evidence-Based Reading and Writing</th>\n",
       "      <th>Math</th>\n",
       "      <th>Total</th>\n",
       "      <th>diff</th>\n",
       "      <th>percent_diff</th>\n",
       "    </tr>\n",
       "  </thead>\n",
       "  <tbody>\n",
       "    <tr>\n",
       "      <th>20</th>\n",
       "      <td>Maryland</td>\n",
       "      <td>69%</td>\n",
       "      <td>536</td>\n",
       "      <td>52</td>\n",
       "      <td>1060</td>\n",
       "      <td>472</td>\n",
       "      <td>0.445283</td>\n",
       "    </tr>\n",
       "  </tbody>\n",
       "</table>\n",
       "</div>"
      ],
      "text/plain": [
       "       State Participation  Evidence-Based Reading and Writing  Math  Total  \\\n",
       "20  Maryland           69%                                 536    52   1060   \n",
       "\n",
       "    diff  percent_diff  \n",
       "20   472      0.445283  "
      ]
     },
     "execution_count": 35,
     "metadata": {},
     "output_type": "execute_result"
    }
   ],
   "source": [
    "sat_2017.loc[sat_2017['diff'] > 1]"
   ]
  },
  {
   "cell_type": "markdown",
   "metadata": {},
   "source": [
    "However, at index 20, Maryland reported a difference of 472 in the total scores. Since the minimum score for Math is 200, it is most likely that Math score is incorrect. Thus, the Math score will be determined by the difference between the total score and the EBRW score. "
   ]
  },
  {
   "cell_type": "code",
   "execution_count": 36,
   "metadata": {},
   "outputs": [
    {
     "name": "stderr",
     "output_type": "stream",
     "text": [
      "<ipython-input-36-bca8b88dac97>:2: SettingWithCopyWarning: \n",
      "A value is trying to be set on a copy of a slice from a DataFrame\n",
      "\n",
      "See the caveats in the documentation: https://pandas.pydata.org/pandas-docs/stable/user_guide/indexing.html#returning-a-view-versus-a-copy\n",
      "  sat_2017['Math'][idx[0]] = sat_2017['Total'][idx[0]] - sat_2017['Evidence-Based Reading and Writing'][idx[0]]\n"
     ]
    }
   ],
   "source": [
    "idx = sat_2017.index[sat_2017['diff'] > 1]\n",
    "sat_2017['Math'][idx[0]] = sat_2017['Total'][idx[0]] - sat_2017['Evidence-Based Reading and Writing'][idx[0]]"
   ]
  },
  {
   "cell_type": "code",
   "execution_count": 37,
   "metadata": {},
   "outputs": [
    {
     "data": {
      "text/plain": [
       "State                                 Maryland\n",
       "Participation                              69%\n",
       "Evidence-Based Reading and Writing         536\n",
       "Math                                       524\n",
       "Total                                     1060\n",
       "diff                                       472\n",
       "percent_diff                          0.445283\n",
       "Name: 20, dtype: object"
      ]
     },
     "execution_count": 37,
     "metadata": {},
     "output_type": "execute_result"
    }
   ],
   "source": [
    "sat_2017.loc[idx[0]]"
   ]
  },
  {
   "cell_type": "markdown",
   "metadata": {},
   "source": [
    "So, the sat_2017 looks good for now. Let's do the same for sat_2018. "
   ]
  },
  {
   "cell_type": "code",
   "execution_count": 38,
   "metadata": {},
   "outputs": [],
   "source": [
    "sat_2018['diff'] = abs((sat_2018['Evidence-Based Reading and Writing'] + sat_2018['Math']) - sat_2018['Total'])"
   ]
  },
  {
   "cell_type": "code",
   "execution_count": 39,
   "metadata": {},
   "outputs": [
    {
     "data": {
      "text/html": [
       "<div>\n",
       "<style scoped>\n",
       "    .dataframe tbody tr th:only-of-type {\n",
       "        vertical-align: middle;\n",
       "    }\n",
       "\n",
       "    .dataframe tbody tr th {\n",
       "        vertical-align: top;\n",
       "    }\n",
       "\n",
       "    .dataframe thead th {\n",
       "        text-align: right;\n",
       "    }\n",
       "</style>\n",
       "<table border=\"1\" class=\"dataframe\">\n",
       "  <thead>\n",
       "    <tr style=\"text-align: right;\">\n",
       "      <th></th>\n",
       "      <th>State</th>\n",
       "      <th>Participation</th>\n",
       "      <th>Evidence-Based Reading and Writing</th>\n",
       "      <th>Math</th>\n",
       "      <th>Total</th>\n",
       "      <th>diff</th>\n",
       "    </tr>\n",
       "  </thead>\n",
       "  <tbody>\n",
       "    <tr>\n",
       "      <th>3</th>\n",
       "      <td>Arkansas</td>\n",
       "      <td>5%</td>\n",
       "      <td>592</td>\n",
       "      <td>576</td>\n",
       "      <td>1169</td>\n",
       "      <td>1</td>\n",
       "    </tr>\n",
       "    <tr>\n",
       "      <th>6</th>\n",
       "      <td>Connecticut</td>\n",
       "      <td>100%</td>\n",
       "      <td>535</td>\n",
       "      <td>519</td>\n",
       "      <td>1053</td>\n",
       "      <td>1</td>\n",
       "    </tr>\n",
       "    <tr>\n",
       "      <th>7</th>\n",
       "      <td>Delaware</td>\n",
       "      <td>100%</td>\n",
       "      <td>505</td>\n",
       "      <td>492</td>\n",
       "      <td>998</td>\n",
       "      <td>1</td>\n",
       "    </tr>\n",
       "    <tr>\n",
       "      <th>16</th>\n",
       "      <td>Kansas</td>\n",
       "      <td>4%</td>\n",
       "      <td>633</td>\n",
       "      <td>631</td>\n",
       "      <td>1265</td>\n",
       "      <td>1</td>\n",
       "    </tr>\n",
       "    <tr>\n",
       "      <th>22</th>\n",
       "      <td>Michigan</td>\n",
       "      <td>100%</td>\n",
       "      <td>511</td>\n",
       "      <td>499</td>\n",
       "      <td>1011</td>\n",
       "      <td>1</td>\n",
       "    </tr>\n",
       "    <tr>\n",
       "      <th>31</th>\n",
       "      <td>New Mexico</td>\n",
       "      <td>16%</td>\n",
       "      <td>552</td>\n",
       "      <td>540</td>\n",
       "      <td>1093</td>\n",
       "      <td>1</td>\n",
       "    </tr>\n",
       "    <tr>\n",
       "      <th>33</th>\n",
       "      <td>North Carolina</td>\n",
       "      <td>52%</td>\n",
       "      <td>554</td>\n",
       "      <td>543</td>\n",
       "      <td>1098</td>\n",
       "      <td>1</td>\n",
       "    </tr>\n",
       "    <tr>\n",
       "      <th>45</th>\n",
       "      <td>Vermont</td>\n",
       "      <td>64%</td>\n",
       "      <td>565</td>\n",
       "      <td>554</td>\n",
       "      <td>1120</td>\n",
       "      <td>1</td>\n",
       "    </tr>\n",
       "    <tr>\n",
       "      <th>50</th>\n",
       "      <td>Wyoming</td>\n",
       "      <td>3%</td>\n",
       "      <td>633</td>\n",
       "      <td>625</td>\n",
       "      <td>1257</td>\n",
       "      <td>1</td>\n",
       "    </tr>\n",
       "  </tbody>\n",
       "</table>\n",
       "</div>"
      ],
      "text/plain": [
       "             State Participation  Evidence-Based Reading and Writing  Math  \\\n",
       "3         Arkansas            5%                                 592   576   \n",
       "6      Connecticut          100%                                 535   519   \n",
       "7         Delaware          100%                                 505   492   \n",
       "16          Kansas            4%                                 633   631   \n",
       "22        Michigan          100%                                 511   499   \n",
       "31      New Mexico           16%                                 552   540   \n",
       "33  North Carolina           52%                                 554   543   \n",
       "45         Vermont           64%                                 565   554   \n",
       "50         Wyoming            3%                                 633   625   \n",
       "\n",
       "    Total  diff  \n",
       "3    1169     1  \n",
       "6    1053     1  \n",
       "7     998     1  \n",
       "16   1265     1  \n",
       "22   1011     1  \n",
       "31   1093     1  \n",
       "33   1098     1  \n",
       "45   1120     1  \n",
       "50   1257     1  "
      ]
     },
     "execution_count": 39,
     "metadata": {},
     "output_type": "execute_result"
    }
   ],
   "source": [
    "sat_2018.loc[sat_2018['diff'] >= 1]"
   ]
  },
  {
   "cell_type": "markdown",
   "metadata": {},
   "source": [
    "The absolute difference between the calculated total from EBRW and Math were compared with the Total given. From the above sat_2018, a difference of 1 is acceptable, since percentage difference is approximately 0.001. "
   ]
  },
  {
   "cell_type": "markdown",
   "metadata": {},
   "source": [
    "---"
   ]
  },
  {
   "attachments": {},
   "cell_type": "markdown",
   "metadata": {},
   "source": [
    "Let's check the ACT scores now. The ACT consisted of four sections: English, Math, Reading and Science. Each section are individually scores on a scale of 1-36. A composite score is the the rounded whole number average of the four sections. To examine this, this can only be performed on the act_2017 data since act_2018 lacks the scores for the individual sections. \n"
   ]
  },
  {
   "cell_type": "code",
   "execution_count": 40,
   "metadata": {},
   "outputs": [
    {
     "name": "stdout",
     "output_type": "stream",
     "text": [
      "<class 'pandas.core.frame.DataFrame'>\n",
      "RangeIndex: 52 entries, 0 to 51\n",
      "Data columns (total 7 columns):\n",
      " #   Column         Non-Null Count  Dtype  \n",
      "---  ------         --------------  -----  \n",
      " 0   State          52 non-null     object \n",
      " 1   Participation  52 non-null     object \n",
      " 2   English        52 non-null     float64\n",
      " 3   Math           52 non-null     float64\n",
      " 4   Reading        52 non-null     float64\n",
      " 5   Science        52 non-null     float64\n",
      " 6   Composite      52 non-null     object \n",
      "dtypes: float64(4), object(3)\n",
      "memory usage: 3.0+ KB\n"
     ]
    }
   ],
   "source": [
    "act_2017.info()"
   ]
  },
  {
   "cell_type": "markdown",
   "metadata": {},
   "source": [
    "' .info' provides a summary of each dataframe. \n",
    "<br> However, this can only be performed if Composite is numeric (not a string). So Composite has to be first converted to float."
   ]
  },
  {
   "cell_type": "code",
   "execution_count": 41,
   "metadata": {},
   "outputs": [
    {
     "data": {
      "text/html": [
       "<div>\n",
       "<style scoped>\n",
       "    .dataframe tbody tr th:only-of-type {\n",
       "        vertical-align: middle;\n",
       "    }\n",
       "\n",
       "    .dataframe tbody tr th {\n",
       "        vertical-align: top;\n",
       "    }\n",
       "\n",
       "    .dataframe thead th {\n",
       "        text-align: right;\n",
       "    }\n",
       "</style>\n",
       "<table border=\"1\" class=\"dataframe\">\n",
       "  <thead>\n",
       "    <tr style=\"text-align: right;\">\n",
       "      <th></th>\n",
       "      <th>State</th>\n",
       "      <th>Participation</th>\n",
       "      <th>English</th>\n",
       "      <th>Math</th>\n",
       "      <th>Reading</th>\n",
       "      <th>Science</th>\n",
       "      <th>Composite</th>\n",
       "    </tr>\n",
       "  </thead>\n",
       "  <tbody>\n",
       "    <tr>\n",
       "      <th>47</th>\n",
       "      <td>Virginia</td>\n",
       "      <td>29%</td>\n",
       "      <td>23.5</td>\n",
       "      <td>23.3</td>\n",
       "      <td>24.6</td>\n",
       "      <td>23.5</td>\n",
       "      <td>23.8</td>\n",
       "    </tr>\n",
       "    <tr>\n",
       "      <th>48</th>\n",
       "      <td>Washington</td>\n",
       "      <td>29%</td>\n",
       "      <td>20.9</td>\n",
       "      <td>21.9</td>\n",
       "      <td>22.1</td>\n",
       "      <td>22.0</td>\n",
       "      <td>21.9</td>\n",
       "    </tr>\n",
       "    <tr>\n",
       "      <th>49</th>\n",
       "      <td>West Virginia</td>\n",
       "      <td>69%</td>\n",
       "      <td>20.0</td>\n",
       "      <td>19.4</td>\n",
       "      <td>21.2</td>\n",
       "      <td>20.5</td>\n",
       "      <td>20.4</td>\n",
       "    </tr>\n",
       "    <tr>\n",
       "      <th>50</th>\n",
       "      <td>Wisconsin</td>\n",
       "      <td>100%</td>\n",
       "      <td>19.7</td>\n",
       "      <td>20.4</td>\n",
       "      <td>20.6</td>\n",
       "      <td>20.9</td>\n",
       "      <td>20.5</td>\n",
       "    </tr>\n",
       "    <tr>\n",
       "      <th>51</th>\n",
       "      <td>Wyoming</td>\n",
       "      <td>100%</td>\n",
       "      <td>19.4</td>\n",
       "      <td>19.8</td>\n",
       "      <td>20.8</td>\n",
       "      <td>20.6</td>\n",
       "      <td>20.2x</td>\n",
       "    </tr>\n",
       "  </tbody>\n",
       "</table>\n",
       "</div>"
      ],
      "text/plain": [
       "            State Participation  English  Math  Reading  Science Composite\n",
       "47       Virginia           29%     23.5  23.3     24.6     23.5      23.8\n",
       "48     Washington           29%     20.9  21.9     22.1     22.0      21.9\n",
       "49  West Virginia           69%     20.0  19.4     21.2     20.5      20.4\n",
       "50      Wisconsin          100%     19.7  20.4     20.6     20.9      20.5\n",
       "51        Wyoming          100%     19.4  19.8     20.8     20.6     20.2x"
      ]
     },
     "execution_count": 41,
     "metadata": {},
     "output_type": "execute_result"
    }
   ],
   "source": [
    "act_2017.tail()"
   ]
  },
  {
   "cell_type": "markdown",
   "metadata": {},
   "source": [
    "The problem is that the Composite column has an error '20.2x' in the state of Wyoming, and inital conversion to float was not possible. This needs to be first rectified. "
   ]
  },
  {
   "cell_type": "code",
   "execution_count": 42,
   "metadata": {},
   "outputs": [],
   "source": [
    "act_2017.iloc[-1 , -1] = '20.2'"
   ]
  },
  {
   "cell_type": "code",
   "execution_count": 43,
   "metadata": {},
   "outputs": [],
   "source": [
    "act_2017['Composite'] = act_2017['Composite'].astype('float64')"
   ]
  },
  {
   "cell_type": "code",
   "execution_count": 44,
   "metadata": {},
   "outputs": [
    {
     "name": "stdout",
     "output_type": "stream",
     "text": [
      "<class 'pandas.core.frame.DataFrame'>\n",
      "RangeIndex: 52 entries, 0 to 51\n",
      "Data columns (total 7 columns):\n",
      " #   Column         Non-Null Count  Dtype  \n",
      "---  ------         --------------  -----  \n",
      " 0   State          52 non-null     object \n",
      " 1   Participation  52 non-null     object \n",
      " 2   English        52 non-null     float64\n",
      " 3   Math           52 non-null     float64\n",
      " 4   Reading        52 non-null     float64\n",
      " 5   Science        52 non-null     float64\n",
      " 6   Composite      52 non-null     float64\n",
      "dtypes: float64(5), object(2)\n",
      "memory usage: 3.0+ KB\n"
     ]
    }
   ],
   "source": [
    "act_2017.info()"
   ]
  },
  {
   "cell_type": "markdown",
   "metadata": {},
   "source": [
    "Composite column is now a float. "
   ]
  },
  {
   "cell_type": "code",
   "execution_count": 45,
   "metadata": {},
   "outputs": [],
   "source": [
    "act_2017['calc_composite'] = ((act_2017['English'] + act_2017['Math']) + act_2017['Reading'] + act_2017['Science'])/4\n",
    "act_2017['diff'] = abs(act_2017['calc_composite'] -  act_2017['Composite'])"
   ]
  },
  {
   "cell_type": "code",
   "execution_count": 46,
   "metadata": {},
   "outputs": [
    {
     "data": {
      "text/html": [
       "<div>\n",
       "<style scoped>\n",
       "    .dataframe tbody tr th:only-of-type {\n",
       "        vertical-align: middle;\n",
       "    }\n",
       "\n",
       "    .dataframe tbody tr th {\n",
       "        vertical-align: top;\n",
       "    }\n",
       "\n",
       "    .dataframe thead th {\n",
       "        text-align: right;\n",
       "    }\n",
       "</style>\n",
       "<table border=\"1\" class=\"dataframe\">\n",
       "  <thead>\n",
       "    <tr style=\"text-align: right;\">\n",
       "      <th></th>\n",
       "      <th>State</th>\n",
       "      <th>Participation</th>\n",
       "      <th>English</th>\n",
       "      <th>Math</th>\n",
       "      <th>Reading</th>\n",
       "      <th>Science</th>\n",
       "      <th>Composite</th>\n",
       "      <th>calc_composite</th>\n",
       "      <th>diff</th>\n",
       "    </tr>\n",
       "  </thead>\n",
       "  <tbody>\n",
       "    <tr>\n",
       "      <th>0</th>\n",
       "      <td>National</td>\n",
       "      <td>60%</td>\n",
       "      <td>20.3</td>\n",
       "      <td>20.7</td>\n",
       "      <td>21.4</td>\n",
       "      <td>21.0</td>\n",
       "      <td>21.0</td>\n",
       "      <td>20.850</td>\n",
       "      <td>0.150</td>\n",
       "    </tr>\n",
       "    <tr>\n",
       "      <th>1</th>\n",
       "      <td>Alabama</td>\n",
       "      <td>100%</td>\n",
       "      <td>18.9</td>\n",
       "      <td>18.4</td>\n",
       "      <td>19.7</td>\n",
       "      <td>19.4</td>\n",
       "      <td>19.2</td>\n",
       "      <td>19.100</td>\n",
       "      <td>0.100</td>\n",
       "    </tr>\n",
       "    <tr>\n",
       "      <th>2</th>\n",
       "      <td>Alaska</td>\n",
       "      <td>65%</td>\n",
       "      <td>18.7</td>\n",
       "      <td>19.8</td>\n",
       "      <td>20.4</td>\n",
       "      <td>19.9</td>\n",
       "      <td>19.8</td>\n",
       "      <td>19.700</td>\n",
       "      <td>0.100</td>\n",
       "    </tr>\n",
       "    <tr>\n",
       "      <th>3</th>\n",
       "      <td>Arizona</td>\n",
       "      <td>62%</td>\n",
       "      <td>18.6</td>\n",
       "      <td>19.8</td>\n",
       "      <td>20.1</td>\n",
       "      <td>19.8</td>\n",
       "      <td>19.7</td>\n",
       "      <td>19.575</td>\n",
       "      <td>0.125</td>\n",
       "    </tr>\n",
       "    <tr>\n",
       "      <th>4</th>\n",
       "      <td>Arkansas</td>\n",
       "      <td>100%</td>\n",
       "      <td>18.9</td>\n",
       "      <td>19.0</td>\n",
       "      <td>19.7</td>\n",
       "      <td>19.5</td>\n",
       "      <td>19.4</td>\n",
       "      <td>19.275</td>\n",
       "      <td>0.125</td>\n",
       "    </tr>\n",
       "  </tbody>\n",
       "</table>\n",
       "</div>"
      ],
      "text/plain": [
       "      State Participation  English  Math  Reading  Science  Composite  \\\n",
       "0  National           60%     20.3  20.7     21.4     21.0       21.0   \n",
       "1   Alabama          100%     18.9  18.4     19.7     19.4       19.2   \n",
       "2    Alaska           65%     18.7  19.8     20.4     19.9       19.8   \n",
       "3   Arizona           62%     18.6  19.8     20.1     19.8       19.7   \n",
       "4  Arkansas          100%     18.9  19.0     19.7     19.5       19.4   \n",
       "\n",
       "   calc_composite   diff  \n",
       "0          20.850  0.150  \n",
       "1          19.100  0.100  \n",
       "2          19.700  0.100  \n",
       "3          19.575  0.125  \n",
       "4          19.275  0.125  "
      ]
     },
     "execution_count": 46,
     "metadata": {},
     "output_type": "execute_result"
    }
   ],
   "source": [
    "act_2017.head()"
   ]
  },
  {
   "cell_type": "code",
   "execution_count": 47,
   "metadata": {},
   "outputs": [
    {
     "data": {
      "text/html": [
       "<div>\n",
       "<style scoped>\n",
       "    .dataframe tbody tr th:only-of-type {\n",
       "        vertical-align: middle;\n",
       "    }\n",
       "\n",
       "    .dataframe tbody tr th {\n",
       "        vertical-align: top;\n",
       "    }\n",
       "\n",
       "    .dataframe thead th {\n",
       "        text-align: right;\n",
       "    }\n",
       "</style>\n",
       "<table border=\"1\" class=\"dataframe\">\n",
       "  <thead>\n",
       "    <tr style=\"text-align: right;\">\n",
       "      <th></th>\n",
       "      <th>State</th>\n",
       "      <th>Participation</th>\n",
       "      <th>English</th>\n",
       "      <th>Math</th>\n",
       "      <th>Reading</th>\n",
       "      <th>Science</th>\n",
       "      <th>Composite</th>\n",
       "      <th>calc_composite</th>\n",
       "      <th>diff</th>\n",
       "    </tr>\n",
       "  </thead>\n",
       "  <tbody>\n",
       "    <tr>\n",
       "      <th>21</th>\n",
       "      <td>Maryland</td>\n",
       "      <td>28%</td>\n",
       "      <td>23.3</td>\n",
       "      <td>23.1</td>\n",
       "      <td>24.2</td>\n",
       "      <td>2.3</td>\n",
       "      <td>23.6</td>\n",
       "      <td>18.225</td>\n",
       "      <td>5.375</td>\n",
       "    </tr>\n",
       "  </tbody>\n",
       "</table>\n",
       "</div>"
      ],
      "text/plain": [
       "       State Participation  English  Math  Reading  Science  Composite  \\\n",
       "21  Maryland           28%     23.3  23.1     24.2      2.3       23.6   \n",
       "\n",
       "    calc_composite   diff  \n",
       "21          18.225  5.375  "
      ]
     },
     "execution_count": 47,
     "metadata": {},
     "output_type": "execute_result"
    }
   ],
   "source": [
    "act_2017.loc[act_2017['diff'] > 0.5]"
   ]
  },
  {
   "cell_type": "markdown",
   "metadata": {},
   "source": [
    "Again, it seems that the state of Maryland cannot do maths, and fail to provide a proper composite value for ACT scores. This would be rectified as below. "
   ]
  },
  {
   "cell_type": "code",
   "execution_count": 48,
   "metadata": {},
   "outputs": [],
   "source": [
    "idx = act_2017.index[act_2017['diff'] > 0.5]"
   ]
  },
  {
   "cell_type": "code",
   "execution_count": 49,
   "metadata": {},
   "outputs": [
    {
     "name": "stderr",
     "output_type": "stream",
     "text": [
      "<ipython-input-49-9fbc37b8327f>:1: SettingWithCopyWarning: \n",
      "A value is trying to be set on a copy of a slice from a DataFrame\n",
      "\n",
      "See the caveats in the documentation: https://pandas.pydata.org/pandas-docs/stable/user_guide/indexing.html#returning-a-view-versus-a-copy\n",
      "  act_2017['Composite'][idx[0]] = (act_2017['English'][idx[0]] + act_2017['Math'][idx[0]] +act_2017['Reading'][idx[0]] +act_2017['Science'][idx[0]])/4\n"
     ]
    }
   ],
   "source": [
    "act_2017['Composite'][idx[0]] = (act_2017['English'][idx[0]] + act_2017['Math'][idx[0]] +act_2017['Reading'][idx[0]] +act_2017['Science'][idx[0]])/4"
   ]
  },
  {
   "cell_type": "code",
   "execution_count": 50,
   "metadata": {},
   "outputs": [
    {
     "data": {
      "text/plain": [
       "State             Maryland\n",
       "Participation          28%\n",
       "English               23.3\n",
       "Math                  23.1\n",
       "Reading               24.2\n",
       "Science                2.3\n",
       "Composite           18.225\n",
       "calc_composite      18.225\n",
       "diff                 5.375\n",
       "Name: 21, dtype: object"
      ]
     },
     "execution_count": 50,
     "metadata": {},
     "output_type": "execute_result"
    }
   ],
   "source": [
    "act_2017.loc[idx[0]]"
   ]
  },
  {
   "cell_type": "markdown",
   "metadata": {},
   "source": [
    "act_2017 is rectified for now."
   ]
  },
  {
   "cell_type": "markdown",
   "metadata": {},
   "source": [
    "### 5. Check datatypes"
   ]
  },
  {
   "cell_type": "code",
   "execution_count": 51,
   "metadata": {},
   "outputs": [
    {
     "name": "stdout",
     "output_type": "stream",
     "text": [
      "<class 'pandas.core.frame.DataFrame'>\n",
      "RangeIndex: 51 entries, 0 to 50\n",
      "Data columns (total 7 columns):\n",
      " #   Column                              Non-Null Count  Dtype  \n",
      "---  ------                              --------------  -----  \n",
      " 0   State                               51 non-null     object \n",
      " 1   Participation                       51 non-null     object \n",
      " 2   Evidence-Based Reading and Writing  51 non-null     int64  \n",
      " 3   Math                                51 non-null     int64  \n",
      " 4   Total                               51 non-null     int64  \n",
      " 5   diff                                51 non-null     int64  \n",
      " 6   percent_diff                        51 non-null     float64\n",
      "dtypes: float64(1), int64(4), object(2)\n",
      "memory usage: 2.9+ KB\n"
     ]
    }
   ],
   "source": [
    "sat_2017.info()"
   ]
  },
  {
   "cell_type": "code",
   "execution_count": 52,
   "metadata": {},
   "outputs": [
    {
     "name": "stdout",
     "output_type": "stream",
     "text": [
      "<class 'pandas.core.frame.DataFrame'>\n",
      "RangeIndex: 51 entries, 0 to 50\n",
      "Data columns (total 6 columns):\n",
      " #   Column                              Non-Null Count  Dtype \n",
      "---  ------                              --------------  ----- \n",
      " 0   State                               51 non-null     object\n",
      " 1   Participation                       51 non-null     object\n",
      " 2   Evidence-Based Reading and Writing  51 non-null     int64 \n",
      " 3   Math                                51 non-null     int64 \n",
      " 4   Total                               51 non-null     int64 \n",
      " 5   diff                                51 non-null     int64 \n",
      "dtypes: int64(4), object(2)\n",
      "memory usage: 2.5+ KB\n"
     ]
    }
   ],
   "source": [
    "sat_2018.info()"
   ]
  },
  {
   "cell_type": "markdown",
   "metadata": {},
   "source": [
    "For both sat_2017 and sat_2018, the Participation column is a string, whereas it can be better presented into a float. "
   ]
  },
  {
   "cell_type": "code",
   "execution_count": 53,
   "metadata": {},
   "outputs": [
    {
     "name": "stdout",
     "output_type": "stream",
     "text": [
      "<class 'pandas.core.frame.DataFrame'>\n",
      "RangeIndex: 52 entries, 0 to 51\n",
      "Data columns (total 9 columns):\n",
      " #   Column          Non-Null Count  Dtype  \n",
      "---  ------          --------------  -----  \n",
      " 0   State           52 non-null     object \n",
      " 1   Participation   52 non-null     object \n",
      " 2   English         52 non-null     float64\n",
      " 3   Math            52 non-null     float64\n",
      " 4   Reading         52 non-null     float64\n",
      " 5   Science         52 non-null     float64\n",
      " 6   Composite       52 non-null     float64\n",
      " 7   calc_composite  52 non-null     float64\n",
      " 8   diff            52 non-null     float64\n",
      "dtypes: float64(7), object(2)\n",
      "memory usage: 3.8+ KB\n"
     ]
    }
   ],
   "source": [
    "act_2017.info()"
   ]
  },
  {
   "cell_type": "code",
   "execution_count": 54,
   "metadata": {},
   "outputs": [
    {
     "name": "stdout",
     "output_type": "stream",
     "text": [
      "<class 'pandas.core.frame.DataFrame'>\n",
      "RangeIndex: 52 entries, 0 to 51\n",
      "Data columns (total 3 columns):\n",
      " #   Column         Non-Null Count  Dtype  \n",
      "---  ------         --------------  -----  \n",
      " 0   State          52 non-null     object \n",
      " 1   Participation  52 non-null     object \n",
      " 2   Composite      52 non-null     float64\n",
      "dtypes: float64(1), object(2)\n",
      "memory usage: 1.3+ KB\n"
     ]
    }
   ],
   "source": [
    "act_2018.info()"
   ]
  },
  {
   "cell_type": "markdown",
   "metadata": {},
   "source": [
    "Similar to act_2017, the Participation column is a string, instead of a float. However, the Composite column here is correctly represented by a float. \n"
   ]
  },
  {
   "cell_type": "code",
   "execution_count": 55,
   "metadata": {},
   "outputs": [
    {
     "name": "stdout",
     "output_type": "stream",
     "text": [
      "<class 'pandas.core.frame.DataFrame'>\n",
      "Int64Index: 1251 entries, 0 to 6453\n",
      "Data columns (total 4 columns):\n",
      " #   Column      Non-Null Count  Dtype  \n",
      "---  ------      --------------  -----  \n",
      " 0   college     1251 non-null   object \n",
      " 1   admissions  1251 non-null   float64\n",
      " 2   act_mid     1251 non-null   float64\n",
      " 3   sat_ave     1251 non-null   float64\n",
      "dtypes: float64(3), object(1)\n",
      "memory usage: 48.9+ KB\n"
     ]
    }
   ],
   "source": [
    "entry_scores.info()"
   ]
  },
  {
   "cell_type": "code",
   "execution_count": 56,
   "metadata": {},
   "outputs": [
    {
     "name": "stdout",
     "output_type": "stream",
     "text": [
      "<class 'pandas.core.frame.DataFrame'>\n",
      "RangeIndex: 115 entries, 0 to 114\n",
      "Data columns (total 2 columns):\n",
      " #   Column   Non-Null Count  Dtype  \n",
      "---  ------   --------------  -----  \n",
      " 0   college  115 non-null    object \n",
      " 1   ave_gpa  115 non-null    float64\n",
      "dtypes: float64(1), object(1)\n",
      "memory usage: 1.9+ KB\n"
     ]
    }
   ],
   "source": [
    "gpa_scores.info()"
   ]
  },
  {
   "cell_type": "markdown",
   "metadata": {},
   "source": [
    "The datatype for both entry_scores and gpa_scores are fine."
   ]
  },
  {
   "cell_type": "markdown",
   "metadata": {},
   "source": [
    "---"
   ]
  },
  {
   "cell_type": "markdown",
   "metadata": {},
   "source": [
    "### 6. Any incorrect data types found above (in 5.) will be fixed."
   ]
  },
  {
   "cell_type": "markdown",
   "metadata": {},
   "source": [
    "The function clean_percent(), written in Part 1 will be used to convert the column Participation to decimal float. \n",
    "<br> This will apply to all given datasets (sat_2017, sat_2018, act_2017, act_2018)"
   ]
  },
  {
   "cell_type": "code",
   "execution_count": 57,
   "metadata": {},
   "outputs": [],
   "source": [
    "# sat_2017['Participation'].map(clean_percent())"
   ]
  },
  {
   "cell_type": "code",
   "execution_count": 58,
   "metadata": {},
   "outputs": [
    {
     "name": "stdout",
     "output_type": "stream",
     "text": [
      "<class 'pandas.core.frame.DataFrame'>\n",
      "RangeIndex: 51 entries, 0 to 50\n",
      "Data columns (total 7 columns):\n",
      " #   Column                              Non-Null Count  Dtype  \n",
      "---  ------                              --------------  -----  \n",
      " 0   State                               51 non-null     object \n",
      " 1   Participation                       51 non-null     object \n",
      " 2   Evidence-Based Reading and Writing  51 non-null     int64  \n",
      " 3   Math                                51 non-null     int64  \n",
      " 4   Total                               51 non-null     int64  \n",
      " 5   diff                                51 non-null     int64  \n",
      " 6   percent_diff                        51 non-null     float64\n",
      "dtypes: float64(1), int64(4), object(2)\n",
      "memory usage: 2.9+ KB\n"
     ]
    }
   ],
   "source": [
    "sat_2017.info()"
   ]
  },
  {
   "cell_type": "code",
   "execution_count": 59,
   "metadata": {},
   "outputs": [],
   "source": [
    "sat_2017['Participation'] = clean_percent(sat_2017['Participation'])"
   ]
  },
  {
   "cell_type": "code",
   "execution_count": 60,
   "metadata": {},
   "outputs": [],
   "source": [
    "sat_2018['Participation'] = clean_percent(sat_2018['Participation'])"
   ]
  },
  {
   "cell_type": "code",
   "execution_count": 61,
   "metadata": {},
   "outputs": [],
   "source": [
    "act_2017['Participation'] = clean_percent(act_2017['Participation'])"
   ]
  },
  {
   "cell_type": "code",
   "execution_count": 62,
   "metadata": {},
   "outputs": [],
   "source": [
    "act_2018['Participation'] = clean_percent(act_2018['Participation'])"
   ]
  },
  {
   "cell_type": "markdown",
   "metadata": {},
   "source": [
    "---"
   ]
  },
  {
   "cell_type": "markdown",
   "metadata": {},
   "source": [
    "### Rename columns"
   ]
  },
  {
   "cell_type": "code",
   "execution_count": 63,
   "metadata": {},
   "outputs": [],
   "source": [
    "sat_2017.rename(columns={\n",
    "                    'State': 'state',\n",
    "                    'Participation' : 'sat2017_part',\n",
    "                    'Total' : 'sat2017_total',\n",
    "}, inplace = True)\n"
   ]
  },
  {
   "cell_type": "code",
   "execution_count": 64,
   "metadata": {},
   "outputs": [],
   "source": [
    "sat_2018.rename(columns={\n",
    "                    'State': 'state',\n",
    "                    'Participation' : 'sat2018_part',\n",
    "                    'Total' : 'sat2018_total',\n",
    "}, inplace = True)"
   ]
  },
  {
   "cell_type": "code",
   "execution_count": 65,
   "metadata": {},
   "outputs": [],
   "source": [
    "act_2017.rename(columns={\n",
    "                    'State': 'state',\n",
    "                    'Participation' : 'act2017_part',\n",
    "                    'Composite' : 'act2017_ave',\n",
    "}, inplace = True)"
   ]
  },
  {
   "cell_type": "code",
   "execution_count": 66,
   "metadata": {},
   "outputs": [],
   "source": [
    "act_2018.rename(columns={\n",
    "                    'State': 'state',\n",
    "                    'Participation' : 'act2018_part',\n",
    "                    'Composite' : 'act2018_ave',\n",
    "}, inplace = True)"
   ]
  },
  {
   "cell_type": "markdown",
   "metadata": {},
   "source": [
    "---"
   ]
  },
  {
   "cell_type": "markdown",
   "metadata": {},
   "source": [
    "### 8. Drop unnecessary rows "
   ]
  },
  {
   "cell_type": "code",
   "execution_count": 67,
   "metadata": {},
   "outputs": [
    {
     "data": {
      "text/html": [
       "<div>\n",
       "<style scoped>\n",
       "    .dataframe tbody tr th:only-of-type {\n",
       "        vertical-align: middle;\n",
       "    }\n",
       "\n",
       "    .dataframe tbody tr th {\n",
       "        vertical-align: top;\n",
       "    }\n",
       "\n",
       "    .dataframe thead th {\n",
       "        text-align: right;\n",
       "    }\n",
       "</style>\n",
       "<table border=\"1\" class=\"dataframe\">\n",
       "  <thead>\n",
       "    <tr style=\"text-align: right;\">\n",
       "      <th></th>\n",
       "      <th>state</th>\n",
       "      <th>sat2017_part</th>\n",
       "      <th>sat2017_total</th>\n",
       "    </tr>\n",
       "  </thead>\n",
       "  <tbody>\n",
       "    <tr>\n",
       "      <th>0</th>\n",
       "      <td>Alabama</td>\n",
       "      <td>0.05</td>\n",
       "      <td>1165</td>\n",
       "    </tr>\n",
       "    <tr>\n",
       "      <th>1</th>\n",
       "      <td>Alaska</td>\n",
       "      <td>0.38</td>\n",
       "      <td>1080</td>\n",
       "    </tr>\n",
       "    <tr>\n",
       "      <th>2</th>\n",
       "      <td>Arizona</td>\n",
       "      <td>0.30</td>\n",
       "      <td>1116</td>\n",
       "    </tr>\n",
       "    <tr>\n",
       "      <th>3</th>\n",
       "      <td>Arkansas</td>\n",
       "      <td>0.03</td>\n",
       "      <td>1208</td>\n",
       "    </tr>\n",
       "    <tr>\n",
       "      <th>4</th>\n",
       "      <td>California</td>\n",
       "      <td>0.53</td>\n",
       "      <td>1055</td>\n",
       "    </tr>\n",
       "  </tbody>\n",
       "</table>\n",
       "</div>"
      ],
      "text/plain": [
       "        state  sat2017_part  sat2017_total\n",
       "0     Alabama          0.05           1165\n",
       "1      Alaska          0.38           1080\n",
       "2     Arizona          0.30           1116\n",
       "3    Arkansas          0.03           1208\n",
       "4  California          0.53           1055"
      ]
     },
     "execution_count": 67,
     "metadata": {},
     "output_type": "execute_result"
    }
   ],
   "source": [
    "sat_2017.drop(columns=['Evidence-Based Reading and Writing','Math','diff','percent_diff'], axis=1, inplace=True)\n",
    "sat_2017.head()"
   ]
  },
  {
   "cell_type": "code",
   "execution_count": 68,
   "metadata": {},
   "outputs": [
    {
     "data": {
      "text/html": [
       "<div>\n",
       "<style scoped>\n",
       "    .dataframe tbody tr th:only-of-type {\n",
       "        vertical-align: middle;\n",
       "    }\n",
       "\n",
       "    .dataframe tbody tr th {\n",
       "        vertical-align: top;\n",
       "    }\n",
       "\n",
       "    .dataframe thead th {\n",
       "        text-align: right;\n",
       "    }\n",
       "</style>\n",
       "<table border=\"1\" class=\"dataframe\">\n",
       "  <thead>\n",
       "    <tr style=\"text-align: right;\">\n",
       "      <th></th>\n",
       "      <th>state</th>\n",
       "      <th>sat2018_part</th>\n",
       "      <th>sat2018_total</th>\n",
       "    </tr>\n",
       "  </thead>\n",
       "  <tbody>\n",
       "    <tr>\n",
       "      <th>0</th>\n",
       "      <td>Alabama</td>\n",
       "      <td>0.06</td>\n",
       "      <td>1166</td>\n",
       "    </tr>\n",
       "    <tr>\n",
       "      <th>1</th>\n",
       "      <td>Alaska</td>\n",
       "      <td>0.43</td>\n",
       "      <td>1106</td>\n",
       "    </tr>\n",
       "    <tr>\n",
       "      <th>2</th>\n",
       "      <td>Arizona</td>\n",
       "      <td>0.29</td>\n",
       "      <td>1149</td>\n",
       "    </tr>\n",
       "    <tr>\n",
       "      <th>3</th>\n",
       "      <td>Arkansas</td>\n",
       "      <td>0.05</td>\n",
       "      <td>1169</td>\n",
       "    </tr>\n",
       "    <tr>\n",
       "      <th>4</th>\n",
       "      <td>California</td>\n",
       "      <td>0.60</td>\n",
       "      <td>1076</td>\n",
       "    </tr>\n",
       "  </tbody>\n",
       "</table>\n",
       "</div>"
      ],
      "text/plain": [
       "        state  sat2018_part  sat2018_total\n",
       "0     Alabama          0.06           1166\n",
       "1      Alaska          0.43           1106\n",
       "2     Arizona          0.29           1149\n",
       "3    Arkansas          0.05           1169\n",
       "4  California          0.60           1076"
      ]
     },
     "execution_count": 68,
     "metadata": {},
     "output_type": "execute_result"
    }
   ],
   "source": [
    "sat_2018.drop(columns=['Evidence-Based Reading and Writing','Math','diff'], axis=1, inplace=True)\n",
    "sat_2018.head()"
   ]
  },
  {
   "cell_type": "code",
   "execution_count": 69,
   "metadata": {},
   "outputs": [
    {
     "data": {
      "text/html": [
       "<div>\n",
       "<style scoped>\n",
       "    .dataframe tbody tr th:only-of-type {\n",
       "        vertical-align: middle;\n",
       "    }\n",
       "\n",
       "    .dataframe tbody tr th {\n",
       "        vertical-align: top;\n",
       "    }\n",
       "\n",
       "    .dataframe thead th {\n",
       "        text-align: right;\n",
       "    }\n",
       "</style>\n",
       "<table border=\"1\" class=\"dataframe\">\n",
       "  <thead>\n",
       "    <tr style=\"text-align: right;\">\n",
       "      <th></th>\n",
       "      <th>state</th>\n",
       "      <th>act2017_part</th>\n",
       "      <th>act2017_ave</th>\n",
       "    </tr>\n",
       "  </thead>\n",
       "  <tbody>\n",
       "    <tr>\n",
       "      <th>0</th>\n",
       "      <td>National</td>\n",
       "      <td>0.60</td>\n",
       "      <td>21.0</td>\n",
       "    </tr>\n",
       "    <tr>\n",
       "      <th>1</th>\n",
       "      <td>Alabama</td>\n",
       "      <td>1.00</td>\n",
       "      <td>19.2</td>\n",
       "    </tr>\n",
       "    <tr>\n",
       "      <th>2</th>\n",
       "      <td>Alaska</td>\n",
       "      <td>0.65</td>\n",
       "      <td>19.8</td>\n",
       "    </tr>\n",
       "    <tr>\n",
       "      <th>3</th>\n",
       "      <td>Arizona</td>\n",
       "      <td>0.62</td>\n",
       "      <td>19.7</td>\n",
       "    </tr>\n",
       "    <tr>\n",
       "      <th>4</th>\n",
       "      <td>Arkansas</td>\n",
       "      <td>1.00</td>\n",
       "      <td>19.4</td>\n",
       "    </tr>\n",
       "  </tbody>\n",
       "</table>\n",
       "</div>"
      ],
      "text/plain": [
       "      state  act2017_part  act2017_ave\n",
       "0  National          0.60         21.0\n",
       "1   Alabama          1.00         19.2\n",
       "2    Alaska          0.65         19.8\n",
       "3   Arizona          0.62         19.7\n",
       "4  Arkansas          1.00         19.4"
      ]
     },
     "execution_count": 69,
     "metadata": {},
     "output_type": "execute_result"
    }
   ],
   "source": [
    "act_2017.drop(columns=['English','Math','Reading','Science','calc_composite','diff'], axis=1, inplace=True)\n",
    "act_2017.head()"
   ]
  },
  {
   "cell_type": "code",
   "execution_count": 70,
   "metadata": {},
   "outputs": [
    {
     "data": {
      "text/html": [
       "<div>\n",
       "<style scoped>\n",
       "    .dataframe tbody tr th:only-of-type {\n",
       "        vertical-align: middle;\n",
       "    }\n",
       "\n",
       "    .dataframe tbody tr th {\n",
       "        vertical-align: top;\n",
       "    }\n",
       "\n",
       "    .dataframe thead th {\n",
       "        text-align: right;\n",
       "    }\n",
       "</style>\n",
       "<table border=\"1\" class=\"dataframe\">\n",
       "  <thead>\n",
       "    <tr style=\"text-align: right;\">\n",
       "      <th></th>\n",
       "      <th>state</th>\n",
       "      <th>act2018_part</th>\n",
       "      <th>act2018_ave</th>\n",
       "    </tr>\n",
       "  </thead>\n",
       "  <tbody>\n",
       "    <tr>\n",
       "      <th>0</th>\n",
       "      <td>Alabama</td>\n",
       "      <td>1.00</td>\n",
       "      <td>19.1</td>\n",
       "    </tr>\n",
       "    <tr>\n",
       "      <th>1</th>\n",
       "      <td>Alaska</td>\n",
       "      <td>0.33</td>\n",
       "      <td>20.8</td>\n",
       "    </tr>\n",
       "    <tr>\n",
       "      <th>2</th>\n",
       "      <td>Arizona</td>\n",
       "      <td>0.66</td>\n",
       "      <td>19.2</td>\n",
       "    </tr>\n",
       "    <tr>\n",
       "      <th>3</th>\n",
       "      <td>Arkansas</td>\n",
       "      <td>1.00</td>\n",
       "      <td>19.4</td>\n",
       "    </tr>\n",
       "    <tr>\n",
       "      <th>4</th>\n",
       "      <td>California</td>\n",
       "      <td>0.27</td>\n",
       "      <td>22.7</td>\n",
       "    </tr>\n",
       "  </tbody>\n",
       "</table>\n",
       "</div>"
      ],
      "text/plain": [
       "        state  act2018_part  act2018_ave\n",
       "0     Alabama          1.00         19.1\n",
       "1      Alaska          0.33         20.8\n",
       "2     Arizona          0.66         19.2\n",
       "3    Arkansas          1.00         19.4\n",
       "4  California          0.27         22.7"
      ]
     },
     "execution_count": 70,
     "metadata": {},
     "output_type": "execute_result"
    }
   ],
   "source": [
    "act_2018.head()"
   ]
  },
  {
   "cell_type": "markdown",
   "metadata": {},
   "source": [
    "---"
   ]
  },
  {
   "cell_type": "markdown",
   "metadata": {},
   "source": [
    "### 9. Merge dataframes that can be merged."
   ]
  },
  {
   "cell_type": "markdown",
   "metadata": {},
   "source": [
    "Both SAT and ACT scores will be merged according to the year it was taken."
   ]
  },
  {
   "cell_type": "code",
   "execution_count": 71,
   "metadata": {},
   "outputs": [],
   "source": [
    "sat_act_2017 = pd.merge(sat_2017, act_2017, on=\"state\")"
   ]
  },
  {
   "cell_type": "code",
   "execution_count": 72,
   "metadata": {},
   "outputs": [],
   "source": [
    "sat_act_2018 = pd.merge(sat_2018, act_2018, on=\"state\")"
   ]
  },
  {
   "cell_type": "markdown",
   "metadata": {},
   "source": [
    "' .merge' will merge two declared dataframes, using the state column to join on."
   ]
  },
  {
   "cell_type": "markdown",
   "metadata": {},
   "source": [
    "The resulting dataframes by year looked like below. "
   ]
  },
  {
   "cell_type": "code",
   "execution_count": 73,
   "metadata": {},
   "outputs": [
    {
     "data": {
      "text/html": [
       "<div>\n",
       "<style scoped>\n",
       "    .dataframe tbody tr th:only-of-type {\n",
       "        vertical-align: middle;\n",
       "    }\n",
       "\n",
       "    .dataframe tbody tr th {\n",
       "        vertical-align: top;\n",
       "    }\n",
       "\n",
       "    .dataframe thead th {\n",
       "        text-align: right;\n",
       "    }\n",
       "</style>\n",
       "<table border=\"1\" class=\"dataframe\">\n",
       "  <thead>\n",
       "    <tr style=\"text-align: right;\">\n",
       "      <th></th>\n",
       "      <th>state</th>\n",
       "      <th>sat2017_part</th>\n",
       "      <th>sat2017_total</th>\n",
       "      <th>act2017_part</th>\n",
       "      <th>act2017_ave</th>\n",
       "    </tr>\n",
       "  </thead>\n",
       "  <tbody>\n",
       "    <tr>\n",
       "      <th>0</th>\n",
       "      <td>Alabama</td>\n",
       "      <td>0.05</td>\n",
       "      <td>1165</td>\n",
       "      <td>1.00</td>\n",
       "      <td>19.2</td>\n",
       "    </tr>\n",
       "    <tr>\n",
       "      <th>1</th>\n",
       "      <td>Alaska</td>\n",
       "      <td>0.38</td>\n",
       "      <td>1080</td>\n",
       "      <td>0.65</td>\n",
       "      <td>19.8</td>\n",
       "    </tr>\n",
       "    <tr>\n",
       "      <th>2</th>\n",
       "      <td>Arizona</td>\n",
       "      <td>0.30</td>\n",
       "      <td>1116</td>\n",
       "      <td>0.62</td>\n",
       "      <td>19.7</td>\n",
       "    </tr>\n",
       "    <tr>\n",
       "      <th>3</th>\n",
       "      <td>Arkansas</td>\n",
       "      <td>0.03</td>\n",
       "      <td>1208</td>\n",
       "      <td>1.00</td>\n",
       "      <td>19.4</td>\n",
       "    </tr>\n",
       "    <tr>\n",
       "      <th>4</th>\n",
       "      <td>California</td>\n",
       "      <td>0.53</td>\n",
       "      <td>1055</td>\n",
       "      <td>0.31</td>\n",
       "      <td>22.8</td>\n",
       "    </tr>\n",
       "  </tbody>\n",
       "</table>\n",
       "</div>"
      ],
      "text/plain": [
       "        state  sat2017_part  sat2017_total  act2017_part  act2017_ave\n",
       "0     Alabama          0.05           1165          1.00         19.2\n",
       "1      Alaska          0.38           1080          0.65         19.8\n",
       "2     Arizona          0.30           1116          0.62         19.7\n",
       "3    Arkansas          0.03           1208          1.00         19.4\n",
       "4  California          0.53           1055          0.31         22.8"
      ]
     },
     "execution_count": 73,
     "metadata": {},
     "output_type": "execute_result"
    }
   ],
   "source": [
    "sat_act_2017.head()"
   ]
  },
  {
   "cell_type": "code",
   "execution_count": 74,
   "metadata": {},
   "outputs": [
    {
     "data": {
      "text/html": [
       "<div>\n",
       "<style scoped>\n",
       "    .dataframe tbody tr th:only-of-type {\n",
       "        vertical-align: middle;\n",
       "    }\n",
       "\n",
       "    .dataframe tbody tr th {\n",
       "        vertical-align: top;\n",
       "    }\n",
       "\n",
       "    .dataframe thead th {\n",
       "        text-align: right;\n",
       "    }\n",
       "</style>\n",
       "<table border=\"1\" class=\"dataframe\">\n",
       "  <thead>\n",
       "    <tr style=\"text-align: right;\">\n",
       "      <th></th>\n",
       "      <th>state</th>\n",
       "      <th>sat2018_part</th>\n",
       "      <th>sat2018_total</th>\n",
       "      <th>act2018_part</th>\n",
       "      <th>act2018_ave</th>\n",
       "    </tr>\n",
       "  </thead>\n",
       "  <tbody>\n",
       "    <tr>\n",
       "      <th>0</th>\n",
       "      <td>Alabama</td>\n",
       "      <td>0.06</td>\n",
       "      <td>1166</td>\n",
       "      <td>1.00</td>\n",
       "      <td>19.1</td>\n",
       "    </tr>\n",
       "    <tr>\n",
       "      <th>1</th>\n",
       "      <td>Alaska</td>\n",
       "      <td>0.43</td>\n",
       "      <td>1106</td>\n",
       "      <td>0.33</td>\n",
       "      <td>20.8</td>\n",
       "    </tr>\n",
       "    <tr>\n",
       "      <th>2</th>\n",
       "      <td>Arizona</td>\n",
       "      <td>0.29</td>\n",
       "      <td>1149</td>\n",
       "      <td>0.66</td>\n",
       "      <td>19.2</td>\n",
       "    </tr>\n",
       "    <tr>\n",
       "      <th>3</th>\n",
       "      <td>Arkansas</td>\n",
       "      <td>0.05</td>\n",
       "      <td>1169</td>\n",
       "      <td>1.00</td>\n",
       "      <td>19.4</td>\n",
       "    </tr>\n",
       "    <tr>\n",
       "      <th>4</th>\n",
       "      <td>California</td>\n",
       "      <td>0.60</td>\n",
       "      <td>1076</td>\n",
       "      <td>0.27</td>\n",
       "      <td>22.7</td>\n",
       "    </tr>\n",
       "  </tbody>\n",
       "</table>\n",
       "</div>"
      ],
      "text/plain": [
       "        state  sat2018_part  sat2018_total  act2018_part  act2018_ave\n",
       "0     Alabama          0.06           1166          1.00         19.1\n",
       "1      Alaska          0.43           1106          0.33         20.8\n",
       "2     Arizona          0.29           1149          0.66         19.2\n",
       "3    Arkansas          0.05           1169          1.00         19.4\n",
       "4  California          0.60           1076          0.27         22.7"
      ]
     },
     "execution_count": 74,
     "metadata": {},
     "output_type": "execute_result"
    }
   ],
   "source": [
    "sat_act_2018.head()"
   ]
  },
  {
   "cell_type": "code",
   "execution_count": 75,
   "metadata": {},
   "outputs": [],
   "source": [
    "college_merged = pd.merge(entry_scores, gpa_scores, on='college')"
   ]
  },
  {
   "cell_type": "code",
   "execution_count": 76,
   "metadata": {},
   "outputs": [
    {
     "data": {
      "text/html": [
       "<div>\n",
       "<style scoped>\n",
       "    .dataframe tbody tr th:only-of-type {\n",
       "        vertical-align: middle;\n",
       "    }\n",
       "\n",
       "    .dataframe tbody tr th {\n",
       "        vertical-align: top;\n",
       "    }\n",
       "\n",
       "    .dataframe thead th {\n",
       "        text-align: right;\n",
       "    }\n",
       "</style>\n",
       "<table border=\"1\" class=\"dataframe\">\n",
       "  <thead>\n",
       "    <tr style=\"text-align: right;\">\n",
       "      <th></th>\n",
       "      <th>college</th>\n",
       "      <th>admissions</th>\n",
       "      <th>act_mid</th>\n",
       "      <th>sat_ave</th>\n",
       "      <th>ave_gpa</th>\n",
       "    </tr>\n",
       "  </thead>\n",
       "  <tbody>\n",
       "    <tr>\n",
       "      <th>0</th>\n",
       "      <td>Adelphi University</td>\n",
       "      <td>0.7430</td>\n",
       "      <td>24.0</td>\n",
       "      <td>1161.0</td>\n",
       "      <td>3.22</td>\n",
       "    </tr>\n",
       "    <tr>\n",
       "      <th>1</th>\n",
       "      <td>Albion College</td>\n",
       "      <td>0.6876</td>\n",
       "      <td>24.0</td>\n",
       "      <td>1118.0</td>\n",
       "      <td>3.29</td>\n",
       "    </tr>\n",
       "    <tr>\n",
       "      <th>2</th>\n",
       "      <td>Allegheny College</td>\n",
       "      <td>0.6215</td>\n",
       "      <td>27.0</td>\n",
       "      <td>1272.0</td>\n",
       "      <td>3.04</td>\n",
       "    </tr>\n",
       "    <tr>\n",
       "      <th>3</th>\n",
       "      <td>Amherst College</td>\n",
       "      <td>0.1131</td>\n",
       "      <td>32.0</td>\n",
       "      <td>1431.0</td>\n",
       "      <td>3.48</td>\n",
       "    </tr>\n",
       "    <tr>\n",
       "      <th>4</th>\n",
       "      <td>Appalachian State University</td>\n",
       "      <td>0.7681</td>\n",
       "      <td>25.0</td>\n",
       "      <td>1202.0</td>\n",
       "      <td>3.10</td>\n",
       "    </tr>\n",
       "    <tr>\n",
       "      <th>5</th>\n",
       "      <td>Ashland University</td>\n",
       "      <td>0.7117</td>\n",
       "      <td>22.0</td>\n",
       "      <td>1104.0</td>\n",
       "      <td>3.14</td>\n",
       "    </tr>\n",
       "    <tr>\n",
       "      <th>6</th>\n",
       "      <td>Auburn University</td>\n",
       "      <td>0.8067</td>\n",
       "      <td>28.0</td>\n",
       "      <td>1300.0</td>\n",
       "      <td>3.03</td>\n",
       "    </tr>\n",
       "    <tr>\n",
       "      <th>7</th>\n",
       "      <td>Baylor University</td>\n",
       "      <td>0.4533</td>\n",
       "      <td>29.0</td>\n",
       "      <td>1318.0</td>\n",
       "      <td>3.10</td>\n",
       "    </tr>\n",
       "    <tr>\n",
       "      <th>8</th>\n",
       "      <td>Boston College</td>\n",
       "      <td>0.2722</td>\n",
       "      <td>33.0</td>\n",
       "      <td>1437.0</td>\n",
       "      <td>3.35</td>\n",
       "    </tr>\n",
       "    <tr>\n",
       "      <th>9</th>\n",
       "      <td>Bradley University</td>\n",
       "      <td>0.7021</td>\n",
       "      <td>25.0</td>\n",
       "      <td>1191.0</td>\n",
       "      <td>3.17</td>\n",
       "    </tr>\n",
       "  </tbody>\n",
       "</table>\n",
       "</div>"
      ],
      "text/plain": [
       "                        college  admissions  act_mid  sat_ave  ave_gpa\n",
       "0            Adelphi University      0.7430     24.0   1161.0     3.22\n",
       "1                Albion College      0.6876     24.0   1118.0     3.29\n",
       "2             Allegheny College      0.6215     27.0   1272.0     3.04\n",
       "3               Amherst College      0.1131     32.0   1431.0     3.48\n",
       "4  Appalachian State University      0.7681     25.0   1202.0     3.10\n",
       "5            Ashland University      0.7117     22.0   1104.0     3.14\n",
       "6             Auburn University      0.8067     28.0   1300.0     3.03\n",
       "7             Baylor University      0.4533     29.0   1318.0     3.10\n",
       "8                Boston College      0.2722     33.0   1437.0     3.35\n",
       "9            Bradley University      0.7021     25.0   1191.0     3.17"
      ]
     },
     "execution_count": 76,
     "metadata": {},
     "output_type": "execute_result"
    }
   ],
   "source": [
    "college_merged.head(10)"
   ]
  },
  {
   "cell_type": "markdown",
   "metadata": {},
   "source": [
    "---"
   ]
  },
  {
   "cell_type": "markdown",
   "metadata": {},
   "source": [
    "### 11. Save cleaned and merged dataframes as csv files."
   ]
  },
  {
   "cell_type": "code",
   "execution_count": 77,
   "metadata": {},
   "outputs": [],
   "source": [
    "sat_act_2017.to_csv('../my_project_1/data/sat_act_2017.csv',index=False)\n",
    "sat_act_2018.to_csv('../my_project_1/data/sat_act_2018.csv',index=False)"
   ]
  },
  {
   "cell_type": "code",
   "execution_count": 93,
   "metadata": {},
   "outputs": [],
   "source": [
    "college_merged.to_csv('../my_project_1/data/sat_act_gpa_by_college.csv',index=False)"
   ]
  },
  {
   "cell_type": "markdown",
   "metadata": {},
   "source": [
    "pandas has several methods of the form ' .to_*()'. In the above case, ' .to_csv()' will save the dataframes into the '../data' folder."
   ]
  },
  {
   "cell_type": "markdown",
   "metadata": {},
   "source": [
    "### Data Dictionary\n",
    "\n",
    "Now that we've fixed our data, and given it appropriate names, let's create a [data dictionary](http://library.ucmerced.edu/node/10249). \n",
    "\n",
    "A data dictionary provides a quick overview of features/variables/columns, alongside data types and descriptions. The more descriptive you can be, the more useful this document is.\n",
    "\n",
    "Example of a Fictional Data Dictionary Entry: \n",
    "\n",
    "|Feature|Type|Dataset|Description|\n",
    "|---|---|---|---|\n",
    "|**county_pop**|*integer*|2010 census|The population of the county (units in thousands, where 2.5 represents 2500 people).| \n",
    "|**per_poverty**|*float*|2010 census|The percent of the county over the age of 18 living below the 200% of official US poverty rate (units percent to two decimal places 98.10 means 98.1%)|\n",
    "\n",
    "[Here's a quick link to a short guide for formatting markdown in Jupyter notebooks](https://jupyter-notebook.readthedocs.io/en/stable/examples/Notebook/Working%20With%20Markdown%20Cells.html).\n",
    "\n",
    "Provided is the skeleton for formatting a markdown table, with columns headers that will help you create a data dictionary to quickly summarize your data, as well as some examples. **This would be a great thing to copy and paste into your custom README for this project.**\n",
    "\n",
    "*Note*: if you are unsure of what a feature is, check the source of the data! This can be found in the README."
   ]
  },
  {
   "cell_type": "markdown",
   "metadata": {},
   "source": [
    "**To-Do:** *Edit the table below to create your own data dictionary for the datasets you chose.*\n",
    "\n",
    "|Feature|Type|Dataset|Description|\n",
    "|---|---|---|---|\n",
    "|column name|int/float/object|ACT/SAT|This is an example| \n",
    "|state|object|sat_act_2017|US states|\n",
    "|sat2017_part|float|sat_act_2017|participation rates taking SAT in 2017|\n",
    "|sat2017_total|int|sat_act_2017|total SAT scores in 2017|\n",
    "|act2017_part|float|sat_act_2017|participation rates taking ACT in 2017|\n",
    "|act2017_ave|float|sat_act_2017|average ACT scores in 2017|\n",
    "|state|object|sat_act_2018|US states|\n",
    "|sat2018_part|float|sat_act_2018|participation rates taking SAT in 2018|\n",
    "|sat2018_total|int|sat_act_2018|total SAT scores in 2018|\n",
    "|act2018_part|int|sat_act_2018|participation rates taking ACT in 2018|\n",
    "|act2018_ave|float|sat_act_2018|average ACT scores in 2018|\n",
    "|college|object|college_merged|colleges in the US|\n",
    "|admissions|float|college_merged|admissions rate by college|\n",
    "|act_mid|float|college_merged|median ACT scores by college|\n",
    "|sat_ave|float|college_merged|average SAT scores by college|\n",
    "|ave_gpa|float|college_merged|average GPA scores by college|\n",
    "\n",
    "\n",
    "\n",
    "\t\t\t\t\t\t\t\t\t\t\n"
   ]
  },
  {
   "cell_type": "markdown",
   "metadata": {},
   "source": [
    "## Exploratory Data Analysis\n",
    "\n",
    "Complete the following steps to explore your data. You are welcome to do more EDA than the steps outlined here as you feel necessary:\n",
    "1. Summary Statistics.\n",
    "2. Use a **dictionary comprehension** to apply the standard deviation function you create in part 1 to each numeric column in the dataframe.  **No loops**.\n",
    "    - Assign the output to variable `sd` as a dictionary where: \n",
    "        - Each column name is now a key \n",
    "        - That standard deviation of the column is the value \n",
    "        - *Example Output :* `{'ACT_Math': 120, 'ACT_Reading': 120, ...}`\n",
    "3. Investigate trends in the data.\n",
    "    - Using sorting and/or masking (along with the `.head()` method to avoid printing our entire dataframe), consider questions relevant to your problem statement. Some examples are provided below (but feel free to change these questions for your specific problem):\n",
    "        - Which states have the highest and lowest participation rates for the 2017, 2019, or 2019 SAT and ACT?\n",
    "        - Which states have the highest and lowest mean total/composite scores for the 2017, 2019, or 2019 SAT and ACT?\n",
    "        - Do any states with 100% participation on a given test have a rate change year-to-year?\n",
    "        - Do any states show have >50% participation on *both* tests each year?\n",
    "        - Which colleges have the highest median SAT and ACT scores for admittance?\n",
    "        - Which California school districts have the highest and lowest mean test scores?\n",
    "    - **You should comment on your findings at each step in a markdown cell below your code block**. Make sure you include at least one example of sorting your dataframe by a column, and one example of using boolean filtering (i.e., masking) to select a subset of the dataframe."
   ]
  },
  {
   "cell_type": "markdown",
   "metadata": {},
   "source": [
    "### 1. summary statistics"
   ]
  },
  {
   "cell_type": "code",
   "execution_count": 78,
   "metadata": {},
   "outputs": [
    {
     "data": {
      "text/html": [
       "<div>\n",
       "<style scoped>\n",
       "    .dataframe tbody tr th:only-of-type {\n",
       "        vertical-align: middle;\n",
       "    }\n",
       "\n",
       "    .dataframe tbody tr th {\n",
       "        vertical-align: top;\n",
       "    }\n",
       "\n",
       "    .dataframe thead th {\n",
       "        text-align: right;\n",
       "    }\n",
       "</style>\n",
       "<table border=\"1\" class=\"dataframe\">\n",
       "  <thead>\n",
       "    <tr style=\"text-align: right;\">\n",
       "      <th></th>\n",
       "      <th>sat2017_part</th>\n",
       "      <th>sat2017_total</th>\n",
       "      <th>act2017_part</th>\n",
       "      <th>act2017_ave</th>\n",
       "    </tr>\n",
       "  </thead>\n",
       "  <tbody>\n",
       "    <tr>\n",
       "      <th>count</th>\n",
       "      <td>51.000000</td>\n",
       "      <td>51.000000</td>\n",
       "      <td>51.000000</td>\n",
       "      <td>51.000000</td>\n",
       "    </tr>\n",
       "    <tr>\n",
       "      <th>mean</th>\n",
       "      <td>0.398039</td>\n",
       "      <td>1126.098039</td>\n",
       "      <td>0.652549</td>\n",
       "      <td>21.414216</td>\n",
       "    </tr>\n",
       "    <tr>\n",
       "      <th>std</th>\n",
       "      <td>0.352766</td>\n",
       "      <td>92.494812</td>\n",
       "      <td>0.321408</td>\n",
       "      <td>2.049977</td>\n",
       "    </tr>\n",
       "    <tr>\n",
       "      <th>min</th>\n",
       "      <td>0.020000</td>\n",
       "      <td>950.000000</td>\n",
       "      <td>0.080000</td>\n",
       "      <td>17.800000</td>\n",
       "    </tr>\n",
       "    <tr>\n",
       "      <th>25%</th>\n",
       "      <td>0.040000</td>\n",
       "      <td>1055.500000</td>\n",
       "      <td>0.310000</td>\n",
       "      <td>19.800000</td>\n",
       "    </tr>\n",
       "    <tr>\n",
       "      <th>50%</th>\n",
       "      <td>0.380000</td>\n",
       "      <td>1107.000000</td>\n",
       "      <td>0.690000</td>\n",
       "      <td>21.400000</td>\n",
       "    </tr>\n",
       "    <tr>\n",
       "      <th>75%</th>\n",
       "      <td>0.660000</td>\n",
       "      <td>1212.000000</td>\n",
       "      <td>1.000000</td>\n",
       "      <td>23.200000</td>\n",
       "    </tr>\n",
       "    <tr>\n",
       "      <th>max</th>\n",
       "      <td>1.000000</td>\n",
       "      <td>1295.000000</td>\n",
       "      <td>1.000000</td>\n",
       "      <td>25.500000</td>\n",
       "    </tr>\n",
       "  </tbody>\n",
       "</table>\n",
       "</div>"
      ],
      "text/plain": [
       "       sat2017_part  sat2017_total  act2017_part  act2017_ave\n",
       "count     51.000000      51.000000     51.000000    51.000000\n",
       "mean       0.398039    1126.098039      0.652549    21.414216\n",
       "std        0.352766      92.494812      0.321408     2.049977\n",
       "min        0.020000     950.000000      0.080000    17.800000\n",
       "25%        0.040000    1055.500000      0.310000    19.800000\n",
       "50%        0.380000    1107.000000      0.690000    21.400000\n",
       "75%        0.660000    1212.000000      1.000000    23.200000\n",
       "max        1.000000    1295.000000      1.000000    25.500000"
      ]
     },
     "execution_count": 78,
     "metadata": {},
     "output_type": "execute_result"
    }
   ],
   "source": [
    "sat_act_2017.describe()"
   ]
  },
  {
   "cell_type": "code",
   "execution_count": 79,
   "metadata": {},
   "outputs": [
    {
     "data": {
      "text/html": [
       "<div>\n",
       "<style scoped>\n",
       "    .dataframe tbody tr th:only-of-type {\n",
       "        vertical-align: middle;\n",
       "    }\n",
       "\n",
       "    .dataframe tbody tr th {\n",
       "        vertical-align: top;\n",
       "    }\n",
       "\n",
       "    .dataframe thead th {\n",
       "        text-align: right;\n",
       "    }\n",
       "</style>\n",
       "<table border=\"1\" class=\"dataframe\">\n",
       "  <thead>\n",
       "    <tr style=\"text-align: right;\">\n",
       "      <th></th>\n",
       "      <th>sat2018_part</th>\n",
       "      <th>sat2018_total</th>\n",
       "      <th>act2018_part</th>\n",
       "      <th>act2018_ave</th>\n",
       "    </tr>\n",
       "  </thead>\n",
       "  <tbody>\n",
       "    <tr>\n",
       "      <th>count</th>\n",
       "      <td>51.000000</td>\n",
       "      <td>51.000000</td>\n",
       "      <td>51.000000</td>\n",
       "      <td>51.000000</td>\n",
       "    </tr>\n",
       "    <tr>\n",
       "      <th>mean</th>\n",
       "      <td>0.458824</td>\n",
       "      <td>1120.725490</td>\n",
       "      <td>0.612353</td>\n",
       "      <td>21.503922</td>\n",
       "    </tr>\n",
       "    <tr>\n",
       "      <th>std</th>\n",
       "      <td>0.375002</td>\n",
       "      <td>93.191433</td>\n",
       "      <td>0.346483</td>\n",
       "      <td>2.120279</td>\n",
       "    </tr>\n",
       "    <tr>\n",
       "      <th>min</th>\n",
       "      <td>0.020000</td>\n",
       "      <td>998.000000</td>\n",
       "      <td>0.070000</td>\n",
       "      <td>17.700000</td>\n",
       "    </tr>\n",
       "    <tr>\n",
       "      <th>25%</th>\n",
       "      <td>0.045000</td>\n",
       "      <td>1057.500000</td>\n",
       "      <td>0.270000</td>\n",
       "      <td>19.950000</td>\n",
       "    </tr>\n",
       "    <tr>\n",
       "      <th>50%</th>\n",
       "      <td>0.520000</td>\n",
       "      <td>1098.000000</td>\n",
       "      <td>0.660000</td>\n",
       "      <td>21.300000</td>\n",
       "    </tr>\n",
       "    <tr>\n",
       "      <th>75%</th>\n",
       "      <td>0.775000</td>\n",
       "      <td>1204.000000</td>\n",
       "      <td>1.000000</td>\n",
       "      <td>23.750000</td>\n",
       "    </tr>\n",
       "    <tr>\n",
       "      <th>max</th>\n",
       "      <td>1.000000</td>\n",
       "      <td>1298.000000</td>\n",
       "      <td>1.000000</td>\n",
       "      <td>25.600000</td>\n",
       "    </tr>\n",
       "  </tbody>\n",
       "</table>\n",
       "</div>"
      ],
      "text/plain": [
       "       sat2018_part  sat2018_total  act2018_part  act2018_ave\n",
       "count     51.000000      51.000000     51.000000    51.000000\n",
       "mean       0.458824    1120.725490      0.612353    21.503922\n",
       "std        0.375002      93.191433      0.346483     2.120279\n",
       "min        0.020000     998.000000      0.070000    17.700000\n",
       "25%        0.045000    1057.500000      0.270000    19.950000\n",
       "50%        0.520000    1098.000000      0.660000    21.300000\n",
       "75%        0.775000    1204.000000      1.000000    23.750000\n",
       "max        1.000000    1298.000000      1.000000    25.600000"
      ]
     },
     "execution_count": 79,
     "metadata": {},
     "output_type": "execute_result"
    }
   ],
   "source": [
    "sat_act_2018.describe()"
   ]
  },
  {
   "cell_type": "code",
   "execution_count": null,
   "metadata": {},
   "outputs": [],
   "source": []
  },
  {
   "cell_type": "markdown",
   "metadata": {},
   "source": [
    "### 2. create dictionary "
   ]
  },
  {
   "cell_type": "code",
   "execution_count": 80,
   "metadata": {},
   "outputs": [],
   "source": [
    "scores_2017 = { 'sat2017_part': [], \n",
    "                'sat2017_total': [],\n",
    "                'act2017_part': [], \n",
    "                'act2017_ave': []\n",
    "                } "
   ]
  },
  {
   "cell_type": "code",
   "execution_count": 81,
   "metadata": {},
   "outputs": [
    {
     "data": {
      "text/plain": [
       "dict_keys(['sat2017_part', 'sat2017_total', 'act2017_part', 'act2017_ave'])"
      ]
     },
     "execution_count": 81,
     "metadata": {},
     "output_type": "execute_result"
    }
   ],
   "source": [
    "scores_2017.keys()"
   ]
  },
  {
   "cell_type": "markdown",
   "metadata": {},
   "source": [
    "The column names are the keys to the dictionary."
   ]
  },
  {
   "cell_type": "code",
   "execution_count": 82,
   "metadata": {},
   "outputs": [
    {
     "data": {
      "text/plain": [
       "{'sat2017_part': 0.3492907076664507,\n",
       " 'sat2017_total': 91.58351056778743,\n",
       " 'act2017_part': 0.3182417575123181,\n",
       " 'act2017_ave': 2.02977985200294}"
      ]
     },
     "execution_count": 82,
     "metadata": {},
     "output_type": "execute_result"
    }
   ],
   "source": [
    "scores_2017 = {key:calc_stdev(sat_act_2017[key]) for (key,value) in scores_2017.items()}\n",
    "scores_2017 "
   ]
  },
  {
   "cell_type": "markdown",
   "metadata": {},
   "source": [
    "The standard deviation of the column is the value in the dictionary.\n",
    "<br> Similar steps were performed for the combined SAT and ACT scores in 2018."
   ]
  },
  {
   "cell_type": "code",
   "execution_count": 83,
   "metadata": {},
   "outputs": [],
   "source": [
    "scores_2018 = { 'sat2018_part': [], \n",
    "                'sat2018_total': [],\n",
    "                'act2018_part': [], \n",
    "                'act2018_ave': []\n",
    "                } "
   ]
  },
  {
   "cell_type": "code",
   "execution_count": 84,
   "metadata": {},
   "outputs": [
    {
     "data": {
      "text/plain": [
       "dict_keys(['sat2018_part', 'sat2018_total', 'act2018_part', 'act2018_ave'])"
      ]
     },
     "execution_count": 84,
     "metadata": {},
     "output_type": "execute_result"
    }
   ],
   "source": [
    "scores_2018.keys()"
   ]
  },
  {
   "cell_type": "code",
   "execution_count": 85,
   "metadata": {},
   "outputs": [
    {
     "data": {
      "text/plain": [
       "{'sat2018_part': 0.3713074253933647,\n",
       " 'sat2018_total': 92.273268159942,\n",
       " 'act2018_part': 0.343069124889043,\n",
       " 'act2018_ave': 2.099389340187203}"
      ]
     },
     "execution_count": 85,
     "metadata": {},
     "output_type": "execute_result"
    }
   ],
   "source": [
    "scores_2018 = {key:calc_stdev(sat_act_2018[key]) for (key,value) in scores_2018.items()}\n",
    "scores_2018 "
   ]
  },
  {
   "cell_type": "markdown",
   "metadata": {},
   "source": [
    "### 3. Investigate trends in the data."
   ]
  },
  {
   "cell_type": "code",
   "execution_count": 86,
   "metadata": {},
   "outputs": [
    {
     "data": {
      "text/html": [
       "<div>\n",
       "<style scoped>\n",
       "    .dataframe tbody tr th:only-of-type {\n",
       "        vertical-align: middle;\n",
       "    }\n",
       "\n",
       "    .dataframe tbody tr th {\n",
       "        vertical-align: top;\n",
       "    }\n",
       "\n",
       "    .dataframe thead th {\n",
       "        text-align: right;\n",
       "    }\n",
       "</style>\n",
       "<table border=\"1\" class=\"dataframe\">\n",
       "  <thead>\n",
       "    <tr style=\"text-align: right;\">\n",
       "      <th></th>\n",
       "      <th>sat2017_part</th>\n",
       "      <th>sat2017_total</th>\n",
       "      <th>act2017_part</th>\n",
       "      <th>act2017_ave</th>\n",
       "    </tr>\n",
       "  </thead>\n",
       "  <tbody>\n",
       "    <tr>\n",
       "      <th>count</th>\n",
       "      <td>51.000000</td>\n",
       "      <td>51.000000</td>\n",
       "      <td>51.000000</td>\n",
       "      <td>51.000000</td>\n",
       "    </tr>\n",
       "    <tr>\n",
       "      <th>mean</th>\n",
       "      <td>0.398039</td>\n",
       "      <td>1126.098039</td>\n",
       "      <td>0.652549</td>\n",
       "      <td>21.414216</td>\n",
       "    </tr>\n",
       "    <tr>\n",
       "      <th>std</th>\n",
       "      <td>0.352766</td>\n",
       "      <td>92.494812</td>\n",
       "      <td>0.321408</td>\n",
       "      <td>2.049977</td>\n",
       "    </tr>\n",
       "    <tr>\n",
       "      <th>min</th>\n",
       "      <td>0.020000</td>\n",
       "      <td>950.000000</td>\n",
       "      <td>0.080000</td>\n",
       "      <td>17.800000</td>\n",
       "    </tr>\n",
       "    <tr>\n",
       "      <th>25%</th>\n",
       "      <td>0.040000</td>\n",
       "      <td>1055.500000</td>\n",
       "      <td>0.310000</td>\n",
       "      <td>19.800000</td>\n",
       "    </tr>\n",
       "    <tr>\n",
       "      <th>50%</th>\n",
       "      <td>0.380000</td>\n",
       "      <td>1107.000000</td>\n",
       "      <td>0.690000</td>\n",
       "      <td>21.400000</td>\n",
       "    </tr>\n",
       "    <tr>\n",
       "      <th>75%</th>\n",
       "      <td>0.660000</td>\n",
       "      <td>1212.000000</td>\n",
       "      <td>1.000000</td>\n",
       "      <td>23.200000</td>\n",
       "    </tr>\n",
       "    <tr>\n",
       "      <th>max</th>\n",
       "      <td>1.000000</td>\n",
       "      <td>1295.000000</td>\n",
       "      <td>1.000000</td>\n",
       "      <td>25.500000</td>\n",
       "    </tr>\n",
       "  </tbody>\n",
       "</table>\n",
       "</div>"
      ],
      "text/plain": [
       "       sat2017_part  sat2017_total  act2017_part  act2017_ave\n",
       "count     51.000000      51.000000     51.000000    51.000000\n",
       "mean       0.398039    1126.098039      0.652549    21.414216\n",
       "std        0.352766      92.494812      0.321408     2.049977\n",
       "min        0.020000     950.000000      0.080000    17.800000\n",
       "25%        0.040000    1055.500000      0.310000    19.800000\n",
       "50%        0.380000    1107.000000      0.690000    21.400000\n",
       "75%        0.660000    1212.000000      1.000000    23.200000\n",
       "max        1.000000    1295.000000      1.000000    25.500000"
      ]
     },
     "execution_count": 86,
     "metadata": {},
     "output_type": "execute_result"
    }
   ],
   "source": [
    "sat_act_2017.describe()"
   ]
  },
  {
   "cell_type": "code",
   "execution_count": 87,
   "metadata": {},
   "outputs": [
    {
     "data": {
      "text/html": [
       "<div>\n",
       "<style scoped>\n",
       "    .dataframe tbody tr th:only-of-type {\n",
       "        vertical-align: middle;\n",
       "    }\n",
       "\n",
       "    .dataframe tbody tr th {\n",
       "        vertical-align: top;\n",
       "    }\n",
       "\n",
       "    .dataframe thead th {\n",
       "        text-align: right;\n",
       "    }\n",
       "</style>\n",
       "<table border=\"1\" class=\"dataframe\">\n",
       "  <thead>\n",
       "    <tr style=\"text-align: right;\">\n",
       "      <th></th>\n",
       "      <th>sat2018_part</th>\n",
       "      <th>sat2018_total</th>\n",
       "      <th>act2018_part</th>\n",
       "      <th>act2018_ave</th>\n",
       "    </tr>\n",
       "  </thead>\n",
       "  <tbody>\n",
       "    <tr>\n",
       "      <th>count</th>\n",
       "      <td>51.000000</td>\n",
       "      <td>51.000000</td>\n",
       "      <td>51.000000</td>\n",
       "      <td>51.000000</td>\n",
       "    </tr>\n",
       "    <tr>\n",
       "      <th>mean</th>\n",
       "      <td>0.458824</td>\n",
       "      <td>1120.725490</td>\n",
       "      <td>0.612353</td>\n",
       "      <td>21.503922</td>\n",
       "    </tr>\n",
       "    <tr>\n",
       "      <th>std</th>\n",
       "      <td>0.375002</td>\n",
       "      <td>93.191433</td>\n",
       "      <td>0.346483</td>\n",
       "      <td>2.120279</td>\n",
       "    </tr>\n",
       "    <tr>\n",
       "      <th>min</th>\n",
       "      <td>0.020000</td>\n",
       "      <td>998.000000</td>\n",
       "      <td>0.070000</td>\n",
       "      <td>17.700000</td>\n",
       "    </tr>\n",
       "    <tr>\n",
       "      <th>25%</th>\n",
       "      <td>0.045000</td>\n",
       "      <td>1057.500000</td>\n",
       "      <td>0.270000</td>\n",
       "      <td>19.950000</td>\n",
       "    </tr>\n",
       "    <tr>\n",
       "      <th>50%</th>\n",
       "      <td>0.520000</td>\n",
       "      <td>1098.000000</td>\n",
       "      <td>0.660000</td>\n",
       "      <td>21.300000</td>\n",
       "    </tr>\n",
       "    <tr>\n",
       "      <th>75%</th>\n",
       "      <td>0.775000</td>\n",
       "      <td>1204.000000</td>\n",
       "      <td>1.000000</td>\n",
       "      <td>23.750000</td>\n",
       "    </tr>\n",
       "    <tr>\n",
       "      <th>max</th>\n",
       "      <td>1.000000</td>\n",
       "      <td>1298.000000</td>\n",
       "      <td>1.000000</td>\n",
       "      <td>25.600000</td>\n",
       "    </tr>\n",
       "  </tbody>\n",
       "</table>\n",
       "</div>"
      ],
      "text/plain": [
       "       sat2018_part  sat2018_total  act2018_part  act2018_ave\n",
       "count     51.000000      51.000000     51.000000    51.000000\n",
       "mean       0.458824    1120.725490      0.612353    21.503922\n",
       "std        0.375002      93.191433      0.346483     2.120279\n",
       "min        0.020000     998.000000      0.070000    17.700000\n",
       "25%        0.045000    1057.500000      0.270000    19.950000\n",
       "50%        0.520000    1098.000000      0.660000    21.300000\n",
       "75%        0.775000    1204.000000      1.000000    23.750000\n",
       "max        1.000000    1298.000000      1.000000    25.600000"
      ]
     },
     "execution_count": 87,
     "metadata": {},
     "output_type": "execute_result"
    }
   ],
   "source": [
    "sat_act_2018.describe()"
   ]
  },
  {
   "cell_type": "markdown",
   "metadata": {},
   "source": [
    "For both years, there was a higher participation in the ACT test than the SAT test. \n",
    "<br> Similarly for both years, the mean for the SAT scores is 1126 and 1120 for 2017 and 2018 respectively. This is in agreement with the way the test is deliberately designed so that the mean score hovers around 1000 on a 1600 point scale. The average score for Math is 528, and the average score for EBRW is 523."
   ]
  },
  {
   "cell_type": "code",
   "execution_count": null,
   "metadata": {},
   "outputs": [],
   "source": []
  },
  {
   "cell_type": "code",
   "execution_count": null,
   "metadata": {},
   "outputs": [],
   "source": []
  },
  {
   "cell_type": "code",
   "execution_count": null,
   "metadata": {},
   "outputs": [],
   "source": []
  },
  {
   "cell_type": "markdown",
   "metadata": {},
   "source": [
    "**To-Do:** *Edit this cell with your findings on trends in the data (step 3 above).*"
   ]
  },
  {
   "cell_type": "markdown",
   "metadata": {},
   "source": [
    "## Visualize the Data\n",
    "\n",
    "There's not a magic bullet recommendation for the right number of plots to understand a given dataset, but visualizing your data is *always* a good idea. Not only does it allow you to quickly convey your findings (even if you have a non-technical audience), it will often reveal trends in your data that escaped you when you were looking only at numbers. It is important to not only create visualizations, but to **interpret your visualizations** as well.\n",
    "\n",
    "**Every plot should**:\n",
    "- Have a title\n",
    "- Have axis labels\n",
    "- Have appropriate tick labels\n",
    "- Text is legible in a plot\n",
    "- Plots demonstrate meaningful and valid relationships\n",
    "- Have an interpretation to aid understanding\n",
    "\n",
    "Here is an example of what your plots should look like following the above guidelines. Note that while the content of this example is unrelated, the principles of visualization hold:\n",
    "\n",
    "![](https://snag.gy/hCBR1U.jpg)\n",
    "*Interpretation: The above image shows that as we increase our spending on advertising, our sales numbers also tend to increase. There is a positive correlation between advertising spending and sales.*\n",
    "\n",
    "---\n",
    "\n",
    "Here are some prompts to get you started with visualizations. Feel free to add additional visualizations as you see fit:\n",
    "1. Use Seaborn's heatmap with pandas `.corr()` to visualize correlations between all numeric features.\n",
    "    - Heatmaps are generally not appropriate for presentations, and should often be excluded from reports as they can be visually overwhelming. **However**, they can be extremely useful in identify relationships of potential interest (as well as identifying potential collinearity before modeling).\n",
    "    - Please take time to format your output, adding a title. Look through some of the additional arguments and options. (Axis labels aren't really necessary, as long as the title is informative).\n",
    "2. Visualize distributions using histograms. If you have a lot, consider writing a custom function and use subplots.\n",
    "    - *OPTIONAL*: Summarize the underlying distributions of your features (in words & statistics)\n",
    "         - Be thorough in your verbal description of these distributions.\n",
    "         - Be sure to back up these summaries with statistics.\n",
    "         - We generally assume that data we sample from a population will be normally distributed. Do we observe this trend? Explain your answers for each distribution and how you think this will affect estimates made from these data.\n",
    "3. Plot and interpret boxplots. \n",
    "    - Boxplots demonstrate central tendency and spread in variables. In a certain sense, these are somewhat redundant with histograms, but you may be better able to identify clear outliers or differences in IQR, etc.\n",
    "    - Multiple values can be plotted to a single boxplot as long as they are of the same relative scale (meaning they have similar min/max values).\n",
    "    - Each boxplot should:\n",
    "        - Only include variables of a similar scale\n",
    "        - Have clear labels for each variable\n",
    "        - Have appropriate titles and labels\n",
    "4. Plot and interpret scatter plots to view relationships between features. Feel free to write a custom function, and subplot if you'd like. Functions save both time and space.\n",
    "    - Your plots should have:\n",
    "        - Two clearly labeled axes\n",
    "        - A proper title\n",
    "        - Colors and symbols that are clear and unmistakable\n",
    "5. Additional plots of your choosing.\n",
    "    - Are there any additional trends or relationships you haven't explored? Was there something interesting you saw that you'd like to dive further into? It's likely that there are a few more plots you might want to generate to support your narrative and recommendations that you are building toward. **As always, make sure you're interpreting your plots as you go**."
   ]
  },
  {
   "cell_type": "code",
   "execution_count": 96,
   "metadata": {},
   "outputs": [
    {
     "data": {
      "image/png": "[encoded data removed]",
      "text/plain": [
       "<Figure size 432x288 with 1 Axes>"
      ]
     },
     "metadata": {
      "needs_background": "light"
     },
     "output_type": "display_data"
    }
   ],
   "source": [
    "# Create scatterplot of average SAT scores versus average college GPA scores.\n",
    "plt.scatter(college_merged['sat_ave'],\n",
    "            college_merged['ave_gpa']);\n",
    "\n",
    "plt.title(\"Average SAT scores versus average college GPA\")\n",
    "plt.xlabel(\"Average SAT scores\", fontsize = 10);\n",
    "plt.ylabel(\"Average college GPA\", fontsize = 10);"
   ]
  },
  {
   "cell_type": "markdown",
   "metadata": {},
   "source": [
    "The scatterplot above showing average SAT versus college GPA scores showed an upward trend; This means that students with higher SAT also achieved higher GPA scores in college. To further demonstrate this point, a linear regression line will be plotted in the same scatterplot (as shown below)."
   ]
  },
  {
   "cell_type": "code",
   "execution_count": 88,
   "metadata": {},
   "outputs": [],
   "source": [
    "d = np.polyfit(college_merged['sat_ave'],college_merged['ave_gpa'],1)\n",
    "f = np.poly1d(d)\n",
    "# this is inserted in column 4\n",
    "college_merged.insert(4,'line_sat',f(college_merged['sat_ave']))  "
   ]
  },
  {
   "cell_type": "markdown",
   "metadata": {},
   "source": [
    "The above creates a linear regression line over the data (without using sklearn.linear_model)\n",
    "<br> Polyfit in numpy does a least squares polynomial fit over the given data.\n",
    "<br> The final parameter is the degree of the polynomial. For linear regression, the degree is 1."
   ]
  },
  {
   "cell_type": "code",
   "execution_count": 89,
   "metadata": {},
   "outputs": [
    {
     "data": {
      "image/png": "[encoded data removed]",
      "text/plain": [
       "<Figure size 432x288 with 1 Axes>"
      ]
     },
     "metadata": {
      "needs_background": "light"
     },
     "output_type": "display_data"
    }
   ],
   "source": [
    "# Create scatterplot and SAT line (determined above) versus GPA on same figure.\n",
    "ax=college_merged.plot.scatter(x='sat_ave',y='ave_gpa')\n",
    "college_merged.plot(x='sat_ave',y='line_sat', color='red', legend=False, ax=ax )\n",
    "\n",
    "plt.title(\"Average SAT scores versus average college GPA\")\n",
    "plt.xlabel(\"Average SAT scores\", fontsize = 10);\n",
    "plt.ylabel(\"Average college GPA\", fontsize = 10);"
   ]
  },
  {
   "cell_type": "markdown",
   "metadata": {},
   "source": [
    "From the figure shown above, this demonstrates a general trend where students with higher average SAT scores during admission, will also have high GPA scores in college. "
   ]
  },
  {
   "cell_type": "code",
   "execution_count": 90,
   "metadata": {},
   "outputs": [],
   "source": [
    "d = np.polyfit(college_merged['act_mid'],college_merged['ave_gpa'],1)\n",
    "f = np.poly1d(d)\n",
    "# this is inserted in column 5 \n",
    "college_merged.insert(5,'line_act',f(college_merged['act_mid'])) "
   ]
  },
  {
   "cell_type": "markdown",
   "metadata": {},
   "source": [
    "The above creates a linear regression line over the data \n",
    "<br> Polyfit in numpy does a least squares polynomial fit over the given data.\n",
    "<br> The final parameter is the degree of the polynomial. For linear regression the degree is 1."
   ]
  },
  {
   "cell_type": "code",
   "execution_count": 91,
   "metadata": {},
   "outputs": [
    {
     "data": {
      "image/png": "[encoded data removed]",
      "text/plain": [
       "<Figure size 432x288 with 1 Axes>"
      ]
     },
     "metadata": {
      "needs_background": "light"
     },
     "output_type": "display_data"
    }
   ],
   "source": [
    "# Create scatterplot and ACT line (determined above) versus GPA on same figure.\n",
    "ax=college_merged.plot.scatter(x='act_mid',y='ave_gpa')\n",
    "college_merged.plot(x='act_mid',y='line_act', color='red', legend=False, ax=ax )\n",
    "\n",
    "plt.title(\"Midpoint of ACT scores versus average college GPA\")\n",
    "plt.xlabel(\"Midpoint of ACT scores\", fontsize = 10);\n",
    "plt.ylabel(\"Average college GPA\", fontsize = 10);"
   ]
  },
  {
   "cell_type": "markdown",
   "metadata": {},
   "source": [
    "From the figure shown above, this demonstrates a general trend where students with higher median ACT scores during admission, will also have high GPA scores in college. \n",
    "<br> However, does this imply a good correlation between median ACT scores and college GPA scores?\n",
    "<br> "
   ]
  },
  {
   "cell_type": "code",
   "execution_count": 92,
   "metadata": {},
   "outputs": [
    {
     "data": {
      "image/png": "[encoded data removed]",
      "text/plain": [
       "<Figure size 720x432 with 2 Axes>"
      ]
     },
     "metadata": {
      "needs_background": "light"
     },
     "output_type": "display_data"
    }
   ],
   "source": [
    "# Quality correlation matrix\n",
    "# columns are dropped so that it would not be plotted in the corr figure\n",
    "college_merged = college_merged.drop(columns=['admissions','line_sat','line_act'])\n",
    "\n",
    "plt.figure(figsize=(10,6))\n",
    "cx=college_merged.corr()\n",
    "sns.heatmap(cx, annot=True, cmap = 'viridis')\n",
    "plt.show()\n"
   ]
  },
  {
   "attachments": {},
   "cell_type": "markdown",
   "metadata": {},
   "source": [
    "From the figure shown above, the correlation between median ACT scores and average college GPA scores is 0.76.\n",
    "<br> The correlation between average SAT scores and average college GPA scores is 0.75.\n",
    "<br> There is a myth that prestigious colleges, like those in the Ivy League prefer the SAT over the ACT. While many university admissions offices have publicly stated that this is not true, the results shown here also demonstrates that both SAT and ACT scores have similar correlation to college GPA scores. So, both the SAT and ACT do have similar predictive validity. Both can be regarded as equal in predicting academic success in college.\n"
   ]
  },
  {
   "cell_type": "markdown",
   "metadata": {},
   "source": [
    "## Conclusions and Recommendations"
   ]
  },
  {
   "attachments": {},
   "cell_type": "markdown",
   "metadata": {},
   "source": [
    "Admittedly, standardized tests are far from perfect. They cannot capture students' attitudes, such as being punctual to class and turning in assignments. However, getting rid of them altogether is not beneficial to colleges who aims to determine the academic potential of incoming students. Furthermore, there could be a wide variation in grading standards between high schools. \n",
    "<br> The results here showed that there is a correlation between SAT scores and college GPA scores. Similarly, there is a correlation between ACT scores and college GPA scores. Thus, both SAT and ACT scores are equal in predicting future academic success in students entering college. \n",
    "<br> Unless there is a better way to predict a college student's success, removing standardised tests such as the SAT and ACT tests will not make college admissions better.  \n"
   ]
  },
  {
   "cell_type": "code",
   "execution_count": null,
   "metadata": {},
   "outputs": [],
   "source": []
  }
 ],
 "metadata": {
  "anaconda-cloud": {},
  "kernelspec": {
   "display_name": "Python 3",
   "language": "python",
   "name": "python3"
  },
  "language_info": {
   "codemirror_mode": {
    "name": "ipython",
    "version": 3
   },
   "file_extension": ".py",
   "mimetype": "text/x-python",
   "name": "python",
   "nbconvert_exporter": "python",
   "pygments_lexer": "ipython3",
   "version": "3.8.8"
  }
 },
 "nbformat": 4,
 "nbformat_minor": 4
}
