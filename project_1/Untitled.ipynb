{
 "cells": [
  {
   "cell_type": "code",
   "execution_count": 1,
   "id": "d983ddbd",
   "metadata": {},
   "outputs": [],
   "source": [
    "import pandas as pd\n",
    "import numpy as np\n",
    "import scipy.stats as stats\n",
    "import seaborn as sns\n",
    "import matplotlib.pyplot as plt\n",
    "%matplotlib inline"
   ]
  },
  {
   "cell_type": "markdown",
   "id": "e30f3987",
   "metadata": {},
   "source": [
    "All Data Files (https://collegescorecard.ed.gov/data/)\n",
    "\n",
    "    Institution-level data files for 1996-97 through 2019-20 containing aggregate data for each institution. Includes information on institutional characteristics, enrollment, student aid, costs, and student outcomes.\n",
    "    Field of study-level data files for the pooled 2014-15, 2015-16 award years through the pooled 2016-17, 2017-18 award years containing data at the credential level and 4-digit CIP code combination for each institution. Includes information on cumulative debt at graduation and earnings one year after graduation.\n",
    "    Crosswalk files for 2000-01 through 2018-19 that link the Department’s OPEID with an IPEDS UNITID for each institution."
   ]
  },
  {
   "cell_type": "markdown",
   "id": "4a103142",
   "metadata": {},
   "source": [
    "midpoint was chosen as this means that student performance tends to cluster around the middle of the scale (1000 is the halfway point between the minimum score of 400 and the maximum score of 1600)\n"
   ]
  },
  {
   "cell_type": "code",
   "execution_count": 2,
   "id": "053f1ee7",
   "metadata": {},
   "outputs": [],
   "source": [
    "entry_scores = pd.read_csv('../my_project_1/data/act_sat_by college_older.csv')\n"
   ]
  },
  {
   "cell_type": "code",
   "execution_count": 3,
   "id": "9970355b",
   "metadata": {},
   "outputs": [
    {
     "data": {
      "text/html": [
       "<div>\n",
       "<style scoped>\n",
       "    .dataframe tbody tr th:only-of-type {\n",
       "        vertical-align: middle;\n",
       "    }\n",
       "\n",
       "    .dataframe tbody tr th {\n",
       "        vertical-align: top;\n",
       "    }\n",
       "\n",
       "    .dataframe thead th {\n",
       "        text-align: right;\n",
       "    }\n",
       "</style>\n",
       "<table border=\"1\" class=\"dataframe\">\n",
       "  <thead>\n",
       "    <tr style=\"text-align: right;\">\n",
       "      <th></th>\n",
       "      <th>INSTNM</th>\n",
       "      <th>CITY</th>\n",
       "      <th>STABBR</th>\n",
       "      <th>ZIP</th>\n",
       "      <th>ADM_RATE</th>\n",
       "      <th>SATVR25</th>\n",
       "      <th>SATVR75</th>\n",
       "      <th>SATMT25</th>\n",
       "      <th>SATMT75</th>\n",
       "      <th>SATWR25</th>\n",
       "      <th>...</th>\n",
       "      <th>ACTMT25</th>\n",
       "      <th>ACTMT75</th>\n",
       "      <th>ACTWR25</th>\n",
       "      <th>ACTWR75</th>\n",
       "      <th>ACTCMMID</th>\n",
       "      <th>ACTENMID</th>\n",
       "      <th>ACTMTMID</th>\n",
       "      <th>ACTWRMID</th>\n",
       "      <th>SAT_AVG</th>\n",
       "      <th>SAT_AVG_ALL</th>\n",
       "    </tr>\n",
       "  </thead>\n",
       "  <tbody>\n",
       "    <tr>\n",
       "      <th>0</th>\n",
       "      <td>Abilene Christian University</td>\n",
       "      <td>Abilene</td>\n",
       "      <td>TX</td>\n",
       "      <td>79699</td>\n",
       "      <td>0.6148</td>\n",
       "      <td>515.0</td>\n",
       "      <td>630.0</td>\n",
       "      <td>500.0</td>\n",
       "      <td>600.0</td>\n",
       "      <td>450.0</td>\n",
       "      <td>...</td>\n",
       "      <td>18.0</td>\n",
       "      <td>26.0</td>\n",
       "      <td>6.0</td>\n",
       "      <td>8.0</td>\n",
       "      <td>25.0</td>\n",
       "      <td>24.0</td>\n",
       "      <td>22.0</td>\n",
       "      <td>7.0</td>\n",
       "      <td>1164.0</td>\n",
       "      <td>1164.0</td>\n",
       "    </tr>\n",
       "    <tr>\n",
       "      <th>1</th>\n",
       "      <td>Abraham Baldwin Agricultural College</td>\n",
       "      <td>Tifton</td>\n",
       "      <td>GA</td>\n",
       "      <td>31793-2601</td>\n",
       "      <td>0.7342</td>\n",
       "      <td>470.0</td>\n",
       "      <td>580.0</td>\n",
       "      <td>460.0</td>\n",
       "      <td>540.0</td>\n",
       "      <td>NaN</td>\n",
       "      <td>...</td>\n",
       "      <td>16.0</td>\n",
       "      <td>21.0</td>\n",
       "      <td>NaN</td>\n",
       "      <td>NaN</td>\n",
       "      <td>20.0</td>\n",
       "      <td>19.0</td>\n",
       "      <td>19.0</td>\n",
       "      <td>NaN</td>\n",
       "      <td>1029.0</td>\n",
       "      <td>1029.0</td>\n",
       "    </tr>\n",
       "    <tr>\n",
       "      <th>2</th>\n",
       "      <td>Academy of Interactive Entertainment</td>\n",
       "      <td>Seattle</td>\n",
       "      <td>WA</td>\n",
       "      <td>98109-4623</td>\n",
       "      <td>0.9231</td>\n",
       "      <td>NaN</td>\n",
       "      <td>NaN</td>\n",
       "      <td>NaN</td>\n",
       "      <td>NaN</td>\n",
       "      <td>NaN</td>\n",
       "      <td>...</td>\n",
       "      <td>NaN</td>\n",
       "      <td>NaN</td>\n",
       "      <td>NaN</td>\n",
       "      <td>NaN</td>\n",
       "      <td>NaN</td>\n",
       "      <td>NaN</td>\n",
       "      <td>NaN</td>\n",
       "      <td>NaN</td>\n",
       "      <td>NaN</td>\n",
       "      <td>NaN</td>\n",
       "    </tr>\n",
       "    <tr>\n",
       "      <th>3</th>\n",
       "      <td>Academy of Interactive Entertainment</td>\n",
       "      <td>Lafayette</td>\n",
       "      <td>LA</td>\n",
       "      <td>70506-4293</td>\n",
       "      <td>0.8627</td>\n",
       "      <td>NaN</td>\n",
       "      <td>NaN</td>\n",
       "      <td>NaN</td>\n",
       "      <td>NaN</td>\n",
       "      <td>NaN</td>\n",
       "      <td>...</td>\n",
       "      <td>NaN</td>\n",
       "      <td>NaN</td>\n",
       "      <td>NaN</td>\n",
       "      <td>NaN</td>\n",
       "      <td>NaN</td>\n",
       "      <td>NaN</td>\n",
       "      <td>NaN</td>\n",
       "      <td>NaN</td>\n",
       "      <td>NaN</td>\n",
       "      <td>NaN</td>\n",
       "    </tr>\n",
       "    <tr>\n",
       "      <th>4</th>\n",
       "      <td>Adams State University</td>\n",
       "      <td>Alamosa</td>\n",
       "      <td>CO</td>\n",
       "      <td>81101</td>\n",
       "      <td>0.9909</td>\n",
       "      <td>450.0</td>\n",
       "      <td>550.0</td>\n",
       "      <td>440.0</td>\n",
       "      <td>540.0</td>\n",
       "      <td>NaN</td>\n",
       "      <td>...</td>\n",
       "      <td>16.0</td>\n",
       "      <td>22.0</td>\n",
       "      <td>NaN</td>\n",
       "      <td>NaN</td>\n",
       "      <td>20.0</td>\n",
       "      <td>18.0</td>\n",
       "      <td>19.0</td>\n",
       "      <td>NaN</td>\n",
       "      <td>1003.0</td>\n",
       "      <td>1003.0</td>\n",
       "    </tr>\n",
       "  </tbody>\n",
       "</table>\n",
       "<p>5 rows × 28 columns</p>\n",
       "</div>"
      ],
      "text/plain": [
       "                                 INSTNM       CITY STABBR         ZIP  \\\n",
       "0          Abilene Christian University    Abilene     TX       79699   \n",
       "1  Abraham Baldwin Agricultural College     Tifton     GA  31793-2601   \n",
       "2  Academy of Interactive Entertainment    Seattle     WA  98109-4623   \n",
       "3  Academy of Interactive Entertainment  Lafayette     LA  70506-4293   \n",
       "4                Adams State University    Alamosa     CO       81101   \n",
       "\n",
       "   ADM_RATE  SATVR25  SATVR75  SATMT25  SATMT75  SATWR25  ...  ACTMT25  \\\n",
       "0    0.6148    515.0    630.0    500.0    600.0    450.0  ...     18.0   \n",
       "1    0.7342    470.0    580.0    460.0    540.0      NaN  ...     16.0   \n",
       "2    0.9231      NaN      NaN      NaN      NaN      NaN  ...      NaN   \n",
       "3    0.8627      NaN      NaN      NaN      NaN      NaN  ...      NaN   \n",
       "4    0.9909    450.0    550.0    440.0    540.0      NaN  ...     16.0   \n",
       "\n",
       "   ACTMT75  ACTWR25  ACTWR75  ACTCMMID  ACTENMID  ACTMTMID  ACTWRMID  SAT_AVG  \\\n",
       "0     26.0      6.0      8.0      25.0      24.0      22.0       7.0   1164.0   \n",
       "1     21.0      NaN      NaN      20.0      19.0      19.0       NaN   1029.0   \n",
       "2      NaN      NaN      NaN       NaN       NaN       NaN       NaN      NaN   \n",
       "3      NaN      NaN      NaN       NaN       NaN       NaN       NaN      NaN   \n",
       "4     22.0      NaN      NaN      20.0      18.0      19.0       NaN   1003.0   \n",
       "\n",
       "   SAT_AVG_ALL  \n",
       "0       1164.0  \n",
       "1       1029.0  \n",
       "2          NaN  \n",
       "3          NaN  \n",
       "4       1003.0  \n",
       "\n",
       "[5 rows x 28 columns]"
      ]
     },
     "execution_count": 3,
     "metadata": {},
     "output_type": "execute_result"
    }
   ],
   "source": [
    "entry_scores.head()"
   ]
  },
  {
   "cell_type": "code",
   "execution_count": 4,
   "id": "935afd21",
   "metadata": {},
   "outputs": [
    {
     "data": {
      "text/plain": [
       "(6462, 28)"
      ]
     },
     "execution_count": 4,
     "metadata": {},
     "output_type": "execute_result"
    }
   ],
   "source": [
    "entry_scores.shape"
   ]
  },
  {
   "cell_type": "code",
   "execution_count": 5,
   "id": "4d7e4a41",
   "metadata": {},
   "outputs": [
    {
     "data": {
      "text/plain": [
       "Index(['INSTNM', 'CITY', 'STABBR', 'ZIP', 'ADM_RATE', 'SATVR25', 'SATVR75',\n",
       "       'SATMT25', 'SATMT75', 'SATWR25', 'SATWR75', 'SATVRMID', 'SATMTMID',\n",
       "       'SATWRMID', 'ACTCM25', 'ACTCM75', 'ACTEN25', 'ACTEN75', 'ACTMT25',\n",
       "       'ACTMT75', 'ACTWR25', 'ACTWR75', 'ACTCMMID', 'ACTENMID', 'ACTMTMID',\n",
       "       'ACTWRMID', 'SAT_AVG', 'SAT_AVG_ALL'],\n",
       "      dtype='object')"
      ]
     },
     "execution_count": 5,
     "metadata": {},
     "output_type": "execute_result"
    }
   ],
   "source": [
    "entry_scores.columns"
   ]
  },
  {
   "cell_type": "code",
   "execution_count": 6,
   "id": "11bbb1b2",
   "metadata": {},
   "outputs": [],
   "source": [
    "# columns = ['CITY', 'STABBR', 'ZIP', 'SATVR25', 'SATVR75', 'SATMT25', 'SATMT75', 'SATWR25', 'SATWR75', 'SATVRMID', 'SATMTMID','SATWRMID', 'ACTCM25', 'ACTCM75', 'ACTEN25', 'ACTEN75', 'ACTMT25','ACTMT75', 'ACTWR25', 'ACTWR75', 'ACTENMID', 'ACTMTMID','ACTWRMID', 'SAT_AVG_ALL']"
   ]
  },
  {
   "cell_type": "code",
   "execution_count": 7,
   "id": "9f2fdeac",
   "metadata": {},
   "outputs": [],
   "source": [
    "entry_scores = entry_scores.drop(columns = ['CITY', 'STABBR', 'ZIP', 'SATVR25', 'SATVR75', 'SATMT25', 'SATMT75', 'SATWR25', 'SATWR75', 'SATVRMID', 'SATMTMID','SATWRMID', 'ACTCM25', 'ACTCM75', 'ACTEN25', 'ACTEN75', 'ACTMT25','ACTMT75', 'ACTWR25', 'ACTWR75', 'ACTENMID', 'ACTMTMID','ACTWRMID', 'SAT_AVG_ALL'])"
   ]
  },
  {
   "cell_type": "code",
   "execution_count": 8,
   "id": "18eb4572",
   "metadata": {},
   "outputs": [],
   "source": [
    "# ADM_RATE - admission rate\n",
    "# SAT_AVG - average SAT score of students admitted\n",
    "# ACTCMMID - midpoint of the ACT cumulative score"
   ]
  },
  {
   "cell_type": "code",
   "execution_count": 9,
   "id": "32ec9886",
   "metadata": {},
   "outputs": [],
   "source": [
    "entry_scores.rename(columns={\n",
    "                    'INSTNM': 'college',\n",
    "                    'ADM_RATE': 'admissions',\n",
    "                    'ACTCMMID' : 'act_mid',\n",
    "                    'SAT_AVG' : 'sat_ave',\n",
    "}, inplace = True)"
   ]
  },
  {
   "cell_type": "code",
   "execution_count": 10,
   "id": "34a40aa9",
   "metadata": {},
   "outputs": [
    {
     "data": {
      "text/html": [
       "<div>\n",
       "<style scoped>\n",
       "    .dataframe tbody tr th:only-of-type {\n",
       "        vertical-align: middle;\n",
       "    }\n",
       "\n",
       "    .dataframe tbody tr th {\n",
       "        vertical-align: top;\n",
       "    }\n",
       "\n",
       "    .dataframe thead th {\n",
       "        text-align: right;\n",
       "    }\n",
       "</style>\n",
       "<table border=\"1\" class=\"dataframe\">\n",
       "  <thead>\n",
       "    <tr style=\"text-align: right;\">\n",
       "      <th></th>\n",
       "      <th>college</th>\n",
       "      <th>admissions</th>\n",
       "      <th>act_mid</th>\n",
       "      <th>sat_ave</th>\n",
       "    </tr>\n",
       "  </thead>\n",
       "  <tbody>\n",
       "    <tr>\n",
       "      <th>0</th>\n",
       "      <td>Abilene Christian University</td>\n",
       "      <td>0.6148</td>\n",
       "      <td>25.0</td>\n",
       "      <td>1164.0</td>\n",
       "    </tr>\n",
       "    <tr>\n",
       "      <th>1</th>\n",
       "      <td>Abraham Baldwin Agricultural College</td>\n",
       "      <td>0.7342</td>\n",
       "      <td>20.0</td>\n",
       "      <td>1029.0</td>\n",
       "    </tr>\n",
       "    <tr>\n",
       "      <th>2</th>\n",
       "      <td>Academy of Interactive Entertainment</td>\n",
       "      <td>0.9231</td>\n",
       "      <td>NaN</td>\n",
       "      <td>NaN</td>\n",
       "    </tr>\n",
       "    <tr>\n",
       "      <th>3</th>\n",
       "      <td>Academy of Interactive Entertainment</td>\n",
       "      <td>0.8627</td>\n",
       "      <td>NaN</td>\n",
       "      <td>NaN</td>\n",
       "    </tr>\n",
       "    <tr>\n",
       "      <th>4</th>\n",
       "      <td>Adams State University</td>\n",
       "      <td>0.9909</td>\n",
       "      <td>20.0</td>\n",
       "      <td>1003.0</td>\n",
       "    </tr>\n",
       "  </tbody>\n",
       "</table>\n",
       "</div>"
      ],
      "text/plain": [
       "                                college  admissions  act_mid  sat_ave\n",
       "0          Abilene Christian University      0.6148     25.0   1164.0\n",
       "1  Abraham Baldwin Agricultural College      0.7342     20.0   1029.0\n",
       "2  Academy of Interactive Entertainment      0.9231      NaN      NaN\n",
       "3  Academy of Interactive Entertainment      0.8627      NaN      NaN\n",
       "4                Adams State University      0.9909     20.0   1003.0"
      ]
     },
     "execution_count": 10,
     "metadata": {},
     "output_type": "execute_result"
    }
   ],
   "source": [
    "entry_scores.head()"
   ]
  },
  {
   "cell_type": "code",
   "execution_count": 11,
   "id": "c8f07710",
   "metadata": {},
   "outputs": [
    {
     "data": {
      "text/plain": [
       "college          0\n",
       "admissions    4483\n",
       "act_mid       5210\n",
       "sat_ave       5184\n",
       "dtype: int64"
      ]
     },
     "execution_count": 11,
     "metadata": {},
     "output_type": "execute_result"
    }
   ],
   "source": [
    "pd.isnull(entry_scores).sum()"
   ]
  },
  {
   "cell_type": "code",
   "execution_count": 12,
   "id": "48fa7464",
   "metadata": {},
   "outputs": [],
   "source": [
    "entry_scores = entry_scores[entry_scores['act_mid'].notna()]\n",
    "entry_scores = entry_scores[entry_scores['sat_ave'].notna()]\n",
    "entry_scores = entry_scores[entry_scores['admissions'].notna()]\n",
    "# entry_scores.dropna(['act_mid','sat_ave'], inplace=True)"
   ]
  },
  {
   "cell_type": "code",
   "execution_count": 13,
   "id": "6c966099",
   "metadata": {},
   "outputs": [
    {
     "data": {
      "text/plain": [
       "college       0\n",
       "admissions    0\n",
       "act_mid       0\n",
       "sat_ave       0\n",
       "dtype: int64"
      ]
     },
     "execution_count": 13,
     "metadata": {},
     "output_type": "execute_result"
    }
   ],
   "source": [
    "pd.isnull(entry_scores).sum()"
   ]
  },
  {
   "cell_type": "code",
   "execution_count": 14,
   "id": "cc114d76",
   "metadata": {},
   "outputs": [
    {
     "data": {
      "text/plain": [
       "(1251, 4)"
      ]
     },
     "execution_count": 14,
     "metadata": {},
     "output_type": "execute_result"
    }
   ],
   "source": [
    "entry_scores.shape"
   ]
  },
  {
   "cell_type": "code",
   "execution_count": 15,
   "id": "44b10a3a",
   "metadata": {},
   "outputs": [
    {
     "data": {
      "text/html": [
       "<div>\n",
       "<style scoped>\n",
       "    .dataframe tbody tr th:only-of-type {\n",
       "        vertical-align: middle;\n",
       "    }\n",
       "\n",
       "    .dataframe tbody tr th {\n",
       "        vertical-align: top;\n",
       "    }\n",
       "\n",
       "    .dataframe thead th {\n",
       "        text-align: right;\n",
       "    }\n",
       "</style>\n",
       "<table border=\"1\" class=\"dataframe\">\n",
       "  <thead>\n",
       "    <tr style=\"text-align: right;\">\n",
       "      <th></th>\n",
       "      <th>college</th>\n",
       "      <th>admissions</th>\n",
       "      <th>act_mid</th>\n",
       "      <th>sat_ave</th>\n",
       "    </tr>\n",
       "  </thead>\n",
       "  <tbody>\n",
       "    <tr>\n",
       "      <th>0</th>\n",
       "      <td>Abilene Christian University</td>\n",
       "      <td>0.6148</td>\n",
       "      <td>25.0</td>\n",
       "      <td>1164.0</td>\n",
       "    </tr>\n",
       "    <tr>\n",
       "      <th>1</th>\n",
       "      <td>Abraham Baldwin Agricultural College</td>\n",
       "      <td>0.7342</td>\n",
       "      <td>20.0</td>\n",
       "      <td>1029.0</td>\n",
       "    </tr>\n",
       "    <tr>\n",
       "      <th>4</th>\n",
       "      <td>Adams State University</td>\n",
       "      <td>0.9909</td>\n",
       "      <td>20.0</td>\n",
       "      <td>1003.0</td>\n",
       "    </tr>\n",
       "    <tr>\n",
       "      <th>5</th>\n",
       "      <td>Adelphi University</td>\n",
       "      <td>0.7430</td>\n",
       "      <td>24.0</td>\n",
       "      <td>1161.0</td>\n",
       "    </tr>\n",
       "    <tr>\n",
       "      <th>6</th>\n",
       "      <td>Adrian College</td>\n",
       "      <td>0.5593</td>\n",
       "      <td>22.0</td>\n",
       "      <td>1046.0</td>\n",
       "    </tr>\n",
       "    <tr>\n",
       "      <th>9</th>\n",
       "      <td>AdventHealth University</td>\n",
       "      <td>0.5053</td>\n",
       "      <td>20.0</td>\n",
       "      <td>1072.0</td>\n",
       "    </tr>\n",
       "    <tr>\n",
       "      <th>11</th>\n",
       "      <td>Alabama A &amp; M University</td>\n",
       "      <td>0.9175</td>\n",
       "      <td>17.0</td>\n",
       "      <td>939.0</td>\n",
       "    </tr>\n",
       "    <tr>\n",
       "      <th>12</th>\n",
       "      <td>Alabama State University</td>\n",
       "      <td>0.9690</td>\n",
       "      <td>17.0</td>\n",
       "      <td>946.0</td>\n",
       "    </tr>\n",
       "    <tr>\n",
       "      <th>14</th>\n",
       "      <td>Albany College of Pharmacy and Health Sciences</td>\n",
       "      <td>0.7107</td>\n",
       "      <td>26.0</td>\n",
       "      <td>1242.0</td>\n",
       "    </tr>\n",
       "    <tr>\n",
       "      <th>15</th>\n",
       "      <td>Albany State University</td>\n",
       "      <td>0.6568</td>\n",
       "      <td>16.0</td>\n",
       "      <td>849.0</td>\n",
       "    </tr>\n",
       "  </tbody>\n",
       "</table>\n",
       "</div>"
      ],
      "text/plain": [
       "                                           college  admissions  act_mid  \\\n",
       "0                     Abilene Christian University      0.6148     25.0   \n",
       "1             Abraham Baldwin Agricultural College      0.7342     20.0   \n",
       "4                           Adams State University      0.9909     20.0   \n",
       "5                               Adelphi University      0.7430     24.0   \n",
       "6                                   Adrian College      0.5593     22.0   \n",
       "9                          AdventHealth University      0.5053     20.0   \n",
       "11                        Alabama A & M University      0.9175     17.0   \n",
       "12                        Alabama State University      0.9690     17.0   \n",
       "14  Albany College of Pharmacy and Health Sciences      0.7107     26.0   \n",
       "15                         Albany State University      0.6568     16.0   \n",
       "\n",
       "    sat_ave  \n",
       "0    1164.0  \n",
       "1    1029.0  \n",
       "4    1003.0  \n",
       "5    1161.0  \n",
       "6    1046.0  \n",
       "9    1072.0  \n",
       "11    939.0  \n",
       "12    946.0  \n",
       "14   1242.0  \n",
       "15    849.0  "
      ]
     },
     "execution_count": 15,
     "metadata": {},
     "output_type": "execute_result"
    }
   ],
   "source": [
    "entry_scores.head(10)"
   ]
  },
  {
   "cell_type": "code",
   "execution_count": 16,
   "id": "fcf23e75",
   "metadata": {},
   "outputs": [
    {
     "name": "stdout",
     "output_type": "stream",
     "text": [
      "<class 'pandas.core.frame.DataFrame'>\n",
      "Int64Index: 1251 entries, 0 to 6453\n",
      "Data columns (total 4 columns):\n",
      " #   Column      Non-Null Count  Dtype  \n",
      "---  ------      --------------  -----  \n",
      " 0   college     1251 non-null   object \n",
      " 1   admissions  1251 non-null   float64\n",
      " 2   act_mid     1251 non-null   float64\n",
      " 3   sat_ave     1251 non-null   float64\n",
      "dtypes: float64(3), object(1)\n",
      "memory usage: 48.9+ KB\n"
     ]
    }
   ],
   "source": [
    "entry_scores.info()"
   ]
  },
  {
   "cell_type": "code",
   "execution_count": null,
   "id": "8a2ab427",
   "metadata": {},
   "outputs": [],
   "source": []
  },
  {
   "cell_type": "code",
   "execution_count": 17,
   "id": "39a8103b",
   "metadata": {},
   "outputs": [],
   "source": [
    "gpa_scores = pd.read_excel('../my_project_1/data/college_GPA.xlsx')"
   ]
  },
  {
   "cell_type": "code",
   "execution_count": 18,
   "id": "2a0c09b0",
   "metadata": {},
   "outputs": [
    {
     "data": {
      "text/plain": [
       "Index(['College', 'Acceptance Rate', 'Average GPA', 'year'], dtype='object')"
      ]
     },
     "execution_count": 18,
     "metadata": {},
     "output_type": "execute_result"
    }
   ],
   "source": [
    "gpa_scores.columns"
   ]
  },
  {
   "cell_type": "code",
   "execution_count": 19,
   "id": "1a92a676",
   "metadata": {},
   "outputs": [
    {
     "data": {
      "text/html": [
       "<div>\n",
       "<style scoped>\n",
       "    .dataframe tbody tr th:only-of-type {\n",
       "        vertical-align: middle;\n",
       "    }\n",
       "\n",
       "    .dataframe tbody tr th {\n",
       "        vertical-align: top;\n",
       "    }\n",
       "\n",
       "    .dataframe thead th {\n",
       "        text-align: right;\n",
       "    }\n",
       "</style>\n",
       "<table border=\"1\" class=\"dataframe\">\n",
       "  <thead>\n",
       "    <tr style=\"text-align: right;\">\n",
       "      <th></th>\n",
       "      <th>College</th>\n",
       "      <th>Average GPA</th>\n",
       "    </tr>\n",
       "  </thead>\n",
       "  <tbody>\n",
       "    <tr>\n",
       "      <th>0</th>\n",
       "      <td>Adelphi University</td>\n",
       "      <td>3.22</td>\n",
       "    </tr>\n",
       "    <tr>\n",
       "      <th>1</th>\n",
       "      <td>Albion College</td>\n",
       "      <td>3.29</td>\n",
       "    </tr>\n",
       "    <tr>\n",
       "      <th>2</th>\n",
       "      <td>Allegheny College</td>\n",
       "      <td>3.04</td>\n",
       "    </tr>\n",
       "    <tr>\n",
       "      <th>3</th>\n",
       "      <td>Amherst College</td>\n",
       "      <td>3.48</td>\n",
       "    </tr>\n",
       "    <tr>\n",
       "      <th>4</th>\n",
       "      <td>Appalachian State University</td>\n",
       "      <td>3.10</td>\n",
       "    </tr>\n",
       "  </tbody>\n",
       "</table>\n",
       "</div>"
      ],
      "text/plain": [
       "                        College  Average GPA\n",
       "0            Adelphi University         3.22\n",
       "1                Albion College         3.29\n",
       "2             Allegheny College         3.04\n",
       "3               Amherst College         3.48\n",
       "4  Appalachian State University         3.10"
      ]
     },
     "execution_count": 19,
     "metadata": {},
     "output_type": "execute_result"
    }
   ],
   "source": [
    "gpa_scores = gpa_scores.drop(columns=['Acceptance Rate', 'year'])\n",
    "gpa_scores.head()"
   ]
  },
  {
   "cell_type": "code",
   "execution_count": 20,
   "id": "77d67735",
   "metadata": {},
   "outputs": [],
   "source": [
    "gpa_scores.rename(columns={\n",
    "                    'College': 'college',\n",
    "                    'Average GPA' : 'ave_gpa'}, inplace = True)"
   ]
  },
  {
   "cell_type": "code",
   "execution_count": 21,
   "id": "e02b0f55",
   "metadata": {},
   "outputs": [
    {
     "data": {
      "text/html": [
       "<div>\n",
       "<style scoped>\n",
       "    .dataframe tbody tr th:only-of-type {\n",
       "        vertical-align: middle;\n",
       "    }\n",
       "\n",
       "    .dataframe tbody tr th {\n",
       "        vertical-align: top;\n",
       "    }\n",
       "\n",
       "    .dataframe thead th {\n",
       "        text-align: right;\n",
       "    }\n",
       "</style>\n",
       "<table border=\"1\" class=\"dataframe\">\n",
       "  <thead>\n",
       "    <tr style=\"text-align: right;\">\n",
       "      <th></th>\n",
       "      <th>college</th>\n",
       "      <th>ave_gpa</th>\n",
       "    </tr>\n",
       "  </thead>\n",
       "  <tbody>\n",
       "    <tr>\n",
       "      <th>0</th>\n",
       "      <td>Adelphi University</td>\n",
       "      <td>3.22</td>\n",
       "    </tr>\n",
       "    <tr>\n",
       "      <th>1</th>\n",
       "      <td>Albion College</td>\n",
       "      <td>3.29</td>\n",
       "    </tr>\n",
       "    <tr>\n",
       "      <th>2</th>\n",
       "      <td>Allegheny College</td>\n",
       "      <td>3.04</td>\n",
       "    </tr>\n",
       "    <tr>\n",
       "      <th>3</th>\n",
       "      <td>Amherst College</td>\n",
       "      <td>3.48</td>\n",
       "    </tr>\n",
       "    <tr>\n",
       "      <th>4</th>\n",
       "      <td>Appalachian State University</td>\n",
       "      <td>3.10</td>\n",
       "    </tr>\n",
       "  </tbody>\n",
       "</table>\n",
       "</div>"
      ],
      "text/plain": [
       "                        college  ave_gpa\n",
       "0            Adelphi University     3.22\n",
       "1                Albion College     3.29\n",
       "2             Allegheny College     3.04\n",
       "3               Amherst College     3.48\n",
       "4  Appalachian State University     3.10"
      ]
     },
     "execution_count": 21,
     "metadata": {},
     "output_type": "execute_result"
    }
   ],
   "source": [
    "gpa_scores.head()"
   ]
  },
  {
   "cell_type": "code",
   "execution_count": 22,
   "id": "3a1e8315",
   "metadata": {},
   "outputs": [],
   "source": [
    "college_merged = pd.merge(entry_scores, gpa_scores, on='college')"
   ]
  },
  {
   "cell_type": "code",
   "execution_count": 23,
   "id": "72bff295",
   "metadata": {},
   "outputs": [
    {
     "data": {
      "text/html": [
       "<div>\n",
       "<style scoped>\n",
       "    .dataframe tbody tr th:only-of-type {\n",
       "        vertical-align: middle;\n",
       "    }\n",
       "\n",
       "    .dataframe tbody tr th {\n",
       "        vertical-align: top;\n",
       "    }\n",
       "\n",
       "    .dataframe thead th {\n",
       "        text-align: right;\n",
       "    }\n",
       "</style>\n",
       "<table border=\"1\" class=\"dataframe\">\n",
       "  <thead>\n",
       "    <tr style=\"text-align: right;\">\n",
       "      <th></th>\n",
       "      <th>college</th>\n",
       "      <th>admissions</th>\n",
       "      <th>act_mid</th>\n",
       "      <th>sat_ave</th>\n",
       "      <th>ave_gpa</th>\n",
       "    </tr>\n",
       "  </thead>\n",
       "  <tbody>\n",
       "    <tr>\n",
       "      <th>0</th>\n",
       "      <td>Adelphi University</td>\n",
       "      <td>0.7430</td>\n",
       "      <td>24.0</td>\n",
       "      <td>1161.0</td>\n",
       "      <td>3.22</td>\n",
       "    </tr>\n",
       "    <tr>\n",
       "      <th>1</th>\n",
       "      <td>Albion College</td>\n",
       "      <td>0.6876</td>\n",
       "      <td>24.0</td>\n",
       "      <td>1118.0</td>\n",
       "      <td>3.29</td>\n",
       "    </tr>\n",
       "    <tr>\n",
       "      <th>2</th>\n",
       "      <td>Allegheny College</td>\n",
       "      <td>0.6215</td>\n",
       "      <td>27.0</td>\n",
       "      <td>1272.0</td>\n",
       "      <td>3.04</td>\n",
       "    </tr>\n",
       "    <tr>\n",
       "      <th>3</th>\n",
       "      <td>Amherst College</td>\n",
       "      <td>0.1131</td>\n",
       "      <td>32.0</td>\n",
       "      <td>1431.0</td>\n",
       "      <td>3.48</td>\n",
       "    </tr>\n",
       "    <tr>\n",
       "      <th>4</th>\n",
       "      <td>Appalachian State University</td>\n",
       "      <td>0.7681</td>\n",
       "      <td>25.0</td>\n",
       "      <td>1202.0</td>\n",
       "      <td>3.10</td>\n",
       "    </tr>\n",
       "    <tr>\n",
       "      <th>5</th>\n",
       "      <td>Ashland University</td>\n",
       "      <td>0.7117</td>\n",
       "      <td>22.0</td>\n",
       "      <td>1104.0</td>\n",
       "      <td>3.14</td>\n",
       "    </tr>\n",
       "    <tr>\n",
       "      <th>6</th>\n",
       "      <td>Auburn University</td>\n",
       "      <td>0.8067</td>\n",
       "      <td>28.0</td>\n",
       "      <td>1300.0</td>\n",
       "      <td>3.03</td>\n",
       "    </tr>\n",
       "    <tr>\n",
       "      <th>7</th>\n",
       "      <td>Baylor University</td>\n",
       "      <td>0.4533</td>\n",
       "      <td>29.0</td>\n",
       "      <td>1318.0</td>\n",
       "      <td>3.10</td>\n",
       "    </tr>\n",
       "    <tr>\n",
       "      <th>8</th>\n",
       "      <td>Boston College</td>\n",
       "      <td>0.2722</td>\n",
       "      <td>33.0</td>\n",
       "      <td>1437.0</td>\n",
       "      <td>3.35</td>\n",
       "    </tr>\n",
       "    <tr>\n",
       "      <th>9</th>\n",
       "      <td>Bradley University</td>\n",
       "      <td>0.7021</td>\n",
       "      <td>25.0</td>\n",
       "      <td>1191.0</td>\n",
       "      <td>3.17</td>\n",
       "    </tr>\n",
       "  </tbody>\n",
       "</table>\n",
       "</div>"
      ],
      "text/plain": [
       "                        college  admissions  act_mid  sat_ave  ave_gpa\n",
       "0            Adelphi University      0.7430     24.0   1161.0     3.22\n",
       "1                Albion College      0.6876     24.0   1118.0     3.29\n",
       "2             Allegheny College      0.6215     27.0   1272.0     3.04\n",
       "3               Amherst College      0.1131     32.0   1431.0     3.48\n",
       "4  Appalachian State University      0.7681     25.0   1202.0     3.10\n",
       "5            Ashland University      0.7117     22.0   1104.0     3.14\n",
       "6             Auburn University      0.8067     28.0   1300.0     3.03\n",
       "7             Baylor University      0.4533     29.0   1318.0     3.10\n",
       "8                Boston College      0.2722     33.0   1437.0     3.35\n",
       "9            Bradley University      0.7021     25.0   1191.0     3.17"
      ]
     },
     "execution_count": 23,
     "metadata": {},
     "output_type": "execute_result"
    }
   ],
   "source": [
    "college_merged.head(10)"
   ]
  },
  {
   "cell_type": "code",
   "execution_count": 24,
   "id": "f3756c1b",
   "metadata": {},
   "outputs": [
    {
     "data": {
      "text/plain": [
       "(70, 5)"
      ]
     },
     "execution_count": 24,
     "metadata": {},
     "output_type": "execute_result"
    }
   ],
   "source": [
    "college_merged.shape"
   ]
  },
  {
   "cell_type": "code",
   "execution_count": null,
   "id": "380f67dd",
   "metadata": {},
   "outputs": [],
   "source": []
  },
  {
   "cell_type": "code",
   "execution_count": 25,
   "id": "a5c2e749",
   "metadata": {},
   "outputs": [
    {
     "data": {
      "text/plain": [
       "Text(0, 0.5, 'Average college GPA')"
      ]
     },
     "execution_count": 25,
     "metadata": {},
     "output_type": "execute_result"
    },
    {
     "data": {
      "image/png": "[encoded data removed]",
      "text/plain": [
       "<Figure size 720x648 with 1 Axes>"
      ]
     },
     "metadata": {
      "needs_background": "light"
     },
     "output_type": "display_data"
    }
   ],
   "source": [
    "# Establish the size of the figure.\n",
    "plt.figure(figsize = (10, 9))\n",
    "\n",
    "# Create scatterplot of ACT versus GPA.\n",
    "plt.scatter(college_merged['act_mid'],\n",
    "            college_merged['ave_gpa']);\n",
    "\n",
    "plt.title(\"Midpoint of ACT versus average college GPA\")\n",
    "plt.xlabel(\"Midpoint of ACT\", fontsize = 20);\n",
    "plt.ylabel(\"Average college GPA\", fontsize = 20)"
   ]
  },
  {
   "cell_type": "code",
   "execution_count": 26,
   "id": "7b22e67b",
   "metadata": {},
   "outputs": [],
   "source": [
    "# Create a linear regression over the data \n",
    "# Polyfit in numpy does a least squares polynomial fit over the given data.\n",
    "# The final parameter is the degree of the polynomial. For linear regression the degree is 1.\n",
    "d = np.polyfit(college_merged['sat_ave'],college_merged['ave_gpa'],1)\n",
    "f = np.poly1d(d)\n",
    "# this is inserted in column 4\n",
    "college_merged.insert(4,'line_sat',f(college_merged['sat_ave']))  "
   ]
  },
  {
   "cell_type": "code",
   "execution_count": 27,
   "id": "85c55e09",
   "metadata": {},
   "outputs": [
    {
     "data": {
      "text/plain": [
       "Text(0, 0.5, 'Average college GPA')"
      ]
     },
     "execution_count": 27,
     "metadata": {},
     "output_type": "execute_result"
    },
    {
     "data": {
      "text/plain": [
       "<Figure size 1080x1080 with 0 Axes>"
      ]
     },
     "metadata": {},
     "output_type": "display_data"
    },
    {
     "data": {
      "image/png": "[encoded data removed]",
      "text/plain": [
       "<Figure size 432x288 with 1 Axes>"
      ]
     },
     "metadata": {
      "needs_background": "light"
     },
     "output_type": "display_data"
    }
   ],
   "source": [
    "# Establish the size of the figure.\n",
    "plt.figure(figsize = (15, 15))\n",
    "\n",
    "# Create scatterplot and line of ACT versus GPA.\n",
    "ax=college_merged.plot.scatter(x='sat_ave',y='ave_gpa')\n",
    "college_merged.plot(x='sat_ave',y='line_sat', color='red', legend=False, ax=ax )\n",
    "\n",
    "plt.title(\"Average SAT scores versus average college GPA\")\n",
    "plt.xlabel(\"Average SAT scores\", fontsize = 10);\n",
    "plt.ylabel(\"Average college GPA\", fontsize = 10)"
   ]
  },
  {
   "cell_type": "code",
   "execution_count": null,
   "id": "901ffe42",
   "metadata": {},
   "outputs": [],
   "source": []
  },
  {
   "cell_type": "code",
   "execution_count": 28,
   "id": "eb795428",
   "metadata": {},
   "outputs": [],
   "source": [
    "# Create a linear regression over the data \n",
    "# Polyfit in numpy does a least squares polynomial fit over the given data.\n",
    "# The final parameter is the degree of the polynomial. For linear regression the degree is 1.\n",
    "d = np.polyfit(college_merged['act_mid'],college_merged['ave_gpa'],1)\n",
    "f = np.poly1d(d)\n",
    "# this is inserted in column 5\n",
    "college_merged.insert(5,'line_act',f(college_merged['act_mid'])) "
   ]
  },
  {
   "cell_type": "code",
   "execution_count": 29,
   "id": "f874f31f",
   "metadata": {},
   "outputs": [
    {
     "data": {
      "text/plain": [
       "Text(0, 0.5, 'Average college GPA')"
      ]
     },
     "execution_count": 29,
     "metadata": {},
     "output_type": "execute_result"
    },
    {
     "data": {
      "text/plain": [
       "<Figure size 1080x1080 with 0 Axes>"
      ]
     },
     "metadata": {},
     "output_type": "display_data"
    },
    {
     "data": {
      "image/png": "[encoded data removed]",
      "text/plain": [
       "<Figure size 432x288 with 1 Axes>"
      ]
     },
     "metadata": {
      "needs_background": "light"
     },
     "output_type": "display_data"
    }
   ],
   "source": [
    "# Establish the size of the figure.\n",
    "plt.figure(figsize = (15, 15))\n",
    "\n",
    "# Create scatterplot and line of ACT versus GPA.\n",
    "ax=college_merged.plot.scatter(x='act_mid',y='ave_gpa')\n",
    "college_merged.plot(x='act_mid',y='line_act', color='red', legend=False, ax=ax )\n",
    "\n",
    "plt.title(\"Midpoint of ACT scores versus average college GPA\")\n",
    "plt.xlabel(\"Midpoint of ACT scores\", fontsize = 10);\n",
    "plt.ylabel(\"Average college GPA\", fontsize = 10)"
   ]
  },
  {
   "cell_type": "code",
   "execution_count": null,
   "id": "03b056af",
   "metadata": {},
   "outputs": [],
   "source": []
  },
  {
   "cell_type": "code",
   "execution_count": 30,
   "id": "a43589f7",
   "metadata": {},
   "outputs": [],
   "source": [
    "# # plt.matshow(college_merged.corr())\n",
    "# f = plt.figure(figsize=(10, 10))\n",
    "# plt.matshow(college_merged.corr(), fignum=f.number)\n",
    "# # plt.xticks(range(df.select_dtypes(['number']).shape[1]), df.select_dtypes(['number']).columns, fontsize=14, rotation=45)\n",
    "# # plt.yticks(range(df.select_dtypes(['number']).shape[1]), df.select_dtypes(['number']).columns, fontsize=14)\n",
    "# cb = plt.colorbar()\n",
    "# cb.ax.tick_params(labelsize=14)\n",
    "# plt.title('Correlation Matrix', fontsize=16);"
   ]
  },
  {
   "cell_type": "code",
   "execution_count": 31,
   "id": "3b11c821",
   "metadata": {},
   "outputs": [
    {
     "data": {
      "text/plain": [
       "<AxesSubplot:>"
      ]
     },
     "execution_count": 31,
     "metadata": {},
     "output_type": "execute_result"
    },
    {
     "data": {
      "image/png": "[encoded data removed]",
      "text/plain": [
       "<Figure size 720x432 with 2 Axes>"
      ]
     },
     "metadata": {
      "needs_background": "light"
     },
     "output_type": "display_data"
    }
   ],
   "source": [
    "#Quality correlation matrix\n",
    "k = 3 #number of variables for heatmap\n",
    "cols = college_merged.corr().nlargest(k, 'ave_gpa')['ave_gpa'].index\n",
    "cm = college_merged[cols].corr()\n",
    "plt.figure(figsize=(10,6))\n",
    "sns.heatmap(cm, annot=True, cmap = 'viridis')\n",
    "\n"
   ]
  },
  {
   "cell_type": "code",
   "execution_count": 32,
   "id": "de139a71",
   "metadata": {},
   "outputs": [
    {
     "data": {
      "text/plain": [
       "<AxesSubplot:>"
      ]
     },
     "execution_count": 32,
     "metadata": {},
     "output_type": "execute_result"
    },
    {
     "data": {
      "image/png": "[encoded data removed]",
      "text/plain": [
       "<Figure size 432x288 with 2 Axes>"
      ]
     },
     "metadata": {
      "needs_background": "light"
     },
     "output_type": "display_data"
    }
   ],
   "source": [
    "college_merged = college_merged.drop(columns=['admissions','line_sat','line_act'])\n",
    "plt.figure(figsize=(6,4))\n",
    "sns.heatmap(college_merged.corr(),cmap='Blues',annot=False) "
   ]
  },
  {
   "cell_type": "code",
   "execution_count": null,
   "id": "4cb439ce",
   "metadata": {},
   "outputs": [],
   "source": []
  },
  {
   "cell_type": "code",
   "execution_count": null,
   "id": "1d198f0b",
   "metadata": {},
   "outputs": [],
   "source": []
  }
 ],
 "metadata": {
  "kernelspec": {
   "display_name": "Python 3",
   "language": "python",
   "name": "python3"
  },
  "language_info": {
   "codemirror_mode": {
    "name": "ipython",
    "version": 3
   },
   "file_extension": ".py",
   "mimetype": "text/x-python",
   "name": "python",
   "nbconvert_exporter": "python",
   "pygments_lexer": "ipython3",
   "version": "3.8.8"
  }
 },
 "nbformat": 4,
 "nbformat_minor": 5
}
